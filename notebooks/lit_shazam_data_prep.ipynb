{
 "cells": [
  {
   "cell_type": "markdown",
   "metadata": {
    "id": "43q-iwrUkeoC"
   },
   "source": [
    "Notebook to develop test data using NLTK package and Project Gutenberg. The NLTK corpus consists of 18 works of literature including novels, plays, peoms, and the King James Bible. The version in this notebook will use a balanced training dataset selected only from the subset of novels from the corpus. Notebook will store the data.frame objects as parquet format files for retrieval by downstream notebooks."
   ]
  },
  {
   "cell_type": "code",
   "execution_count": 123,
   "metadata": {
    "colab": {
     "base_uri": "https://localhost:8080/"
    },
    "id": "Leq0Htm6kfir",
    "outputId": "05095a1e-a30a-4733-91ae-72eaa1ce0efd"
   },
   "outputs": [
    {
     "name": "stderr",
     "output_type": "stream",
     "text": [
      "\n",
      "Usage:   \n",
      "  pip install [options] <requirement specifier> [package-index-options] ...\n",
      "  pip install [options] -r <requirements file> [package-index-options] ...\n",
      "  pip install [options] [-e] <vcs project url> ...\n",
      "  pip install [options] [-e] <local project path> ...\n",
      "  pip install [options] <archive url/path> ...\n",
      "\n",
      "no such option: -u\n"
     ]
    }
   ],
   "source": [
    "\n",
    "!pip install pydot --quiet\n",
    "!pip install nltk --quiet\n",
    "!pip install pyarrow -quiet\n"
   ]
  },
  {
   "cell_type": "code",
   "execution_count": 124,
   "metadata": {
    "colab": {
     "base_uri": "https://localhost:8080/"
    },
    "id": "bILXCTzolQ9r",
    "outputId": "2d18afc5-ad8f-4bb3-9dd2-f626464f360d"
   },
   "outputs": [
    {
     "name": "stderr",
     "output_type": "stream",
     "text": [
      "[nltk_data] Downloading package gutenberg to\n",
      "[nltk_data]     C:\\Users\\Dragon\\AppData\\Roaming\\nltk_data...\n",
      "[nltk_data]   Package gutenberg is already up-to-date!\n",
      "[nltk_data] Downloading package punkt to\n",
      "[nltk_data]     C:\\Users\\Dragon\\AppData\\Roaming\\nltk_data...\n",
      "[nltk_data]   Package punkt is already up-to-date!\n"
     ]
    }
   ],
   "source": [
    "import numpy as np\n",
    "import tensorflow as tf\n",
    "import pandas as pd\n",
    "\n",
    "import os\n",
    "import nltk\n",
    "from nltk.data import find\n",
    "\n",
    "import matplotlib.pyplot as plt\n",
    "import random\n",
    "import re\n",
    "\n",
    "nltk.download('gutenberg')\n",
    "from nltk.corpus import gutenberg\n",
    "\n",
    "nltk.download('punkt')\n",
    "from nltk.tokenize import sent_tokenize\n",
    "\n",
    "import pyarrow as pya\n",
    "import pyarrow.parquet as pq\n",
    "\n",
    "#from google.colab import drive"
   ]
  },
  {
   "cell_type": "code",
   "execution_count": null,
   "metadata": {
    "colab": {
     "base_uri": "https://localhost:8080/"
    },
    "id": "boSLc_EvtgSM",
    "outputId": "0ff8b6f1-acfb-457a-d7cb-367aee882d28"
   },
   "outputs": [
    {
     "name": "stdout",
     "output_type": "stream",
     "text": [
      "Mounted at /content/drive\n"
     ]
    }
   ],
   "source": [
    "# USE ONLY FOR REMOTE DRIVE\n",
    "# Mount a google Drive for persistent store\n",
    "from google.colab import drive\n",
    "drive.mount('/content/drive')"
   ]
  },
  {
   "cell_type": "markdown",
   "metadata": {
    "id": "KQoHEfP0VICk"
   },
   "source": [
    "# Load novels from Project Gutenberg"
   ]
  },
  {
   "cell_type": "code",
   "execution_count": 125,
   "metadata": {
    "id": "6pLEMRs_VHKF"
   },
   "outputs": [],
   "source": [
    "import requests"
   ]
  },
  {
   "cell_type": "code",
   "execution_count": 149,
   "metadata": {
    "id": "_IsfIMk3WCKc"
   },
   "outputs": [],
   "source": [
    "# LOAD INDIVIDUAL NOVELS\n",
    "bks_gutenberg = []\n",
    "\n",
    "# ########################\n",
    "# F. Scott Fitzgerald\n",
    "# ########################\n",
    "# the great gatsby\n",
    "r = requests.get(r'https://www.gutenberg.org/cache/epub/64317/pg64317.txt')\n",
    "bks_gutenberg.append(r.text)\n",
    "\n",
    "# this side of paradise\n",
    "r = requests.get(r'https://www.gutenberg.org/cache/epub/805/pg805.txt')\n",
    "bks_gutenberg.append(r.text)\n",
    "\n",
    "# beautiful and damned\n",
    "r = requests.get(r'https://www.gutenberg.org/cache/epub/9830/pg9830.txt')\n",
    "bks_gutenberg.append(r.text)\n",
    "\n",
    "# ########################\n",
    "# Hemingway\n",
    "# ########################\n",
    "# the sun also rises\n",
    "r = requests.get(r'https://www.gutenberg.org/cache/epub/67138/pg67138.txt')\n",
    "bks_gutenberg.append(r.text)\n",
    "\n",
    "# Men Without Women\n",
    "r = requests.get(r'https://www.gutenberg.org/cache/epub/69683/pg69683.txt')\n",
    "bks_gutenberg.append(r.text)\n",
    "\n",
    "# In Our Time\n",
    "r = requests.get(r'https://www.gutenberg.org/cache/epub/61085/pg61085.txt')\n",
    "bks_gutenberg.append(r.text)\n",
    "\n",
    "# ########################\n",
    "# Thomas Hardy\n",
    "# ########################\n",
    "# Mayor of Casterbridge\n",
    "r = requests.get(r'https://www.gutenberg.org/cache/epub/143/pg143.txt')\n",
    "bks_gutenberg.append(r.text)\n",
    "\n",
    "# Jude the Obscure\n",
    "r = requests.get(r'https://www.gutenberg.org/cache/epub/153/pg153.txt')\n",
    "bks_gutenberg.append(r.text)\n",
    "\n",
    "# Return of the Native\n",
    "r = requests.get(r'https://www.gutenberg.org/cache/epub/122/pg122.txt')\n",
    "bks_gutenberg.append(r.text)\n",
    "\n",
    "# ########################\n",
    "# Dickens\n",
    "# ########################\n",
    "# a tale of two cities\n",
    "r = requests.get(r'https://www.gutenberg.org/cache/epub/98/pg98.txt')\n",
    "bks_gutenberg.append(r.text)\n",
    "\n",
    "# Great Expectations\n",
    "r = requests.get(r'https://www.gutenberg.org/cache/epub/1400/pg1400.txt')\n",
    "bks_gutenberg.append(r.text)\n",
    "\n",
    "# Bleak House\n",
    "r = requests.get(r'https://www.gutenberg.org/cache/epub/1023/pg1023.txt')\n",
    "bks_gutenberg.append(r.text)\n",
    "\n",
    "# ########################\n",
    "# Jane Austen\n",
    "# ########################\n",
    "# Emma\n",
    "r = requests.get(r'https://www.gutenberg.org/cache/epub/158/pg158.txt')\n",
    "bks_gutenberg.append(r.text)\n",
    "\n",
    "# Sense\n",
    "r = requests.get(r'https://www.gutenberg.org/cache/epub/161/pg161.txt')\n",
    "bks_gutenberg.append(r.text)\n",
    "\n",
    "# Pride\n",
    "r = requests.get(r'https://www.gutenberg.org/cache/epub/1342/pg1342.txt')\n",
    "bks_gutenberg.append(r.text)\n",
    "\n",
    "# ########################\n",
    "# Chesterton\n",
    "# ########################\n",
    "# Wisdon of Father Brown\n",
    "r = requests.get(r'https://www.gutenberg.org/cache/epub/223/pg223.txt')\n",
    "bks_gutenberg.append(r.text)\n",
    "\n",
    "# The Man Who Was Thursday\n",
    "r = requests.get(r'https://www.gutenberg.org/cache/epub/1695/pg1695.txt')\n",
    "bks_gutenberg.append(r.text)\n",
    "\n",
    "# The Ball and the Cross\n",
    "r = requests.get(r'https://www.gutenberg.org/cache/epub/5265/pg5265.txt')\n",
    "bks_gutenberg.append(r.text)\n",
    "\n",
    "# ########################\n",
    "# Shakespeare\n",
    "# ########################\n",
    "# As You Like It\n",
    "r = requests.get(r'https://www.gutenberg.org/cache/epub/1786/pg1786.txt')\n",
    "bks_gutenberg.append(r.text)\n",
    "\n",
    "# Caesar\n",
    "r = requests.get(r'https://www.gutenberg.org/cache/epub/2263/pg2263.txt')\n",
    "bks_gutenberg.append(r.text)\n",
    "\n",
    "# Hamlet\n",
    "r = requests.get(r'https://www.gutenberg.org/cache/epub/2265/pg2265.txt')\n",
    "bks_gutenberg.append(r.text)\n"
   ]
  },
  {
   "cell_type": "code",
   "execution_count": 24,
   "metadata": {
    "colab": {
     "base_uri": "https://localhost:8080/"
    },
    "id": "rT_-qXSbv0xS",
    "outputId": "a5675975-589d-43c6-b9d2-903a041f90ce"
   },
   "outputs": [
    {
     "data": {
      "text/plain": [
       "'\\ufeffThe Project Gutenberg eBook of As You Like It\\r\\n    \\r\\nThis ebook is for the use of anyone anywhere in the United States and\\r\\nmost other parts of the world at no cost and with almost no restrictions\\r\\nwhatsoever. You may copy it, give it away or re-use it under the terms\\r\\nof the Project Gutenberg License included with this ebook or online\\r\\nat www.gutenberg.org. If you are not located in the United States,\\r\\nyou will have to check the laws of the country where you are located\\r\\nbefore using this eBook.\\r\\n\\r\\nTitle: As You Like It\\r\\n\\r\\n\\r\\nAuthor: William Shakespeare\\r\\n\\r\\nRelease date: June 1, 1999 [eBook #1786]\\r\\n                Most recently updated: May 20, 2019\\r\\n\\r\\nLanguage: English\\r\\n\\r\\n\\r\\n\\r\\n*** START OF THE PROJECT GUTENBERG EBOOK AS YOU LIKE IT ***\\r\\n\\r\\n\\r\\n**********************************************************************\\r\\nTHIS EBOOK WAS ONE OF PROJECT GUTENBERG\\'S EARLY FILES PRODUCED AT A\\r\\nTIME WHEN PROOFING METHODS AND TOOLS WERE NOT WELL DEVELOPED. THERE IS\\r\\nAN IMPROVED EDITION OF THIS TITLE WHICH MAY BE VIEWED AT EBOOK #1523.\\r\\nTHE HTML FILE AT: http://www.gutenberg.org/files/1523/1523-h/1523-h.htm\\r\\n**********************************************************************\\r\\n\\r\\n\\r\\n\\r\\n\\r\\nThis Etext file is presented by Project Gutenberg, in\\r\\ncooperation with World Library, Inc., from their Library of the\\r\\nFuture and Shakespeare CDROMS.  Project Gutenberg often releases\\r\\nEtexts that are NOT placed in the Public Domain!!\\r\\n\\r\\n*This Etext has certain copyright implications you should read!*\\r\\n\\r\\n<<THIS ELECTRONIC VERSION OF THE COMPLETE WORKS OF WILLIAM\\r\\nSHAKESPEARE IS COPYRIGHT 1990-1993 BY WORLD LIBRARY, INC., AND IS\\r\\nPROVIDED BY PROJECT GUTENBERG WITH PERMISSION.  ELECTRONIC AND\\r\\nMACHINE READABLE COPIES MAY BE DISTRIBUTED SO LONG AS SUCH COPIES\\r\\n(1) ARE FOR YOUR OR OTHERS PERSONAL USE ONLY, AND (2) ARE NOT\\r\\nDISTRIBUTED OR USED COMMERCIALLY.  PROHIBITED COMMERCIAL\\r\\nDISTRIBUTION INCLUDES BY ANY SERVICE THAT CHARGES FOR DOWNLOAD\\r\\nTIME OR FOR MEMBERSHIP.>>\\r\\n\\r\\n*Project Gutenberg is proud to cooperate with The World Library*\\r\\nin the presentation of The Complete Works of William Shakespeare\\r\\nfor your reading for education and entertainment.  HOWEVER, THIS\\r\\nIS NEITHER SHAREWARE NOR PUBLIC DOMAIN. . .AND UNDER THE LIBRARY\\r\\nOF THE FUTURE CONDITIONS OF THIS PRESENTATION. . .NO CHARGES MAY\\r\\nBE MADE FOR *ANY* ACCESS TO THIS MATERIAL.  YOU ARE ENCOURAGED!!\\r\\nTO GIVE IT AWAY TO ANYONE YOU LIKE, BUT NO CHARGES ARE ALLOWED!!\\r\\n\\r\\n\\r\\n**Welcome To The World of Free Plain Vanilla Electronic Texts**\\r\\n\\r\\n**Etexts Readable By Both Humans and By Computers, Since 1971**\\r\\n\\r\\n*These Etexts Prepared By Hundreds of Volunteers and Donations*\\r\\n\\r\\nInformation on contacting Project Gutenberg to get Etexts, and\\r\\nfurther information is included below.  We need your donations.\\r\\n\\r\\n\\r\\nThe Complete Works of William Shakespeare\\r\\nAs You Like It\\r\\n\\r\\nJune, 1999 [Etext #\\r\\n]\\r\\n\\r\\n\\r\\nThe Library of the Future Complete Works of William Shakespeare\\r\\nLibrary of the Future is a TradeMark (TM) of World Library Inc.\\r\\n******This file should be named 1786.txt or 1786.zip*****\\r\\n\\r\\n\\r\\nThe official release date of all Project Gutenberg Etexts is at\\r\\nMidnight, Central Time, of the last day of the stated month.  A\\r\\npreliminary version may often be posted for suggestion, comment\\r\\nand editing by those who wish to do so.  To be sure you have an\\r\\nup to date first edition [xxxxx10x.xxx] please check file sizes\\r\\nin the first week of the next month.\\r\\n\\r\\n\\r\\nInformation about Project Gutenberg (one page)\\r\\n\\r\\nWe produce about two million dollars for each hour we work.  The\\r\\nfifty hours is one conservative estimate for how long it we take\\r\\nto get any etext selected, entered, proofread, edited, copyright\\r\\nsearched and analyzed, the copyright letters written, etc.  This\\r\\nprojected audience is one hundred million readers.  If our value\\r\\nper text is nominally estimated at one dollar, then we produce 2\\r\\nmillion dollars per hour this year we, will have to do four text\\r\\nfiles per month:  thus upping our productivity from one million.\\r\\nThe Goal of Project Gutenberg is to Give Away One Trillion Etext\\r\\nFiles by the December 31, 2001.  [10,000 x 100,000,000=Trillion]\\r\\nThis is ten thousand titles each to one hundred million readers,\\r\\nwhich is 10% of the expected number of computer users by the end\\r\\nof the year 2001.\\r\\n\\r\\nWe need your donations more than ever!\\r\\n\\r\\nAll donations should be made to \"Project Gutenberg/CMU\", and are\\r\\ntax deductible to the extent allowable by law (\"CMU\" is Carnegie\\r\\nMellon University).\\r\\n\\r\\nPlease mail to:\\r\\n\\r\\nProject Gutenberg\\r\\nP. O. Box  2782\\r\\nChampaign, IL 61825\\r\\n\\r\\nYou can visit our web site at promo.net for complete information\\r\\nabout Project Gutenberg.\\r\\n\\r\\nWhen all other else fails try our Executive Director:\\r\\ndircompg@pobox.com or hart@pobox.com\\r\\n\\r\\n******\\r\\n\\r\\n**Information prepared by the Project Gutenberg legal advisor**\\r\\n\\r\\n\\r\\n***** SMALL PRINT! for COMPLETE SHAKESPEARE *****\\r\\n\\r\\nTHIS ELECTRONIC VERSION OF THE COMPLETE WORKS OF WILLIAM\\r\\nSHAKESPEARE IS COPYRIGHT 1990-1993 BY WORLD LIBRARY, INC.,\\r\\nAND IS PROVIDED BY PROJECT GUTENBERG ETEXT OF\\r\\nCARNEGIE MELLON UNIVERSITY WITH PERMISSION.\\r\\n\\r\\nSince unlike many other Project Gutenberg-tm etexts, this etext\\r\\nis copyright protected, and since the materials and methods you\\r\\nuse will effect the Project\\'s reputation, your right to copy and\\r\\ndistribute it is limited by the copyright and other laws, and by\\r\\nthe conditions of this \"Small Print!\" statement.\\r\\n\\r\\n1.  LICENSE\\r\\n\\r\\n  A) YOU MAY (AND ARE ENCOURAGED) TO DISTRIBUTE ELECTRONIC AND\\r\\nMACHINE READABLE COPIES OF THIS ETEXT, SO LONG AS SUCH COPIES\\r\\n(1) ARE FOR YOUR OR OTHERS PERSONAL USE ONLY, AND (2) ARE NOT\\r\\nDISTRIBUTED OR USED COMMERCIALLY.  PROHIBITED COMMERCIAL\\r\\nDISTRIBUTION INCLUDES BY ANY SERVICE THAT CHARGES FOR DOWNLOAD\\r\\nTIME OR FOR MEMBERSHIP.\\r\\n\\r\\n  B) This license is subject to the conditions that you honor\\r\\nthe refund and replacement provisions of this \"small print!\"\\r\\nstatement; and that you distribute exact copies of this etext,\\r\\nincluding this Small Print statement.  Such copies can be\\r\\ncompressed or any proprietary form (including any form resulting\\r\\nfrom word processing or hypertext software), so long as\\r\\n*EITHER*:\\r\\n\\r\\n    (1) The etext, when displayed, is clearly readable, and does\\r\\n  *not* contain characters other than those intended by the\\r\\n  author of the work, although tilde (~), asterisk (*) and\\r\\n  underline (_) characters may be used to convey punctuation\\r\\n  intended by the author, and additional characters may be used\\r\\n  to indicate hypertext links; OR\\r\\n\\r\\n    (2) The etext is readily convertible by the reader at no\\r\\n  expense into plain ASCII, EBCDIC or equivalent form by the\\r\\n  program that displays the etext (as is the case, for instance,\\r\\n  with most word processors); OR\\r\\n\\r\\n    (3) You provide or agree to provide on request at no\\r\\n  additional cost, fee or expense, a copy of the etext in plain\\r\\n  ASCII.\\r\\n\\r\\n2.  LIMITED WARRANTY; DISCLAIMER OF DAMAGES\\r\\n\\r\\nThis etext may contain a \"Defect\" in the form of incomplete,\\r\\ninaccurate or corrupt data, transcription errors, a copyright or\\r\\nother infringement, a defective or damaged disk, computer virus,\\r\\nor codes that damage or cannot be read by your equipment.  But\\r\\nfor the \"Right of Replacement or Refund\" described below, the\\r\\nProject (and any other party you may receive this etext from as\\r\\na PROJECT GUTENBERG-tm etext) disclaims all liability to you for\\r\\ndamages, costs and expenses, including legal fees, and YOU HAVE\\r\\nNO REMEDIES FOR NEGLIGENCE OR UNDER STRICT LIABILITY, OR FOR\\r\\nBREACH OF WARRANTY OR CONTRACT, INCLUDING BUT NOT LIMITED TO\\r\\nINDIRECT, CONSEQUENTIAL, PUNITIVE OR INCIDENTAL DAMAGES, EVEN IF\\r\\nYOU GIVE NOTICE OF THE POSSIBILITY OF SUCH DAMAGES.\\r\\n\\r\\nIf you discover a Defect in this etext within 90 days of receiv-\\r\\ning it, you can receive a refund of the money (if any) you paid\\r\\nfor it by sending an explanatory note within that time to the\\r\\nperson you received it from.  If you received it on a physical\\r\\nmedium, you must return it with your note, and such person may\\r\\nchoose to alternatively give you a replacement copy.  If you\\r\\nreceived it electronically, such person may choose to\\r\\nalternatively give you a second opportunity to receive it\\r\\nelectronically.\\r\\n\\r\\nTHIS ETEXT IS OTHERWISE PROVIDED TO YOU \"AS-IS\".  NO OTHER\\r\\nWARRANTIES OF ANY KIND, EXPRESS OR IMPLIED, ARE MADE TO YOU AS\\r\\nTO THE ETEXT OR ANY MEDIUM IT MAY BE ON, INCLUDING BUT NOT\\r\\nLIMITED TO WARRANTIES OF MERCHANTABILITY OR FITNESS FOR A\\r\\nPARTICULAR PURPOSE.  Some states do not allow disclaimers of\\r\\nimplied warranties or the exclusion or limitation of consequen-\\r\\ntial damages, so the above disclaimers and exclusions may not\\r\\napply to you, and you may have other legal rights.\\r\\n\\r\\n3.  INDEMNITY: You will indemnify and hold the Project, its\\r\\ndirectors, officers, members and agents harmless from all lia-\\r\\nbility, cost and expense, including legal fees, that arise\\r\\ndirectly or indirectly from any of the following that you do or\\r\\ncause: [A] distribution of this etext, [B] alteration,\\r\\nmodification, or addition to the etext, or [C] any Defect.\\r\\n\\r\\n4.  WHAT IF YOU *WANT* TO SEND MONEY EVEN IF YOU DON\\'T HAVE TO?\\r\\nProject Gutenberg is dedicated to increasing the number of\\r\\npublic domain and licensed works that can be freely distributed\\r\\nin machine readable form.  The Project gratefully accepts\\r\\ncontributions in money, time, scanning machines, OCR software,\\r\\npublic domain etexts, royalty free copyright licenses, and\\r\\nwhatever else you can think of.  Money should be paid to \"Pro-\\r\\nject Gutenberg Association / Carnegie Mellon University\".\\r\\n\\r\\nWRITE TO US! We can be reached at:\\r\\n     Internet: hart@pobox.com\\r\\n        Mail:  Prof. Michael Hart\\r\\n               P.O. Box 2782\\r\\n               Champaign, IL 61825\\r\\n\\r\\nThis \"Small Print!\" by Charles B. Kramer, Attorney\\r\\nInternet (72600.2026@compuserve.com); TEL: (212-254-5093)\\r\\n****   SMALL PRINT! FOR __ COMPLETE SHAKESPEARE ****\\r\\n[\"Small Print\" V.12.08.93]\\r\\n\\r\\n<<THIS ELECTRONIC VERSION OF THE COMPLETE WORKS OF WILLIAM\\r\\nSHAKESPEARE IS COPYRIGHT 1990-1993 BY WORLD LIBRARY, INC., AND IS\\r\\nPROVIDED BY PROJECT GUTENBERG ETEXT OF CARNEGIE MELLON UNIVERSITY\\r\\nWITH PERMISSION.  ELECTRONIC AND MACHINE READABLE COPIES MAY BE\\r\\nDISTRIBUTED SO LONG AS SUCH COPIES (1) ARE FOR YOUR OR OTHERS\\r\\nPERSONAL USE ONLY, AND (2) ARE NOT DISTRIBUTED OR USED\\r\\nCOMMERCIALLY.  PROHIBITED COMMERCIAL DISTRIBUTION INCLUDES BY ANY\\r\\nSERVICE THAT CHARGES FOR DOWNLOAD TIME OR FOR MEMBERSHIP.>>\\r\\n\\r\\n\\r\\n\\r\\n\\r\\n\\r\\n1601\\r\\n\\r\\nAS YOU LIKE IT\\r\\n\\r\\nby William Shakespeare\\r\\n\\r\\n\\r\\n\\r\\nDRAMATIS PERSONAE.\\r\\n\\r\\n  DUKE, living in exile\\r\\n  FREDERICK, his brother, and usurper of his dominions\\r\\n  AMIENS, lord attending on the banished Duke\\r\\n  JAQUES,   \"      \"       \"  \"     \"      \"\\r\\n  LE BEAU, a courtier attending upon Frederick\\r\\n  CHARLES, wrestler to Frederick\\r\\n  OLIVER, son of Sir Rowland de Boys\\r\\n  JAQUES,   \"   \"  \"    \"     \"  \"\\r\\n  ORLANDO,  \"   \"  \"    \"     \"  \"\\r\\n  ADAM,   servant to Oliver\\r\\n  DENNIS,     \"     \"   \"\\r\\n  TOUCHSTONE, the court jester\\r\\n  SIR OLIVER MARTEXT, a vicar\\r\\n  CORIN,    shepherd\\r\\n  SILVIUS,     \"\\r\\n  WILLIAM, a country fellow, in love with Audrey\\r\\n  A person representing HYMEN\\r\\n\\r\\n  ROSALIND, daughter to the banished Duke\\r\\n  CELIA, daughter to Frederick\\r\\n  PHEBE, a shepherdess\\r\\n  AUDREY, a country wench\\r\\n\\r\\n  Lords, Pages, Foresters, and Attendants\\r\\n\\r\\n\\r\\n\\r\\n\\r\\n<<THIS ELECTRONIC VERSION OF THE COMPLETE WORKS OF WILLIAM\\r\\nSHAKESPEARE IS COPYRIGHT 1990-1993 BY WORLD LIBRARY, INC., AND IS\\r\\nPROVIDED BY PROJECT GUTENBERG ETEXT OF CARNEGIE MELLON UNIVERSITY\\r\\nWITH PERMISSION.  ELECTRONIC AND MACHINE READABLE COPIES MAY BE\\r\\nDISTRIBUTED SO LONG AS SUCH COPIES (1) ARE FOR YOUR OR OTHERS\\r\\nPERSONAL USE ONLY, AND (2) ARE NOT DISTRIBUTED OR USED\\r\\nCOMMERCIALLY.  PROHIBITED COMMERCIAL DISTRIBUTION INCLUDES BY ANY\\r\\nSERVICE THAT CHARGES FOR DOWNLOAD TIME OR FOR MEMBERSHIP.>>\\r\\n\\r\\n\\r\\n\\r\\nSCENE:\\r\\nOLIVER\\'S house; FREDERICK\\'S court; and the Forest of Arden\\r\\n\\r\\nACT I. SCENE I.\\r\\nOrchard of OLIVER\\'S house\\r\\n\\r\\nEnter ORLANDO and ADAM\\r\\n\\r\\n  ORLANDO. As I remember, Adam, it was upon this fashion\\r\\nbequeathed\\r\\n    me by will but poor a thousand crowns, and, as thou say\\'st,\\r\\n    charged my brother, on his blessing, to breed me well; and\\r\\nthere\\r\\n    begins my sadness. My brother Jaques he keeps at school, and\\r\\n    report speaks goldenly of his profit. For my part, he keeps\\r\\nme\\r\\n    rustically at home, or, to speak more properly, stays me here\\r\\nat\\r\\n    home unkept; for call you that keeping for a gentleman of my\\r\\n    birth that differs not from the stalling of an ox? His horses\\r\\nare\\r\\n    bred better; for, besides that they are fair with their\\r\\nfeeding,\\r\\n    they are taught their manage, and to that end riders dearly\\r\\n    hir\\'d; but I, his brother, gain nothing under him but growth;\\r\\nfor\\r\\n    the which his animals on his dunghills are as much bound to\\r\\nhim\\r\\n    as I. Besides this nothing that he so plentifully gives me,\\r\\nthe\\r\\n    something that nature gave me his countenance seems to take\\r\\nfrom\\r\\n    me. He lets me feed with his hinds, bars me the place of a\\r\\n    brother, and as much as in him lies, mines my gentility with\\r\\nmy\\r\\n    education. This is it, Adam, that grieves me; and the spirit\\r\\nof\\r\\n    my father, which I think is within me, begins to mutiny\\r\\nagainst\\r\\n    this servitude. I will no longer endure it, though yet I know\\r\\nno\\r\\n    wise remedy how to avoid it.\\r\\n\\r\\n                           Enter OLIVER\\r\\n\\r\\n  ADAM. Yonder comes my master, your brother.\\r\\n  ORLANDO. Go apart, Adam, and thou shalt hear how he will shake\\r\\nme\\r\\n    up.                                           [ADAM retires]\\r\\n  OLIVER. Now, sir! what make you here?\\r\\n  ORLANDO. Nothing; I am not taught to make any thing.\\r\\n  OLIVER. What mar you then, sir?\\r\\n  ORLANDO. Marry, sir, I am helping you to mar that which God\\r\\nmade, a\\r\\n    poor unworthy brother of yours, with idleness.\\r\\n  OLIVER. Marry, sir, be better employed, and be nought awhile.\\r\\n  ORLANDO. Shall I keep your hogs, and eat husks with them? What\\r\\n    prodigal portion have I spent that I should come to such\\r\\npenury?\\r\\n  OLIVER. Know you where you are, sir?\\r\\n  ORLANDO. O, sir, very well; here in your orchard.\\r\\n  OLIVER. Know you before whom, sir?\\r\\n  ORLANDO. Ay, better than him I am before knows me. I know you\\r\\nare\\r\\n    my eldest brother; and in the gentle condition of blood, you\\r\\n    should so know me. The courtesy of nations allows you my\\r\\nbetter\\r\\n    in that you are the first-born; but the same tradition takes\\r\\nnot\\r\\n    away my blood, were there twenty brothers betwixt us. I have\\r\\nas\\r\\n    much of my father in me as you, albeit I confess your coming\\r\\n    before me is nearer to his reverence.\\r\\n  OLIVER. What, boy!                               [Strikes him]\\r\\n  ORLANDO. Come, come, elder brother, you are too young in this.\\r\\n  OLIVER. Wilt thou lay hands on me, villain?\\r\\n  ORLANDO. I am no villain; I am the youngest son of Sir Rowland\\r\\nde\\r\\n    Boys. He was my father; and he is thrice a villain that says\\r\\nsuch\\r\\n    a father begot villains. Wert thou not my brother, I would\\r\\nnot\\r\\n    take this hand from thy throat till this other had pull\\'d out\\r\\nthy\\r\\n    tongue for saying so. Thou has rail\\'d on thyself.\\r\\n  ADAM. [Coming forward] Sweet masters, be patient; for your\\r\\nfather\\'s\\r\\n    remembrance, be at accord.\\r\\n  OLIVER. Let me go, I say.\\r\\n  ORLANDO. I will not, till I please; you shall hear me. My\\r\\nfather\\r\\n    charg\\'d you in his will to give me good education: you have\\r\\n    train\\'d me like a peasant, obscuring and hiding from me all\\r\\n    gentleman-like qualities. The spirit of my father grows\\r\\nstrong in\\r\\n    me, and I will no longer endure it; therefore allow me such\\r\\n    exercises as may become a gentleman, or give me the poor\\r\\n    allottery my father left me by testament; with that I will go\\r\\nbuy\\r\\n    my fortunes.\\r\\n  OLIVER. And what wilt thou do? Beg, when that is spent? Well,\\r\\nsir,\\r\\n    get you in. I will not long be troubled with you; you shall\\r\\nhave\\r\\n    some part of your will. I pray you leave me.\\r\\n  ORLANDO. I no further offend you than becomes me for my good.\\r\\n  OLIVER. Get you with him, you old dog.\\r\\n  ADAM. Is \\'old dog\\' my reward? Most true, I have lost my teeth\\r\\nin\\r\\n    your service. God be with my old master! He would not have\\r\\nspoke\\r\\n    such a word.\\r\\n                                         Exeunt ORLANDO and ADAM\\r\\n  OLIVER. Is it even so? Begin you to grow upon me? I will physic\\r\\n    your rankness, and yet give no thousand crowns neither.\\r\\nHolla,\\r\\n    Dennis!\\r\\n\\r\\n                          Enter DENNIS\\r\\n\\r\\n  DENNIS. Calls your worship?\\r\\n  OLIVER. Was not Charles, the Duke\\'s wrestler, here to speak\\r\\nwith\\r\\nme?\\r\\n  DENNIS. So please you, he is here at the door and importunes\\r\\naccess\\r\\n    to you.\\r\\n  OLIVER. Call him in. [Exit DENNIS] \\'Twill be a good way; and\\r\\n    to-morrow the wrestling is.\\r\\n\\r\\n                          Enter CHARLES\\r\\n\\r\\n  CHARLES. Good morrow to your worship.\\r\\n  OLIVER. Good Monsieur Charles! What\\'s the new news at the new\\r\\n    court?\\r\\n  CHARLES. There\\'s no news at the court, sir, but the old news;\\r\\nthat\\r\\n    is, the old Duke is banished by his younger brother the new\\r\\nDuke;\\r\\n    and three or four loving lords have put themselves into\\r\\nvoluntary\\r\\n    exile with him, whose lands and revenues enrich the new Duke;\\r\\n    therefore he gives them good leave to wander.\\r\\n  OLIVER. Can you tell if Rosalind, the Duke\\'s daughter, be\\r\\nbanished\\r\\n    with her father?\\r\\n  CHARLES. O, no; for the Duke\\'s daughter, her cousin, so loves\\r\\nher,\\r\\n    being ever from their cradles bred together, that she would\\r\\nhave\\r\\n    followed her exile, or have died to stay behind her. She is\\r\\nat\\r\\n    the court, and no less beloved of her uncle than his own\\r\\n    daughter; and never two ladies loved as they do.\\r\\n  OLIVER. Where will the old Duke live?\\r\\n  CHARLES. They say he is already in the Forest of Arden, and a\\r\\nmany\\r\\n    merry men with him; and there they live like the old Robin\\r\\nHood\\r\\n    of England. They say many young gentlemen flock to him every\\r\\nday,\\r\\n    and fleet the time carelessly, as they did in the golden\\r\\nworld.\\r\\n  OLIVER. What, you wrestle to-morrow before the new Duke?\\r\\n  CHARLES. Marry, do I, sir; and I came to acquaint you with a\\r\\n    matter. I am given, sir, secretly to understand that your\\r\\nyounger\\r\\n    brother, Orlando, hath a disposition to come in disguis\\'d\\r\\nagainst\\r\\n    me to try a fall. To-morrow, sir, I wrestle for my credit;\\r\\nand he\\r\\n    that escapes me without some broken limb shall acquit him\\r\\nwell.\\r\\n    Your brother is but young and tender; and, for your love, I\\r\\nwould\\r\\n    be loath to foil him, as I must, for my own honour, if he\\r\\ncome\\r\\n    in; therefore, out of my love to you, I came hither to\\r\\nacquaint\\r\\n    you withal, that either you might stay him from his\\r\\nintendment,\\r\\n    or brook such disgrace well as he shall run into, in that it\\r\\nis\\r\\n    thing of his own search and altogether against my will.\\r\\n  OLIVER. Charles, I thank thee for thy love to me, which thou\\r\\nshalt\\r\\n    find I will most kindly requite. I had myself notice of my\\r\\n    brother\\'s purpose herein, and have by underhand means\\r\\nlaboured to\\r\\n    dissuade him from it; but he is resolute. I\\'ll tell thee,\\r\\n    Charles, it is the stubbornest young fellow of France; full\\r\\nof\\r\\n    ambition, an envious emulator of every man\\'s good parts, a\\r\\nsecret\\r\\n    and villainous contriver against me his natural brother.\\r\\n    Therefore use thy discretion: I had as lief thou didst break\\r\\nhis\\r\\n    neck as his finger. And thou wert best look to\\'t; for if thou\\r\\n    dost him any slight disgrace, or if he do not mightily grace\\r\\n    himself on thee, he will practise against thee by poison,\\r\\nentrap\\r\\n    thee by some treacherous device, and never leave thee till he\\r\\n    hath ta\\'en thy life by some indirect means or other; for, I\\r\\n    assure thee, and almost with tears I speak it, there is not\\r\\none\\r\\n    so young and so villainous this day living. I speak but\\r\\nbrotherly\\r\\n    of him; but should I anatomize him to thee as he is, I must\\r\\nblush\\r\\n    and weep, and thou must look pale and wonder.\\r\\n  CHARLES. I am heartily glad I came hither to you. If he come\\r\\n    to-morrow I\\'ll give him his payment. If ever he go alone\\r\\nagain,\\r\\n    I\\'ll never wrestle for prize more. And so, God keep your\\r\\nworship!\\r\\n Exit\\r\\n  OLIVER. Farewell, good Charles. Now will I stir this gamester.\\r\\nI\\r\\n    hope I shall see an end of him; for my soul, yet I know not\\r\\nwhy,\\r\\n    hates nothing more than he. Yet he\\'s gentle; never school\\'d\\r\\nand\\r\\n    yet learned; full of noble device; of all sorts enchantingly\\r\\n    beloved; and, indeed, so much in the heart of the world, and\\r\\n    especially of my own people, who best know him, that I am\\r\\n    altogether misprised. But it shall not be so long; this\\r\\nwrestler\\r\\n    shall clear all. Nothing remains but that I kindle the boy\\r\\n    thither, which now I\\'ll go about.                       Exit\\r\\n\\r\\n\\r\\n\\r\\n<<THIS ELECTRONIC VERSION OF THE COMPLETE WORKS OF WILLIAM\\r\\nSHAKESPEARE IS COPYRIGHT 1990-1993 BY WORLD LIBRARY, INC., AND IS\\r\\nPROVIDED BY PROJECT GUTENBERG ETEXT OF CARNEGIE MELLON UNIVERSITY\\r\\nWITH PERMISSION.  ELECTRONIC AND MACHINE READABLE COPIES MAY BE\\r\\nDISTRIBUTED SO LONG AS SUCH COPIES (1) ARE FOR YOUR OR OTHERS\\r\\nPERSONAL USE ONLY, AND (2) ARE NOT DISTRIBUTED OR USED\\r\\nCOMMERCIALLY.  PROHIBITED COMMERCIAL DISTRIBUTION INCLUDES BY ANY\\r\\nSERVICE THAT CHARGES FOR DOWNLOAD TIME OR FOR MEMBERSHIP.>>\\r\\n\\r\\n\\r\\n\\r\\n\\r\\nSCENE II.\\r\\nA lawn before the DUKE\\'S palace\\r\\n\\r\\nEnter ROSALIND and CELIA\\r\\n\\r\\n  CELIA. I pray thee, Rosalind, sweet my coz, be merry.\\r\\n  ROSALIND. Dear Celia, I show more mirth than I am mistress of;\\r\\nand\\r\\n    would you yet I were merrier? Unless you could teach me to\\r\\nforget\\r\\n    a banished father, you must not learn me how to remember any\\r\\n    extraordinary pleasure.\\r\\n  CELIA. Herein I see thou lov\\'st me not with the full weight\\r\\nthat I\\r\\n    love thee. If my uncle, thy banished father, had banished thy\\r\\n    uncle, the Duke my father, so thou hadst been still with me,\\r\\nI\\r\\n    could have taught my love to take thy father for mine; so\\r\\nwouldst\\r\\n    thou, if the truth of thy love to me were so righteously\\r\\ntemper\\'d\\r\\n    as mine is to thee.\\r\\n  ROSALIND. Well, I will forget the condition of my estate, to\\r\\n    rejoice in yours.\\r\\n  CELIA. You know my father hath no child but I, nor none is like\\r\\nto\\r\\n    have; and, truly, when he dies thou shalt be his heir; for\\r\\nwhat\\r\\n    he hath taken away from thy father perforce, I will render\\r\\nthee\\r\\n    again in affection. By mine honour, I will; and when I break\\r\\nthat\\r\\n    oath, let me turn monster; therefore, my sweet Rose, my dear\\r\\n    Rose, be merry.\\r\\n  ROSALIND. From henceforth I will, coz, and devise sports.\\r\\n    Let me see; what think you of falling in love?\\r\\n  CELIA. Marry, I prithee, do, to make sport withal; but love no\\r\\nman\\r\\n    in good earnest, nor no further in sport neither than with\\r\\nsafety\\r\\n    of a pure blush thou mayst in honour come off again.\\r\\n  ROSALIND. What shall be our sport, then?\\r\\n  CELIA. Let us sit and mock the good housewife Fortune from her\\r\\n    wheel, that her gifts may henceforth be bestowed equally.\\r\\n  ROSALIND. I would we could do so; for her benefits are mightily\\r\\n    misplaced; and the bountiful blind woman doth most mistake in\\r\\nher\\r\\n    gifts to women.\\r\\n  CELIA. \\'Tis true; for those that she makes fair she scarce\\r\\nmakes\\r\\n    honest; and those that she makes honest she makes very\\r\\n    ill-favouredly.\\r\\n  ROSALIND. Nay; now thou goest from Fortune\\'s office to\\r\\nNature\\'s:\\r\\n    Fortune reigns in gifts of the world, not in the lineaments\\r\\nof\\r\\n    Nature.\\r\\n\\r\\n                         Enter TOUCHSTONE\\r\\n\\r\\n  CELIA. No; when Nature hath made a fair creature, may she not\\r\\nby\\r\\n    Fortune fall into the fire? Though Nature hath given us wit\\r\\nto\\r\\n    flout at Fortune, hath not Fortune sent in this fool to cut\\r\\noff\\r\\n    the argument?\\r\\n  ROSALIND. Indeed, there is Fortune too hard for Nature, when\\r\\n    Fortune makes Nature\\'s natural the cutter-off of Nature\\'s\\r\\nwit.\\r\\n  CELIA. Peradventure this is not Fortune\\'s work neither, but\\r\\n    Nature\\'s, who perceiveth our natural wits too dull to reason\\r\\nof\\r\\n    such goddesses, and hath sent this natural for our whetstone;\\r\\nfor\\r\\n    always the dullness of the fool is the whetstone of the wits.\\r\\nHow\\r\\n    now, wit! Whither wander you?\\r\\n  TOUCHSTONE. Mistress, you must come away to your father.\\r\\n  CELIA. Were you made the messenger?\\r\\n  TOUCHSTONE. No, by mine honour; but I was bid to come for you.\\r\\n  ROSALIND. Where learned you that oath, fool?\\r\\n  TOUCHSTONE. Of a certain knight that swore by his honour they\\r\\nwere\\r\\n    good pancakes, and swore by his honour the mustard was\\r\\nnaught.\\r\\n    Now I\\'ll stand to it, the pancakes were naught and the\\r\\nmustard\\r\\n    was good, and yet was not the knight forsworn.\\r\\n  CELIA. How prove you that, in the great heap of your knowledge?\\r\\n  ROSALIND. Ay, marry, now unmuzzle your wisdom.\\r\\n  TOUCHSTONE. Stand you both forth now: stroke your chins, and\\r\\nswear\\r\\n    by your beards that I am a knave.\\r\\n  CELIA. By our beards, if we had them, thou art.\\r\\n  TOUCHSTONE. By my knavery, if I had it, then I were. But if you\\r\\n    swear by that that is not, you are not forsworn; no more was\\r\\nthis\\r\\n    knight, swearing by his honour, for he never had any; or if\\r\\nhe\\r\\n    had, he had sworn it away before ever he saw those pancackes\\r\\nor\\r\\n    that mustard.\\r\\n  CELIA. Prithee, who is\\'t that thou mean\\'st?\\r\\n  TOUCHSTONE. One that old Frederick, your father, loves.\\r\\n  CELIA. My father\\'s love is enough to honour him. Enough, speak\\r\\nno\\r\\n    more of him; you\\'ll be whipt for taxation one of these days.\\r\\n  TOUCHSTONE. The more pity that fools may not speak wisely what\\r\\nwise\\r\\n    men do foolishly.\\r\\n  CELIA. By my troth, thou sayest true; for since the little wit\\r\\nthat\\r\\n    fools have was silenced, the little foolery that wise men\\r\\nhave\\r\\n    makes a great show. Here comes Monsieur Le Beau.\\r\\n\\r\\n                           Enter LE BEAU\\r\\n\\r\\n  ROSALIND. With his mouth full of news.\\r\\n  CELIA. Which he will put on us as pigeons feed their young.\\r\\n  ROSALIND. Then shall we be news-cramm\\'d.\\r\\n  CELIA. All the better; we shall be the more marketable. Bon\\r\\njour,\\r\\n    Monsieur Le Beau. What\\'s the news?\\r\\n  LE BEAU. Fair Princess, you have lost much good sport.\\r\\n  CELIA. Sport! of what colour?\\r\\n  LE BEAU. What colour, madam? How shall I answer you?\\r\\n  ROSALIND. As wit and fortune will.\\r\\n  TOUCHSTONE. Or as the Destinies decrees.\\r\\n  CELIA. Well said; that was laid on with a trowel.\\r\\n  TOUCHSTONE. Nay, if I keep not my rank-\\r\\n  ROSALIND. Thou losest thy old smell.\\r\\n  LE BEAU. You amaze me, ladies. I would have told you of good\\r\\n    wrestling, which you have lost the sight of.\\r\\n  ROSALIND. Yet tell us the manner of the wrestling.\\r\\n  LE BEAU. I will tell you the beginning, and, if it please your\\r\\n\\r\\n    ladyships, you may see the end; for the best is yet to do;\\r\\nand\\r\\n    here, where you are, they are coming to perform it.\\r\\n  CELIA. Well, the beginning, that is dead and buried.\\r\\n  LE BEAU. There comes an old man and his three sons-\\r\\n  CELIA. I could match this beginning with an old tale.\\r\\n  LE BEAU. Three proper young men, of excellent growth and\\r\\npresence.\\r\\n  ROSALIND. With bills on their necks: \\'Be it known unto all men\\r\\nby\\r\\n    these presents\\'-\\r\\n  LE BEAU. The eldest of the three wrestled with Charles, the\\r\\nDuke\\'s\\r\\n    wrestler; which Charles in a moment threw him, and broke\\r\\nthree of\\r\\n    his ribs, that there is little hope of life in him. So he\\r\\nserv\\'d\\r\\n    the second, and so the third. Yonder they lie; the poor old\\r\\nman,\\r\\n    their father, making such pitiful dole over them that all the\\r\\n    beholders take his part with weeping.\\r\\n  ROSALIND. Alas!\\r\\n  TOUCHSTONE. But what is the sport, monsieur, that the ladies\\r\\nhave\\r\\n    lost?\\r\\n  LE BEAU. Why, this that I speak of.\\r\\n  TOUCHSTONE. Thus men may grow wiser every day. It is the first\\r\\ntime\\r\\n    that ever I heard breaking of ribs was sport for ladies.\\r\\n  CELIA. Or I, I promise thee.\\r\\n  ROSALIND. But is there any else longs to see this broken music\\r\\nin\\r\\n    his sides? Is there yet another dotes upon rib-breaking?\\r\\nShall we\\r\\n    see this wrestling, cousin?\\r\\n  LE BEAU. You must, if you stay here; for here is the place\\r\\n    appointed for the wrestling, and they are ready to perform\\r\\nit.\\r\\n  CELIA. Yonder, sure, they are coming. Let us now stay and see\\r\\nit.\\r\\n\\r\\n           Flourish. Enter DUKE FREDERICK, LORDS, ORLANDO,\\r\\n                     CHARLES, and ATTENDANTS\\r\\n\\r\\n  FREDERICK. Come on; since the youth will not be entreated, his\\r\\nown\\r\\n    peril on his forwardness.\\r\\n  ROSALIND. Is yonder the man?\\r\\n  LE BEAU. Even he, madam.\\r\\n  CELIA. Alas, he is too young; yet he looks successfully.\\r\\n  FREDERICK. How now, daughter and cousin! Are you crept hither\\r\\nto\\r\\n    see the wrestling?\\r\\n  ROSALIND. Ay, my liege; so please you give us leave.\\r\\n  FREDERICK. You will take little delight in it, I can tell you,\\r\\n\\r\\n    there is such odds in the man. In pity of the challenger\\'s\\r\\nyouth\\r\\n    I would fain dissuade him, but he will not be entreated.\\r\\nSpeak to\\r\\n    him, ladies; see if you can move him.\\r\\n  CELIA. Call him hither, good Monsieur Le Beau.\\r\\n  FREDERICK. Do so; I\\'ll not be by.\\r\\n                                     [DUKE FREDERICK goes apart]\\r\\n  LE BEAU. Monsieur the Challenger, the Princess calls for you.\\r\\n  ORLANDO. I attend them with all respect and duty.\\r\\n  ROSALIND. Young man, have you challeng\\'d Charles the wrestler?\\r\\n  ORLANDO. No, fair Princess; he is the general challenger. I\\r\\ncome\\r\\n    but in, as others do, to try with him the strength of my\\r\\nyouth.\\r\\n  CELIA. Young gentleman, your spirits are too bold for your\\r\\nyears.\\r\\n    You have seen cruel proof of this man\\'s strength; if you saw\\r\\n    yourself with your eyes, or knew yourself with your judgment,\\r\\nthe\\r\\n    fear of your adventure would counsel you to a more equal\\r\\n    enterprise. We pray you, for your own sake, to embrace your\\r\\nown\\r\\n    safety and give over this attempt.\\r\\n  ROSALIND. Do, young sir; your reputation shall not therefore be\\r\\n    misprised: we will make it our suit to the Duke that the\\r\\n    wrestling might not go forward.\\r\\n  ORLANDO. I beseech you, punish me not with your hard thoughts,\\r\\n    wherein I confess me much guilty to deny so fair and\\r\\nexcellent\\r\\n    ladies any thing. But let your fair eyes and gentle wishes go\\r\\n    with me to my trial; wherein if I be foil\\'d there is but one\\r\\n    sham\\'d that was never gracious; if kill\\'d, but one dead that\\r\\nis\\r\\n    willing to be so. I shall do my friends no wrong, for I have\\r\\nnone\\r\\n    to lament me; the world no injury, for in it I have nothing;\\r\\nonly\\r\\n    in the world I fill up a place, which may be better supplied\\r\\nwhen\\r\\n    I have made it empty.\\r\\n  ROSALIND. The little strength that I have, I would it were with\\r\\n    you.\\r\\n  CELIA. And mine to eke out hers.\\r\\n  ROSALIND. Fare you well. Pray heaven I be deceiv\\'d in you!\\r\\n  CELIA. Your heart\\'s desires be with you!\\r\\n  CHARLES. Come, where is this young gallant that is so desirous\\r\\nto\\r\\n    lie with his mother earth?\\r\\n  ORLANDO. Ready, sir; but his will hath in it a more modest\\r\\nworking.\\r\\n  FREDERICK. You shall try but one fall.\\r\\n  CHARLES. No, I warrant your Grace, you shall not entreat him to\\r\\na\\r\\n    second, that have so mightily persuaded him from a first.\\r\\n  ORLANDO. You mean to mock me after; you should not have mock\\'d\\r\\nme\\r\\n    before; but come your ways.\\r\\n  ROSALIND. Now, Hercules be thy speed, young man!\\r\\n  CELIA. I would I were invisible, to catch the strong fellow by\\r\\nthe\\r\\n    leg.                                          [They wrestle]\\r\\n  ROSALIND. O excellent young man!\\r\\n  CELIA. If I had a thunderbolt in mine eye, I can tell who\\r\\nshould\\r\\n    down.\\r\\n                                      [CHARLES is thrown. Shout]\\r\\n  FREDERICK. No more, no more.\\r\\n  ORLANDO. Yes, I beseech your Grace; I am not yet well breath\\'d.\\r\\n  FREDERICK. How dost thou, Charles?\\r\\n  LE BEAU. He cannot speak, my lord.\\r\\n  FREDERICK. Bear him away. What is thy name, young man?\\r\\n  ORLANDO. Orlando, my liege; the youngest son of Sir Rowland de\\r\\n    Boys.\\r\\n  FREDERICK. I would thou hadst been son to some man else.\\r\\n    The world esteem\\'d thy father honourable,\\r\\n    But I did find him still mine enemy.\\r\\n    Thou shouldst have better pleas\\'d me with this deed,\\r\\n    Hadst thou descended from another house.\\r\\n    But fare thee well; thou art a gallant youth;\\r\\n    I would thou hadst told me of another father.\\r\\n                                 Exeunt DUKE, train, and LE BEAU\\r\\n  CELIA. Were I my father, coz, would I do this?\\r\\n  ORLANDO. I am more proud to be Sir Rowland\\'s son,\\r\\n    His youngest son- and would not change that calling\\r\\n    To be adopted heir to Frederick.\\r\\n  ROSALIND. My father lov\\'d Sir Rowland as his soul,\\r\\n    And all the world was of my father\\'s mind;\\r\\n    Had I before known this young man his son,\\r\\n    I should have given him tears unto entreaties\\r\\n    Ere he should thus have ventur\\'d.\\r\\n  CELIA. Gentle cousin,\\r\\n    Let us go thank him, and encourage him;\\r\\n    My father\\'s rough and envious disposition\\r\\n    Sticks me at heart. Sir, you have well deserv\\'d;\\r\\n    If you do keep your promises in love\\r\\n    But justly as you have exceeded all promise,\\r\\n    Your mistress shall be happy.\\r\\n  ROSALIND. Gentleman,        [Giving him a chain from her neck]\\r\\n    Wear this for me; one out of suits with fortune,\\r\\n    That could give more, but that her hand lacks means.\\r\\n    Shall we go, coz?\\r\\n  CELIA. Ay. Fare you well, fair gentleman.\\r\\n  ORLANDO. Can I not say \\'I thank you\\'? My better parts\\r\\n    Are all thrown down; and that which here stands up\\r\\n    Is but a quintain, a mere lifeless block.\\r\\n  ROSALIND. He calls us back. My pride fell with my fortunes;\\r\\n    I\\'ll ask him what he would. Did you call, sir?\\r\\n    Sir, you have wrestled well, and overthrown\\r\\n    More than your enemies.\\r\\n  CELIA. Will you go, coz?\\r\\n  ROSALIND. Have with you. Fare you well.\\r\\n                                       Exeunt ROSALIND and CELIA\\r\\n  ORLANDO. What passion hangs these weights upon my tongue?\\r\\n    I cannot speak to her, yet she urg\\'d conference.\\r\\n    O poor Orlando, thou art overthrown!\\r\\n    Or Charles or something weaker masters thee.\\r\\n\\r\\n                      Re-enter LE BEAU\\r\\n\\r\\n  LE BEAU. Good sir, I do in friendship counsel you\\r\\n    To leave this place. Albeit you have deserv\\'d\\r\\n    High commendation, true applause, and love,\\r\\n    Yet such is now the Duke\\'s condition\\r\\n    That he misconstrues all that you have done.\\r\\n    The Duke is humorous; what he is, indeed,\\r\\n    More suits you to conceive than I to speak of.\\r\\n  ORLANDO. I thank you, sir; and pray you tell me this:\\r\\n    Which of the two was daughter of the Duke\\r\\n    That here was at the wrestling?\\r\\n  LE BEAU. Neither his daughter, if we judge by manners;\\r\\n    But yet, indeed, the smaller is his daughter;\\r\\n    The other is daughter to the banish\\'d Duke,\\r\\n    And here detain\\'d by her usurping uncle,\\r\\n    To keep his daughter company; whose loves\\r\\n    Are dearer than the natural bond of sisters.\\r\\n    But I can tell you that of late this Duke\\r\\n    Hath ta\\'en displeasure \\'gainst his gentle niece,\\r\\n    Grounded upon no other argument\\r\\n    But that the people praise her for her virtues\\r\\n    And pity her for her good father\\'s sake;\\r\\n    And, on my life, his malice \\'gainst the lady\\r\\n    Will suddenly break forth. Sir, fare you well.\\r\\n    Hereafter, in a better world than this,\\r\\n    I shall desire more love and knowledge of you.\\r\\n  ORLANDO. I rest much bounden to you; fare you well.\\r\\n                                                    Exit LE BEAU\\r\\n    Thus must I from the smoke into the smother;\\r\\n    From tyrant Duke unto a tyrant brother.\\r\\n    But heavenly Rosalind!                                  Exit\\r\\n\\r\\n\\r\\n\\r\\n\\r\\nSCENE III.\\r\\nThe DUKE\\'s palace\\r\\n\\r\\nEnter CELIA and ROSALIND\\r\\n\\r\\n  CELIA. Why, cousin! why, Rosalind! Cupid have mercy!\\r\\n    Not a word?\\r\\n  ROSALIND. Not one to throw at a dog.\\r\\n  CELIA. No, thy words are too precious to be cast away upon\\r\\ncurs;\\r\\n    throw some of them at me; come, lame me with reasons.\\r\\n  ROSALIND. Then there were two cousins laid up, when the one\\r\\nshould\\r\\n    be lam\\'d with reasons and the other mad without any.\\r\\n  CELIA. But is all this for your father?\\r\\n  ROSALIND. No, some of it is for my child\\'s father. O, how full\\r\\nof\\r\\n    briers is this working-day world!\\r\\n  CELIA. They are but burs, cousin, thrown upon thee in holiday\\r\\n    foolery; if we walk not in the trodden paths, our very\\r\\npetticoats\\r\\n    will catch them.\\r\\n  ROSALIND. I could shake them off my coat: these burs are in my\\r\\n    heart.\\r\\n  CELIA. Hem them away.\\r\\n  ROSALIND. I would try, if I could cry \\'hem\\' and have him.\\r\\n  CELIA. Come, come, wrestle with thy affections.\\r\\n  ROSALIND. O, they take the part of a better wrestler than\\r\\nmyself.\\r\\n  CELIA. O, a good wish upon you! You will try in time, in\\r\\ndespite of\\r\\n    a fall. But, turning these jests out of service, let us talk\\r\\nin\\r\\n    good earnest. Is it possible, on such a sudden, you should\\r\\nfall\\r\\n    into so strong a liking with old Sir Rowland\\'s youngest son?\\r\\n  ROSALIND. The Duke my father lov\\'d his father dearly.\\r\\n  CELIA. Doth it therefore ensue that you should love his son\\r\\ndearly?\\r\\n    By this kind of chase I should hate him, for my father hated\\r\\nhis\\r\\n    father dearly; yet I hate not Orlando.\\r\\n  ROSALIND. No, faith, hate him not, for my sake.\\r\\n  CELIA. Why should I not? Doth he not deserve well?\\r\\n\\r\\n                    Enter DUKE FREDERICK, with LORDS\\r\\n\\r\\n  ROSALIND. Let me love him for that; and do you love him because\\r\\nI\\r\\n    do. Look, here comes the Duke.\\r\\n  CELIA. With his eyes full of anger.\\r\\n  FREDERICK. Mistress, dispatch you with your safest haste,\\r\\n    And get you from our court.\\r\\n  ROSALIND. Me, uncle?\\r\\n  FREDERICK. You, cousin.\\r\\n    Within these ten days if that thou beest found\\r\\n    So near our public court as twenty miles,\\r\\n    Thou diest for it.\\r\\n  ROSALIND. I do beseech your Grace,\\r\\n    Let me the knowledge of my fault bear with me.\\r\\n    If with myself I hold intelligence,\\r\\n    Or have acquaintance with mine own desires;\\r\\n    If that I do not dream, or be not frantic-\\r\\n    As I do trust I am not- then, dear uncle,\\r\\n    Never so much as in a thought unborn\\r\\n    Did I offend your Highness.\\r\\n  FREDERICK. Thus do all traitors;\\r\\n    If their purgation did consist in words,\\r\\n    They are as innocent as grace itself.\\r\\n    Let it suffice thee that I trust thee not.\\r\\n  ROSALIND. Yet your mistrust cannot make me a traitor.\\r\\n    Tell me whereon the likelihood depends.\\r\\n  FREDERICK. Thou art thy father\\'s daughter; there\\'s enough.\\r\\n  ROSALIND. So was I when your Highness took his dukedom;\\r\\n    So was I when your Highness banish\\'d him.\\r\\n    Treason is not inherited, my lord;\\r\\n    Or, if we did derive it from our friends,\\r\\n    What\\'s that to me? My father was no traitor.\\r\\n    Then, good my liege, mistake me not so much\\r\\n    To think my poverty is treacherous.\\r\\n  CELIA. Dear sovereign, hear me speak.\\r\\n  FREDERICK. Ay, Celia; we stay\\'d her for your sake,\\r\\n    Else had she with her father rang\\'d along.\\r\\n  CELIA. I did not then entreat to have her stay;\\r\\n    It was your pleasure, and your own remorse;\\r\\n    I was too young that time to value her,\\r\\n    But now I know her. If she be a traitor,\\r\\n    Why so am I: we still have slept together,\\r\\n    Rose at an instant, learn\\'d, play\\'d, eat together;\\r\\n    And wheresoe\\'er we went, like Juno\\'s swans,\\r\\n    Still we went coupled and inseparable.\\r\\n  FREDERICK. She is too subtle for thee; and her smoothness,\\r\\n    Her very silence and her patience,\\r\\n    Speak to the people, and they pity her.\\r\\n    Thou art a fool. She robs thee of thy name;\\r\\n    And thou wilt show more bright and seem more virtuous\\r\\n    When she is gone. Then open not thy lips.\\r\\n    Firm and irrevocable is my doom\\r\\n    Which I have pass\\'d upon her; she is banish\\'d.\\r\\n  CELIA. Pronounce that sentence, then, on me, my liege;\\r\\n    I cannot live out of her company.\\r\\n  FREDERICK. You are a fool. You, niece, provide yourself.\\r\\n    If you outstay the time, upon mine honour,\\r\\n    And in the greatness of my word, you die.\\r\\n                                           Exeunt DUKE and LORDS\\r\\n  CELIA. O my poor Rosalind! Whither wilt thou go?\\r\\n    Wilt thou change fathers? I will give thee mine.\\r\\n    I charge thee be not thou more griev\\'d than I am.\\r\\n  ROSALIND. I have more cause.\\r\\n  CELIA. Thou hast not, cousin.\\r\\n    Prithee be cheerful. Know\\'st thou not the Duke\\r\\n    Hath banish\\'d me, his daughter?\\r\\n  ROSALIND. That he hath not.\\r\\n  CELIA. No, hath not? Rosalind lacks, then, the love\\r\\n    Which teacheth thee that thou and I am one.\\r\\n    Shall we be sund\\'red? Shall we part, sweet girl?\\r\\n    No; let my father seek another heir.\\r\\n    Therefore devise with me how we may fly,\\r\\n    Whither to go, and what to bear with us;\\r\\n    And do not seek to take your charge upon you,\\r\\n    To bear your griefs yourself, and leave me out;\\r\\n    For, by this heaven, now at our sorrows pale,\\r\\n    Say what thou canst, I\\'ll go along with thee.\\r\\n  ROSALIND. Why, whither shall we go?\\r\\n  CELIA. To seek my uncle in the Forest of Arden.\\r\\n  ROSALIND. Alas, what danger will it be to us,\\r\\n    Maids as we are, to travel forth so far!\\r\\n    Beauty provoketh thieves sooner than gold.\\r\\n  CELIA. I\\'ll put myself in poor and mean attire,\\r\\n    And with a kind of umber smirch my face;\\r\\n    The like do you; so shall we pass along,\\r\\n    And never stir assailants.\\r\\n  ROSALIND. Were it not better,\\r\\n    Because that I am more than common tall,\\r\\n    That I did suit me all points like a man?\\r\\n    A gallant curtle-axe upon my thigh,\\r\\n    A boar spear in my hand; and- in my heart\\r\\n    Lie there what hidden woman\\'s fear there will-\\r\\n    We\\'ll have a swashing and a martial outside,\\r\\n    As many other mannish cowards have\\r\\n    That do outface it with their semblances.\\r\\n  CELIA. What shall I call thee when thou art a man?\\r\\n  ROSALIND. I\\'ll have no worse a name than Jove\\'s own page,\\r\\n    And therefore look you call me Ganymede.\\r\\n    But what will you be call\\'d?\\r\\n  CELIA. Something that hath a reference to my state:\\r\\n    No longer Celia, but Aliena.\\r\\n  ROSALIND. But, cousin, what if we assay\\'d to steal\\r\\n    The clownish fool out of your father\\'s court?\\r\\n    Would he not be a comfort to our travel?\\r\\n  CELIA. He\\'ll go along o\\'er the wide world with me;\\r\\n    Leave me alone to woo him. Let\\'s away,\\r\\n    And get our jewels and our wealth together;\\r\\n    Devise the fittest time and safest way\\r\\n    To hide us from pursuit that will be made\\r\\n    After my flight. Now go we in content\\r\\n    To liberty, and not to banishment.                    Exeunt\\r\\n\\r\\n\\r\\n\\r\\n\\r\\n<<THIS ELECTRONIC VERSION OF THE COMPLETE WORKS OF WILLIAM\\r\\nSHAKESPEARE IS COPYRIGHT 1990-1993 BY WORLD LIBRARY, INC., AND IS\\r\\nPROVIDED BY PROJECT GUTENBERG ETEXT OF CARNEGIE MELLON UNIVERSITY\\r\\nWITH PERMISSION.  ELECTRONIC AND MACHINE READABLE COPIES MAY BE\\r\\nDISTRIBUTED SO LONG AS SUCH COPIES (1) ARE FOR YOUR OR OTHERS\\r\\nPERSONAL USE ONLY, AND (2) ARE NOT DISTRIBUTED OR USED\\r\\nCOMMERCIALLY.  PROHIBITED COMMERCIAL DISTRIBUTION INCLUDES BY ANY\\r\\nSERVICE THAT CHARGES FOR DOWNLOAD TIME OR FOR MEMBERSHIP.>>\\r\\n\\r\\n\\r\\n\\r\\nACT II. SCENE I.\\r\\nThe Forest of Arden\\r\\n\\r\\nEnter DUKE SENIOR, AMIENS, and two or three LORDS, like foresters\\r\\n\\r\\n  DUKE SENIOR. Now, my co-mates and brothers in exile,\\r\\n    Hath not old custom made this life more sweet\\r\\n    Than that of painted pomp? Are not these woods\\r\\n    More free from peril than the envious court?\\r\\n    Here feel we not the penalty of Adam,\\r\\n    The seasons\\' difference; as the icy fang\\r\\n    And churlish chiding of the winter\\'s wind,\\r\\n    Which when it bites and blows upon my body,\\r\\n    Even till I shrink with cold, I smile and say\\r\\n    \\'This is no flattery; these are counsellors\\r\\n    That feelingly persuade me what I am.\\'\\r\\n    Sweet are the uses of adversity,\\r\\n    Which, like the toad, ugly and venomous,\\r\\n    Wears yet a precious jewel in his head;\\r\\n    And this our life, exempt from public haunt,\\r\\n    Finds tongues in trees, books in the running brooks,\\r\\n    Sermons in stones, and good in everything.\\r\\n    I would not change it.\\r\\n  AMIENS. Happy is your Grace,\\r\\n    That can translate the stubbornness of fortune\\r\\n    Into so quiet and so sweet a style.\\r\\n  DUKE SENIOR. Come, shall we go and kill us venison?\\r\\n    And yet it irks me the poor dappled fools,\\r\\n    Being native burghers of this desert city,\\r\\n    Should, in their own confines, with forked heads\\r\\n    Have their round haunches gor\\'d.\\r\\n  FIRST LORD. Indeed, my lord,\\r\\n    The melancholy Jaques grieves at that;\\r\\n    And, in that kind, swears you do more usurp\\r\\n    Than doth your brother that hath banish\\'d you.\\r\\n    To-day my Lord of Amiens and myself\\r\\n    Did steal behind him as he lay along\\r\\n    Under an oak whose antique root peeps out\\r\\n    Upon the brook that brawls along this wood!\\r\\n    To the which place a poor sequest\\'red stag,\\r\\n    That from the hunter\\'s aim had ta\\'en a hurt,\\r\\n    Did come to languish; and, indeed, my lord,\\r\\n    The wretched animal heav\\'d forth such groans\\r\\n    That their discharge did stretch his leathern coat\\r\\n    Almost to bursting; and the big round tears\\r\\n    Cours\\'d one another down his innocent nose\\r\\n    In piteous chase; and thus the hairy fool,\\r\\n    Much marked of the melancholy Jaques,\\r\\n    Stood on th\\' extremest verge of the swift brook,\\r\\n    Augmenting it with tears.\\r\\n  DUKE SENIOR. But what said Jaques?\\r\\n    Did he not moralize this spectacle?\\r\\n  FIRST LORD. O, yes, into a thousand similes.\\r\\n    First, for his weeping into the needless stream:\\r\\n    \\'Poor deer,\\' quoth he \\'thou mak\\'st a testament\\r\\n    As worldlings do, giving thy sum of more\\r\\n    To that which had too much.\\' Then, being there alone,\\r\\n    Left and abandoned of his velvet friends:\\r\\n    \\'\\'Tis right\\'; quoth he \\'thus misery doth part\\r\\n    The flux of company.\\' Anon, a careless herd,\\r\\n    Full of the pasture, jumps along by him\\r\\n    And never stays to greet him. \\'Ay,\\' quoth Jaques\\r\\n    \\'Sweep on, you fat and greasy citizens;\\r\\n    \\'Tis just the fashion. Wherefore do you look\\r\\n    Upon that poor and broken bankrupt there?\\'\\r\\n    Thus most invectively he pierceth through\\r\\n    The body of the country, city, court,\\r\\n    Yea, and of this our life; swearing that we\\r\\n    Are mere usurpers, tyrants, and what\\'s worse,\\r\\n    To fright the animals, and to kill them up\\r\\n    In their assign\\'d and native dwelling-place.\\r\\n  DUKE SENIOR. And did you leave him in this contemplation?\\r\\n  SECOND LORD. We did, my lord, weeping and commenting\\r\\n    Upon the sobbing deer.\\r\\n  DUKE SENIOR. Show me the place;\\r\\n    I love to cope him in these sullen fits,\\r\\n    For then he\\'s full of matter.\\r\\n  FIRST LORD. I\\'ll bring you to him straight.             Exeunt\\r\\n\\r\\n\\r\\n\\r\\n\\r\\nSCENE II.\\r\\nThe DUKE\\'S palace\\r\\n\\r\\nEnter DUKE FREDERICK, with LORDS\\r\\n\\r\\n  FREDERICK. Can it be possible that no man saw them?\\r\\n    It cannot be; some villains of my court\\r\\n    Are of consent and sufferance in this.\\r\\n  FIRST LORD. I cannot hear of any that did see her.\\r\\n    The ladies, her attendants of her chamber,\\r\\n    Saw her abed, and in the morning early\\r\\n    They found the bed untreasur\\'d of their mistress.\\r\\n  SECOND LORD. My lord, the roynish clown, at whom so oft\\r\\n    Your Grace was wont to laugh, is also missing.\\r\\n    Hisperia, the Princess\\' gentlewoman,\\r\\n    Confesses that she secretly o\\'erheard\\r\\n    Your daughter and her cousin much commend\\r\\n    The parts and graces of the wrestler\\r\\n    That did but lately foil the sinewy Charles;\\r\\n    And she believes, wherever they are gone,\\r\\n    That youth is surely in their company.\\r\\n  FREDERICK. Send to his brother; fetch that gallant hither.\\r\\n    If he be absent, bring his brother to me;\\r\\n    I\\'ll make him find him. Do this suddenly;\\r\\n    And let not search and inquisition quail\\r\\n    To bring again these foolish runaways.                Exeunt\\r\\n\\r\\n\\r\\n\\r\\n\\r\\nSCENE III.\\r\\nBefore OLIVER\\'S house\\r\\n\\r\\nEnter ORLANDO and ADAM, meeting\\r\\n\\r\\n  ORLANDO. Who\\'s there?\\r\\n  ADAM. What, my young master? O my gentle master!\\r\\n    O my sweet master! O you memory\\r\\n    Of old Sir Rowland! Why, what make you here?\\r\\n    Why are you virtuous? Why do people love you?\\r\\n    And wherefore are you gentle, strong, and valiant?\\r\\n    Why would you be so fond to overcome\\r\\n    The bonny prizer of the humorous Duke?\\r\\n    Your praise is come too swiftly home before you.\\r\\n    Know you not, master, to some kind of men\\r\\n    Their graces serve them but as enemies?\\r\\n    No more do yours. Your virtues, gentle master,\\r\\n    Are sanctified and holy traitors to you.\\r\\n    O, what a world is this, when what is comely\\r\\n    Envenoms him that bears it!\\r\\n  ORLANDO. Why, what\\'s the matter?\\r\\n  ADAM. O unhappy youth!\\r\\n    Come not within these doors; within this roof\\r\\n    The enemy of all your graces lives.\\r\\n    Your brother- no, no brother; yet the son-\\r\\n    Yet not the son; I will not call him son\\r\\n    Of him I was about to call his father-\\r\\n    Hath heard your praises; and this night he means\\r\\n    To burn the lodging where you use to lie,\\r\\n    And you within it. If he fail of that,\\r\\n    He will have other means to cut you off;\\r\\n    I overheard him and his practices.\\r\\n    This is no place; this house is but a butchery;\\r\\n    Abhor it, fear it, do not enter it.\\r\\n  ORLANDO. Why, whither, Adam, wouldst thou have me go?\\r\\n  ADAM. No matter whither, so you come not here.\\r\\n  ORLANDO. What, wouldst thou have me go and beg my food,\\r\\n    Or with a base and boist\\'rous sword enforce\\r\\n    A thievish living on the common road?\\r\\n    This I must do, or know not what to do;\\r\\n    Yet this I will not do, do how I can.\\r\\n    I rather will subject me to the malice\\r\\n    Of a diverted blood and bloody brother.\\r\\n  ADAM. But do not so. I have five hundred crowns,\\r\\n    The thrifty hire I sav\\'d under your father,\\r\\n    Which I did store to be my foster-nurse,\\r\\n    When service should in my old limbs lie lame,\\r\\n    And unregarded age in corners thrown.\\r\\n    Take that, and He that doth the ravens feed,\\r\\n    Yea, providently caters for the sparrow,\\r\\n    Be comfort to my age! Here is the gold;\\r\\n    All this I give you. Let me be your servant;\\r\\n    Though I look old, yet I am strong and lusty;\\r\\n    For in my youth I never did apply\\r\\n    Hot and rebellious liquors in my blood,\\r\\n    Nor did not with unbashful forehead woo\\r\\n    The means of weakness and debility;\\r\\n    Therefore my age is as a lusty winter,\\r\\n    Frosty, but kindly. Let me go with you;\\r\\n    I\\'ll do the service of a younger man\\r\\n    In all your business and necessities.\\r\\n  ORLANDO. O good old man, how well in thee appears\\r\\n    The constant service of the antique world,\\r\\n    When service sweat for duty, not for meed!\\r\\n    Thou art not for the fashion of these times,\\r\\n    Where none will sweat but for promotion,\\r\\n    And having that do choke their service up\\r\\n    Even with the having; it is not so with thee.\\r\\n    But, poor old man, thou prun\\'st a rotten tree\\r\\n    That cannot so much as a blossom yield\\r\\n    In lieu of all thy pains and husbandry.\\r\\n    But come thy ways, we\\'ll go along together,\\r\\n    And ere we have thy youthful wages spent\\r\\n    We\\'ll light upon some settled low content.\\r\\n  ADAM. Master, go on; and I will follow thee\\r\\n    To the last gasp, with truth and loyalty.\\r\\n    From seventeen years till now almost four-score\\r\\n    Here lived I, but now live here no more.\\r\\n    At seventeen years many their fortunes seek,\\r\\n    But at fourscore it is too late a week;\\r\\n    Yet fortune cannot recompense me better\\r\\n    Than to die well and not my master\\'s debtor.          Exeunt\\r\\n\\r\\n\\r\\n\\r\\n\\r\\nSCENE IV.\\r\\nThe Forest of Arden\\r\\n\\r\\nEnter ROSALIND for GANYMEDE, CELIA for ALIENA, and CLOWN alias\\r\\nTOUCHSTONE\\r\\n\\r\\n  ROSALIND. O Jupiter, how weary are my spirits!\\r\\n  TOUCHSTONE. I care not for my spirits, if my legs were not\\r\\nweary.\\r\\n  ROSALIND. I could find in my heart to disgrace my man\\'s\\r\\napparel,\\r\\n    and to cry like a woman; but I must comfort the weaker\\r\\nvessel, as\\r\\n    doublet and hose ought to show itself courageous to\\r\\npetticoat;\\r\\n    therefore, courage, good Aliena.\\r\\n  CELIA. I pray you bear with me; I cannot go no further.\\r\\n  TOUCHSTONE. For my part, I had rather bear with you than bear\\r\\nyou;\\r\\n    yet I should bear no cross if I did bear you; for I think you\\r\\n    have no money in your purse.\\r\\n  ROSALIND. Well, this is the Forest of Arden.\\r\\n  TOUCHSTONE. Ay, now am I in Arden; the more fool I; when I was\\r\\nat\\r\\n    home I was in a better place; but travellers must be content.\\r\\n\\r\\n                        Enter CORIN and SILVIUS\\r\\n\\r\\n  ROSALIND. Ay, be so, good Touchstone. Look you, who comes here,\\r\\na\\r\\n    young man and an old in solemn talk.\\r\\n  CORIN. That is the way to make her scorn you still.\\r\\n  SILVIUS. O Corin, that thou knew\\'st how I do love her!\\r\\n  CORIN. I partly guess; for I have lov\\'d ere now.\\r\\n  SILVIUS. No, Corin, being old, thou canst not guess,\\r\\n    Though in thy youth thou wast as true a lover\\r\\n    As ever sigh\\'d upon a midnight pillow.\\r\\n    But if thy love were ever like to mine,\\r\\n    As sure I think did never man love so,\\r\\n    How many actions most ridiculous\\r\\n    Hast thou been drawn to by thy fantasy?\\r\\n  CORIN. Into a thousand that I have forgotten.\\r\\n  SILVIUS. O, thou didst then never love so heartily!\\r\\n    If thou rememb\\'rest not the slightest folly\\r\\n    That ever love did make thee run into,\\r\\n    Thou hast not lov\\'d;\\r\\n    Or if thou hast not sat as I do now,\\r\\n    Wearing thy hearer in thy mistress\\' praise,\\r\\n    Thou hast not lov\\'d;\\r\\n    Or if thou hast not broke from company\\r\\n    Abruptly, as my passion now makes me,\\r\\n    Thou hast not lov\\'d.\\r\\n    O Phebe, Phebe, Phebe!                          Exit Silvius\\r\\n  ROSALIND. Alas, poor shepherd! searching of thy wound,\\r\\n    I have by hard adventure found mine own.\\r\\n  TOUCHSTONE. And I mine. I remember, when I was in love, I broke\\r\\nmy\\r\\n    sword upon a stone, and bid him take that for coming a-night\\r\\nto\\r\\n    Jane Smile; and I remember the kissing of her batler, and the\\r\\n    cow\\'s dugs that her pretty chapt hands had milk\\'d; and I\\r\\nremember\\r\\n    the wooing of peascod instead of her; from whom I took two\\r\\ncods,\\r\\n    and giving her them again, said with weeping tears \\'Wear\\r\\nthese\\r\\n    for my sake.\\' We that are true lovers run into strange\\r\\ncapers;\\r\\n    but as all is mortal in nature, so is all nature in love\\r\\nmortal\\r\\n    in folly.\\r\\n  ROSALIND. Thou speak\\'st wiser than thou art ware of.\\r\\n  TOUCHSTONE. Nay, I shall ne\\'er be ware of mine own wit till I\\r\\nbreak\\r\\n    my shins against it.\\r\\n  ROSALIND. Jove, Jove! this shepherd\\'s passion\\r\\n    Is much upon my fashion.\\r\\n  TOUCHSTONE. And mine; but it grows something stale with me.\\r\\n  CELIA. I pray you, one of you question yond man\\r\\n    If he for gold will give us any food;\\r\\n    I faint almost to death.\\r\\n  TOUCHSTONE. Holla, you clown!\\r\\n  ROSALIND. Peace, fool; he\\'s not thy kinsman.\\r\\n  CORIN. Who calls?\\r\\n  TOUCHSTONE. Your betters, sir.\\r\\n  CORIN. Else are they very wretched.\\r\\n  ROSALIND. Peace, I say. Good even to you, friend.\\r\\n  CORIN. And to you, gentle sir, and to you all.\\r\\n  ROSALIND. I prithee, shepherd, if that love or gold\\r\\n    Can in this desert place buy entertainment,\\r\\n    Bring us where we may rest ourselves and feed.\\r\\n    Here\\'s a young maid with travel much oppress\\'d,\\r\\n    And faints for succour.\\r\\n  CORIN. Fair sir, I pity her,\\r\\n    And wish, for her sake more than for mine own,\\r\\n    My fortunes were more able to relieve her;\\r\\n    But I am shepherd to another man,\\r\\n    And do not shear the fleeces that I graze.\\r\\n    My master is of churlish disposition,\\r\\n    And little recks to find the way to heaven\\r\\n    By doing deeds of hospitality.\\r\\n    Besides, his cote, his flocks, and bounds of feed,\\r\\n    Are now on sale; and at our sheepcote now,\\r\\n    By reason of his absence, there is nothing\\r\\n    That you will feed on; but what is, come see,\\r\\n    And in my voice most welcome shall you be.\\r\\n  ROSALIND. What is he that shall buy his flock and pasture?\\r\\n  CORIN. That young swain that you saw here but erewhile,\\r\\n    That little cares for buying any thing.\\r\\n  ROSALIND. I pray thee, if it stand with honesty,\\r\\n    Buy thou the cottage, pasture, and the flock,\\r\\n    And thou shalt have to pay for it of us.\\r\\n  CELIA. And we will mend thy wages. I like this place,\\r\\n    And willingly could waste my time in it.\\r\\n  CORIN. Assuredly the thing is to be sold.\\r\\n    Go with me; if you like upon report\\r\\n    The soil, the profit, and this kind of life,\\r\\n    I will your very faithful feeder be,\\r\\n    And buy it with your gold right suddenly.             Exeunt\\r\\n\\r\\n\\r\\n\\r\\n\\r\\nSCENE V.\\r\\nAnother part of the forest\\r\\n\\r\\nEnter AMIENS, JAQUES, and OTHERS\\r\\n\\r\\n                       SONG\\r\\n  AMIENS.    Under the greenwood tree\\r\\n               Who loves to lie with me,\\r\\n               And turn his merry note\\r\\n               Unto the sweet bird\\'s throat,\\r\\n             Come hither, come hither, come hither.\\r\\n               Here shall he see\\r\\n               No enemy\\r\\n             But winter and rough weather.\\r\\n\\r\\n  JAQUES. More, more, I prithee, more.\\r\\n  AMIENS. It will make you melancholy, Monsieur Jaques.\\r\\n  JAQUES. I thank it. More, I prithee, more. I can suck\\r\\nmelancholy\\r\\n    out of a song, as a weasel sucks eggs. More, I prithee, more.\\r\\n  AMIENS. My voice is ragged; I know I cannot please you.\\r\\n  JAQUES. I do not desire you to please me; I do desire you to\\r\\nsing.\\r\\n    Come, more; another stanzo. Call you \\'em stanzos?\\r\\n  AMIENS. What you will, Monsieur Jaques.\\r\\n  JAQUES. Nay, I care not for their names; they owe me nothing.\\r\\nWill\\r\\n    you sing?\\r\\n  AMIENS. More at your request than to please myself.\\r\\n  JAQUES. Well then, if ever I thank any man, I\\'ll thank you; but\\r\\n    that they call compliment is like th\\' encounter of two\\r\\ndog-apes;\\r\\n    and when a man thanks me heartily, methinks have given him a\\r\\n    penny, and he renders me the beggarly thanks. Come, sing; and\\r\\nyou\\r\\n    that will not, hold your tongues.\\r\\n  AMIENS. Well, I\\'ll end the song. Sirs, cover the while; the\\r\\nDuke\\r\\n    will drink under this tree. He hath been all this day to look\\r\\n    you.\\r\\n  JAQUES. And I have been all this day to avoid him. He is too\\r\\n    disputable for my company. I think of as many matters as he;\\r\\nbut\\r\\n    I give heaven thanks, and make no boast of them. Come,\\r\\nwarble, come.\\r\\n\\r\\n                       SONG\\r\\n              [All together here]\\r\\n\\r\\n           Who doth ambition shun,\\r\\n           And loves to live i\\' th\\' sun,\\r\\n           Seeking the food he eats,\\r\\n           And pleas\\'d with what he gets,\\r\\n         Come hither, come hither, come hither.\\r\\n           Here shall he see\\r\\n           No enemy\\r\\n           But winter and rough weather.\\r\\n\\r\\n  JAQUES. I\\'ll give you a verse to this note that I made\\r\\nyesterday in\\r\\n    despite of my invention.\\r\\n  AMIENS. And I\\'ll sing it.\\r\\n  JAQUES. Thus it goes:\\r\\n\\r\\n             If it do come to pass\\r\\n             That any man turn ass,\\r\\n             Leaving his wealth and ease\\r\\n             A stubborn will to please,\\r\\n           Ducdame, ducdame, ducdame;\\r\\n             Here shall he see\\r\\n             Gross fools as he,\\r\\n             An if he will come to me.\\r\\n\\r\\n  AMIENS. What\\'s that \\'ducdame\\'?\\r\\n  JAQUES. \\'Tis a Greek invocation, to call fools into a circle.\\r\\nI\\'ll\\r\\n    go sleep, if I can; if I cannot, I\\'ll rail against all the\\r\\n    first-born of Egypt.\\r\\n  AMIENS. And I\\'ll go seek the Duke; his banquet is prepar\\'d.\\r\\n                                                Exeunt severally\\r\\n\\r\\n\\r\\n\\r\\n\\r\\nSCENE VI.\\r\\nThe forest\\r\\n\\r\\nEnter ORLANDO and ADAM\\r\\n\\r\\n  ADAM. Dear master, I can go no further. O, I die for food! Here\\r\\nlie\\r\\n    I down, and measure out my grave. Farewell, kind master.\\r\\n  ORLANDO. Why, how now, Adam! No greater heart in thee? Live a\\r\\n    little; comfort a little; cheer thyself a little. If this\\r\\nuncouth\\r\\n    forest yield anything savage, I will either be food for it or\\r\\n    bring it for food to thee. Thy conceit is nearer death than\\r\\nthy\\r\\n    powers. For my sake be comfortable; hold death awhile at the\\r\\n    arm\\'s end. I will here be with thee presently; and if I bring\\r\\nthee\\r\\n    not something to eat, I will give thee leave to die; but if\\r\\nthou\\r\\n    diest before I come, thou art a mocker of my labour. Well\\r\\nsaid!\\r\\n    thou look\\'st cheerly; and I\\'ll be with thee quickly. Yet thou\\r\\n    liest in the bleak air. Come, I will bear thee to some\\r\\nshelter;\\r\\n    and thou shalt not die for lack of a dinner, if there live\\r\\n    anything in this desert. Cheerly, good Adam!          Exeunt\\r\\n\\r\\n\\r\\n\\r\\n\\r\\nSCENE VII.\\r\\nThe forest\\r\\n\\r\\nA table set out. Enter DUKE SENIOR, AMIENS, and LORDS, like\\r\\noutlaws\\r\\n\\r\\n  DUKE SENIOR. I think he be transform\\'d into a beast;\\r\\n    For I can nowhere find him like a man.\\r\\n  FIRST LORD. My lord, he is but even now gone hence;\\r\\n    Here was he merry, hearing of a song.\\r\\n  DUKE SENIOR. If he, compact of jars, grow musical,\\r\\n    We shall have shortly discord in the spheres.\\r\\n    Go seek him; tell him I would speak with him.\\r\\n\\r\\n                         Enter JAQUES\\r\\n\\r\\n  FIRST LORD. He saves my labour by his own approach.\\r\\n  DUKE SENIOR. Why, how now, monsieur! what a life is this,\\r\\n    That your poor friends must woo your company?\\r\\n    What, you look merrily!\\r\\n  JAQUES. A fool, a fool! I met a fool i\\' th\\' forest,\\r\\n    A motley fool. A miserable world!\\r\\n    As I do live by food, I met a fool,\\r\\n    Who laid him down and bask\\'d him in the sun,\\r\\n    And rail\\'d on Lady Fortune in good terms,\\r\\n    In good set terms- and yet a motley fool.\\r\\n    \\'Good morrow, fool,\\' quoth I; \\'No, sir,\\' quoth he,\\r\\n    \\'Call me not fool till heaven hath sent me fortune.\\'\\r\\n    And then he drew a dial from his poke,\\r\\n    And, looking on it with lack-lustre eye,\\r\\n    Says very wisely, \\'It is ten o\\'clock;\\r\\n    Thus we may see,\\' quoth he, \\'how the world wags;\\r\\n    \\'Tis but an hour ago since it was nine;\\r\\n    And after one hour more \\'twill be eleven;\\r\\n    And so, from hour to hour, we ripe and ripe,\\r\\n    And then, from hour to hour, we rot and rot;\\r\\n    And thereby hangs a tale.\\' When I did hear\\r\\n    The motley fool thus moral on the time,\\r\\n    My lungs began to crow like chanticleer\\r\\n    That fools should be so deep contemplative;\\r\\n    And I did laugh sans intermission\\r\\n    An hour by his dial. O noble fool!\\r\\n    A worthy fool! Motley\\'s the only wear.\\r\\n  DUKE SENIOR. What fool is this?\\r\\n  JAQUES. O worthy fool! One that hath been a courtier,\\r\\n    And says, if ladies be but young and fair,\\r\\n    They have the gift to know it; and in his brain,\\r\\n    Which is as dry as the remainder biscuit\\r\\n    After a voyage, he hath strange places cramm\\'d\\r\\n    With observation, the which he vents\\r\\n    In mangled forms. O that I were a fool!\\r\\n    I am ambitious for a motley coat.\\r\\n  DUKE SENIOR. Thou shalt have one.\\r\\n  JAQUES. It is my only suit,\\r\\n    Provided that you weed your better judgments\\r\\n    Of all opinion that grows rank in them\\r\\n    That I am wise. I must have liberty\\r\\n    Withal, as large a charter as the wind,\\r\\n    To blow on whom I please, for so fools have;\\r\\n    And they that are most galled with my folly,\\r\\n    They most must laugh. And why, sir, must they so?\\r\\n    The why is plain as way to parish church:\\r\\n    He that a fool doth very wisely hit\\r\\n    Doth very foolishly, although he smart,\\r\\n    Not to seem senseless of the bob; if not,\\r\\n    The wise man\\'s folly is anatomiz\\'d\\r\\n    Even by the squand\\'ring glances of the fool.\\r\\n    Invest me in my motley; give me leave\\r\\n    To speak my mind, and I will through and through\\r\\n    Cleanse the foul body of th\\' infected world,\\r\\n    If they will patiently receive my medicine.\\r\\n  DUKE SENIOR. Fie on thee! I can tell what thou wouldst do.\\r\\n  JAQUES. What, for a counter, would I do but good?\\r\\n  DUKE SENIOR. Most mischievous foul sin, in chiding sin;\\r\\n    For thou thyself hast been a libertine,\\r\\n    As sensual as the brutish sting itself;\\r\\n    And all th\\' embossed sores and headed evils\\r\\n    That thou with license of free foot hast caught\\r\\n    Wouldst thou disgorge into the general world.\\r\\n  JAQUES. Why, who cries out on pride\\r\\n    That can therein tax any private party?\\r\\n    Doth it not flow as hugely as the sea,\\r\\n    Till that the wearer\\'s very means do ebb?\\r\\n    What woman in the city do I name\\r\\n    When that I say the city-woman bears\\r\\n    The cost of princes on unworthy shoulders?\\r\\n    Who can come in and say that I mean her,\\r\\n    When such a one as she such is her neighbour?\\r\\n    Or what is he of basest function\\r\\n    That says his bravery is not on my cost,\\r\\n    Thinking that I mean him, but therein suits\\r\\n    His folly to the mettle of my speech?\\r\\n    There then! how then? what then? Let me see wherein\\r\\n    My tongue hath wrong\\'d him: if it do him right,\\r\\n    Then he hath wrong\\'d himself; if he be free,\\r\\n    Why then my taxing like a wild-goose flies,\\r\\n    Unclaim\\'d of any man. But who comes here?\\r\\n\\r\\n             Enter ORLANDO with his sword drawn\\r\\n\\r\\n  ORLANDO. Forbear, and eat no more.\\r\\n  JAQUES. Why, I have eat none yet.\\r\\n  ORLANDO. Nor shalt not, till necessity be serv\\'d.\\r\\n  JAQUES. Of what kind should this cock come of?\\r\\n  DUKE SENIOR. Art thou thus bolden\\'d, man, by thy distress?\\r\\n    Or else a rude despiser of good manners,\\r\\n    That in civility thou seem\\'st so empty?\\r\\n  ORLANDO. You touch\\'d my vein at first: the thorny point\\r\\n    Of bare distress hath ta\\'en from me the show\\r\\n    Of smooth civility; yet am I inland bred,\\r\\n    And know some nurture. But forbear, I say;\\r\\n    He dies that touches any of this fruit\\r\\n    Till I and my affairs are answered.\\r\\n  JAQUES. An you will not be answer\\'d with reason, I must die.\\r\\n  DUKE SENIOR. What would you have? Your gentleness shall force\\r\\n    More than your force move us to gentleness.\\r\\n  ORLANDO. I almost die for food, and let me have it.\\r\\n  DUKE SENIOR. Sit down and feed, and welcome to our table.\\r\\n  ORLANDO. Speak you so gently? Pardon me, I pray you;\\r\\n    I thought that all things had been savage here,\\r\\n    And therefore put I on the countenance\\r\\n    Of stern commandment. But whate\\'er you are\\r\\n    That in this desert inaccessible,\\r\\n    Under the shade of melancholy boughs,\\r\\n    Lose and neglect the creeping hours of time;\\r\\n    If ever you have look\\'d on better days,\\r\\n    If ever been where bells have knoll\\'d to church,\\r\\n    If ever sat at any good man\\'s feast,\\r\\n    If ever from your eyelids wip\\'d a tear,\\r\\n    And know what \\'tis to pity and be pitied,\\r\\n    Let gentleness my strong enforcement be;\\r\\n    In the which hope I blush, and hide my sword.\\r\\n  DUKE SENIOR. True is it that we have seen better days,\\r\\n    And have with holy bell been knoll\\'d to church,\\r\\n    And sat at good men\\'s feasts, and wip\\'d our eyes\\r\\n    Of drops that sacred pity hath engend\\'red;\\r\\n    And therefore sit you down in gentleness,\\r\\n    And take upon command what help we have\\r\\n    That to your wanting may be minist\\'red.\\r\\n  ORLANDO. Then but forbear your food a little while,\\r\\n    Whiles, like a doe, I go to find my fawn,\\r\\n    And give it food. There is an old poor man\\r\\n    Who after me hath many a weary step\\r\\n    Limp\\'d in pure love; till he be first suffic\\'d,\\r\\n    Oppress\\'d with two weak evils, age and hunger,\\r\\n    I will not touch a bit.\\r\\n  DUKE SENIOR. Go find him out.\\r\\n    And we will nothing waste till you return.\\r\\n  ORLANDO. I thank ye; and be blest for your good comfort!\\r\\n Exit\\r\\n  DUKE SENIOR. Thou seest we are not all alone unhappy:\\r\\n    This wide and universal theatre\\r\\n    Presents more woeful pageants than the scene\\r\\n    Wherein we play in.\\r\\n  JAQUES. All the world\\'s a stage,\\r\\n    And all the men and women merely players;\\r\\n    They have their exits and their entrances;\\r\\n    And one man in his time plays many parts,\\r\\n    His acts being seven ages. At first the infant,\\r\\n    Mewling and puking in the nurse\\'s arms;\\r\\n    Then the whining school-boy, with his satchel\\r\\n    And shining morning face, creeping like snail\\r\\n    Unwillingly to school. And then the lover,\\r\\n    Sighing like furnace, with a woeful ballad\\r\\n    Made to his mistress\\' eyebrow. Then a soldier,\\r\\n    Full of strange oaths, and bearded like the pard,\\r\\n    Jealous in honour, sudden and quick in quarrel,\\r\\n    Seeking the bubble reputation\\r\\n    Even in the cannon\\'s mouth. And then the justice,\\r\\n    In fair round belly with good capon lin\\'d,\\r\\n    With eyes severe and beard of formal cut,\\r\\n    Full of wise saws and modern instances;\\r\\n    And so he plays his part. The sixth age shifts\\r\\n    Into the lean and slipper\\'d pantaloon,\\r\\n    With spectacles on nose and pouch on side,\\r\\n    His youthful hose, well sav\\'d, a world too wide\\r\\n    For his shrunk shank; and his big manly voice,\\r\\n    Turning again toward childish treble, pipes\\r\\n    And whistles in his sound. Last scene of all,\\r\\n    That ends this strange eventful history,\\r\\n    Is second childishness and mere oblivion;\\r\\n    Sans teeth, sans eyes, sans taste, sans every thing.\\r\\n\\r\\n                  Re-enter ORLANDO with ADAM\\r\\n\\r\\n  DUKE SENIOR. Welcome. Set down your venerable burden,\\r\\n    And let him feed.\\r\\n  ORLANDO. I thank you most for him.\\r\\n  ADAM. So had you need;\\r\\n    I scarce can speak to thank you for myself.\\r\\n  DUKE SENIOR. Welcome; fall to. I will not trouble you\\r\\n    As yet to question you about your fortunes.\\r\\n    Give us some music; and, good cousin, sing.\\r\\n\\r\\n                         SONG\\r\\n            Blow, blow, thou winter wind,\\r\\n            Thou art not so unkind\\r\\n              As man\\'s ingratitude;\\r\\n            Thy tooth is not so keen,\\r\\n            Because thou art not seen,\\r\\n              Although thy breath be rude.\\r\\n    Heigh-ho! sing heigh-ho! unto the green holly.\\r\\n    Most friendship is feigning, most loving mere folly.\\r\\n            Then, heigh-ho, the holly!\\r\\n              This life is most jolly.\\r\\n\\r\\n            Freeze, freeze, thou bitter sky,\\r\\n            That dost not bite so nigh\\r\\n              As benefits forgot;\\r\\n            Though thou the waters warp,\\r\\n            Thy sting is not so sharp\\r\\n              As friend rememb\\'red not.\\r\\n    Heigh-ho! sing, &c.\\r\\n\\r\\n  DUKE SENIOR. If that you were the good Sir Rowland\\'s son,\\r\\n    As you have whisper\\'d faithfully you were,\\r\\n    And as mine eye doth his effigies witness\\r\\n    Most truly limn\\'d and living in your face,\\r\\n    Be truly welcome hither. I am the Duke\\r\\n    That lov\\'d your father. The residue of your fortune,\\r\\n    Go to my cave and tell me. Good old man,\\r\\n    Thou art right welcome as thy master is.\\r\\n    Support him by the arm. Give me your hand,\\r\\n    And let me all your fortunes understand.              Exeunt\\r\\n\\r\\n\\r\\n\\r\\n\\r\\nACT III. SCENE I.\\r\\nThe palace\\r\\n\\r\\nEnter DUKE FREDERICK, OLIVER, and LORDS\\r\\n\\r\\n  FREDERICK. Not see him since! Sir, sir, that cannot be.\\r\\n    But were I not the better part made mercy,\\r\\n    I should not seek an absent argument\\r\\n    Of my revenge, thou present. But look to it:\\r\\n    Find out thy brother wheresoe\\'er he is;\\r\\n    Seek him with candle; bring him dead or living\\r\\n    Within this twelvemonth, or turn thou no more\\r\\n    To seek a living in our territory.\\r\\n    Thy lands and all things that thou dost call thine\\r\\n    Worth seizure do we seize into our hands,\\r\\n    Till thou canst quit thee by thy brother\\'s mouth\\r\\n    Of what we think against thee.\\r\\n  OLIVER. O that your Highness knew my heart in this!\\r\\n    I never lov\\'d my brother in my life.\\r\\n  FREDERICK. More villain thou. Well, push him out of doors;\\r\\n    And let my officers of such a nature\\r\\n    Make an extent upon his house and lands.\\r\\n    Do this expediently, and turn him going.              Exeunt\\r\\n\\r\\n\\r\\n\\r\\n\\r\\nSCENE II.\\r\\nThe forest\\r\\n\\r\\nEnter ORLANDO, with a paper\\r\\n\\r\\n  ORLANDO. Hang there, my verse, in witness of my love;\\r\\n    And thou, thrice-crowned Queen of Night, survey\\r\\n    With thy chaste eye, from thy pale sphere above,\\r\\n    Thy huntress\\' name that my full life doth sway.\\r\\n    O Rosalind! these trees shall be my books,\\r\\n    And in their barks my thoughts I\\'ll character,\\r\\n    That every eye which in this forest looks\\r\\n    Shall see thy virtue witness\\'d every where.\\r\\n    Run, run, Orlando; carve on every tree,\\r\\n    The fair, the chaste, and unexpressive she.             Exit\\r\\n\\r\\n                     Enter CORIN and TOUCHSTONE\\r\\n\\r\\n  CORIN. And how like you this shepherd\\'s life, Master\\r\\nTouchstone?\\r\\n  TOUCHSTONE. Truly, shepherd, in respect of itself, it is a good\\r\\n    life; but in respect that it is a shepherd\\'s life, it is\\r\\nnought.\\r\\n    In respect that it is solitary, I like it very well; but in\\r\\n    respect that it is private, it is a very vile life. Now in\\r\\n    respect it is in the fields, it pleaseth me well; but in\\r\\nrespect\\r\\n    it is not in the court, it is tedious. As it is a spare life,\\r\\n    look you, it fits my humour well; but as there is no more\\r\\nplenty\\r\\n    in it, it goes much against my stomach. Hast any philosophy\\r\\nin\\r\\n    thee, shepherd?\\r\\n  CORIN. No more but that I know the more one sickens the worse\\r\\nat\\r\\n    ease he is; and that he that wants money, means, and content,\\r\\nis\\r\\n    without three good friends; that the property of rain is to\\r\\nwet,\\r\\n    and fire to burn; that good pasture makes fat sheep; and that\\r\\na\\r\\n    great cause of the night is lack of the sun; that he that\\r\\nhath\\r\\n    learned no wit by nature nor art may complain of good\\r\\nbreeding,\\r\\n    or comes of a very dull kindred.\\r\\n  TOUCHSTONE. Such a one is a natural philosopher. Wast ever in\\r\\n    court, shepherd?\\r\\n  CORIN. No, truly.\\r\\n  TOUCHSTONE. Then thou art damn\\'d.\\r\\n  CORIN. Nay, I hope.\\r\\n  TOUCHSTONE. Truly, thou art damn\\'d, like an ill-roasted egg,\\r\\nall on\\r\\n    one side.\\r\\n  CORIN. For not being at court? Your reason.\\r\\n  TOUCHSTONE. Why, if thou never wast at court thou never saw\\'st\\r\\ngood\\r\\n    manners; if thou never saw\\'st good manners, then thy manners\\r\\nmust\\r\\n    be wicked; and wickedness is sin, and sin is damnation. Thou\\r\\nart\\r\\n    in a parlous state, shepherd.\\r\\n  CORIN. Not a whit, Touchstone. Those that are good manners at\\r\\nthe\\r\\n    court are as ridiculous in the country as the behaviour of\\r\\nthe\\r\\n    country is most mockable at the court. You told me you salute\\r\\nnot\\r\\n    at the court, but you kiss your hands; that courtesy would be\\r\\n    uncleanly if courtiers were shepherds.\\r\\n  TOUCHSTONE. Instance, briefly; come, instance.\\r\\n  CORIN. Why, we are still handling our ewes; and their fells,\\r\\nyou\\r\\n    know, are greasy.\\r\\n  TOUCHSTONE. Why, do not your courtier\\'s hands sweat? And is not\\r\\nthe\\r\\n    grease of a mutton as wholesome as the sweat of a man?\\r\\nShallow,\\r\\n    shallow. A better instance, I say; come.\\r\\n  CORIN. Besides, our hands are hard.\\r\\n  TOUCHSTONE. Your lips will feel them the sooner. Shallow again.\\r\\nA\\r\\n    more sounder instance; come.\\r\\n  CORIN. And they are often tarr\\'d over with the surgery of our\\r\\n    sheep; and would you have us kiss tar? The courtier\\'s hands\\r\\nare\\r\\n    perfum\\'d with civet.\\r\\n  TOUCHSTONE. Most shallow man! thou worm\\'s meat in respect of a\\r\\ngood\\r\\n    piece of flesh indeed! Learn of the wise, and perpend: civet\\r\\nis\\r\\n    of a baser birth than tar- the very uncleanly flux of a cat.\\r\\nMend\\r\\n    the instance, shepherd.\\r\\n  CORIN. You have too courtly a wit for me; I\\'ll rest.\\r\\n  TOUCHSTONE. Wilt thou rest damn\\'d? God help thee, shallow man!\\r\\nGod\\r\\n    make incision in thee! thou art raw.\\r\\n  CORIN. Sir, I am a true labourer: I earn that I eat, get that I\\r\\n    wear; owe no man hate, envy no man\\'s happiness; glad of other\\r\\n    men\\'s good, content with my harm; and the greatest of my\\r\\npride is\\r\\n    to see my ewes graze and my lambs suck.\\r\\n  TOUCHSTONE. That is another simple sin in you: to bring the\\r\\newes\\r\\n    and the rams together, and to offer to get your living by the\\r\\n    copulation of cattle; to be bawd to a bell-wether, and to\\r\\nbetray\\r\\n    a she-lamb of a twelvemonth to crooked-pated, old, cuckoldly\\r\\nram,\\r\\n    out of all reasonable match. If thou beest not damn\\'d for\\r\\nthis,\\r\\n    the devil himself will have no shepherds; I cannot see else\\r\\nhow\\r\\n    thou shouldst scape.\\r\\n  CORIN. Here comes young Master Ganymede, my new mistress\\'s\\r\\nbrother.\\r\\n\\r\\n                  Enter ROSALIND, reading a paper\\r\\n\\r\\n  ROSALIND.   \\'From the east to western Inde,\\r\\n              No jewel is like Rosalinde.\\r\\n              Her worth, being mounted on the wind,\\r\\n              Through all the world bears Rosalinde.\\r\\n              All the pictures fairest lin\\'d\\r\\n              Are but black to Rosalinde.\\r\\n              Let no face be kept in mind\\r\\n              But the fair of Rosalinde.\\'\\r\\n  TOUCHSTONE. I\\'ll rhyme you so eight years together, dinners,\\r\\nand\\r\\n    suppers, and sleeping hours, excepted. It is the right\\r\\n    butter-women\\'s rank to market.\\r\\n  ROSALIND. Out, fool!\\r\\n  TOUCHSTONE.   For a taste:\\r\\n                If a hart do lack a hind,\\r\\n                Let him seek out Rosalinde.\\r\\n                If the cat will after kind,\\r\\n                So be sure will Rosalinde.\\r\\n                Winter garments must be lin\\'d,\\r\\n                So must slender Rosalinde.\\r\\n                They that reap must sheaf and bind,\\r\\n                Then to cart with Rosalinde.\\r\\n                Sweetest nut hath sourest rind,\\r\\n                Such a nut is Rosalinde.\\r\\n                He that sweetest rose will find\\r\\n                Must find love\\'s prick and Rosalinde.\\r\\n    This is the very false gallop of verses; why do you infect\\r\\n    yourself with them?\\r\\n  ROSALIND. Peace, you dull fool! I found them on a tree.\\r\\n  TOUCHSTONE. Truly, the tree yields bad fruit.\\r\\n  ROSALIND. I\\'ll graff it with you, and then I shall graff it\\r\\nwith a\\r\\n    medlar. Then it will be the earliest fruit i\\' th\\' country;\\r\\nfor\\r\\n    you\\'ll be rotten ere you be half ripe, and that\\'s the right\\r\\n    virtue of the medlar.\\r\\n  TOUCHSTONE. You have said; but whether wisely or no, let the\\r\\nforest\\r\\n    judge.\\r\\n\\r\\n                      Enter CELIA, with a writing\\r\\n\\r\\n  ROSALIND. Peace!\\r\\n    Here comes my sister, reading; stand aside.\\r\\n  CELIA.   \\'Why should this a desert be?\\r\\n             For it is unpeopled? No;\\r\\n           Tongues I\\'ll hang on every tree\\r\\n             That shall civil sayings show.\\r\\n           Some, how brief the life of man\\r\\n             Runs his erring pilgrimage,\\r\\n           That the streching of a span\\r\\n             Buckles in his sum of age;\\r\\n           Some, of violated vows\\r\\n             \\'Twixt the souls of friend and friend;\\r\\n           But upon the fairest boughs,\\r\\n             Or at every sentence end,\\r\\n           Will I Rosalinda write,\\r\\n             Teaching all that read to know\\r\\n           The quintessence of every sprite\\r\\n             Heaven would in little show.\\r\\n           Therefore heaven Nature charg\\'d\\r\\n             That one body should be fill\\'d\\r\\n           With all graces wide-enlarg\\'d.\\r\\n             Nature presently distill\\'d\\r\\n           Helen\\'s cheek, but not her heart,\\r\\n             Cleopatra\\'s majesty,\\r\\n           Atalanta\\'s better part,\\r\\n             Sad Lucretia\\'s modesty.\\r\\n           Thus Rosalinde of many parts\\r\\n             By heavenly synod was devis\\'d,\\r\\n           Of many faces, eyes, and hearts,\\r\\n             To have the touches dearest priz\\'d.\\r\\n           Heaven would that she these gifts should have,\\r\\n           And I to live and die her slave.\\'\\r\\n  ROSALIND. O most gentle Jupiter! What tedious homily of love\\r\\nhave\\r\\n    you wearied your parishioners withal, and never cried \\'Have\\r\\n    patience, good people.\\'\\r\\n  CELIA. How now! Back, friends; shepherd, go off a little; go\\r\\nwith\\r\\n    him, sirrah.\\r\\n  TOUCHSTONE. Come, shepherd, let us make an honourable retreat;\\r\\n\\r\\n    though not with bag and baggage, yet with scrip and\\r\\nscrippage.\\r\\n                                     Exeunt CORIN and TOUCHSTONE\\r\\n  CELIA. Didst thou hear these verses?\\r\\n  ROSALIND. O, yes, I heard them all, and more too; for some of\\r\\nthem\\r\\n    had in them more feet than the verses would bear.\\r\\n  CELIA. That\\'s no matter; the feet might bear the verses.\\r\\n  ROSALIND. Ay, but the feet were lame, and could not bear\\r\\nthemselves\\r\\n    without the verse, and therefore stood lamely in the verse.\\r\\n  CELIA. But didst thou hear without wondering how thy name\\r\\nshould be\\r\\n    hang\\'d and carved upon these trees?\\r\\n  ROSALIND. I was seven of the nine days out of the wonder before\\r\\nyou\\r\\n    came; for look here what I found on a palm-tree. I was never\\r\\nso\\r\\n    berhym\\'d since Pythagoras\\' time that I was an Irish rat,\\r\\nwhich I\\r\\n    can hardly remember.\\r\\n  CELIA. Trow you who hath done this?\\r\\n  ROSALIND. Is it a man?\\r\\n  CELIA. And a chain, that you once wore, about his neck.\\r\\n    Change you colour?\\r\\n  ROSALIND. I prithee, who?\\r\\n  CELIA. O Lord, Lord! it is a hard matter for friends to meet;\\r\\nbut\\r\\n    mountains may be remov\\'d with earthquakes, and so encounter.\\r\\n  ROSALIND. Nay, but who is it?\\r\\n  CELIA. Is it possible?\\r\\n  ROSALIND. Nay, I prithee now, with most petitionary vehemence,\\r\\ntell\\r\\n    me who it is.\\r\\n  CELIA. O wonderful, wonderful, most wonderful wonderful, and\\r\\nyet\\r\\n    again wonderful, and after that, out of all whooping!\\r\\n  ROSALIND. Good my complexion! dost thou think, though I am\\r\\n    caparison\\'d like a man, I have a doublet and hose in my\\r\\n    disposition? One inch of delay more is a South Sea of\\r\\ndiscovery.\\r\\n    I prithee tell me who is it quickly, and speak apace. I would\\r\\n    thou could\\'st stammer, that thou mightst pour this conceal\\'d\\r\\nman\\r\\n    out of thy mouth, as wine comes out of narrow-mouth\\'d bottle-\\r\\n    either too much at once or none at all. I prithee take the\\r\\ncork\\r\\n    out of thy mouth that I may drink thy tidings.\\r\\n  CELIA. So you may put a man in your belly.\\r\\n  ROSALIND. Is he of God\\'s making? What manner of man?\\r\\n    Is his head worth a hat or his chin worth a beard?\\r\\n  CELIA. Nay, he hath but a little beard.\\r\\n  ROSALIND. Why, God will send more if the man will be thankful.\\r\\nLet\\r\\n    me stay the growth of his beard, if thou delay me not the\\r\\n    knowledge of his chin.\\r\\n  CELIA. It is young Orlando, that tripp\\'d up the wrestler\\'s\\r\\nheels\\r\\n    and your heart both in an instant.\\r\\n  ROSALIND. Nay, but the devil take mocking! Speak sad brow and\\r\\ntrue\\r\\n    maid.\\r\\n  CELIA. I\\' faith, coz, \\'tis he.\\r\\n  ROSALIND. Orlando?\\r\\n  CELIA. Orlando.\\r\\n  ROSALIND. Alas the day! what shall I do with my doublet and\\r\\nhose?\\r\\n    What did he when thou saw\\'st him? What said he? How look\\'d\\r\\nhe?\\r\\n    Wherein went he? What makes he here? Did he ask for me? Where\\r\\n    remains he? How parted he with thee? And when shalt thou see\\r\\nhim\\r\\n    again? Answer me in one word.\\r\\n  CELIA. You must borrow me Gargantua\\'s mouth first; \\'tis a word\\r\\ntoo\\r\\n    great for any mouth of this age\\'s size. To say ay and no to\\r\\nthese\\r\\n    particulars is more than to answer in a catechism.\\r\\n  ROSALIND. But doth he know that I am in this forest, and in\\r\\nman\\'s\\r\\n    apparel? Looks he as freshly as he did the day he wrestled?\\r\\n  CELIA. It is as easy to count atomies as to resolve the\\r\\n    propositions of a lover; but take a taste of my finding him,\\r\\nand\\r\\n    relish it with good observance. I found him under a tree,\\r\\nlike a\\r\\n    dropp\\'d acorn.\\r\\n  ROSALIND. It may well be call\\'d Jove\\'s tree, when it drops\\r\\nforth\\r\\n    such fruit.\\r\\n  CELIA. Give me audience, good madam.\\r\\n  ROSALIND. Proceed.\\r\\n  CELIA. There lay he, stretch\\'d along like a wounded knight.\\r\\n  ROSALIND. Though it be pity to see such a sight, it well\\r\\nbecomes\\r\\n    the ground.\\r\\n  CELIA. Cry \\'Holla\\' to thy tongue, I prithee; it curvets\\r\\n    unseasonably. He was furnish\\'d like a hunter.\\r\\n  ROSALIND. O, ominous! he comes to kill my heart.\\r\\n  CELIA. I would sing my song without a burden; thou bring\\'st me\\r\\nout\\r\\n    of tune.\\r\\n  ROSALIND. Do you not know I am a woman? When I think, I must\\r\\nspeak.\\r\\n    Sweet, say on.\\r\\n  CELIA. You bring me out. Soft! comes he not here?\\r\\n\\r\\n                   Enter ORLANDO and JAQUES\\r\\n\\r\\n  ROSALIND. \\'Tis he; slink by, and note him.\\r\\n  JAQUES. I thank you for your company; but, good faith, I had as\\r\\n    lief have been myself alone.\\r\\n  ORLANDO. And so had I; but yet, for fashion sake, I thank you\\r\\ntoo\\r\\n    for your society.\\r\\n  JAQUES. God buy you; let\\'s meet as little as we can.\\r\\n  ORLANDO. I do desire we may be better strangers.\\r\\n  JAQUES. I pray you mar no more trees with writing love songs in\\r\\n    their barks.\\r\\n  ORLANDO. I pray you mar no more of my verses with reading them\\r\\n    ill-favouredly.\\r\\n  JAQUES. Rosalind is your love\\'s name?\\r\\n  ORLANDO. Yes, just.\\r\\n  JAQUES. I do not like her name.\\r\\n  ORLANDO. There was no thought of pleasing you when she was\\r\\n    christen\\'d.\\r\\n  JAQUES. What stature is she of?\\r\\n  ORLANDO. Just as high as my heart.\\r\\n  JAQUES. You are full of pretty answers. Have you not been\\r\\n    acquainted with goldsmiths\\' wives, and conn\\'d them out of\\r\\nrings?\\r\\n  ORLANDO. Not so; but I answer you right painted cloth, from\\r\\nwhence\\r\\n    you have studied your questions.\\r\\n  JAQUES. You have a nimble wit; I think \\'twas made of Atalanta\\'s\\r\\n    heels. Will you sit down with me? and we two will rail\\r\\nagainst\\r\\n    our mistress the world, and all our misery.\\r\\n  ORLANDO. I will chide no breather in the world but myself,\\r\\nagainst\\r\\n    whom I know most faults.\\r\\n  JAQUES. The worst fault you have is to be in love.\\r\\n  ORLANDO. \\'Tis a fault I will not change for your best virtue. I\\r\\nam\\r\\n    weary of you.\\r\\n  JAQUES. By my troth, I was seeking for a fool when I found you.\\r\\n  ORLANDO. He is drown\\'d in the brook; look but in, and you shall\\r\\nsee\\r\\n    him.\\r\\n  JAQUES. There I shall see mine own figure.\\r\\n  ORLANDO. Which I take to be either a fool or a cipher.\\r\\n  JAQUES. I\\'ll tarry no longer with you; farewell, good Signior\\r\\nLove.\\r\\n  ORLANDO. I am glad of your departure; adieu, good Monsieur\\r\\n    Melancholy.\\r\\n                                                     Exit JAQUES\\r\\n\\r\\n  ROSALIND. [Aside to CELIA] I will speak to him like a saucy\\r\\nlackey,\\r\\n    and under that habit play the knave with him.- Do you hear,\\r\\n    forester?\\r\\n  ORLANDO. Very well; what would you?\\r\\n  ROSALIND. I pray you, what is\\'t o\\'clock?\\r\\n  ORLANDO. You should ask me what time o\\' day; there\\'s no clock\\r\\nin\\r\\n    the forest.\\r\\n  ROSALIND. Then there is no true lover in the forest, else\\r\\nsighing\\r\\n    every minute and groaning every hour would detect the lazy\\r\\nfoot\\r\\n    of Time as well as a clock.\\r\\n  ORLANDO. And why not the swift foot of Time? Had not that been\\r\\nas\\r\\n    proper?\\r\\n  ROSALIND. By no means, sir. Time travels in divers paces with\\r\\n    divers persons. I\\'ll tell you who Time ambles withal, who\\r\\nTime\\r\\n    trots withal, who Time gallops withal, and who he stands\\r\\nstill\\r\\n    withal.\\r\\n  ORLANDO. I prithee, who doth he trot withal?\\r\\n  ROSALIND. Marry, he trots hard with a young maid between the\\r\\n    contract of her marriage and the day it is solemniz\\'d; if the\\r\\n    interim be but a se\\'nnight, Time\\'s pace is so hard that it\\r\\nseems\\r\\n    the length of seven year.\\r\\n  ORLANDO. Who ambles Time withal?\\r\\n  ROSALIND. With a priest that lacks Latin and a rich man that\\r\\nhath\\r\\n    not the gout; for the one sleeps easily because he cannot\\r\\nstudy,\\r\\n    and the other lives merrily because he feels no pain; the one\\r\\n    lacking the burden of lean and wasteful learning, the other\\r\\n    knowing no burden of heavy tedious penury. These Time ambles\\r\\n    withal.\\r\\n  ORLANDO. Who doth he gallop withal?\\r\\n  ROSALIND. With a thief to the gallows; for though he go as\\r\\nsoftly\\r\\n    as foot can fall, he thinks himself too soon there.\\r\\n  ORLANDO. Who stays it still withal?\\r\\n  ROSALIND. With lawyers in the vacation; for they sleep between\\r\\nterm\\r\\n    and term, and then they perceive not how Time moves.\\r\\n  ORLANDO. Where dwell you, pretty youth?\\r\\n  ROSALIND. With this shepherdess, my sister; here in the skirts\\r\\nof\\r\\n    the forest, like fringe upon a petticoat.\\r\\n  ORLANDO. Are you native of this place?\\r\\n  ROSALIND. As the coney that you see dwell where she is kindled.\\r\\n  ORLANDO. Your accent is something finer than you could purchase\\r\\nin\\r\\n    so removed a dwelling.\\r\\n  ROSALIND. I have been told so of many; but indeed an old\\r\\nreligious\\r\\n    uncle of mine taught me to speak, who was in his youth an\\r\\ninland\\r\\n    man; one that knew courtship too well, for there he fell in\\r\\nlove.\\r\\n    I have heard him read many lectures against it; and I thank\\r\\nGod I\\r\\n    am not a woman, to be touch\\'d with so many giddy offences as\\r\\nhe\\r\\n    hath generally tax\\'d their whole sex withal.\\r\\n  ORLANDO. Can you remember any of the principal evils that he\\r\\nlaid\\r\\n    to the charge of women?\\r\\n  ROSALIND. There were none principal; they were all like one\\r\\nanother\\r\\n    as halfpence are; every one fault seeming monstrous till his\\r\\n    fellow-fault came to match it.\\r\\n  ORLANDO. I prithee recount some of them.\\r\\n  ROSALIND. No; I will not cast away my physic but on those that\\r\\nare\\r\\n    sick. There is a man haunts the forest that abuses our young\\r\\n    plants with carving \\'Rosalind\\' on their barks; hangs odes\\r\\nupon\\r\\n    hawthorns and elegies on brambles; all, forsooth, deifying\\r\\nthe\\r\\n    name of Rosalind. If I could meet that fancy-monger, I would\\r\\ngive\\r\\n    him some good counsel, for he seems to have the quotidian of\\r\\nlove\\r\\n    upon him.\\r\\n  ORLANDO. I am he that is so love-shak\\'d; I pray you tell me\\r\\nyour\\r\\n    remedy.\\r\\n  ROSALIND. There is none of my uncle\\'s marks upon you; he taught\\r\\nme\\r\\n    how to know a man in love; in which cage of rushes I am sure\\r\\nyou\\r\\n    are not prisoner.\\r\\n  ORLANDO. What were his marks?\\r\\n  ROSALIND. A lean cheek, which you have not; a blue eye and\\r\\nsunken,\\r\\n    which you have not; an unquestionable spirit, which you have\\r\\nnot;\\r\\n    a beard neglected, which you have not; but I pardon you for\\r\\nthat,\\r\\n    for simply your having in beard is a younger brother\\'s\\r\\nrevenue.\\r\\n    Then your hose should be ungarter\\'d, your bonnet unbanded,\\r\\nyour\\r\\n    sleeve unbutton\\'d, your shoe untied, and every thing about\\r\\nyou\\r\\n    demonstrating a careless desolation. But you are no such man;\\r\\nyou\\r\\n    are rather point-device in your accoutrements, as loving\\r\\nyourself\\r\\n    than seeming the lover of any other.\\r\\n  ORLANDO. Fair youth, I would I could make thee believe I love.\\r\\n  ROSALIND. Me believe it! You may as soon make her that you love\\r\\n    believe it; which, I warrant, she is apter to do than to\\r\\nconfess\\r\\n    she does. That is one of the points in the which women still\\r\\ngive\\r\\n    the lie to their consciences. But, in good sooth, are you he\\r\\nthat\\r\\n    hangs the verses on the trees wherein Rosalind is so admired?\\r\\n  ORLANDO. I swear to thee, youth, by the white hand of Rosalind,\\r\\nI\\r\\n    am that he, that unfortunate he.\\r\\n  ROSALIND. But are you so much in love as your rhymes speak?\\r\\n  ORLANDO. Neither rhyme nor reason can express how much.\\r\\n  ROSALIND. Love is merely a madness; and, I tell you, deserves\\r\\nas\\r\\n    well a dark house and a whip as madmen do; and the reason why\\r\\n    they are not so punish\\'d and cured is that the lunacy is so\\r\\n    ordinary that the whippers are in love too. Yet I profess\\r\\ncuring\\r\\n    it by counsel.\\r\\n  ORLANDO. Did you ever cure any so?\\r\\n  ROSALIND. Yes, one; and in this manner. He was to imagine me\\r\\nhis\\r\\n    love, his mistress; and I set him every day to woo me; at\\r\\nwhich\\r\\n    time would I, being but a moonish youth, grieve, be\\r\\neffeminate,\\r\\n    changeable, longing and liking, proud, fantastical, apish,\\r\\n    shallow, inconstant, full of tears, full of smiles; for every\\r\\n    passion something and for no passion truly anything, as boys\\r\\nand\\r\\n    women are for the most part cattle of this colour; would now\\r\\nlike\\r\\n    him, now loathe him; then entertain him, then forswear him;\\r\\nnow\\r\\n    weep for him, then spit at him; that I drave my suitor from\\r\\nhis\\r\\n    mad humour of love to a living humour of madness; which was,\\r\\nto\\r\\n    forswear the full stream of the world and to live in a nook\\r\\n    merely monastic. And thus I cur\\'d him; and this way will I\\r\\ntake\\r\\n    upon me to wash your liver as clean as a sound sheep\\'s heart,\\r\\n    that there shall not be one spot of love in \\'t.\\r\\n  ORLANDO. I would not be cured, youth.\\r\\n  ROSALIND. I would cure you, if you would but call me Rosalind,\\r\\nand\\r\\n    come every day to my cote and woo me.\\r\\n  ORLANDO. Now, by the faith of my love, I will. Tell me where it\\r\\nis.\\r\\n  ROSALIND. Go with me to it, and I\\'ll show it you; and, by the\\r\\nway,\\r\\n    you shall tell me where in the forest you live. Will you go?\\r\\n  ORLANDO. With all my heart, good youth.\\r\\n  ROSALIND. Nay, you must call me Rosalind. Come, sister, will\\r\\nyou\\r\\n    go?                                                   Exeunt\\r\\n\\r\\n\\r\\n\\r\\n\\r\\nSCENE III.\\r\\nThe forest\\r\\n\\r\\nEnter TOUCHSTONE and AUDREY; JAQUES behind\\r\\n\\r\\n  TOUCHSTONE. Come apace, good Audrey; I will fetch up your\\r\\ngoats,\\r\\n    Audrey. And how, Audrey, am I the man yet? Doth my simple\\r\\nfeature\\r\\n    content you?\\r\\n  AUDREY. Your features! Lord warrant us! What features?\\r\\n  TOUCHSTONE. I am here with thee and thy goats, as the most\\r\\n    capricious poet, honest Ovid, was among the Goths.\\r\\n  JAQUES. [Aside] O knowledge ill-inhabited, worse than Jove in a\\r\\n    thatch\\'d house!\\r\\n  TOUCHSTONE. When a man\\'s verses cannot be understood, nor a\\r\\nman\\'s\\r\\n    good wit seconded with the forward child understanding, it\\r\\n    strikes a man more dead than a great reckoning in a little\\r\\nroom.\\r\\n    Truly, I would the gods had made thee poetical.\\r\\n  AUDREY. I do not know what \\'poetical\\' is. Is it honest in deed\\r\\nand\\r\\n    word? Is it a true thing?\\r\\n  TOUCHSTONE. No, truly; for the truest poetry is the most\\r\\nfeigning,\\r\\n    and lovers are given to poetry; and what they swear in poetry\\r\\nmay\\r\\n    be said as lovers they do feign.\\r\\n  AUDREY. Do you wish, then, that the gods had made me poetical?\\r\\n  TOUCHSTONE. I do, truly, for thou swear\\'st to me thou art\\r\\nhonest;\\r\\n    now, if thou wert a poet, I might have some hope thou didst\\r\\n    feign.\\r\\n  AUDREY. Would you not have me honest?\\r\\n  TOUCHSTONE. No, truly, unless thou wert hard-favour\\'d; for\\r\\nhonesty\\r\\n    coupled to beauty is to have honey a sauce to sugar.\\r\\n  JAQUES. [Aside] A material fool!\\r\\n  AUDREY. Well, I am not fair; and therefore I pray the gods make\\r\\nme\\r\\n    honest.\\r\\n  TOUCHSTONE. Truly, and to cast away honesty upon a foul slut\\r\\nwere\\r\\n    to put good meat into an unclean dish.\\r\\n  AUDREY. I am not a slut, though I thank the gods I am foul.\\r\\n  TOUCHSTONE. Well, praised be the gods for thy foulness;\\r\\n    sluttishness may come hereafter. But be it as it may be, I\\r\\nwill\\r\\n    marry thee; and to that end I have been with Sir Oliver\\r\\nMartext,\\r\\n    the vicar of the next village, who hath promis\\'d to meet me\\r\\nin\\r\\n    this place of the forest, and to couple us.\\r\\n  JAQUES. [Aside] I would fain see this meeting.\\r\\n  AUDREY. Well, the gods give us joy!\\r\\n  TOUCHSTONE. Amen. A man may, if he were of a fearful heart,\\r\\nstagger\\r\\n    in this attempt; for here we have no temple but the wood, no\\r\\n    assembly but horn-beasts. But what though? Courage! As horns\\r\\nare\\r\\n    odious, they are necessary. It is said: \\'Many a man knows no\\r\\nend\\r\\n    of his goods.\\' Right! Many a man has good horns and knows no\\r\\nend\\r\\n    of them. Well, that is the dowry of his wife; \\'tis none of\\r\\nhis\\r\\n    own getting. Horns? Even so. Poor men alone? No, no; the\\r\\nnoblest\\r\\n    deer hath them as huge as the rascal. Is the single man\\r\\ntherefore\\r\\n    blessed? No; as a wall\\'d town is more worthier than a\\r\\nvillage, so\\r\\n    is the forehead of a married man more honourable than the\\r\\nbare\\r\\n    brow of a bachelor; and by how much defence is better than no\\r\\n    skill, by so much is horn more precious than to want. Here\\r\\ncomes\\r\\n    Sir Oliver.\\r\\n\\r\\n                       Enter SIR OLIVER MARTEXT\\r\\n\\r\\n    Sir Oliver Martext, you are well met. Will you dispatch us\\r\\nhere\\r\\n    under this tree, or shall we go with you to your chapel?\\r\\n  MARTEXT. Is there none here to give the woman?\\r\\n  TOUCHSTONE. I will not take her on gift of any man.\\r\\n  MARTEXT. Truly, she must be given, or the marriage is not\\r\\nlawful.\\r\\n  JAQUES. [Discovering himself] Proceed, proceed; I\\'ll give her.\\r\\n  TOUCHSTONE. Good even, good Master What-ye-call\\'t; how do you,\\r\\nsir?\\r\\n    You are very well met. Goddild you for your last company. I\\r\\nam\\r\\n    very glad to see you. Even a toy in hand here, sir. Nay; pray\\r\\nbe\\r\\n    cover\\'d.\\r\\n  JAQUES. Will you be married, motley?\\r\\n  TOUCHSTONE. As the ox hath his bow, sir, the horse his curb,\\r\\nand\\r\\n    the falcon her bells, so man hath his desires; and as pigeons\\r\\n    bill, so wedlock would be nibbling.\\r\\n  JAQUES. And will you, being a man of your breeding, be married\\r\\n    under a bush, like a beggar? Get you to church and have a\\r\\ngood\\r\\n    priest that can tell you what marriage is; this fellow will\\r\\nbut\\r\\n    join you together as they join wainscot; then one of you will\\r\\n    prove a shrunk panel, and like green timber warp, warp.\\r\\n  TOUCHSTONE. [Aside] I am not in the mind but I were better to\\r\\nbe\\r\\n    married of him than of another; for he is not like to marry\\r\\nme\\r\\n    well; and not being well married, it will be a good excuse\\r\\nfor me\\r\\n    hereafter to leave my wife.\\r\\n  JAQUES. Go thou with me, and let me counsel thee.\\r\\n  TOUCHSTONE. Come, sweet Audrey;\\r\\n    We must be married or we must live in bawdry.\\r\\n    Farewell, good Master Oliver. Not-\\r\\n               O sweet Oliver,\\r\\n               O brave Oliver,\\r\\n           Leave me not behind thee.\\r\\n    But-\\r\\n                 Wind away,\\r\\n               Begone, I say,\\r\\n           I will not to wedding with thee.\\r\\n                           Exeunt JAQUES, TOUCHSTONE, and AUDREY\\r\\n  MARTEXT. \\'Tis no matter; ne\\'er a fantastical knave of them all\\r\\n    shall flout me out of my calling.                       Exit\\r\\n\\r\\n\\r\\n\\r\\n\\r\\nSCENE IV.\\r\\nThe forest\\r\\n\\r\\nEnter ROSALIND and CELIA\\r\\n\\r\\n  ROSALIND. Never talk to me; I will weep.\\r\\n  CELIA. Do, I prithee; but yet have the grace to consider that\\r\\ntears\\r\\n    do not become a man.\\r\\n  ROSALIND. But have I not cause to weep?\\r\\n  CELIA. As good cause as one would desire; therefore weep.\\r\\n  ROSALIND. His very hair is of the dissembling colour.\\r\\n  CELIA. Something browner than Judas\\'s.\\r\\n    Marry, his kisses are Judas\\'s own children.\\r\\n  ROSALIND. I\\' faith, his hair is of a good colour.\\r\\n  CELIA. An excellent colour: your chestnut was ever the only\\r\\ncolour.\\r\\n  ROSALIND. And his kissing is as full of sanctity as the touch\\r\\nof\\r\\n    holy bread.\\r\\n  CELIA. He hath bought a pair of cast lips of Diana. A nun of\\r\\n    winter\\'s sisterhood kisses not more religiously; the very ice\\r\\nof\\r\\n    chastity is in them.\\r\\n  ROSALIND. But why did he swear he would come this morning, and\\r\\n    comes not?\\r\\n  CELIA. Nay, certainly, there is no truth in him.\\r\\n  ROSALIND. Do you think so?\\r\\n  CELIA. Yes; I think he is not a pick-purse nor a horse-stealer;\\r\\nbut\\r\\n    for his verity in love, I do think him as concave as covered\\r\\n    goblet or a worm-eaten nut.\\r\\n  ROSALIND. Not true in love?\\r\\n  CELIA. Yes, when he is in; but I think he is not in.\\r\\n  ROSALIND. You have heard him swear downright he was.\\r\\n  CELIA. \\'Was\\' is not \\'is\\'; besides, the oath of a lover is no\\r\\n    stronger than the word of a tapster; they are both the\\r\\nconfirmer\\r\\n    of false reckonings. He attends here in the forest on the\\r\\nDuke,\\r\\n    your father.\\r\\n  ROSALIND. I met the Duke yesterday, and had much question with\\r\\nhim.\\r\\n    He asked me of what parentage I was; I told him, of as good\\r\\nas\\r\\n    he; so he laugh\\'d and let me go. But what talk we of fathers\\r\\nwhen\\r\\n    there is such a man as Orlando?\\r\\n  CELIA. O, that\\'s a brave man! He writes brave verses, speaks\\r\\nbrave\\r\\n    words, swears brave oaths, and breaks them bravely, quite\\r\\n    traverse, athwart the heart of his lover; as a puny tilter,\\r\\nthat\\r\\n    spurs his horse but on one side, breaks his staff like a\\r\\nnoble\\r\\n    goose. But all\\'s brave that youth mounts and folly guides.\\r\\nWho\\r\\n    comes here?\\r\\n\\r\\n                         Enter CORIN\\r\\n\\r\\n  CORIN. Mistress and master, you have oft enquired\\r\\n    After the shepherd that complain\\'d of love,\\r\\n    Who you saw sitting by me on the turf,\\r\\n    Praising the proud disdainful shepherdess\\r\\n    That was his mistress.\\r\\n  CELIA. Well, and what of him?\\r\\n  CORIN. If you will see a pageant truly play\\'d\\r\\n    Between the pale complexion of true love\\r\\n    And the red glow of scorn and proud disdain,\\r\\n    Go hence a little, and I shall conduct you,\\r\\n    If you will mark it.\\r\\n  ROSALIND. O, come, let us remove!\\r\\n    The sight of lovers feedeth those in love.\\r\\n    Bring us to this sight, and you shall say\\r\\n    I\\'ll prove a busy actor in their play.                Exeunt\\r\\n\\r\\n\\r\\n\\r\\n\\r\\nSCENE V.\\r\\nAnother part of the forest\\r\\n\\r\\nEnter SILVIUS and PHEBE\\r\\n\\r\\n  SILVIUS. Sweet Phebe, do not scorn me; do not, Phebe.\\r\\n    Say that you love me not; but say not so\\r\\n    In bitterness. The common executioner,\\r\\n    Whose heart th\\' accustom\\'d sight of death makes hard,\\r\\n    Falls not the axe upon the humbled neck\\r\\n    But first begs pardon. Will you sterner be\\r\\n    Than he that dies and lives by bloody drops?\\r\\n\\r\\n          Enter ROSALIND, CELIA, and CORIN, at a distance\\r\\n\\r\\n  PHEBE. I would not be thy executioner;\\r\\n    I fly thee, for I would not injure thee.\\r\\n    Thou tell\\'st me there is murder in mine eye.\\r\\n    \\'Tis pretty, sure, and very probable,\\r\\n    That eyes, that are the frail\\'st and softest things,\\r\\n    Who shut their coward gates on atomies,\\r\\n    Should be call\\'d tyrants, butchers, murderers!\\r\\n    Now I do frown on thee with all my heart;\\r\\n    And if mine eyes can wound, now let them kill thee.\\r\\n    Now counterfeit to swoon; why, now fall down;\\r\\n    Or, if thou canst not, O, for shame, for shame,\\r\\n    Lie not, to say mine eyes are murderers.\\r\\n    Now show the wound mine eye hath made in thee.\\r\\n    Scratch thee but with a pin, and there remains\\r\\n    Some scar of it; lean upon a rush,\\r\\n    The cicatrice and capable impressure\\r\\n    Thy palm some moment keeps; but now mine eyes,\\r\\n    Which I have darted at thee, hurt thee not;\\r\\n    Nor, I am sure, there is not force in eyes\\r\\n    That can do hurt.\\r\\n  SILVIUS. O dear Phebe,\\r\\n    If ever- as that ever may be near-\\r\\n    You meet in some fresh cheek the power of fancy,\\r\\n    Then shall you know the wounds invisible\\r\\n    That love\\'s keen arrows make.\\r\\n  PHEBE. But till that time\\r\\n    Come not thou near me; and when that time comes,\\r\\n    Afflict me with thy mocks, pity me not;\\r\\n    As till that time I shall not pity thee.\\r\\n  ROSALIND. [Advancing] And why, I pray you? Who might be your\\r\\n      mother,\\r\\n    That you insult, exult, and all at once,\\r\\n    Over the wretched? What though you have no beauty-\\r\\n    As, by my faith, I see no more in you\\r\\n    Than without candle may go dark to bed-\\r\\n    Must you be therefore proud and pitiless?\\r\\n    Why, what means this? Why do you look on me?\\r\\n    I see no more in you than in the ordinary\\r\\n    Of nature\\'s sale-work. \\'Od\\'s my little life,\\r\\n    I think she means to tangle my eyes too!\\r\\n    No faith, proud mistress, hope not after it;\\r\\n    \\'Tis not your inky brows, your black silk hair,\\r\\n    Your bugle eyeballs, nor your cheek of cream,\\r\\n    That can entame my spirits to your worship.\\r\\n    You foolish shepherd, wherefore do you follow her,\\r\\n    Like foggy south, puffing with wind and rain?\\r\\n    You are a thousand times a properer man\\r\\n    Than she a woman. \\'Tis such fools as you\\r\\n    That makes the world full of ill-favour\\'d children.\\r\\n    \\'Tis not her glass, but you, that flatters her;\\r\\n    And out of you she sees herself more proper\\r\\n    Than any of her lineaments can show her.\\r\\n    But, mistress, know yourself. Down on your knees,\\r\\n    And thank heaven, fasting, for a good man\\'s love;\\r\\n    For I must tell you friendly in your ear:\\r\\n    Sell when you can; you are not for all markets.\\r\\n    Cry the man mercy, love him, take his offer;\\r\\n    Foul is most foul, being foul to be a scoffer.\\r\\n    So take her to thee, shepherd. Fare you well.\\r\\n  PHEBE. Sweet youth, I pray you chide a year together;\\r\\n    I had rather hear you chide than this man woo.\\r\\n  ROSALIND. He\\'s fall\\'n in love with your foulness, and she\\'ll\\r\\nfall\\r\\n    in love with my anger. If it be so, as fast as she answers\\r\\nthee\\r\\n    with frowning looks, I\\'ll sauce her with bitter words. Why\\r\\nlook\\r\\n    you so upon me?\\r\\n  PHEBE. For no ill will I bear you.\\r\\n  ROSALIND. I pray you do not fall in love with me,\\r\\n    For I am falser than vows made in wine;\\r\\n    Besides, I like you not. If you will know my house,\\r\\n    \\'Tis at the tuft of olives here hard by.\\r\\n    Will you go, sister? Shepherd, ply her hard.\\r\\n    Come, sister. Shepherdess, look on him better,\\r\\n    And be not proud; though all the world could see,\\r\\n    None could be so abus\\'d in sight as he.\\r\\n    Come, to our flock.        Exeunt ROSALIND, CELIA, and CORIN\\r\\n  PHEBE. Dead shepherd, now I find thy saw of might:\\r\\n    \\'Who ever lov\\'d that lov\\'d not at first sight?\\'\\r\\n  SILVIUS. Sweet Phebe.\\r\\n  PHEBE. Ha! what say\\'st thou, Silvius?\\r\\n  SILVIUS. Sweet Phebe, pity me.\\r\\n  PHEBE. Why, I am sorry for thee, gentle Silvius.\\r\\n  SILVIUS. Wherever sorrow is, relief would be.\\r\\n    If you do sorrow at my grief in love,\\r\\n    By giving love, your sorrow and my grief\\r\\n    Were both extermin\\'d.\\r\\n  PHEBE. Thou hast my love; is not that neighbourly?\\r\\n  SILVIUS. I would have you.\\r\\n  PHEBE. Why, that were covetousness.\\r\\n    Silvius, the time was that I hated thee;\\r\\n    And yet it is not that I bear thee love;\\r\\n    But since that thou canst talk of love so well,\\r\\n    Thy company, which erst was irksome to me,\\r\\n    I will endure; and I\\'ll employ thee too.\\r\\n    But do not look for further recompense\\r\\n    Than thine own gladness that thou art employ\\'d.\\r\\n  SILVIUS. So holy and so perfect is my love,\\r\\n    And I in such a poverty of grace,\\r\\n    That I shall think it a most plenteous crop\\r\\n    To glean the broken ears after the man\\r\\n    That the main harvest reaps; loose now and then\\r\\n    A scatt\\'red smile, and that I\\'ll live upon.\\r\\n  PHEBE. Know\\'st thou the youth that spoke to me erewhile?\\r\\n  SILVIUS. Not very well; but I have met him oft;\\r\\n    And he hath bought the cottage and the bounds\\r\\n    That the old carlot once was master of.\\r\\n  PHEBE. Think not I love him, though I ask for him;\\r\\n    \\'Tis but a peevish boy; yet he talks well.\\r\\n    But what care I for words? Yet words do well\\r\\n    When he that speaks them pleases those that hear.\\r\\n    It is a pretty youth- not very pretty;\\r\\n    But, sure, he\\'s proud; and yet his pride becomes him.\\r\\n    He\\'ll make a proper man. The best thing in him\\r\\n    Is his complexion; and faster than his tongue\\r\\n    Did make offence, his eye did heal it up.\\r\\n    He is not very tall; yet for his years he\\'s tall;\\r\\n    His leg is but so-so; and yet \\'tis well.\\r\\n    There was a pretty redness in his lip,\\r\\n    A little riper and more lusty red\\r\\n    Than that mix\\'d in his cheek; \\'twas just the difference\\r\\n    Betwixt the constant red and mingled damask.\\r\\n    There be some women, Silvius, had they mark\\'d him\\r\\n    In parcels as I did, would have gone near\\r\\n    To fall in love with him; but, for my part,\\r\\n    I love him not, nor hate him not; and yet\\r\\n    I have more cause to hate him than to love him;\\r\\n    For what had he to do to chide at me?\\r\\n    He said mine eyes were black, and my hair black,\\r\\n    And, now I am rememb\\'red, scorn\\'d at me.\\r\\n    I marvel why I answer\\'d not again;\\r\\n    But that\\'s all one: omittance is no quittance.\\r\\n    I\\'ll write to him a very taunting letter,\\r\\n    And thou shalt bear it; wilt thou, Silvius?\\r\\n  SILVIUS. Phebe, with all my heart.\\r\\n  PHEBE. I\\'ll write it straight;\\r\\n    The matter\\'s in my head and in my heart;\\r\\n    I will be bitter with him and passing short.\\r\\n    Go with me, Silvius.                                  Exeunt\\r\\n\\r\\n\\r\\n\\r\\n\\r\\n<<THIS ELECTRONIC VERSION OF THE COMPLETE WORKS OF WILLIAM\\r\\nSHAKESPEARE IS COPYRIGHT 1990-1993 BY WORLD LIBRARY, INC., AND IS\\r\\nPROVIDED BY PROJECT GUTENBERG ETEXT OF CARNEGIE MELLON UNIVERSITY\\r\\nWITH PERMISSION.  ELECTRONIC AND MACHINE READABLE COPIES MAY BE\\r\\nDISTRIBUTED SO LONG AS SUCH COPIES (1) ARE FOR YOUR OR OTHERS\\r\\nPERSONAL USE ONLY, AND (2) ARE NOT DISTRIBUTED OR USED\\r\\nCOMMERCIALLY.  PROHIBITED COMMERCIAL DISTRIBUTION INCLUDES BY ANY\\r\\nSERVICE THAT CHARGES FOR DOWNLOAD TIME OR FOR MEMBERSHIP.>>\\r\\n\\r\\n\\r\\n\\r\\nACT IV. SCENE I.\\r\\nThe forest\\r\\n\\r\\nEnter ROSALIND, CELIA, and JAQUES\\r\\n\\r\\n  JAQUES. I prithee, pretty youth, let me be better acquainted\\r\\nwith\\r\\n    thee.\\r\\n  ROSALIND. They say you are a melancholy fellow.\\r\\n  JAQUES. I am so; I do love it better than laughing.\\r\\n  ROSALIND. Those that are in extremity of either are abominable\\r\\n    fellows, and betray themselves to every modern censure worse\\r\\nthan\\r\\n    drunkards.\\r\\n  JAQUES. Why, \\'tis good to be sad and say nothing.\\r\\n  ROSALIND. Why then, \\'tis good to be a post.\\r\\n  JAQUES. I have neither the scholar\\'s melancholy, which is\\r\\n    emulation; nor the musician\\'s, which is fantastical; nor the\\r\\n    courtier\\'s, which is proud; nor the soldier\\'s, which is\\r\\n    ambitious; nor the lawyer\\'s, which is politic; nor the\\r\\nlady\\'s,\\r\\n    which is nice; nor the lover\\'s, which is all these; but it is\\r\\na\\r\\n    melancholy of mine own, compounded of many simples, extracted\\r\\n    from many objects, and, indeed, the sundry contemplation of\\r\\nmy\\r\\n    travels; in which my often rumination wraps me in a most\\r\\nhumorous\\r\\n    sadness.\\r\\n  ROSALIND. A traveller! By my faith, you have great reason to be\\r\\n    sad. I fear you have sold your own lands to see other men\\'s;\\r\\nthen\\r\\n    to have seen much and to have nothing is to have rich eyes\\r\\nand\\r\\n    poor hands.\\r\\n  JAQUES. Yes, I have gain\\'d my experience.\\r\\n\\r\\n                        Enter ORLANDO\\r\\n\\r\\n  ROSALIND. And your experience makes you sad. I had rather have\\r\\na\\r\\n    fool to make me merry than experience to make me sad- and to\\r\\n    travel for it too.\\r\\n  ORLANDO. Good day, and happiness, dear Rosalind!\\r\\n  JAQUES. Nay, then, God buy you, an you talk in blank verse.\\r\\n  ROSALIND. Farewell, Monsieur Traveller; look you lisp and wear\\r\\n    strange suits, disable all the benefits of your own country,\\r\\nbe\\r\\n    out of love with your nativity, and almost chide God for\\r\\nmaking\\r\\n    you that countenance you are; or I will scarce think you have\\r\\n    swam in a gondola. [Exit JAQUES] Why, how now, Orlando! where\\r\\n    have you been all this while? You a lover! An you serve me\\r\\nsuch\\r\\n    another trick, never come in my sight more.\\r\\n  ORLANDO. My fair Rosalind, I come within an hour of my promise.\\r\\n  ROSALIND. Break an hour\\'s promise in love! He that will divide\\r\\na\\r\\n    minute into a thousand parts, and break but a part of the\\r\\n    thousand part of a minute in the affairs of love, it may be\\r\\nsaid\\r\\n    of him that Cupid hath clapp\\'d him o\\' th\\' shoulder, but I\\'ll\\r\\n    warrant him heart-whole.\\r\\n  ORLANDO. Pardon me, dear Rosalind.\\r\\n  ROSALIND. Nay, an you be so tardy, come no more in my sight. I\\r\\nhad\\r\\n    as lief be woo\\'d of a snail.\\r\\n  ORLANDO. Of a snail!\\r\\n  ROSALIND. Ay, of a snail; for though he comes slowly, he\\r\\ncarries\\r\\n    his house on his head- a better jointure, I think, than you\\r\\nmake\\r\\n    a woman; besides, he brings his destiny with him.\\r\\n  ORLANDO. What\\'s that?\\r\\n  ROSALIND. Why, horns; which such as you are fain to be\\r\\nbeholding to\\r\\n    your wives for; but he comes armed in his fortune, and\\r\\nprevents\\r\\n    the slander of his wife.\\r\\n  ORLANDO. Virtue is no horn-maker; and my Rosalind is virtuous.\\r\\n  ROSALIND. And I am your Rosalind.\\r\\n  CELIA. It pleases him to call you so; but he hath a Rosalind of\\r\\na\\r\\n    better leer than you.\\r\\n  ROSALIND. Come, woo me, woo me; for now I am in a holiday\\r\\nhumour,\\r\\n    and like enough to consent. What would you say to me now, an\\r\\nI\\r\\n    were your very very Rosalind?\\r\\n  ORLANDO. I would kiss before I spoke.\\r\\n  ROSALIND. Nay, you were better speak first; and when you were\\r\\n    gravell\\'d for lack of matter, you might take occasion to\\r\\nkiss.\\r\\n    Very good orators, when they are out, they will spit; and for\\r\\n    lovers lacking- God warn us!- matter, the cleanliest shift is\\r\\nto\\r\\n    kiss.\\r\\n  ORLANDO. How if the kiss be denied?\\r\\n  ROSALIND. Then she puts you to entreaty, and there begins new\\r\\n    matter.\\r\\n  ORLANDO. Who could be out, being before his beloved mistress?\\r\\n  ROSALIND. Marry, that should you, if I were your mistress; or I\\r\\n    should think my honesty ranker than my wit.\\r\\n  ORLANDO. What, of my suit?\\r\\n  ROSALIND. Not out of your apparel, and yet out of your suit.\\r\\n    Am not I your Rosalind?\\r\\n  ORLANDO. I take some joy to say you are, because I would be\\r\\ntalking\\r\\n    of her.\\r\\n  ROSALIND. Well, in her person, I say I will not have you.\\r\\n  ORLANDO. Then, in mine own person, I die.\\r\\n  ROSALIND. No, faith, die by attorney. The poor world is almost\\r\\nsix\\r\\n    thousand years old, and in all this time there was not any\\r\\nman\\r\\n    died in his own person, videlicet, in a love-cause. Troilus\\r\\nhad\\r\\n    his brains dash\\'d out with a Grecian club; yet he did what he\\r\\n    could to die before, and he is one of the patterns of love.\\r\\n    Leander, he would have liv\\'d many a fair year, though Hero\\r\\nhad\\r\\n    turn\\'d nun, if it had not been for a hot midsummer night;\\r\\nfor,\\r\\n    good youth, he went but forth to wash him in the Hellespont,\\r\\nand,\\r\\n    being taken with the cramp, was drown\\'d; and the foolish\\r\\n    chroniclers of that age found it was- Hero of Sestos. But\\r\\nthese\\r\\n    are all lies: men have died from time to time, and worms have\\r\\n    eaten them, but not for love.\\r\\n  ORLANDO. I would not have my right Rosalind of this mind; for,\\r\\nI\\r\\n    protest, her frown might kill me.\\r\\n  ROSALIND. By this hand, it will not kill a fly. But come, now I\\r\\n    will be your Rosalind in a more coming-on disposition; and\\r\\nask me\\r\\n    what you will, I will grant it.\\r\\n  ORLANDO. Then love me, Rosalind.\\r\\n  ROSALIND. Yes, faith, will I, Fridays and Saturdays, and all.\\r\\n  ORLANDO. And wilt thou have me?\\r\\n  ROSALIND. Ay, and twenty such.\\r\\n  ORLANDO. What sayest thou?\\r\\n  ROSALIND. Are you not good?\\r\\n  ORLANDO. I hope so.\\r\\n  ROSALIND. Why then, can one desire too much of a good thing?\\r\\nCome,\\r\\n    sister, you shall be the priest, and marry us. Give me your\\r\\nhand,\\r\\n    Orlando. What do you say, sister?\\r\\n  ORLANDO. Pray thee, marry us.\\r\\n  CELIA. I cannot say the words.\\r\\n  ROSALIND. You must begin \\'Will you, Orlando\\'-\\r\\n  CELIA. Go to. Will you, Orlando, have to wife this Rosalind?\\r\\n  ORLANDO. I will.\\r\\n  ROSALIND. Ay, but when?\\r\\n  ORLANDO. Why, now; as fast as she can marry us.\\r\\n  ROSALIND. Then you must say \\'I take thee, Rosalind, for wife.\\'\\r\\n  ORLANDO. I take thee, Rosalind, for wife.\\r\\n  ROSALIND. I might ask you for your commission; but- I do take\\r\\nthee,\\r\\n    Orlando, for my husband. There\\'s a girl goes before the\\r\\npriest;\\r\\n    and, certainly, a woman\\'s thought runs before her actions.\\r\\n  ORLANDO. So do all thoughts; they are wing\\'d.\\r\\n  ROSALIND. Now tell me how long you would have her, after you\\r\\nhave\\r\\n    possess\\'d her.\\r\\n  ORLANDO. For ever and a day.\\r\\n  ROSALIND. Say \\'a day\\' without the \\'ever.\\' No, no, Orlando; men\\r\\nare\\r\\n    April when they woo, December when they wed: maids are May\\r\\nwhen\\r\\n    they are maids, but the sky changes when they are wives. I\\r\\nwill\\r\\n    be more jealous of thee than a Barbary cock-pigeon over his\\r\\nhen,\\r\\n    more clamorous than a parrot against rain, more new-fangled\\r\\nthan\\r\\n    an ape, more giddy in my desires than a monkey. I will weep\\r\\nfor\\r\\n    nothing, like Diana in the fountain, and I will do that when\\r\\nyou\\r\\n    are dispos\\'d to be merry; I will laugh like a hyen, and that\\r\\nwhen\\r\\n    thou are inclin\\'d to sleep.\\r\\n  ORLANDO. But will my Rosalind do so?\\r\\n  ROSALIND. By my life, she will do as I do.\\r\\n  ORLANDO. O, but she is wise.\\r\\n  ROSALIND. Or else she could not have the wit to do this. The\\r\\nwiser,\\r\\n    the waywarder. Make the doors upon a woman\\'s wit, and it will\\r\\nout\\r\\n    at the casement; shut that, and \\'twill out at the key-hole;\\r\\nstop\\r\\n    that, \\'twill fly with the smoke out at the chimney.\\r\\n  ORLANDO. A man that had a wife with such a wit, he might say\\r\\n\\'Wit,\\r\\n    whither wilt?\\' ROSALIND. Nay, you might keep that check for\\r\\nit, till you met your\\r\\n    wife\\'s wit going to your neighbour\\'s bed.\\r\\n  ORLANDO. And what wit could wit have to excuse that?\\r\\n  ROSALIND. Marry, to say she came to seek you there. You shall\\r\\nnever\\r\\n    take her without her answer, unless you take her without her\\r\\n    tongue. O, that woman that cannot make her fault her\\r\\nhusband\\'s\\r\\n    occasion, let her never nurse her child herself, for she will\\r\\n    breed it like a fool!\\r\\n  ORLANDO. For these two hours, Rosalind, I will leave thee.\\r\\n  ROSALIND. Alas, dear love, I cannot lack thee two hours!\\r\\n  ORLANDO. I must attend the Duke at dinner; by two o\\'clock I\\r\\nwill be\\r\\n    with thee again.\\r\\n  ROSALIND. Ay, go your ways, go your ways. I knew what you would\\r\\n    prove; my friends told me as much, and I thought no less.\\r\\nThat\\r\\n    flattering tongue of yours won me. \\'Tis but one cast away,\\r\\nand\\r\\n    so, come death! Two o\\'clock is your hour?\\r\\n  ORLANDO. Ay, sweet Rosalind.\\r\\n  ROSALIND. By my troth, and in good earnest, and so God mend me,\\r\\nand\\r\\n    by all pretty oaths that are not dangerous, if you break one\\r\\njot\\r\\n    of your promise, or come one minute behind your hour, I will\\r\\n    think you the most pathetical break-promise, and the most\\r\\nhollow\\r\\n    lover, and the most unworthy of her you call Rosalind, that\\r\\nmay\\r\\n    be chosen out of the gross band of the unfaithful. Therefore\\r\\n    beware my censure, and keep your promise.\\r\\n  ORLANDO. With no less religion than if thou wert indeed my\\r\\n    Rosalind; so, adieu.\\r\\n  ROSALIND. Well, Time is the old justice that examines all such\\r\\n    offenders, and let Time try. Adieu.             Exit ORLANDO\\r\\n  CELIA. You have simply misus\\'d our sex in your love-prate. We\\r\\nmust\\r\\n    have your doublet and hose pluck\\'d over your head, and show\\r\\nthe\\r\\n    world what the bird hath done to her own nest.\\r\\n  ROSALIND. O coz, coz, coz, my pretty little coz, that thou\\r\\ndidst\\r\\n    know how many fathom deep I am in love! But it cannot be\\r\\nsounded;\\r\\n    my affection hath an unknown bottom, like the Bay of\\r\\nPortugal.\\r\\n  CELIA. Or rather, bottomless; that as fast as you pour\\r\\naffection\\r\\n    in, it runs out.\\r\\n  ROSALIND. No; that same wicked bastard of Venus, that was begot\\r\\nof\\r\\n    thought, conceiv\\'d of spleen, and born of madness; that blind\\r\\n    rascally boy, that abuses every one\\'s eyes, because his own\\r\\nare\\r\\n    out- let him be judge how deep I am in love. I\\'ll tell thee,\\r\\n    Aliena, I cannot be out of the sight of Orlando. I\\'ll go find\\r\\na\\r\\n    shadow, and sigh till he come.\\r\\n  CELIA. And I\\'ll sleep.                                  Exeunt\\r\\n\\r\\n\\r\\n\\r\\n\\r\\nSCENE II.\\r\\nThe forest\\r\\n\\r\\n        Enter JAQUES and LORDS, in the habit of foresters\\r\\n\\r\\n  JAQUES. Which is he that killed the deer?\\r\\n  LORD. Sir, it was I.\\r\\n  JAQUES. Let\\'s present him to the Duke, like a Roman conqueror;\\r\\nand\\r\\n    it would do well to set the deer\\'s horns upon his head for a\\r\\n    branch of victory. Have you no song, forester, for this\\r\\npurpose?\\r\\n  LORD. Yes, sir.\\r\\n  JAQUES. Sing it; \\'tis no matter how it be in tune, so it make\\r\\nnoise\\r\\n    enough.\\r\\n\\r\\n                    SONG.\\r\\n\\r\\n      What shall he have that kill\\'d the deer?\\r\\n      His leather skin and horns to wear.\\r\\n                              [The rest shall hear this burden:]\\r\\n           Then sing him home.\\r\\n\\r\\n      Take thou no scorn to wear the horn;\\r\\n      It was a crest ere thou wast born.\\r\\n           Thy father\\'s father wore it;\\r\\n           And thy father bore it.\\r\\n      The horn, the horn, the lusty horn,\\r\\n      Is not a thing to laugh to scorn.                   Exeunt\\r\\n\\r\\n\\r\\n\\r\\n\\r\\nSCENE III.\\r\\nThe forest\\r\\n\\r\\nEnter ROSALIND and CELIA\\r\\n\\r\\n  ROSALIND. How say you now? Is it not past two o\\'clock?\\r\\n    And here much Orlando!\\r\\n  CELIA. I warrant you, with pure love and troubled brain, he\\r\\nhath\\r\\n    ta\\'en his bow and arrows, and is gone forth- to sleep. Look,\\r\\nwho\\r\\n    comes here.\\r\\n\\r\\n                      Enter SILVIUS\\r\\n\\r\\n  SILVIUS. My errand is to you, fair youth;\\r\\n    My gentle Phebe did bid me give you this.\\r\\n    I know not the contents; but, as I guess\\r\\n    By the stern brow and waspish action\\r\\n    Which she did use as she was writing of it,\\r\\n    It bears an angry tenour. Pardon me,\\r\\n    I am but as a guiltless messenger.\\r\\n  ROSALIND. Patience herself would startle at this letter,\\r\\n    And play the swaggerer. Bear this, bear all.\\r\\n    She says I am not fair, that I lack manners;\\r\\n    She calls me proud, and that she could not love me,\\r\\n    Were man as rare as Phoenix. \\'Od\\'s my will!\\r\\n    Her love is not the hare that I do hunt;\\r\\n    Why writes she so to me? Well, shepherd, well,\\r\\n    This is a letter of your own device.\\r\\n  SILVIUS. No, I protest, I know not the contents;\\r\\n    Phebe did write it.\\r\\n  ROSALIND. Come, come, you are a fool,\\r\\n    And turn\\'d into the extremity of love.\\r\\n    I saw her hand; she has a leathern hand,\\r\\n    A freestone-colour\\'d hand; I verily did think\\r\\n    That her old gloves were on, but \\'twas her hands;\\r\\n    She has a huswife\\'s hand- but that\\'s no matter.\\r\\n    I say she never did invent this letter:\\r\\n    This is a man\\'s invention, and his hand.\\r\\n  SILVIUS. Sure, it is hers.\\r\\n  ROSALIND. Why, \\'tis a boisterous and a cruel style;\\r\\n    A style for challengers. Why, she defies me,\\r\\n    Like Turk to Christian. Women\\'s gentle brain\\r\\n    Could not drop forth such giant-rude invention,\\r\\n    Such Ethiope words, blacker in their effect\\r\\n    Than in their countenance. Will you hear the letter?\\r\\n  SILVIUS. So please you, for I never heard it yet;\\r\\n    Yet heard too much of Phebe\\'s cruelty.\\r\\n  ROSALIND. She Phebes me: mark how the tyrant writes.\\r\\n                                                         [Reads]\\r\\n\\r\\n            \\'Art thou god to shepherd turn\\'d,\\r\\n            That a maiden\\'s heart hath burn\\'d?\\'\\r\\n\\r\\n    Can a woman rail thus?\\r\\n  SILVIUS. Call you this railing?\\r\\n  ROSALIND. \\'Why, thy godhead laid apart,\\r\\n             Warr\\'st thou with a woman\\'s heart?\\'\\r\\n\\r\\n    Did you ever hear such railing?\\r\\n\\r\\n            \\'Whiles the eye of man did woo me,\\r\\n            That could do no vengeance to me.\\'\\r\\n\\r\\n    Meaning me a beast.\\r\\n\\r\\n            \\'If the scorn of your bright eyne\\r\\n            Have power to raise such love in mine,\\r\\n            Alack, in me what strange effect\\r\\n            Would they work in mild aspect!\\r\\n            Whiles you chid me, I did love;\\r\\n            How then might your prayers move!\\r\\n            He that brings this love to the\\r\\n            Little knows this love in me;\\r\\n            And by him seal up thy mind,\\r\\n            Whether that thy youth and kind\\r\\n            Will the faithful offer take\\r\\n            Of me and all that I can make;\\r\\n            Or else by him my love deny,\\r\\n            And then I\\'ll study how to die.\\'\\r\\n  SILVIUS. Call you this chiding?\\r\\n  CELIA. Alas, poor shepherd!\\r\\n  ROSALIND. Do you pity him? No, he deserves no pity. Wilt thou\\r\\nlove\\r\\n    such a woman? What, to make thee an instrument, and play\\r\\nfalse\\r\\n    strains upon thee! Not to be endur\\'d! Well, go your way to\\r\\nher,\\r\\n    for I see love hath made thee tame snake, and say this to\\r\\nher-\\r\\n    that if she love me, I charge her to love thee; if she will\\r\\nnot,\\r\\n    I will never have her unless thou entreat for her. If you be\\r\\na\\r\\n    true lover, hence, and not a word; for here comes more\\r\\ncompany.\\r\\n                                                    Exit SILVIUS\\r\\n\\r\\n                         Enter OLIVER\\r\\n\\r\\n  OLIVER. Good morrow, fair ones; pray you, if you know,\\r\\n    Where in the purlieus of this forest stands\\r\\n    A sheep-cote fenc\\'d about with olive trees?\\r\\n  CELIA. West of this place, down in the neighbour bottom.\\r\\n    The rank of osiers by the murmuring stream\\r\\n    Left on your right hand brings you to the place.\\r\\n    But at this hour the house doth keep itself;\\r\\n    There\\'s none within.\\r\\n  OLIVER. If that an eye may profit by a tongue,\\r\\n    Then should I know you by description-\\r\\n    Such garments, and such years: \\'The boy is fair,\\r\\n    Of female favour, and bestows himself\\r\\n    Like a ripe sister; the woman low,\\r\\n    And browner than her brother.\\' Are not you\\r\\n    The owner of the house I did inquire for?\\r\\n  CELIA. It is no boast, being ask\\'d, to say we are.\\r\\n  OLIVER. Orlando doth commend him to you both;\\r\\n    And to that youth he calls his Rosalind\\r\\n    He sends this bloody napkin. Are you he?\\r\\n  ROSALIND. I am. What must we understand by this?\\r\\n  OLIVER. Some of my shame; if you will know of me\\r\\n    What man I am, and how, and why, and where,\\r\\n    This handkercher was stain\\'d.\\r\\n  CELIA. I pray you, tell it.\\r\\n  OLIVER. When last the young Orlando parted from you,\\r\\n    He left a promise to return again\\r\\n    Within an hour; and, pacing through the forest,\\r\\n    Chewing the food of sweet and bitter fancy,\\r\\n    Lo, what befell! He threw his eye aside,\\r\\n    And mark what object did present itself.\\r\\n    Under an oak, whose boughs were moss\\'d with age,\\r\\n    And high top bald with dry antiquity,\\r\\n    A wretched ragged man, o\\'ergrown with hair,\\r\\n    Lay sleeping on his back. About his neck\\r\\n    A green and gilded snake had wreath\\'d itself,\\r\\n    Who with her head nimble in threats approach\\'d\\r\\n    The opening of his mouth; but suddenly,\\r\\n    Seeing Orlando, it unlink\\'d itself,\\r\\n    And with indented glides did slip away\\r\\n    Into a bush; under which bush\\'s shade\\r\\n    A lioness, with udders all drawn dry,\\r\\n    Lay couching, head on ground, with catlike watch,\\r\\n    When that the sleeping man should stir; for \\'tis\\r\\n    The royal disposition of that beast\\r\\n    To prey on nothing that doth seem as dead.\\r\\n    This seen, Orlando did approach the man,\\r\\n    And found it was his brother, his elder brother.\\r\\n  CELIA. O, I have heard him speak of that same brother;\\r\\n    And he did render him the most unnatural\\r\\n    That liv\\'d amongst men.\\r\\n  OLIVER. And well he might so do,\\r\\n    For well I know he was unnatural.\\r\\n  ROSALIND. But, to Orlando: did he leave him there,\\r\\n    Food to the suck\\'d and hungry lioness?\\r\\n  OLIVER. Twice did he turn his back, and purpos\\'d so;\\r\\n    But kindness, nobler ever than revenge,\\r\\n    And nature, stronger than his just occasion,\\r\\n    Made him give battle to the lioness,\\r\\n    Who quickly fell before him; in which hurtling\\r\\n    From miserable slumber I awak\\'d.\\r\\n  CELIA. Are you his brother?\\r\\n  ROSALIND. Was\\'t you he rescu\\'d?\\r\\n  CELIA. Was\\'t you that did so oft contrive to kill him?\\r\\n  OLIVER. \\'Twas I; but \\'tis not I. I do not shame\\r\\n    To tell you what I was, since my conversion\\r\\n    So sweetly tastes, being the thing I am.\\r\\n  ROSALIND. But for the bloody napkin?\\r\\n  OLIVER. By and by.\\r\\n    When from the first to last, betwixt us two,\\r\\n    Tears our recountments had most kindly bath\\'d,\\r\\n    As how I came into that desert place-\\r\\n    In brief, he led me to the gentle Duke,\\r\\n    Who gave me fresh array and entertainment,\\r\\n    Committing me unto my brother\\'s love;\\r\\n    Who led me instantly unto his cave,\\r\\n    There stripp\\'d himself, and here upon his arm\\r\\n    The lioness had torn some flesh away,\\r\\n    Which all this while had bled; and now he fainted,\\r\\n    And cried, in fainting, upon Rosalind.\\r\\n    Brief, I recover\\'d him, bound up his wound,\\r\\n    And, after some small space, being strong at heart,\\r\\n    He sent me hither, stranger as I am,\\r\\n    To tell this story, that you might excuse\\r\\n    His broken promise, and to give this napkin,\\r\\n    Dy\\'d in his blood, unto the shepherd youth\\r\\n    That he in sport doth call his Rosalind.\\r\\n                                               [ROSALIND swoons]\\r\\n  CELIA. Why, how now, Ganymede! sweet Ganymede!\\r\\n  OLIVER. Many will swoon when they do look on blood.\\r\\n  CELIA. There is more in it. Cousin Ganymede!\\r\\n  OLIVER. Look, he recovers.\\r\\n  ROSALIND. I would I were at home.\\r\\n  CELIA. We\\'ll lead you thither.\\r\\n    I pray you, will you take him by the arm?\\r\\n  OLIVER. Be of good cheer, youth. You a man!\\r\\n    You lack a man\\'s heart.\\r\\n  ROSALIND. I do so, I confess it. Ah, sirrah, a body would think\\r\\n    this was well counterfeited. I pray you tell your brother how\\r\\n    well I counterfeited. Heigh-ho!\\r\\n  OLIVER. This was not counterfeit; there is too great testimony\\r\\nin\\r\\n    your complexion that it was a passion of earnest.\\r\\n  ROSALIND. Counterfeit, I assure you.\\r\\n  OLIVER. Well then, take a good heart and counterfeit to be a\\r\\nman.\\r\\n  ROSALIND. So I do; but, i\\' faith, I should have been a woman by\\r\\n    right.\\r\\n  CELIA. Come, you look paler and paler; pray you draw homewards.\\r\\n    Good sir, go with us.\\r\\n  OLIVER. That will I, for I must bear answer back\\r\\n    How you excuse my brother, Rosalind.\\r\\n  ROSALIND. I shall devise something; but, I pray you, commend my\\r\\n    counterfeiting to him. Will you go?                   Exeunt\\r\\n\\r\\n\\r\\n\\r\\n\\r\\n<<THIS ELECTRONIC VERSION OF THE COMPLETE WORKS OF WILLIAM\\r\\nSHAKESPEARE IS COPYRIGHT 1990-1993 BY WORLD LIBRARY, INC., AND IS\\r\\nPROVIDED BY PROJECT GUTENBERG ETEXT OF CARNEGIE MELLON UNIVERSITY\\r\\nWITH PERMISSION.  ELECTRONIC AND MACHINE READABLE COPIES MAY BE\\r\\nDISTRIBUTED SO LONG AS SUCH COPIES (1) ARE FOR YOUR OR OTHERS\\r\\nPERSONAL USE ONLY, AND (2) ARE NOT DISTRIBUTED OR USED\\r\\nCOMMERCIALLY.  PROHIBITED COMMERCIAL DISTRIBUTION INCLUDES BY ANY\\r\\nSERVICE THAT CHARGES FOR DOWNLOAD TIME OR FOR MEMBERSHIP.>>\\r\\n\\r\\n\\r\\n\\r\\nACT V. SCENE I.\\r\\nThe forest\\r\\n\\r\\nEnter TOUCHSTONE and AUDREY\\r\\n\\r\\n  TOUCHSTONE. We shall find a time, Audrey; patience, gentle\\r\\nAudrey.\\r\\n  AUDREY. Faith, the priest was good enough, for all the old\\r\\n    gentleman\\'s saying.\\r\\n  TOUCHSTONE. A most wicked Sir Oliver, Audrey, a most vile\\r\\nMartext.\\r\\n    But, Audrey, there is a youth here in the forest lays claim\\r\\nto\\r\\n    you.\\r\\n  AUDREY. Ay, I know who \\'tis; he hath no interest in me in the\\r\\n    world; here comes the man you mean.\\r\\n\\r\\n                         Enter WILLIAM\\r\\n\\r\\n  TOUCHSTONE. It is meat and drink to me to see a clown. By my\\r\\ntroth,\\r\\n    we that have good wits have much to answer for: we shall be\\r\\n    flouting; we cannot hold.\\r\\n  WILLIAM. Good ev\\'n, Audrey.\\r\\n  AUDREY. God ye good ev\\'n, William.\\r\\n  WILLIAM. And good ev\\'n to you, sir.\\r\\n  TOUCHSTONE. Good ev\\'n, gentle friend. Cover thy head, cover thy\\r\\n    head; nay, prithee be cover\\'d. How old are you, friend?\\r\\n  WILLIAM. Five and twenty, sir.\\r\\n  TOUCHSTONE. A ripe age. Is thy name William?\\r\\n  WILLIAM. William, sir.\\r\\n  TOUCHSTONE. A fair name. Wast born i\\' th\\' forest here?\\r\\n  WILLIAM. Ay, sir, I thank God.\\r\\n  TOUCHSTONE. \\'Thank God.\\' A good answer.\\r\\n    Art rich?\\r\\n  WILLIAM. Faith, sir, so so.\\r\\n  TOUCHSTONE. \\'So so\\' is good, very good, very excellent good;\\r\\nand\\r\\n    yet it is not; it is but so so. Art thou wise?\\r\\n  WILLIAM. Ay, sir, I have a pretty wit.\\r\\n  TOUCHSTONE. Why, thou say\\'st well. I do now remember a saying:\\r\\n\\'The\\r\\n    fool doth think he is wise, but the wise man knows himself to\\r\\nbe\\r\\n    a fool.\\' The heathen philosopher, when he had a desire to eat\\r\\na\\r\\n    grape, would open his lips when he put it into his mouth;\\r\\nmeaning\\r\\n    thereby that grapes were made to eat and lips to open. You do\\r\\n    love this maid?\\r\\n  WILLIAM. I do, sir.\\r\\n  TOUCHSTONE. Give me your hand. Art thou learned?\\r\\n  WILLIAM. No, sir.\\r\\n  TOUCHSTONE. Then learn this of me: to have is to have; for it\\r\\nis a\\r\\n    figure in rhetoric that drink, being pour\\'d out of cup into a\\r\\n    glass, by filling the one doth empty the other; for all your\\r\\n    writers do consent that ipse is he; now, you are not ipse,\\r\\nfor I\\r\\n    am he.\\r\\n  WILLIAM. Which he, sir?\\r\\n  TOUCHSTONE. He, sir, that must marry this woman. Therefore, you\\r\\n    clown, abandon- which is in the vulgar leave- the society-\\r\\nwhich\\r\\n    in the boorish is company- of this female- which in the\\r\\ncommon is\\r\\n    woman- which together is: abandon the society of this female;\\r\\nor,\\r\\n    clown, thou perishest; or, to thy better understanding,\\r\\ndiest;\\r\\n    or, to wit, I kill thee, make thee away, translate thy life\\r\\ninto\\r\\n    death, thy liberty into bondage. I will deal in poison with\\r\\nthee,\\r\\n    or in bastinado, or in steel; I will bandy with thee in\\r\\nfaction;\\r\\n    will o\\'er-run thee with policy; I will kill thee a hundred\\r\\nand\\r\\n    fifty ways; therefore tremble and depart.\\r\\n  AUDREY. Do, good William.\\r\\n  WILLIAM. God rest you merry, sir.                         Exit\\r\\n\\r\\n\\r\\n                          Enter CORIN\\r\\n\\r\\n  CORIN. Our master and mistress seeks you; come away, away.\\r\\n  TOUCHSTONE. Trip, Audrey, trip, Audrey. I attend, I attend.\\r\\n                                                          Exeunt\\r\\n\\r\\n\\r\\n\\r\\n\\r\\nSCENE II.\\r\\nThe forest\\r\\n\\r\\nEnter ORLANDO and OLIVER\\r\\n\\r\\n  ORLANDO. Is\\'t possible that on so little acquaintance you\\r\\nshould\\r\\n    like her? that but seeing you should love her? and loving\\r\\nwoo?\\r\\n    and, wooing, she should grant? and will you persever to enjoy\\r\\n    her?\\r\\n  OLIVER. Neither call the giddiness of it in question, the\\r\\npoverty\\r\\n    of her, the small acquaintance, my sudden wooing, nor her\\r\\nsudden\\r\\n    consenting; but say with me, I love Aliena; say with her that\\r\\nshe\\r\\n    loves me; consent with both that we may enjoy each other. It\\r\\n    shall be to your good; for my father\\'s house and all the\\r\\nrevenue\\r\\n    that was old Sir Rowland\\'s will I estate upon you, and here\\r\\nlive\\r\\n    and die a shepherd.\\r\\n  ORLANDO. You have my consent. Let your wedding be to-morrow.\\r\\n    Thither will I invite the Duke and all\\'s contented followers.\\r\\nGo\\r\\n    you and prepare Aliena; for, look you, here comes my\\r\\nRosalind.\\r\\n\\r\\n                        Enter ROSALIND\\r\\n\\r\\n  ROSALIND. God save you, brother.\\r\\n  OLIVER. And you, fair sister.                             Exit\\r\\n  ROSALIND. O, my dear Orlando, how it grieves me to see thee\\r\\nwear\\r\\n    thy heart in a scarf!\\r\\n  ORLANDO. It is my arm.\\r\\n  ROSALIND. I thought thy heart had been wounded with the claws\\r\\nof a\\r\\n    lion.\\r\\n  ORLANDO. Wounded it is, but with the eyes of a lady.\\r\\n  ROSALIND. Did your brother tell you how I counterfeited to\\r\\nswoon\\r\\n    when he show\\'d me your handkercher?\\r\\n  ORLANDO. Ay, and greater wonders than that.\\r\\n  ROSALIND. O, I know where you are. Nay, \\'tis true. There was\\r\\nnever\\r\\n    any thing so sudden but the fight of two rams and Caesar\\'s\\r\\n    thrasonical brag of \\'I came, saw, and overcame.\\' For your\\r\\nbrother\\r\\n    and my sister no sooner met but they look\\'d; no sooner look\\'d\\r\\nbut\\r\\n    they lov\\'d; no sooner lov\\'d but they sigh\\'d; no sooner sigh\\'d\\r\\nbut\\r\\n    they ask\\'d one another the reason; no sooner knew the reason\\r\\nbut\\r\\n    they sought the remedy- and in these degrees have they made\\r\\npair\\r\\n    of stairs to marriage, which they will climb incontinent, or\\r\\nelse\\r\\n    be incontinent before marriage. They are in the very wrath of\\r\\n\\r\\n\\r\\n    love, and they will together. Clubs cannot part them.\\r\\n  ORLANDO. They shall be married to-morrow; and I will bid the\\r\\nDuke\\r\\n    to the nuptial. But, O, how bitter a thing it is to look into\\r\\n    happiness through another man\\'s eyes! By so much the more\\r\\nshall I\\r\\n    to-morrow be at the height of heart-heaviness, by how much I\\r\\n    shall think my brother happy in having what he wishes for.\\r\\n  ROSALIND. Why, then, to-morrow I cannot serve your turn for\\r\\n    Rosalind?\\r\\n  ORLANDO. I can live no longer by thinking.\\r\\n  ROSALIND. I will weary you, then, no longer with idle talking.\\r\\nKnow\\r\\n    of me then- for now I speak to some purpose- that I know you\\r\\nare\\r\\n    a gentleman of good conceit. I speak not this that you should\\r\\n    bear a good opinion of my knowledge, insomuch I say I know\\r\\nyou\\r\\n    are; neither do I labour for a greater esteem than may in\\r\\nsome\\r\\n    little measure draw a belief from you, to do yourself good,\\r\\nand\\r\\n    not to grace me. Believe then, if you please, that I can do\\r\\n    strange things. I have, since I was three year old, convers\\'d\\r\\n    with a magician, most profound in his art and yet not\\r\\ndamnable.\\r\\n    If you do love Rosalind so near the heart as your gesture\\r\\ncries\\r\\n    it out, when your brother marries Aliena shall you marry her.\\r\\nI\\r\\n    know into what straits of fortune she is driven; and it is\\r\\nnot\\r\\n    impossible to me, if it appear not inconvenient to you, to\\r\\nset\\r\\n    her before your eyes to-morrow, human as she is, and without\\r\\nany\\r\\n    danger.\\r\\n  ORLANDO. Speak\\'st thou in sober meanings?\\r\\n  ROSALIND. By my life, I do; which I tender dearly, though I say\\r\\nI\\r\\n    am a magician. Therefore put you in your best array, bid your\\r\\n    friends; for if you will be married to-morrow, you shall; and\\r\\nto\\r\\n    Rosalind, if you will.\\r\\n\\r\\n                     Enter SILVIUS and PHEBE\\r\\n\\r\\n    Look, here comes a lover of mine, and a lover of hers.\\r\\n  PHEBE. Youth, you have done me much ungentleness\\r\\n    To show the letter that I writ to you.\\r\\n  ROSALIND. I care not if I have. It is my study\\r\\n    To seem despiteful and ungentle to you.\\r\\n    You are there follow\\'d by a faithful shepherd;\\r\\n    Look upon him, love him; he worships you.\\r\\n  PHEBE. Good shepherd, tell this youth what \\'tis to love.\\r\\n  SILVIUS. It is to be all made of sighs and tears;\\r\\n    And so am I for Phebe.\\r\\n  PHEBE. And I for Ganymede.\\r\\n  ORLANDO. And I for Rosalind.\\r\\n  ROSALIND. And I for no woman.\\r\\n  SILVIUS. It is to be all made of faith and service;\\r\\n    And so am I for Phebe.\\r\\n  PHEBE. And I for Ganymede.\\r\\n  ORLANDO. And I for Rosalind.\\r\\n  ROSALIND. And I for no woman.\\r\\n  SILVIUS. It is to be all made of fantasy,\\r\\n    All made of passion, and all made of wishes;\\r\\n    All adoration, duty, and observance,\\r\\n    All humbleness, all patience, and impatience,\\r\\n    All purity, all trial, all obedience;\\r\\n    And so am I for Phebe.\\r\\n  PHEBE. And so am I for Ganymede.\\r\\n  ORLANDO. And so am I for Rosalind.\\r\\n  ROSALIND. And so am I for no woman.\\r\\n  PHEBE. If this be so, why blame you me to love you?\\r\\n  SILVIUS. If this be so, why blame you me to love you?\\r\\n  ORLANDO. If this be so, why blame you me to love you?\\r\\n  ROSALIND. Why do you speak too, \\'Why blame you me to love you?\\'\\r\\n  ORLANDO. To her that is not here, nor doth not hear.\\r\\n  ROSALIND. Pray you, no more of this; \\'tis like the howling of\\r\\nIrish\\r\\n    wolves against the moon. [To SILVIUS] I will help you if I\\r\\ncan.\\r\\n    [To PHEBE] I would love you if I could.- To-morrow meet me\\r\\nall\\r\\n    together. [ To PHEBE ] I will marry you if ever I marry\\r\\nwoman,\\r\\n    and I\\'ll be married to-morrow. [To ORLANDO] I will satisfy\\r\\nyou if\\r\\n    ever I satisfied man, and you shall be married to-morrow. [To\\r\\n    Silvius] I will content you if what pleases you contents you,\\r\\nand\\r\\n    you shall be married to-morrow. [To ORLANDO] As you love\\r\\n    Rosalind, meet. [To SILVIUS] As you love Phebe, meet;- and as\\r\\nI\\r\\n    love no woman, I\\'ll meet. So, fare you well; I have left you\\r\\n    commands.\\r\\n  SILVIUS. I\\'ll not fail, if I live.\\r\\n  PHEBE. Nor I.\\r\\n  ORLANDO. Nor I.                                         Exeunt\\r\\n\\r\\n\\r\\n\\r\\n\\r\\nSCENE III.\\r\\nThe forest\\r\\n\\r\\nEnter TOUCHSTONE and AUDREY\\r\\n\\r\\n  TOUCHSTONE. To-morrow is the joyful day, Audrey; to-morrow\\r\\nwill we\\r\\n    be married.\\r\\n  AUDREY. I do desire it with all my heart; and I hope it is no\\r\\n    dishonest desire to desire to be a woman of the world. Here\\r\\ncome\\r\\n    two of the banish\\'d Duke\\'s pages.\\r\\n\\r\\n                            Enter two PAGES\\r\\n\\r\\n  FIRST PAGE. Well met, honest gentleman.\\r\\n  TOUCHSTONE. By my troth, well met. Come sit, sit, and a song.\\r\\n  SECOND PAGE. We are for you; sit i\\' th\\' middle.\\r\\n  FIRST PAGE. Shall we clap into\\'t roundly, without hawking, or\\r\\n    spitting, or saying we are hoarse, which are the only\\r\\nprologues\\r\\n    to a bad voice?\\r\\n  SECOND PAGE. I\\'faith, i\\'faith; and both in a tune, like two\\r\\ngipsies\\r\\n    on a horse.\\r\\n\\r\\n                      SONG.\\r\\n        It was a lover and his lass,\\r\\n          With a hey, and a ho, and a hey nonino,\\r\\n        That o\\'er the green corn-field did pass\\r\\n          In the spring time, the only pretty ring time,\\r\\n        When birds do sing, hey ding a ding, ding.\\r\\n        Sweet lovers love the spring.\\r\\n\\r\\n        Between the acres of the rye,\\r\\n          With a hey, and a ho, and a hey nonino,\\r\\n        These pretty country folks would lie,\\r\\n          In the spring time, &c.\\r\\n\\r\\n        This carol they began that hour,\\r\\n          With a hey, and a ho, and a hey nonino,\\r\\n        How that a life was but a flower,\\r\\n          In the spring time, &c.\\r\\n\\r\\n        And therefore take the present time,\\r\\n          With a hey, and a ho, and a hey nonino,\\r\\n        For love is crowned with the prime,\\r\\n          In the spring time, &c.\\r\\n\\r\\n  TOUCHSTONE. Truly, young gentlemen, though there was no great\\r\\n    matter in the ditty, yet the note was very untuneable.\\r\\n  FIRST PAGE. You are deceiv\\'d, sir; we kept time, we lost not\\r\\nour\\r\\n    time.\\r\\n  TOUCHSTONE. By my troth, yes; I count it but time lost to hear\\r\\nsuch\\r\\n    a foolish song. God buy you; and God mend your voices. Come,\\r\\n    Audrey.                                               Exeunt\\r\\n\\r\\n\\r\\n\\r\\n\\r\\nSCENE IV.\\r\\nThe forest\\r\\n\\r\\nEnter DUKE SENIOR, AMIENS, JAQUES, ORLANDO, OLIVER, and CELIA\\r\\n\\r\\n  DUKE SENIOR. Dost thou believe, Orlando, that the boy\\r\\n    Can do all this that he hath promised?\\r\\n  ORLANDO. I sometimes do believe and sometimes do not:\\r\\n    As those that fear they hope, and know they fear.\\r\\n\\r\\n               Enter ROSALIND, SILVIUS, and PHEBE\\r\\n\\r\\n  ROSALIND. Patience once more, whiles our compact is urg\\'d:\\r\\n    You say, if I bring in your Rosalind,\\r\\n    You will bestow her on Orlando here?\\r\\n  DUKE SENIOR. That would I, had I kingdoms to give with her.\\r\\n  ROSALIND. And you say you will have her when I bring her?\\r\\n  ORLANDO. That would I, were I of all kingdoms king.\\r\\n  ROSALIND. You say you\\'ll marry me, if I be willing?\\r\\n  PHEBE. That will I, should I die the hour after.\\r\\n  ROSALIND. But if you do refuse to marry me,\\r\\n    You\\'ll give yourself to this most faithful shepherd?\\r\\n  PHEBE. So is the bargain.\\r\\n  ROSALIND. You say that you\\'ll have Phebe, if she will?\\r\\n  SILVIUS. Though to have her and death were both one thing.\\r\\n  ROSALIND. I have promis\\'d to make all this matter even.\\r\\n    Keep you your word, O Duke, to give your daughter;\\r\\n    You yours, Orlando, to receive his daughter;\\r\\n    Keep your word, Phebe, that you\\'ll marry me,\\r\\n    Or else, refusing me, to wed this shepherd;\\r\\n    Keep your word, Silvius, that you\\'ll marry her\\r\\n    If she refuse me; and from hence I go,\\r\\n    To make these doubts all even.\\r\\n                                       Exeunt ROSALIND and CELIA\\r\\n  DUKE SENIOR. I do remember in this shepherd boy\\r\\n    Some lively touches of my daughter\\'s favour.\\r\\n  ORLANDO. My lord, the first time that I ever saw him\\r\\n    Methought he was a brother to your daughter.\\r\\n    But, my good lord, this boy is forest-born,\\r\\n    And hath been tutor\\'d in the rudiments\\r\\n    Of many desperate studies by his uncle,\\r\\n    Whom he reports to be a great magician,\\r\\n    Obscured in the circle of this forest.\\r\\n\\r\\n                    Enter TOUCHSTONE and AUDREY\\r\\n\\r\\n  JAQUES. There is, sure, another flood toward, and these couples\\r\\nare\\r\\n    coming to the ark. Here comes a pair of very strange beasts\\r\\nwhich\\r\\n    in all tongues are call\\'d fools.\\r\\n  TOUCHSTONE. Salutation and greeting to you all!\\r\\n  JAQUES. Good my lord, bid him welcome. This is the\\r\\nmotley-minded\\r\\n    gentleman that I have so often met in the forest. He hath\\r\\nbeen a\\r\\n     courtier, he swears.\\r\\n  TOUCHSTONE. If any man doubt that, let him put me to my\\r\\npurgation.\\r\\n    I have trod a measure; I have flatt\\'red a lady; I have been\\r\\n    politic with my friend, smooth with mine enemy; I have undone\\r\\n    three tailors; I have had four quarrels, and like to have\\r\\nfought\\r\\n    one.\\r\\n  JAQUES. And how was that ta\\'en up?\\r\\n  TOUCHSTONE. Faith, we met, and found the quarrel was upon the\\r\\n    seventh cause.\\r\\n  JAQUES. How seventh cause? Good my lord, like this fellow.\\r\\n  DUKE SENIOR. I like him very well.\\r\\n  TOUCHSTONE. God \\'ild you, sir; I desire you of the like. I\\r\\npress in\\r\\n    here, sir, amongst the rest of the country copulatives, to\\r\\nswear\\r\\n    and to forswear, according as marriage binds and blood\\r\\nbreaks. A\\r\\n    poor virgin, sir, an ill-favour\\'d thing, sir, but mine own; a\\r\\n    poor humour of mine, sir, to take that that man else will.\\r\\nRich\\r\\n    honesty dwells like a miser, sir, in a poor house; as your\\r\\npearl\\r\\n    in your foul oyster.\\r\\n  DUKE SENIOR. By my faith, he is very swift and sententious.\\r\\n  TOUCHSTONE. According to the fool\\'s bolt, sir, and such dulcet\\r\\n    diseases.\\r\\n  JAQUES. But, for the seventh cause: how did you find the\\r\\nquarrel on\\r\\n    the seventh cause?\\r\\n  TOUCHSTONE. Upon a lie seven times removed- bear your body more\\r\\n    seeming, Audrey- as thus, sir. I did dislike the cut of a\\r\\ncertain\\r\\n    courtier\\'s beard; he sent me word, if I said his beard was\\r\\nnot\\r\\n    cut well, he was in the mind it was. This is call\\'d the\\r\\nRetort\\r\\n    Courteous. If I sent him word again it was not well cut, he\\r\\nwould\\r\\n    send me word he cut it to please himself. This is call\\'d the\\r\\nQuip\\r\\n    Modest. If again it was not well cut, he disabled my\\r\\njudgment.\\r\\n    This is call\\'d the Reply Churlish. If again it was not well\\r\\ncut,\\r\\n    he would answer I spake not true. This is call\\'d the Reproof\\r\\n    Valiant. If again it was not well cut, he would say I lie.\\r\\nThis\\r\\n    is call\\'d the Countercheck Quarrelsome. And so to the Lie\\r\\n    Circumstantial and the Lie Direct.\\r\\n  JAQUES. And how oft did you say his beard was not well cut?\\r\\n  TOUCHSTONE. I durst go no further than the Lie Circumstantial,\\r\\nnor\\r\\n    he durst not give me the Lie Direct; and so we measur\\'d\\r\\nswords\\r\\n    and parted.\\r\\n  JAQUES. Can you nominate in order now the degrees of the lie?\\r\\n  TOUCHSTONE. O, sir, we quarrel in print by the book, as you\\r\\nhave\\r\\n    books for good manners. I will name you the degrees. The\\r\\nfirst,\\r\\n    the Retort Courteous; the second, the Quip Modest; the third,\\r\\nthe\\r\\n    Reply Churlish; the fourth, the Reproof Valiant; the fifth,\\r\\nthe\\r\\n    Countercheck Quarrelsome; the sixth, the Lie with\\r\\nCircumstance;\\r\\n    the seventh, the Lie Direct. All these you may avoid but the\\r\\nLie\\r\\n    Direct; and you may avoid that too with an If. I knew when\\r\\nseven\\r\\n    justices could not take up a quarrel; but when the parties\\r\\nwere\\r\\n    met themselves, one of them thought but of an If, as: \\'If you\\r\\n\\r\\n\\r\\n    said so, then I said so.\\' And they shook hands, and swore\\r\\n    brothers. Your If is the only peace-maker; much virtue in If.\\r\\n  JAQUES. Is not this a rare fellow, my lord?\\r\\n    He\\'s as good at any thing, and yet a fool.\\r\\n  DUKE SENIOR. He uses his folly like a stalking-horse, and under\\r\\nthe\\r\\n    presentation of that he shoots his wit.\\r\\n\\r\\n          Enter HYMEN, ROSALIND, and CELIA. Still MUSIC\\r\\n\\r\\n    HYMEN.    Then is there mirth in heaven,\\r\\n              When earthly things made even\\r\\n                Atone together.\\r\\n              Good Duke, receive thy daughter;\\r\\n              Hymen from heaven brought her,\\r\\n                Yea, brought her hither,\\r\\n              That thou mightst join her hand with his,\\r\\n              Whose heart within his bosom is.\\r\\n  ROSALIND. [To DUKE] To you I give myself, for I am yours.\\r\\n    [To ORLANDO] To you I give myself, for I am yours.\\r\\n  DUKE SENIOR. If there be truth in sight, you are my daughter.\\r\\n  ORLANDO. If there be truth in sight, you are my Rosalind.\\r\\n  PHEBE. If sight and shape be true,\\r\\n    Why then, my love adieu!\\r\\n  ROSALIND. I\\'ll have no father, if you be not he;\\r\\n    I\\'ll have no husband, if you be not he;\\r\\n    Nor ne\\'er wed woman, if you be not she.\\r\\n  HYMEN.    Peace, ho! I bar confusion;\\r\\n            \\'Tis I must make conclusion\\r\\n              Of these most strange events.\\r\\n            Here\\'s eight that must take hands\\r\\n            To join in Hymen\\'s bands,\\r\\n              If truth holds true contents.\\r\\n            You and you no cross shall part;\\r\\n            You and you are heart in heart;\\r\\n            You to his love must accord,\\r\\n            Or have a woman to your lord;\\r\\n            You and you are sure together,\\r\\n            As the winter to foul weather.\\r\\n            Whiles a wedlock-hymn we sing,\\r\\n            Feed yourselves with questioning,\\r\\n            That reason wonder may diminish,\\r\\n            How thus we met, and these things finish.\\r\\n\\r\\n                       SONG\\r\\n            Wedding is great Juno\\'s crown;\\r\\n              O blessed bond of board and bed!\\r\\n            \\'Tis Hymen peoples every town;\\r\\n              High wedlock then be honoured.\\r\\n            Honour, high honour, and renown,\\r\\n            To Hymen, god of every town!\\r\\n\\r\\n  DUKE SENIOR. O my dear niece, welcome thou art to me!\\r\\n    Even daughter, welcome in no less degree.\\r\\n  PHEBE. I will not eat my word, now thou art mine;\\r\\n    Thy faith my fancy to thee doth combine.\\r\\n\\r\\n                 Enter JAQUES de BOYS\\r\\n\\r\\n  JAQUES de BOYS. Let me have audience for a word or two.\\r\\n    I am the second son of old Sir Rowland,\\r\\n    That bring these tidings to this fair assembly.\\r\\n    Duke Frederick, hearing how that every day\\r\\n    Men of great worth resorted to this forest,\\r\\n    Address\\'d a mighty power; which were on foot,\\r\\n    In his own conduct, purposely to take\\r\\n    His brother here, and put him to the sword;\\r\\n    And to the skirts of this wild wood he came,\\r\\n    Where, meeting with an old religious man,\\r\\n    After some question with him, was converted\\r\\n    Both from his enterprise and from the world;\\r\\n    His crown bequeathing to his banish\\'d brother,\\r\\n    And all their lands restor\\'d to them again\\r\\n    That were with him exil\\'d. This to be true\\r\\n    I do engage my life.\\r\\n  DUKE SENIOR. Welcome, young man.\\r\\n    Thou offer\\'st fairly to thy brothers\\' wedding:\\r\\n    To one, his lands withheld; and to the other,\\r\\n    A land itself at large, a potent dukedom.\\r\\n    First, in this forest let us do those ends\\r\\n    That here were well begun and well begot;\\r\\n    And after, every of this happy number,\\r\\n    That have endur\\'d shrewd days and nights with us,\\r\\n    Shall share the good of our returned fortune,\\r\\n    According to the measure of their states.\\r\\n    Meantime, forget this new-fall\\'n dignity,\\r\\n    And fall into our rustic revelry.\\r\\n    Play, music; and you brides and bridegrooms all,\\r\\n    With measure heap\\'d in joy, to th\\' measures fall.\\r\\n  JAQUES. Sir, by your patience. If I heard you rightly,\\r\\n    The Duke hath put on a religious life,\\r\\n    And thrown into neglect the pompous court.\\r\\n  JAQUES DE BOYS. He hath.\\r\\n  JAQUES. To him will I. Out of these convertites\\r\\n    There is much matter to be heard and learn\\'d.\\r\\n    [To DUKE] You to your former honour I bequeath;\\r\\n    Your patience and your virtue well deserves it.\\r\\n    [To ORLANDO] You to a love that your true faith doth merit;\\r\\n    [To OLIVER] You to your land, and love, and great allies\\r\\n    [To SILVIUS] You to a long and well-deserved bed;\\r\\n    [To TOUCHSTONE] And you to wrangling; for thy loving voyage\\r\\n    Is but for two months victuall\\'d.- So to your pleasures;\\r\\n    I am for other than for dancing measures.\\r\\n  DUKE SENIOR. Stay, Jaques, stay.\\r\\n  JAQUES. To see no pastime I. What you would have\\r\\n    I\\'ll stay to know at your abandon\\'d cave.               Exit\\r\\n  DUKE SENIOR. Proceed, proceed. We will begin these rites,\\r\\n    As we do trust they\\'ll end, in true delights.    [A dance]\\r\\nExeunt\\r\\n\\r\\nEPILOGUE\\r\\n                           EPILOGUE.\\r\\n  ROSALIND. It is not the fashion to see the lady the epilogue;\\r\\nbut\\r\\n    it is no more unhandsome than to see the lord the prologue.\\r\\nIf it\\r\\n    be true that good wine needs no bush, \\'tis true that a good\\r\\nplay\\r\\n    needs no epilogue. Yet to good wine they do use good bushes;\\r\\nand\\r\\n    good plays prove the better by the help of good epilogues.\\r\\nWhat a\\r\\n    case am I in then, that am neither a good epilogue, nor\\r\\ncannot\\r\\n    insinuate with you in the behalf of a good play! I am not\\r\\n    furnish\\'d like a beggar; therefore to beg will not become me.\\r\\nMy\\r\\n    way is to conjure you; and I\\'ll begin with the women. I\\r\\ncharge\\r\\n    you, O women, for the love you bear to men, to like as much\\r\\nof\\r\\n    this play as please you; and I charge you, O men, for the\\r\\nlove\\r\\n    you bear to women- as I perceive by your simp\\'ring none of\\r\\nyou\\r\\n    hates them- that between you and the women the play may\\r\\nplease.\\r\\n    If I were a woman, I would kiss as many of you as had beards\\r\\nthat\\r\\n    pleas\\'d me, complexions that lik\\'d me, and breaths that I\\r\\ndefied\\r\\n    not; and, I am sure, as many as have good beards, or good\\r\\nfaces,\\r\\n    or sweet breaths, will, for my kind offer, when I make\\r\\ncurtsy,\\r\\n    bid me farewell.\\r\\n\\r\\nTHE END\\r\\n\\r\\n\\r\\n\\r\\n\\r\\n\\r\\n<<THIS ELECTRONIC VERSION OF THE COMPLETE WORKS OF WILLIAM\\r\\nSHAKESPEARE IS COPYRIGHT 1990-1993 BY WORLD LIBRARY, INC., AND IS\\r\\nPROVIDED BY PROJECT GUTENBERG ETEXT OF CARNEGIE MELLON UNIVERSITY\\r\\nWITH PERMISSION.  ELECTRONIC AND MACHINE READABLE COPIES MAY BE\\r\\nDISTRIBUTED SO LONG AS SUCH COPIES (1) ARE FOR YOUR OR OTHERS\\r\\nPERSONAL USE ONLY, AND (2) ARE NOT DISTRIBUTED OR USED\\r\\nCOMMERCIALLY.  PROHIBITED COMMERCIAL DISTRIBUTION INCLUDES BY ANY\\r\\nSERVICE THAT CHARGES FOR DOWNLOAD TIME OR FOR MEMBERSHIP.>>\\r\\n\\r\\n\\r\\n\\r\\n\\r\\n\\r\\nEnd of this Etext of The Complete Works of William Shakespeare, As You Like It\\r\\n\\r\\n        \\r\\n            *** END OF THE PROJECT GUTENBERG EBOOK AS YOU LIKE IT ***\\r\\n        \\r\\n\\r\\n    \\r\\n\\r\\nUpdated editions will replace the previous one—the old editions will\\r\\nbe renamed.\\r\\n\\r\\nCreating the works from print editions not protected by U.S. copyright\\r\\nlaw means that no one owns a United States copyright in these works,\\r\\nso the Foundation (and you!) can copy and distribute it in the United\\r\\nStates without permission and without paying copyright\\r\\nroyalties. Special rules, set forth in the General Terms of Use part\\r\\nof this license, apply to copying and distributing Project\\r\\nGutenberg™ electronic works to protect the PROJECT GUTENBERG™\\r\\nconcept and trademark. Project Gutenberg is a registered trademark,\\r\\nand may not be used if you charge for an eBook, except by following\\r\\nthe terms of the trademark license, including paying royalties for use\\r\\nof the Project Gutenberg trademark. If you do not charge anything for\\r\\ncopies of this eBook, complying with the trademark license is very\\r\\neasy. You may use this eBook for nearly any purpose such as creation\\r\\nof derivative works, reports, performances and research. Project\\r\\nGutenberg eBooks may be modified and printed and given away—you may\\r\\ndo practically ANYTHING in the United States with eBooks not protected\\r\\nby U.S. copyright law. Redistribution is subject to the trademark\\r\\nlicense, especially commercial redistribution.\\r\\n\\r\\n\\r\\nSTART: FULL LICENSE\\r\\n\\r\\nTHE FULL PROJECT GUTENBERG LICENSE\\r\\n\\r\\nPLEASE READ THIS BEFORE YOU DISTRIBUTE OR USE THIS WORK\\r\\n\\r\\nTo protect the Project Gutenberg™ mission of promoting the free\\r\\ndistribution of electronic works, by using or distributing this work\\r\\n(or any other work associated in any way with the phrase “Project\\r\\nGutenberg”), you agree to comply with all the terms of the Full\\r\\nProject Gutenberg™ License available with this file or online at\\r\\nwww.gutenberg.org/license.\\r\\n\\r\\nSection 1. General Terms of Use and Redistributing Project Gutenberg™\\r\\nelectronic works\\r\\n\\r\\n1.A. By reading or using any part of this Project Gutenberg™\\r\\nelectronic work, you indicate that you have read, understand, agree to\\r\\nand accept all the terms of this license and intellectual property\\r\\n(trademark/copyright) agreement. If you do not agree to abide by all\\r\\nthe terms of this agreement, you must cease using and return or\\r\\ndestroy all copies of Project Gutenberg™ electronic works in your\\r\\npossession. If you paid a fee for obtaining a copy of or access to a\\r\\nProject Gutenberg™ electronic work and you do not agree to be bound\\r\\nby the terms of this agreement, you may obtain a refund from the person\\r\\nor entity to whom you paid the fee as set forth in paragraph 1.E.8.\\r\\n\\r\\n1.B. “Project Gutenberg” is a registered trademark. It may only be\\r\\nused on or associated in any way with an electronic work by people who\\r\\nagree to be bound by the terms of this agreement. There are a few\\r\\nthings that you can do with most Project Gutenberg™ electronic works\\r\\neven without complying with the full terms of this agreement. See\\r\\nparagraph 1.C below. There are a lot of things you can do with Project\\r\\nGutenberg™ electronic works if you follow the terms of this\\r\\nagreement and help preserve free future access to Project Gutenberg™\\r\\nelectronic works. See paragraph 1.E below.\\r\\n\\r\\n1.C. The Project Gutenberg Literary Archive Foundation (“the\\r\\nFoundation” or PGLAF), owns a compilation copyright in the collection\\r\\nof Project Gutenberg™ electronic works. Nearly all the individual\\r\\nworks in the collection are in the public domain in the United\\r\\nStates. If an individual work is unprotected by copyright law in the\\r\\nUnited States and you are located in the United States, we do not\\r\\nclaim a right to prevent you from copying, distributing, performing,\\r\\ndisplaying or creating derivative works based on the work as long as\\r\\nall references to Project Gutenberg are removed. Of course, we hope\\r\\nthat you will support the Project Gutenberg™ mission of promoting\\r\\nfree access to electronic works by freely sharing Project Gutenberg™\\r\\nworks in compliance with the terms of this agreement for keeping the\\r\\nProject Gutenberg™ name associated with the work. You can easily\\r\\ncomply with the terms of this agreement by keeping this work in the\\r\\nsame format with its attached full Project Gutenberg™ License when\\r\\nyou share it without charge with others.\\r\\n\\r\\n1.D. The copyright laws of the place where you are located also govern\\r\\nwhat you can do with this work. Copyright laws in most countries are\\r\\nin a constant state of change. If you are outside the United States,\\r\\ncheck the laws of your country in addition to the terms of this\\r\\nagreement before downloading, copying, displaying, performing,\\r\\ndistributing or creating derivative works based on this work or any\\r\\nother Project Gutenberg™ work. The Foundation makes no\\r\\nrepresentations concerning the copyright status of any work in any\\r\\ncountry other than the United States.\\r\\n\\r\\n1.E. Unless you have removed all references to Project Gutenberg:\\r\\n\\r\\n1.E.1. The following sentence, with active links to, or other\\r\\nimmediate access to, the full Project Gutenberg™ License must appear\\r\\nprominently whenever any copy of a Project Gutenberg™ work (any work\\r\\non which the phrase “Project Gutenberg” appears, or with which the\\r\\nphrase “Project Gutenberg” is associated) is accessed, displayed,\\r\\nperformed, viewed, copied or distributed:\\r\\n\\r\\n    This eBook is for the use of anyone anywhere in the United States and most\\r\\n    other parts of the world at no cost and with almost no restrictions\\r\\n    whatsoever. You may copy it, give it away or re-use it under the terms\\r\\n    of the Project Gutenberg License included with this eBook or online\\r\\n    at www.gutenberg.org. If you\\r\\n    are not located in the United States, you will have to check the laws\\r\\n    of the country where you are located before using this eBook.\\r\\n  \\r\\n1.E.2. If an individual Project Gutenberg™ electronic work is\\r\\nderived from texts not protected by U.S. copyright law (does not\\r\\ncontain a notice indicating that it is posted with permission of the\\r\\ncopyright holder), the work can be copied and distributed to anyone in\\r\\nthe United States without paying any fees or charges. If you are\\r\\nredistributing or providing access to a work with the phrase “Project\\r\\nGutenberg” associated with or appearing on the work, you must comply\\r\\neither with the requirements of paragraphs 1.E.1 through 1.E.7 or\\r\\nobtain permission for the use of the work and the Project Gutenberg™\\r\\ntrademark as set forth in paragraphs 1.E.8 or 1.E.9.\\r\\n\\r\\n1.E.3. If an individual Project Gutenberg™ electronic work is posted\\r\\nwith the permission of the copyright holder, your use and distribution\\r\\nmust comply with both paragraphs 1.E.1 through 1.E.7 and any\\r\\nadditional terms imposed by the copyright holder. Additional terms\\r\\nwill be linked to the Project Gutenberg™ License for all works\\r\\nposted with the permission of the copyright holder found at the\\r\\nbeginning of this work.\\r\\n\\r\\n1.E.4. Do not unlink or detach or remove the full Project Gutenberg™\\r\\nLicense terms from this work, or any files containing a part of this\\r\\nwork or any other work associated with Project Gutenberg™.\\r\\n\\r\\n1.E.5. Do not copy, display, perform, distribute or redistribute this\\r\\nelectronic work, or any part of this electronic work, without\\r\\nprominently displaying the sentence set forth in paragraph 1.E.1 with\\r\\nactive links or immediate access to the full terms of the Project\\r\\nGutenberg™ License.\\r\\n\\r\\n1.E.6. You may convert to and distribute this work in any binary,\\r\\ncompressed, marked up, nonproprietary or proprietary form, including\\r\\nany word processing or hypertext form. However, if you provide access\\r\\nto or distribute copies of a Project Gutenberg™ work in a format\\r\\nother than “Plain Vanilla ASCII” or other format used in the official\\r\\nversion posted on the official Project Gutenberg™ website\\r\\n(www.gutenberg.org), you must, at no additional cost, fee or expense\\r\\nto the user, provide a copy, a means of exporting a copy, or a means\\r\\nof obtaining a copy upon request, of the work in its original “Plain\\r\\nVanilla ASCII” or other form. Any alternate format must include the\\r\\nfull Project Gutenberg™ License as specified in paragraph 1.E.1.\\r\\n\\r\\n1.E.7. Do not charge a fee for access to, viewing, displaying,\\r\\nperforming, copying or distributing any Project Gutenberg™ works\\r\\nunless you comply with paragraph 1.E.8 or 1.E.9.\\r\\n\\r\\n1.E.8. You may charge a reasonable fee for copies of or providing\\r\\naccess to or distributing Project Gutenberg™ electronic works\\r\\nprovided that:\\r\\n\\r\\n    • You pay a royalty fee of 20% of the gross profits you derive from\\r\\n        the use of Project Gutenberg™ works calculated using the method\\r\\n        you already use to calculate your applicable taxes. The fee is owed\\r\\n        to the owner of the Project Gutenberg™ trademark, but he has\\r\\n        agreed to donate royalties under this paragraph to the Project\\r\\n        Gutenberg Literary Archive Foundation. Royalty payments must be paid\\r\\n        within 60 days following each date on which you prepare (or are\\r\\n        legally required to prepare) your periodic tax returns. Royalty\\r\\n        payments should be clearly marked as such and sent to the Project\\r\\n        Gutenberg Literary Archive Foundation at the address specified in\\r\\n        Section 4, “Information about donations to the Project Gutenberg\\r\\n        Literary Archive Foundation.”\\r\\n    \\r\\n    • You provide a full refund of any money paid by a user who notifies\\r\\n        you in writing (or by e-mail) within 30 days of receipt that s/he\\r\\n        does not agree to the terms of the full Project Gutenberg™\\r\\n        License. You must require such a user to return or destroy all\\r\\n        copies of the works possessed in a physical medium and discontinue\\r\\n        all use of and all access to other copies of Project Gutenberg™\\r\\n        works.\\r\\n    \\r\\n    • You provide, in accordance with paragraph 1.F.3, a full refund of\\r\\n        any money paid for a work or a replacement copy, if a defect in the\\r\\n        electronic work is discovered and reported to you within 90 days of\\r\\n        receipt of the work.\\r\\n    \\r\\n    • You comply with all other terms of this agreement for free\\r\\n        distribution of Project Gutenberg™ works.\\r\\n    \\r\\n\\r\\n1.E.9. If you wish to charge a fee or distribute a Project\\r\\nGutenberg™ electronic work or group of works on different terms than\\r\\nare set forth in this agreement, you must obtain permission in writing\\r\\nfrom the Project Gutenberg Literary Archive Foundation, the manager of\\r\\nthe Project Gutenberg™ trademark. Contact the Foundation as set\\r\\nforth in Section 3 below.\\r\\n\\r\\n1.F.\\r\\n\\r\\n1.F.1. Project Gutenberg volunteers and employees expend considerable\\r\\neffort to identify, do copyright research on, transcribe and proofread\\r\\nworks not protected by U.S. copyright law in creating the Project\\r\\nGutenberg™ collection. Despite these efforts, Project Gutenberg™\\r\\nelectronic works, and the medium on which they may be stored, may\\r\\ncontain “Defects,” such as, but not limited to, incomplete, inaccurate\\r\\nor corrupt data, transcription errors, a copyright or other\\r\\nintellectual property infringement, a defective or damaged disk or\\r\\nother medium, a computer virus, or computer codes that damage or\\r\\ncannot be read by your equipment.\\r\\n\\r\\n1.F.2. LIMITED WARRANTY, DISCLAIMER OF DAMAGES - Except for the “Right\\r\\nof Replacement or Refund” described in paragraph 1.F.3, the Project\\r\\nGutenberg Literary Archive Foundation, the owner of the Project\\r\\nGutenberg™ trademark, and any other party distributing a Project\\r\\nGutenberg™ electronic work under this agreement, disclaim all\\r\\nliability to you for damages, costs and expenses, including legal\\r\\nfees. YOU AGREE THAT YOU HAVE NO REMEDIES FOR NEGLIGENCE, STRICT\\r\\nLIABILITY, BREACH OF WARRANTY OR BREACH OF CONTRACT EXCEPT THOSE\\r\\nPROVIDED IN PARAGRAPH 1.F.3. YOU AGREE THAT THE FOUNDATION, THE\\r\\nTRADEMARK OWNER, AND ANY DISTRIBUTOR UNDER THIS AGREEMENT WILL NOT BE\\r\\nLIABLE TO YOU FOR ACTUAL, DIRECT, INDIRECT, CONSEQUENTIAL, PUNITIVE OR\\r\\nINCIDENTAL DAMAGES EVEN IF YOU GIVE NOTICE OF THE POSSIBILITY OF SUCH\\r\\nDAMAGE.\\r\\n\\r\\n1.F.3. LIMITED RIGHT OF REPLACEMENT OR REFUND - If you discover a\\r\\ndefect in this electronic work within 90 days of receiving it, you can\\r\\nreceive a refund of the money (if any) you paid for it by sending a\\r\\nwritten explanation to the person you received the work from. If you\\r\\nreceived the work on a physical medium, you must return the medium\\r\\nwith your written explanation. The person or entity that provided you\\r\\nwith the defective work may elect to provide a replacement copy in\\r\\nlieu of a refund. If you received the work electronically, the person\\r\\nor entity providing it to you may choose to give you a second\\r\\nopportunity to receive the work electronically in lieu of a refund. If\\r\\nthe second copy is also defective, you may demand a refund in writing\\r\\nwithout further opportunities to fix the problem.\\r\\n\\r\\n1.F.4. Except for the limited right of replacement or refund set forth\\r\\nin paragraph 1.F.3, this work is provided to you ‘AS-IS’, WITH NO\\r\\nOTHER WARRANTIES OF ANY KIND, EXPRESS OR IMPLIED, INCLUDING BUT NOT\\r\\nLIMITED TO WARRANTIES OF MERCHANTABILITY OR FITNESS FOR ANY PURPOSE.\\r\\n\\r\\n1.F.5. Some states do not allow disclaimers of certain implied\\r\\nwarranties or the exclusion or limitation of certain types of\\r\\ndamages. If any disclaimer or limitation set forth in this agreement\\r\\nviolates the law of the state applicable to this agreement, the\\r\\nagreement shall be interpreted to make the maximum disclaimer or\\r\\nlimitation permitted by the applicable state law. The invalidity or\\r\\nunenforceability of any provision of this agreement shall not void the\\r\\nremaining provisions.\\r\\n\\r\\n1.F.6. INDEMNITY - You agree to indemnify and hold the Foundation, the\\r\\ntrademark owner, any agent or employee of the Foundation, anyone\\r\\nproviding copies of Project Gutenberg™ electronic works in\\r\\naccordance with this agreement, and any volunteers associated with the\\r\\nproduction, promotion and distribution of Project Gutenberg™\\r\\nelectronic works, harmless from all liability, costs and expenses,\\r\\nincluding legal fees, that arise directly or indirectly from any of\\r\\nthe following which you do or cause to occur: (a) distribution of this\\r\\nor any Project Gutenberg™ work, (b) alteration, modification, or\\r\\nadditions or deletions to any Project Gutenberg™ work, and (c) any\\r\\nDefect you cause.\\r\\n\\r\\nSection 2. Information about the Mission of Project Gutenberg™\\r\\n\\r\\nProject Gutenberg™ is synonymous with the free distribution of\\r\\nelectronic works in formats readable by the widest variety of\\r\\ncomputers including obsolete, old, middle-aged and new computers. It\\r\\nexists because of the efforts of hundreds of volunteers and donations\\r\\nfrom people in all walks of life.\\r\\n\\r\\nVolunteers and financial support to provide volunteers with the\\r\\nassistance they need are critical to reaching Project Gutenberg™’s\\r\\ngoals and ensuring that the Project Gutenberg™ collection will\\r\\nremain freely available for generations to come. In 2001, the Project\\r\\nGutenberg Literary Archive Foundation was created to provide a secure\\r\\nand permanent future for Project Gutenberg™ and future\\r\\ngenerations. To learn more about the Project Gutenberg Literary\\r\\nArchive Foundation and how your efforts and donations can help, see\\r\\nSections 3 and 4 and the Foundation information page at www.gutenberg.org.\\r\\n\\r\\nSection 3. Information about the Project Gutenberg Literary Archive Foundation\\r\\n\\r\\nThe Project Gutenberg Literary Archive Foundation is a non-profit\\r\\n501(c)(3) educational corporation organized under the laws of the\\r\\nstate of Mississippi and granted tax exempt status by the Internal\\r\\nRevenue Service. The Foundation’s EIN or federal tax identification\\r\\nnumber is 64-6221541. Contributions to the Project Gutenberg Literary\\r\\nArchive Foundation are tax deductible to the full extent permitted by\\r\\nU.S. federal laws and your state’s laws.\\r\\n\\r\\nThe Foundation’s business office is located at 809 North 1500 West,\\r\\nSalt Lake City, UT 84116, (801) 596-1887. Email contact links and up\\r\\nto date contact information can be found at the Foundation’s website\\r\\nand official page at www.gutenberg.org/contact\\r\\n\\r\\nSection 4. Information about Donations to the Project Gutenberg\\r\\nLiterary Archive Foundation\\r\\n\\r\\nProject Gutenberg™ depends upon and cannot survive without widespread\\r\\npublic support and donations to carry out its mission of\\r\\nincreasing the number of public domain and licensed works that can be\\r\\nfreely distributed in machine-readable form accessible by the widest\\r\\narray of equipment including outdated equipment. Many small donations\\r\\n($1 to $5,000) are particularly important to maintaining tax exempt\\r\\nstatus with the IRS.\\r\\n\\r\\nThe Foundation is committed to complying with the laws regulating\\r\\ncharities and charitable donations in all 50 states of the United\\r\\nStates. Compliance requirements are not uniform and it takes a\\r\\nconsiderable effort, much paperwork and many fees to meet and keep up\\r\\nwith these requirements. We do not solicit donations in locations\\r\\nwhere we have not received written confirmation of compliance. To SEND\\r\\nDONATIONS or determine the status of compliance for any particular state\\r\\nvisit www.gutenberg.org/donate.\\r\\n\\r\\nWhile we cannot and do not solicit contributions from states where we\\r\\nhave not met the solicitation requirements, we know of no prohibition\\r\\nagainst accepting unsolicited donations from donors in such states who\\r\\napproach us with offers to donate.\\r\\n\\r\\nInternational donations are gratefully accepted, but we cannot make\\r\\nany statements concerning tax treatment of donations received from\\r\\noutside the United States. U.S. laws alone swamp our small staff.\\r\\n\\r\\nPlease check the Project Gutenberg web pages for current donation\\r\\nmethods and addresses. Donations are accepted in a number of other\\r\\nways including checks, online payments and credit card donations. To\\r\\ndonate, please visit: www.gutenberg.org/donate.\\r\\n\\r\\nSection 5. General Information About Project Gutenberg™ electronic works\\r\\n\\r\\nProfessor Michael S. Hart was the originator of the Project\\r\\nGutenberg™ concept of a library of electronic works that could be\\r\\nfreely shared with anyone. For forty years, he produced and\\r\\ndistributed Project Gutenberg™ eBooks with only a loose network of\\r\\nvolunteer support.\\r\\n\\r\\nProject Gutenberg™ eBooks are often created from several printed\\r\\neditions, all of which are confirmed as not protected by copyright in\\r\\nthe U.S. unless a copyright notice is included. Thus, we do not\\r\\nnecessarily keep eBooks in compliance with any particular paper\\r\\nedition.\\r\\n\\r\\nMost people start at our website which has the main PG search\\r\\nfacility: www.gutenberg.org.\\r\\n\\r\\nThis website includes information about Project Gutenberg™,\\r\\nincluding how to make donations to the Project Gutenberg Literary\\r\\nArchive Foundation, how to help produce our new eBooks, and how to\\r\\nsubscribe to our email newsletter to hear about new eBooks.\\r\\n\\r\\n\\r\\n'"
      ]
     },
     "execution_count": 24,
     "metadata": {},
     "output_type": "execute_result"
    }
   ],
   "source": [
    "# UNIT TEST\n",
    "bks_gutenberg[18]\n",
    "#atotc = requests.get(r'https://www.gutenberg.org/cache/epub/98/pg98.txt')\n"
   ]
  },
  {
   "cell_type": "code",
   "execution_count": null,
   "metadata": {
    "id": "SozgK8MNy-pj"
   },
   "outputs": [],
   "source": [
    "#UNIT TEST\n",
    "#print(bks_gutenberg[1][:-2000])\n",
    "substr = 'START OF THE PROJECT GUTENBERG EBOOK'\n",
    "new_str = bks_gutenberg[1].split(substr,1)[-1]\n",
    "\n",
    "substr2 = 'END OF THE PROJECT GUTENBERG EBOOK'\n",
    "new_str2 = new_str.split(substr2,1)[0]\n",
    "print(new_str2)"
   ]
  },
  {
   "cell_type": "code",
   "execution_count": 150,
   "metadata": {
    "id": "jFXAkOqRGt5P"
   },
   "outputs": [],
   "source": [
    "# Utility support function\n",
    "def remove_new_line_tabs(book):\n",
    "    \"\"\"remmove unwanted newlines, tabs, etc from the text\"\"\"\n",
    "    for char in [\"\\n\", \"\\r\", \"\\t\"]: # \\d, \\s\n",
    "        book = book.replace(char, \" \")\n",
    "    return book"
   ]
  },
  {
   "cell_type": "code",
   "execution_count": 151,
   "metadata": {
    "id": "88kyCQJ_Gz2i"
   },
   "outputs": [],
   "source": [
    "bks_gutenberg_processed = []\n",
    "\n",
    "# Process data and get sentence counts\n",
    "start_of_ebook = 'START OF THE PROJECT GUTENBERG EBOOK'\n",
    "end_of_ebook   = 'END OF THE PROJECT GUTENBERG EBOOK'\n",
    "\n",
    "# Clean up header and footer info\n",
    "for indx in range(len(bks_gutenberg)):\n",
    "  new_text = bks_gutenberg[indx].split(start_of_ebook,1)[-1]\n",
    "  new_text = new_text.split(end_of_ebook,1)[0]\n",
    "\n",
    "  #for char in [\"\\n\", \"\\r\", \"\\t\"]:\n",
    "  #  new_text = new_text.replace(char, \" \")\n",
    "  new_text = remove_new_line_tabs(new_text)\n",
    "\n",
    "  bks_gutenberg_processed.append(new_text)"
   ]
  },
  {
   "cell_type": "code",
   "execution_count": 152,
   "metadata": {
    "id": "j0ivmCv6H4I6"
   },
   "outputs": [],
   "source": [
    "# combine each author's works\n",
    "bks_gutenberg_processed_combined = [' '.join(bks_gutenberg_processed[i:i+3]) for i in range(0, len(bks_gutenberg_processed), 3)]"
   ]
  },
  {
   "cell_type": "code",
   "execution_count": 153,
   "metadata": {
    "id": "hZgMYOKCIqbh"
   },
   "outputs": [],
   "source": [
    "from nltk.tokenize import sent_tokenize\n",
    "\n",
    "# ***************************************************************************\n",
    "# Add Project Gutenberg titles to book list, tokenize sentences\n",
    "# ***************************************************************************\n",
    "sens_count = []\n",
    "bks_gutenberg_sentences = []\n",
    "\n",
    "df_books = pd.DataFrame({\n",
    "\n",
    "   'Author':  ['fitzgerald',\n",
    "           'hemingway',\n",
    "           'hardy',\n",
    "           'dickens',\n",
    "           'austen',\n",
    "           'chesterton',\n",
    "           'shakespeare'],\n",
    "   'Short Title': ['gatsby,this side of paradise,beautiful and damned',\n",
    "                'sun also rises,men without women,in our time',\n",
    "                'mayor,jude,native',\n",
    "                'tale,great expectations,bleak house',\n",
    "                'emma,sense,pride',\n",
    "                'wisdom brown,thurday,ball',\n",
    "                'as you like it,caesar,hamlet'],\n",
    "   'Title': ['The Great Gatsby,This Side of Paradise,The Beautiful and the Damned',\n",
    "          'The Sun Also Rises,Men Without Women,In Our Time',\n",
    "          'The Mayor of Casterbridge,Jude the Obscure,Return of the Native',\n",
    "          'A Tale of Two Cities,Great Expectations,Bleak House',\n",
    "          'Emma,Sense and Sensibility,Pride and Prejudice',\n",
    "          'The Wisdom of Father Brown,The Man Who Was Thursday,The Ball and the Cross',\n",
    "          'As You Like It,Julius Caesar,Hamlet']\n",
    "})\n",
    "\n",
    "\n",
    "for indx in range(len(bks_gutenberg_processed_combined)):\n",
    "  # Get sentence count\n",
    "  # returns each sentence as a list of word strings\n",
    "  sentences = sent_tokenize(bks_gutenberg_processed_combined[indx])\n",
    "  group_sentences = [' '.join(sentence) for sentence in sentences]\n",
    "  sens_count.append(len(group_sentences))\n",
    "  #bks_gutenberg_processed.append(new_text)\n",
    "  bks_gutenberg_sentences.append(sentences)\n",
    "\n",
    "df_books['Sentence Count'] = sens_count\n",
    "bks_gutenberg_sentences = [[string] for string in bks_gutenberg_sentences]\n",
    "\n",
    "#for book in bks_gutenberg_processed:\n",
    "#  books.append(book)"
   ]
  },
  {
   "cell_type": "markdown",
   "metadata": {
    "id": "TgIeNTaYV9Yk"
   },
   "source": [
    "# Process Data"
   ]
  },
  {
   "cell_type": "code",
   "execution_count": 154,
   "metadata": {
    "id": "hHw6mDos3MxE"
   },
   "outputs": [
    {
     "name": "stdout",
     "output_type": "stream",
     "text": [
      "less than chunk_size remaining\n",
      "['The six    works constituting the series are:      Indiscretions _of_ Ezra Pound      Women and Men _by_ Ford Madox Ford      Elimus _by_ B. C. Windeler       with Designs _by_ D. Shakespear      The Great American Novel       _by_ William Carlos Williams      England _by_ B.M.G.-Adams      In Our Time _by_ Ernest Hemingway       with Portrait _by_ Henry Strater                                    ***']\n",
      "1\n",
      "less than chunk_size remaining\n",
      "['But everywhere he was kindly received, for the story of  his life had become generally known.', '***']\n",
      "2\n"
     ]
    }
   ],
   "source": [
    "#***********************************************\n",
    "# Create paragraph groups of size chunk_size\n",
    "#***********************************************\n",
    "chunk_size = 3\n",
    "book_groups = []\n",
    "\n",
    "for i, book in enumerate(bks_gutenberg_sentences):\n",
    "  combined_sents = []\n",
    "\n",
    "  for j in range(0, len(book[0]), chunk_size):\n",
    "        \n",
    "    rem = len(book[0]) - j\n",
    "    \n",
    "    if rem < chunk_size:\n",
    "        print(\"less than chunk_size remaining\")\n",
    "        group = book[0][j:j+rem]\n",
    "        print(group)\n",
    "        print(i)\n",
    "    else:\n",
    "        group = book[0][j:j+chunk_size]\n",
    "        \n",
    "    new_str = \" \".join(group)\n",
    "    combined_sents.append(new_str)\n",
    "\n",
    "  book_groups.append(combined_sents)"
   ]
  },
  {
   "cell_type": "code",
   "execution_count": 155,
   "metadata": {
    "colab": {
     "base_uri": "https://localhost:8080/",
     "height": 269
    },
    "id": "9wRvr1-45uUF",
    "outputId": "df77793d-c042-48f1-9a24-a538ad5b1526"
   },
   "outputs": [
    {
     "data": {
      "text/html": [
       "<div>\n",
       "<style scoped>\n",
       "    .dataframe tbody tr th:only-of-type {\n",
       "        vertical-align: middle;\n",
       "    }\n",
       "\n",
       "    .dataframe tbody tr th {\n",
       "        vertical-align: top;\n",
       "    }\n",
       "\n",
       "    .dataframe thead th {\n",
       "        text-align: right;\n",
       "    }\n",
       "</style>\n",
       "<table border=\"1\" class=\"dataframe\">\n",
       "  <thead>\n",
       "    <tr style=\"text-align: right;\">\n",
       "      <th></th>\n",
       "      <th>Author</th>\n",
       "      <th>Short Title</th>\n",
       "      <th>Title</th>\n",
       "      <th>Sentence Count</th>\n",
       "      <th>Sentence Groups</th>\n",
       "      <th>Group Counts</th>\n",
       "    </tr>\n",
       "  </thead>\n",
       "  <tbody>\n",
       "    <tr>\n",
       "      <th>0</th>\n",
       "      <td>fitzgerald</td>\n",
       "      <td>gatsby,this side of paradise,beautiful and damned</td>\n",
       "      <td>The Great Gatsby,This Side of Paradise,The Bea...</td>\n",
       "      <td>16014</td>\n",
       "      <td>[ THE GREAT GATSBY ***          The Great Gats...</td>\n",
       "      <td>5338</td>\n",
       "    </tr>\n",
       "    <tr>\n",
       "      <th>1</th>\n",
       "      <td>hemingway</td>\n",
       "      <td>sun also rises,men without women,in our time</td>\n",
       "      <td>The Sun Also Rises,Men Without Women,In Our Time</td>\n",
       "      <td>9190</td>\n",
       "      <td>[ THE SUN ALSO RISES ***                      ...</td>\n",
       "      <td>3064</td>\n",
       "    </tr>\n",
       "    <tr>\n",
       "      <th>2</th>\n",
       "      <td>dickens</td>\n",
       "      <td>tale,great expectations,bleak house</td>\n",
       "      <td>A Tale of Two Cities,Great Expectations,Bleak ...</td>\n",
       "      <td>18374</td>\n",
       "      <td>[ THE MAYOR OF CASTERBRIDGE ***  cover        ...</td>\n",
       "      <td>6125</td>\n",
       "    </tr>\n",
       "    <tr>\n",
       "      <th>3</th>\n",
       "      <td>hardy</td>\n",
       "      <td>mayor,jude,native</td>\n",
       "      <td>The Mayor of Casterbridge,Jude the Obscure,Ret...</td>\n",
       "      <td>28308</td>\n",
       "      <td>[ A TALE OF TWO CITIES ***        A TALE OF TW...</td>\n",
       "      <td>9436</td>\n",
       "    </tr>\n",
       "    <tr>\n",
       "      <th>4</th>\n",
       "      <td>austen</td>\n",
       "      <td>emma,sense,pride</td>\n",
       "      <td>Emma,Sense and Sensibility,Pride and Prejudice</td>\n",
       "      <td>14667</td>\n",
       "      <td>[ EMMA ***        Emma    by Jane Austen      ...</td>\n",
       "      <td>4889</td>\n",
       "    </tr>\n",
       "    <tr>\n",
       "      <th>5</th>\n",
       "      <td>chesterton</td>\n",
       "      <td>wisdom brown,thurday,ball</td>\n",
       "      <td>The Wisdom of Father Brown,The Man Who Was Thu...</td>\n",
       "      <td>10134</td>\n",
       "      <td>[ THE WISDOM OF FATHER BROWN ***        Produc...</td>\n",
       "      <td>3378</td>\n",
       "    </tr>\n",
       "    <tr>\n",
       "      <th>6</th>\n",
       "      <td>shakespeare</td>\n",
       "      <td>as you like it,caesar,hamlet</td>\n",
       "      <td>As You Like It,Julius Caesar,Hamlet</td>\n",
       "      <td>6420</td>\n",
       "      <td>[ AS YOU LIKE IT ***      ********************...</td>\n",
       "      <td>2140</td>\n",
       "    </tr>\n",
       "  </tbody>\n",
       "</table>\n",
       "</div>"
      ],
      "text/plain": [
       "        Author                                        Short Title  \\\n",
       "0   fitzgerald  gatsby,this side of paradise,beautiful and damned   \n",
       "1    hemingway       sun also rises,men without women,in our time   \n",
       "2      dickens                tale,great expectations,bleak house   \n",
       "3        hardy                                  mayor,jude,native   \n",
       "4       austen                                   emma,sense,pride   \n",
       "5   chesterton                          wisdom brown,thurday,ball   \n",
       "6  shakespeare                       as you like it,caesar,hamlet   \n",
       "\n",
       "                                               Title  Sentence Count  \\\n",
       "0  The Great Gatsby,This Side of Paradise,The Bea...           16014   \n",
       "1   The Sun Also Rises,Men Without Women,In Our Time            9190   \n",
       "2  A Tale of Two Cities,Great Expectations,Bleak ...           18374   \n",
       "3  The Mayor of Casterbridge,Jude the Obscure,Ret...           28308   \n",
       "4     Emma,Sense and Sensibility,Pride and Prejudice           14667   \n",
       "5  The Wisdom of Father Brown,The Man Who Was Thu...           10134   \n",
       "6                As You Like It,Julius Caesar,Hamlet            6420   \n",
       "\n",
       "                                     Sentence Groups  Group Counts  \n",
       "0  [ THE GREAT GATSBY ***          The Great Gats...          5338  \n",
       "1  [ THE SUN ALSO RISES ***                      ...          3064  \n",
       "2  [ THE MAYOR OF CASTERBRIDGE ***  cover        ...          6125  \n",
       "3  [ A TALE OF TWO CITIES ***        A TALE OF TW...          9436  \n",
       "4  [ EMMA ***        Emma    by Jane Austen      ...          4889  \n",
       "5  [ THE WISDOM OF FATHER BROWN ***        Produc...          3378  \n",
       "6  [ AS YOU LIKE IT ***      ********************...          2140  "
      ]
     },
     "execution_count": 155,
     "metadata": {},
     "output_type": "execute_result"
    }
   ],
   "source": [
    "# Store in a dataframe\n",
    "df_books[\"Sentence Groups\"] = book_groups\n",
    "df_books[\"Group Counts\"] = df_books[\"Sentence Groups\"].apply(lambda x: len(x))\n",
    "df_books"
   ]
  },
  {
   "cell_type": "code",
   "execution_count": 156,
   "metadata": {},
   "outputs": [
    {
     "data": {
      "text/html": [
       "<div>\n",
       "<style scoped>\n",
       "    .dataframe tbody tr th:only-of-type {\n",
       "        vertical-align: middle;\n",
       "    }\n",
       "\n",
       "    .dataframe tbody tr th {\n",
       "        vertical-align: top;\n",
       "    }\n",
       "\n",
       "    .dataframe thead th {\n",
       "        text-align: right;\n",
       "    }\n",
       "</style>\n",
       "<table border=\"1\" class=\"dataframe\">\n",
       "  <thead>\n",
       "    <tr style=\"text-align: right;\">\n",
       "      <th></th>\n",
       "      <th>Author</th>\n",
       "      <th>Short Title</th>\n",
       "      <th>Title</th>\n",
       "      <th>Sentence Count</th>\n",
       "      <th>Sentence Groups</th>\n",
       "      <th>Group Counts</th>\n",
       "      <th>Train</th>\n",
       "      <th>Test</th>\n",
       "    </tr>\n",
       "  </thead>\n",
       "  <tbody>\n",
       "    <tr>\n",
       "      <th>0</th>\n",
       "      <td>fitzgerald</td>\n",
       "      <td>gatsby,this side of paradise,beautiful and damned</td>\n",
       "      <td>The Great Gatsby,This Side of Paradise,The Bea...</td>\n",
       "      <td>16014</td>\n",
       "      <td>[ THE GREAT GATSBY ***          The Great Gats...</td>\n",
       "      <td>5338</td>\n",
       "      <td>[In various unrevealed  capacities he had come...</td>\n",
       "      <td>[And the railroads came out with new schedules...</td>\n",
       "    </tr>\n",
       "    <tr>\n",
       "      <th>1</th>\n",
       "      <td>hemingway</td>\n",
       "      <td>sun also rises,men without women,in our time</td>\n",
       "      <td>The Sun Also Rises,Men Without Women,In Our Time</td>\n",
       "      <td>9190</td>\n",
       "      <td>[ THE SUN ALSO RISES ***                      ...</td>\n",
       "      <td>3064</td>\n",
       "      <td>[“A bunch of bloody globos illuminados.”    “C...</td>\n",
       "      <td>[“Didn’t you send him with a letter to me in N...</td>\n",
       "    </tr>\n",
       "    <tr>\n",
       "      <th>2</th>\n",
       "      <td>dickens</td>\n",
       "      <td>tale,great expectations,bleak house</td>\n",
       "      <td>A Tale of Two Cities,Great Expectations,Bleak ...</td>\n",
       "      <td>18374</td>\n",
       "      <td>[ THE MAYOR OF CASTERBRIDGE ***  cover        ...</td>\n",
       "      <td>6125</td>\n",
       "      <td>[And have you had a good bonfire  up there? I ...</td>\n",
       "      <td>[A queer couple, these lovers!”    “Well—I don...</td>\n",
       "    </tr>\n",
       "    <tr>\n",
       "      <th>3</th>\n",
       "      <td>hardy</td>\n",
       "      <td>mayor,jude,native</td>\n",
       "      <td>The Mayor of Casterbridge,Jude the Obscure,Ret...</td>\n",
       "      <td>28308</td>\n",
       "      <td>[ A TALE OF TWO CITIES ***        A TALE OF TW...</td>\n",
       "      <td>9436</td>\n",
       "      <td>[Saint  Antoine’s blood was up, and the blood ...</td>\n",
       "      <td>[“My own doing,” said Wemmick. “Looks pretty; ...</td>\n",
       "    </tr>\n",
       "    <tr>\n",
       "      <th>4</th>\n",
       "      <td>austen</td>\n",
       "      <td>emma,sense,pride</td>\n",
       "      <td>Emma,Sense and Sensibility,Pride and Prejudice</td>\n",
       "      <td>14667</td>\n",
       "      <td>[ EMMA ***        Emma    by Jane Austen      ...</td>\n",
       "      <td>4889</td>\n",
       "      <td>[“Where could you  possibly hear it, Mr. Knigh...</td>\n",
       "      <td>[“I was afraid you would think I was taking a ...</td>\n",
       "    </tr>\n",
       "    <tr>\n",
       "      <th>5</th>\n",
       "      <td>chesterton</td>\n",
       "      <td>wisdom brown,thurday,ball</td>\n",
       "      <td>The Wisdom of Father Brown,The Man Who Was Thu...</td>\n",
       "      <td>10134</td>\n",
       "      <td>[ THE WISDOM OF FATHER BROWN ***        Produc...</td>\n",
       "      <td>3378</td>\n",
       "      <td>[He treated everybody with complete  civility ...</td>\n",
       "      <td>[They were still sitting there as before with ...</td>\n",
       "    </tr>\n",
       "    <tr>\n",
       "      <th>6</th>\n",
       "      <td>shakespeare</td>\n",
       "      <td>as you like it,caesar,hamlet</td>\n",
       "      <td>As You Like It,Julius Caesar,Hamlet</td>\n",
       "      <td>6420</td>\n",
       "      <td>[ AS YOU LIKE IT ***      ********************...</td>\n",
       "      <td>2140</td>\n",
       "      <td>[Exit Seruant. Bru. I know that we shall haue ...</td>\n",
       "      <td>[Won to this shamefull Lust  The will of my mo...</td>\n",
       "    </tr>\n",
       "  </tbody>\n",
       "</table>\n",
       "</div>"
      ],
      "text/plain": [
       "        Author                                        Short Title  \\\n",
       "0   fitzgerald  gatsby,this side of paradise,beautiful and damned   \n",
       "1    hemingway       sun also rises,men without women,in our time   \n",
       "2      dickens                tale,great expectations,bleak house   \n",
       "3        hardy                                  mayor,jude,native   \n",
       "4       austen                                   emma,sense,pride   \n",
       "5   chesterton                          wisdom brown,thurday,ball   \n",
       "6  shakespeare                       as you like it,caesar,hamlet   \n",
       "\n",
       "                                               Title  Sentence Count  \\\n",
       "0  The Great Gatsby,This Side of Paradise,The Bea...           16014   \n",
       "1   The Sun Also Rises,Men Without Women,In Our Time            9190   \n",
       "2  A Tale of Two Cities,Great Expectations,Bleak ...           18374   \n",
       "3  The Mayor of Casterbridge,Jude the Obscure,Ret...           28308   \n",
       "4     Emma,Sense and Sensibility,Pride and Prejudice           14667   \n",
       "5  The Wisdom of Father Brown,The Man Who Was Thu...           10134   \n",
       "6                As You Like It,Julius Caesar,Hamlet            6420   \n",
       "\n",
       "                                     Sentence Groups  Group Counts  \\\n",
       "0  [ THE GREAT GATSBY ***          The Great Gats...          5338   \n",
       "1  [ THE SUN ALSO RISES ***                      ...          3064   \n",
       "2  [ THE MAYOR OF CASTERBRIDGE ***  cover        ...          6125   \n",
       "3  [ A TALE OF TWO CITIES ***        A TALE OF TW...          9436   \n",
       "4  [ EMMA ***        Emma    by Jane Austen      ...          4889   \n",
       "5  [ THE WISDOM OF FATHER BROWN ***        Produc...          3378   \n",
       "6  [ AS YOU LIKE IT ***      ********************...          2140   \n",
       "\n",
       "                                               Train  \\\n",
       "0  [In various unrevealed  capacities he had come...   \n",
       "1  [“A bunch of bloody globos illuminados.”    “C...   \n",
       "2  [And have you had a good bonfire  up there? I ...   \n",
       "3  [Saint  Antoine’s blood was up, and the blood ...   \n",
       "4  [“Where could you  possibly hear it, Mr. Knigh...   \n",
       "5  [He treated everybody with complete  civility ...   \n",
       "6  [Exit Seruant. Bru. I know that we shall haue ...   \n",
       "\n",
       "                                                Test  \n",
       "0  [And the railroads came out with new schedules...  \n",
       "1  [“Didn’t you send him with a letter to me in N...  \n",
       "2  [A queer couple, these lovers!”    “Well—I don...  \n",
       "3  [“My own doing,” said Wemmick. “Looks pretty; ...  \n",
       "4  [“I was afraid you would think I was taking a ...  \n",
       "5  [They were still sitting there as before with ...  \n",
       "6  [Won to this shamefull Lust  The will of my mo...  "
      ]
     },
     "execution_count": 156,
     "metadata": {},
     "output_type": "execute_result"
    }
   ],
   "source": [
    "# ****************************************************************\n",
    "# PREPARE DATAFRAME\n",
    "#\n",
    "# Random shuffle groups of sentences as a unit, then store the first set\n",
    "# as Training, second set at Validation, and remaining sentences as\n",
    "# Testing. Since we shuffle at first, taking Train, Valid, Test sequentially\n",
    "# is still random.\n",
    "# ***************************************************************************\n",
    "\n",
    "# Select Train, Test split\n",
    "train_split = 0.8\n",
    "test_split  = 0.2\n",
    "\n",
    "# Create data structure to put into a dataframe\n",
    "data_train = []\n",
    "data_test  = []\n",
    "\n",
    "# B number of books\n",
    "for group in book_groups:\n",
    "  #author = authors[i]\n",
    "  #short_title = short_titles[i]\n",
    "  #title = titles[i]\n",
    "\n",
    "  # passages contains the sentences for book i\n",
    "  n = len(group)\n",
    "\n",
    "  train_split_index = int(n*train_split)\n",
    "  test_split_index  = int(n*test_split)\n",
    "\n",
    "  # use temp_group as temp store in order to preserve order in book_group[i]\n",
    "  temp_group = group.copy()\n",
    "  random.shuffle(temp_group)\n",
    "\n",
    "  #train_group = book_groups[i][:train_split_index]\n",
    "  train_group = temp_group[:train_split_index]\n",
    "  test_group  = temp_group[train_split_index:]\n",
    "\n",
    "  data_train.append(train_group)\n",
    "  data_test.append(test_group)\n",
    "\n",
    "df_books[\"Train\"] = data_train\n",
    "df_books[\"Test\"]  = data_test\n",
    "df_books"
   ]
  },
  {
   "cell_type": "code",
   "execution_count": null,
   "metadata": {
    "id": "xEtt94XL7vbP"
   },
   "outputs": [],
   "source": [
    "# For remote Drive\n",
    "df_books.to_parquet(\"gutenberg_corpus_df_3chunk.parquet\")\n",
    "#!mv \"nltk_corpus_df_chunks.parquet\" \"/content/drive/My Drive/w266_Project/ProjectStore/gutenberg_corpus_df_3chunk.parquet\"\n",
    "!mv \"gutenberg_corpus_df_3chunk.parquet\" \"/content/drive/My Drive/w266/data/gutenberg_corpus_df_3chunk.parquet\""
   ]
  },
  {
   "cell_type": "code",
   "execution_count": 161,
   "metadata": {},
   "outputs": [],
   "source": [
    "# For local drive\n",
    "data_path = 'D:/MIDS/W266/Project/Data/'\n",
    "data_file = 'gutenberg_corpus_df_3chunk_case6.parquet'\n",
    "df_books.to_parquet(data_path+data_file)"
   ]
  },
  {
   "cell_type": "code",
   "execution_count": null,
   "metadata": {
    "id": "3PY2h9RL7zay"
   },
   "outputs": [],
   "source": [
    "# Unit Test parquet file retrieval\n",
    "# read into a pyarrow table\n",
    "# NOTE: list arrays before store get converted to numpy.ndarrays after recalling from Drive\n",
    "table = pya.parquet.read_table(\"/content/drive/My Drive/w266_Project/ProjectStore/nltk_corpus_df_chunks.parquet\")\n",
    "df = table.to_pandas()\n",
    "df"
   ]
  },
  {
   "cell_type": "markdown",
   "metadata": {
    "id": "Vyr6S6npAtGk"
   },
   "source": [
    "# PREPARE BINARY CLASS DATASETS ... needs update"
   ]
  },
  {
   "cell_type": "code",
   "execution_count": null,
   "metadata": {
    "id": "pmt6-5V9gSzu"
   },
   "outputs": [],
   "source": [
    "# Prepare data for binary classification model\n",
    "def create_bin_data(df,index):\n",
    "\n",
    "  train = []\n",
    "  valid = []\n",
    "  test  = []\n",
    "  list_of_authors = ['fitzgerald','hemingway','hardy','dickens','austen','chesterton','shakespeare']\n",
    "\n",
    "  for indx, row in df.iterrows():\n",
    "    if indx == index:\n",
    "      label_train = [1]*len(row[\"Train\"])\n",
    "      label_valid = [1]*len(row[\"Valid\"])\n",
    "      label_test = [1]*len(row[\"Test\"])\n",
    "    else:\n",
    "      label_train = [0]*len(row[\"Train\"])\n",
    "      label_valid = [0]*len(row[\"Valid\"])\n",
    "      label_test = [0]*len(row[\"Test\"])\n",
    "\n",
    "    zipped_train = list(zip(row[\"Train\"],label_train))\n",
    "    zipped_valid = list(zip(row[\"Valid\"],label_valid))\n",
    "    zipped_test = list(zip(row[\"Test\"],label_test))\n",
    "\n",
    "    train.append(zipped_train)\n",
    "    valid.append(zipped_valid)\n",
    "    test.append(zipped_test)\n",
    "\n",
    "  #flatten the list using list comprehension then shuffle\n",
    "  train_shuffled = [item for sublist in train for item in sublist]\n",
    "  random.shuffle(train_shuffled)\n",
    "\n",
    "  valid_shuffled = [item for sublist in valid for item in sublist]\n",
    "  random.shuffle(valid_shuffled)\n",
    "\n",
    "  test_shuffled = [item for sublist in test for item in sublist]\n",
    "  random.shuffle(test_shuffled)\n",
    "\n",
    "  df_binary_data_train = pd.DataFrame(train_shuffled, columns=['Train Data','Train Label'])\n",
    "  df_binary_data_valid = pd.DataFrame(valid_shuffled, columns=['Valid Data','Valid Label'])\n",
    "  df_binary_data_test  = pd.DataFrame(test_shuffled,  columns=['Test Data' ,'Test Label'])\n",
    "\n",
    "  return(df_binary_data_train, df_binary_data_valid, df_binary_data_test)\n"
   ]
  },
  {
   "cell_type": "code",
   "execution_count": null,
   "metadata": {
    "id": "X8o0CYcNgw-p"
   },
   "outputs": [],
   "source": [
    "df_binary_data_train, df_binary_data_valid, df_binary_data_test = create_bin_data(df_books,0)\n",
    "df_binary_data_train.to_parquet(\"gut_corpus_train_data_binary0.parquet\")\n",
    "df_binary_data_valid.to_parquet(\"gut_corpus_valid_data_binary0.parquet\")\n",
    "df_binary_data_test.to_parquet(\"gut_corpus_test_data_binary0.parquet\")\n",
    "!mv \"gut_corpus_train_data_binary0.parquet\" \"/content/drive/My Drive/w266/data/gut_corpus_train_data_binary0.parquet\"\n",
    "!mv \"gut_corpus_valid_data_binary0.parquet\" \"/content/drive/My Drive/w266/data/gut_corpus_valid_data_binary0.parquet\"\n",
    "!mv \"gut_corpus_test_data_binary0.parquet\"  \"/content/drive/My Drive/w266/data/gut_corpus_test_data_binary0.parquet\"\n",
    "\n",
    "df_binary_data_train, df_binary_data_valid, df_binary_data_test = create_bin_data(df_books,1)\n",
    "df_binary_data_train.to_parquet(\"gut_corpus_train_data_binary1.parquet\")\n",
    "df_binary_data_valid.to_parquet(\"gut_corpus_valid_data_binary1.parquet\")\n",
    "df_binary_data_test.to_parquet(\"gut_corpus_test_data_binary1.parquet\")\n",
    "!mv \"gut_corpus_train_data_binary1.parquet\" \"/content/drive/My Drive/w266/data/gut_corpus_train_data_binary1.parquet\"\n",
    "!mv \"gut_corpus_valid_data_binary1.parquet\" \"/content/drive/My Drive/w266/data/gut_corpus_valid_data_binary1.parquet\"\n",
    "!mv \"gut_corpus_test_data_binary1.parquet\"  \"/content/drive/My Drive/w266/data/gut_corpus_test_data_binary1.parquet\"\n",
    "\n",
    "df_binary_data_train, df_binary_data_valid, df_binary_data_test = create_bin_data(df_books,2)\n",
    "df_binary_data_train.to_parquet(\"gut_corpus_train_data_binary2.parquet\")\n",
    "df_binary_data_valid.to_parquet(\"gut_corpus_valid_data_binary2.parquet\")\n",
    "df_binary_data_test.to_parquet(\"gut_corpus_test_data_binary2.parquet\")\n",
    "!mv \"gut_corpus_train_data_binary2.parquet\" \"/content/drive/My Drive/w266/data/gut_corpus_train_data_binary2.parquet\"\n",
    "!mv \"gut_corpus_valid_data_binary2.parquet\" \"/content/drive/My Drive/w266/data/gut_corpus_valid_data_binary2.parquet\"\n",
    "!mv \"gut_corpus_test_data_binary2.parquet\"  \"/content/drive/My Drive/w266/data/gut_corpus_test_data_binary2.parquet\"\n",
    "\n",
    "df_binary_data_train, df_binary_data_valid, df_binary_data_test = create_bin_data(df_books,3)\n",
    "df_binary_data_train.to_parquet(\"gut_corpus_train_data_binary3.parquet\")\n",
    "df_binary_data_valid.to_parquet(\"gut_corpus_valid_data_binary3.parquet\")\n",
    "df_binary_data_test.to_parquet(\"gut_corpus_test_data_binary3.parquet\")\n",
    "!mv \"gut_corpus_train_data_binary3.parquet\" \"/content/drive/My Drive/w266/data/gut_corpus_train_data_binary3.parquet\"\n",
    "!mv \"gut_corpus_valid_data_binary3.parquet\" \"/content/drive/My Drive/w266/data/gut_corpus_valid_data_binary3.parquet\"\n",
    "!mv \"gut_corpus_test_data_binary3.parquet\"  \"/content/drive/My Drive/w266/data/gut_corpus_test_data_binary3.parquet\"\n",
    "\n",
    "df_binary_data_train, df_binary_data_valid, df_binary_data_test = create_bin_data(df_books,4)\n",
    "df_binary_data_train.to_parquet(\"gut_corpus_train_data_binary4.parquet\")\n",
    "df_binary_data_valid.to_parquet(\"gut_corpus_valid_data_binary4.parquet\")\n",
    "df_binary_data_test.to_parquet(\"gut_corpus_test_data_binary4.parquet\")\n",
    "!mv \"gut_corpus_train_data_binary4.parquet\" \"/content/drive/My Drive/w266/data/gut_corpus_train_data_binary4.parquet\"\n",
    "!mv \"gut_corpus_valid_data_binary4.parquet\" \"/content/drive/My Drive/w266/data/gut_corpus_valid_data_binary4.parquet\"\n",
    "!mv \"gut_corpus_test_data_binary4.parquet\"  \"/content/drive/My Drive/w266/data/gut_corpus_test_data_binary4.parquet\"\n",
    "\n",
    "df_binary_data_train, df_binary_data_valid, df_binary_data_test = create_bin_data(df_books,5)\n",
    "df_binary_data_train.to_parquet(\"gut_corpus_train_data_binary5.parquet\")\n",
    "df_binary_data_valid.to_parquet(\"gut_corpus_valid_data_binary5.parquet\")\n",
    "df_binary_data_test.to_parquet(\"gut_corpus_test_data_binary5.parquet\")\n",
    "!mv \"gut_corpus_train_data_binary5.parquet\" \"/content/drive/My Drive/w266/data/gut_corpus_train_data_binary5.parquet\"\n",
    "!mv \"gut_corpus_valid_data_binary5.parquet\" \"/content/drive/My Drive/w266/data/gut_corpus_valid_data_binary5.parquet\"\n",
    "!mv \"gut_corpus_test_data_binary5.parquet\"  \"/content/drive/My Drive/w266/data/gut_corpus_test_data_binary5.parquet\"\n",
    "\n",
    "df_binary_data_train, df_binary_data_valid, df_binary_data_test = create_bin_data(df_books,6)\n",
    "df_binary_data_train.to_parquet(\"gut_corpus_train_data_binary6.parquet\")\n",
    "df_binary_data_valid.to_parquet(\"gut_corpus_valid_data_binary6.parquet\")\n",
    "df_binary_data_test.to_parquet(\"gut_corpus_test_data_binary6.parquet\")\n",
    "!mv \"gut_corpus_train_data_binary6.parquet\" \"/content/drive/My Drive/w266/data/gut_corpus_train_data_binary6.parquet\"\n",
    "!mv \"gut_corpus_valid_data_binary6.parquet\" \"/content/drive/My Drive/w266/data/gut_corpus_valid_data_binary6.parquet\"\n",
    "!mv \"gut_corpus_test_data_binary6.parquet\"  \"/content/drive/My Drive/w266/data/gut_corpus_test_data_binary6.parquet\""
   ]
  },
  {
   "cell_type": "code",
   "execution_count": null,
   "metadata": {
    "colab": {
     "base_uri": "https://localhost:8080/"
    },
    "id": "RwixuHB6qCnj",
    "outputId": "67cc8546-cfb4-4459-b523-e7d6c2c1a20f"
   },
   "outputs": [
    {
     "data": {
      "text/plain": [
       "('Both of which,” said Joe, quite charmed  with his logical arrangement, “being done, now this to you a true  friend, say. Namely. You mustn’t go a overdoing on it, but you must  have your supper and your wine and water, and you must be put betwixt  the sheets.”    The delicacy with which Joe dismissed this theme, and the sweet tact  and kindness with which Biddy—who with her woman’s wit had found me out  so soon—had prepared him for it, made a deep impression on my mind.',\n",
       " 2)"
      ]
     },
     "execution_count": 159,
     "metadata": {},
     "output_type": "execute_result"
    }
   ],
   "source": [
    "\n",
    "#df_binary_data_test.to_parquet(model_filename)\n",
    "#!mv $model_filename \"/content/drive/My Drive/w266/\"\n",
    "\n",
    "test_shuffled[15]\n"
   ]
  },
  {
   "cell_type": "markdown",
   "metadata": {
    "id": "czWKb-gSAYSM"
   },
   "source": [
    "# PREPARE MULICLASS DATASETS"
   ]
  },
  {
   "cell_type": "code",
   "execution_count": 157,
   "metadata": {},
   "outputs": [],
   "source": [
    "# ********************************************************\n",
    "# Prepare data for multiclass classification model\n",
    "#\n",
    "# index location --> label\n",
    "# ********************************************************\n",
    "train = []\n",
    "test  = []\n",
    "\n",
    "for indx, row in df_books.iterrows():\n",
    "  #print(len(row[\"Train\"]))\n",
    "  label_train = [indx]*len(row[\"Train\"])\n",
    "  label_test  = [indx]*len(row[\"Test\"])\n",
    "  #print(len(label_train))\n",
    "  zipped_train = list(zip(row[\"Train\"],label_train))\n",
    "  zipped_test = list(zip(row[\"Test\"],label_test))\n",
    "  train.append(zipped_train)\n",
    "  test.append(zipped_test)\n",
    "\n",
    "#flatten the list using list comprehension then shuffle\n",
    "train_shuffled = [item for sublist in train for item in sublist]\n",
    "random.shuffle(train_shuffled)\n",
    "\n",
    "test_shuffled = [item for sublist in test for item in sublist]\n",
    "random.shuffle(test_shuffled)\n",
    "\n",
    "df_multi_data_train = pd.DataFrame(train_shuffled, columns=['Train Data','Train Label'])\n",
    "df_multi_data_test  = pd.DataFrame(test_shuffled,  columns=['Test Data' ,'Test Label'])"
   ]
  },
  {
   "cell_type": "code",
   "execution_count": null,
   "metadata": {
    "id": "FTMjqTeipT-Z"
   },
   "outputs": [],
   "source": [
    "# ############################################\n",
    "# Save to Google Drive\n",
    "# ############################################\n",
    "df_multi_data_train.to_parquet(\"gut_corpus_train_data_multi.parquet\")\n",
    "df_multi_data_valid.to_parquet(\"gut_corpus_valid_data_multi.parquet\")\n",
    "df_multi_data_test.to_parquet(\"gut_corpus_test_data_multi.parquet\")\n",
    "\n",
    "#!mv \"gut_corpus_train_data_multi.parquet\" \"/content/drive/My Drive/w266/gut_corpus_train_data_multi.parquet\"\n",
    "#!mv \"gut_corpus_valid_data_multi.parquet\" \"/content/drive/My Drive/w266/gut_corpus_valid_data_multi.parquet\"\n",
    "#!mv \"gut_corpus_test_data_multi.parquet\" \"/content/drive/My Drive/w266/gut_corpus_test_data_multi.parquet\"\n",
    "!mv \"gut_corpus_train_data_multi.parquet\" \"/content/drive/My Drive/w266/data/gut_corpus_train_data_multi.parquet\"\n",
    "!mv \"gut_corpus_valid_data_multi.parquet\" \"/content/drive/My Drive/w266/data/gut_corpus_valid_data_multi.parquet\"\n",
    "!mv \"gut_corpus_test_data_multi.parquet\" \"/content/drive/My Drive/w266/data/gut_corpus_test_data_multi.parquet\"\n"
   ]
  },
  {
   "cell_type": "code",
   "execution_count": 162,
   "metadata": {},
   "outputs": [],
   "source": [
    "# ############################################\n",
    "# Save to local drive\n",
    "# ############################################\n",
    "data_file_train = 'train_case6.parquet'\n",
    "#data_file_valid = 'datatest_valid.parquet'\n",
    "data_file_test  = 'test_case6.parquet'\n",
    "data_path = 'D:/MIDS/W266/Project/Data/'\n",
    "df_multi_data_train.to_parquet(data_path+data_file_train)\n",
    "#df_multi_data_valid.to_parquet(data_path+data_file_valid)\n",
    "df_multi_data_test.to_parquet(data_path+data_file_test)"
   ]
  },
  {
   "cell_type": "markdown",
   "metadata": {
    "id": "Yos7YJeGAe7v"
   },
   "source": [
    "# PREPARE MULTICLASS BALANCED DATASETS\n",
    "## requires portions of previous sections"
   ]
  },
  {
   "cell_type": "code",
   "execution_count": 159,
   "metadata": {
    "id": "J8grg6IV1byl"
   },
   "outputs": [],
   "source": [
    "# we're going to sort the tuple by the second value which is an integer indicating author\n",
    "# then from the sorted data (which should be shuffled in terms of order of sentences from any given novel)\n",
    "# select a max number of sentences not greater than the smallest novel\n",
    "# Then reshuffle and store the training and validation data. Test data can remain at the larger size.\n",
    "\n",
    "# Find smallest group count, take percentage factor of that amount\n",
    "#MIN_GROUP_COUNT_TRAIN = np.minimum(int(np.min(df_books['Group Counts'])*train_split),100)\n",
    "sample_factor = 0.2\n",
    "MIN_GROUP_COUNT_TRAIN = int(sample_factor * np.min(df_books['Group Counts'])*train_split)\n",
    "MIN_GROUP_COUNT_VALID = int(sample_factor * np.min(df_books['Group Counts'])*valid_split)\n",
    "NUM_OF_LABELS = 7\n",
    "\n",
    "# Sort by label\n",
    "sorted_train = sorted(train_shuffled, key=lambda x: x[1])\n",
    "#sorted_valid = sorted(valid_shuffled, key=lambda x: x[1])\n",
    "\n",
    "train_balanced = []\n",
    "#valid_balanced = []\n",
    "\n",
    "for indx in range(NUM_OF_LABELS):\n",
    "  train_balanced.extend([item for item in sorted_train if item[1] == indx][:MIN_GROUP_COUNT_TRAIN])\n",
    "  #valid_balanced.extend([item for item in sorted_valid if item[1] == indx][:MIN_GROUP_COUNT_VALID])\n",
    "\n",
    "# shuffle labels\n",
    "random.shuffle(train_balanced)\n",
    "#random.shuffle(valid_balanced)"
   ]
  },
  {
   "cell_type": "code",
   "execution_count": null,
   "metadata": {
    "id": "0EkgeAUzJbvQ"
   },
   "outputs": [],
   "source": [
    "# ############################################\n",
    "# Save to remote Drive\n",
    "# ############################################\n",
    "df_multi_data_train = pd.DataFrame(train_balanced, columns=['Train Data','Train Label'])\n",
    "df_multi_data_valid = pd.DataFrame(valid_balanced, columns=['Valid Data','Valid Label'])\n",
    "df_multi_data_test  = pd.DataFrame(test_shuffled,  columns=['Test Data' ,'Test Label'])\n",
    "\n",
    "df_multi_data_train.to_parquet(\"gut_corpus_train_data_multi_bal.parquet\")\n",
    "df_multi_data_valid.to_parquet(\"gut_corpus_valid_data_multi_bal.parquet\")\n",
    "df_multi_data_test.to_parquet(\"gut_corpus_test_data_multi_bal.parquet\")\n",
    "\n",
    "!mv \"gut_corpus_train_data_multi_bal.parquet\" \"/content/drive/My Drive/w266/data/gut_corpus_train_data_multi_bal.parquet\"\n",
    "!mv \"gut_corpus_valid_data_multi_bal.parquet\" \"/content/drive/My Drive/w266/data/gut_corpus_valid_data_multi_bal.parquet\"\n",
    "!mv \"gut_corpus_test_data_multi_bal.parquet\" \"/content/drive/My Drive/w266/data/gut_corpus_test_data_multi_bal.parquet\""
   ]
  },
  {
   "cell_type": "code",
   "execution_count": 163,
   "metadata": {
    "id": "Ptdrvw1kSEoG"
   },
   "outputs": [],
   "source": [
    "# ############################################\n",
    "# Save to local drive\n",
    "# ############################################\n",
    "df_multi_data_train = pd.DataFrame(train_balanced, columns=['Train Data','Train Label'])\n",
    "#df_multi_data_valid = pd.DataFrame(valid_balanced, columns=['Valid Data','Valid Label'])\n",
    "df_multi_data_test  = pd.DataFrame(test_shuffled,  columns=['Test Data' ,'Test Label'])\n",
    "\n",
    "data_path = 'D:/MIDS/W266/Project/Data/'\n",
    "data_file_train = 'train_bal_case6.parquet'\n",
    "#data_file_valid = 'datatest_valid_bal.parquet'\n",
    "data_file_test  = 'test_bal_case6.parquet'\n",
    "\n",
    "df_multi_data_train.to_parquet(data_path+data_file_train)\n",
    "#df_multi_data_valid.to_parquet(data_path+data_file_valid)\n",
    "df_multi_data_test.to_parquet(data_path+data_file_test)"
   ]
  },
  {
   "cell_type": "code",
   "execution_count": null,
   "metadata": {},
   "outputs": [],
   "source": []
  }
 ],
 "metadata": {
  "colab": {
   "provenance": []
  },
  "kernelspec": {
   "display_name": "Python 3 (ipykernel)",
   "language": "python",
   "name": "python3"
  },
  "language_info": {
   "codemirror_mode": {
    "name": "ipython",
    "version": 3
   },
   "file_extension": ".py",
   "mimetype": "text/x-python",
   "name": "python",
   "nbconvert_exporter": "python",
   "pygments_lexer": "ipython3",
   "version": "3.9.12"
  }
 },
 "nbformat": 4,
 "nbformat_minor": 1
}
