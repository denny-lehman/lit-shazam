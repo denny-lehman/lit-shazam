{
 "cells": [
  {
   "cell_type": "markdown",
   "id": "3693462d",
   "metadata": {},
   "source": [
    "# Preprocessing text\n",
    "\n",
    "Input:\n",
    "    \n",
    "    urls to the books\n",
    "    \n",
    "output:\n",
    "\n",
    "    X_train = list of sentences as bag of words\n",
    "    \n",
    "    y_train = author labels (0, 1, 2, ..., n)\n",
    "    \n",
    "    *same for train, test, and validation sets\n",
    "\n",
    "### An example\n",
    "What is an example? ie. X_train[0]?\n",
    "\n",
    "Each example is a bunch of sentences that have been processed into a bag of words such that:\n",
    "\n",
    "`'An example with two sentences. here\\'s the second.'`\n",
    "\n",
    "becomes:\n",
    "\n",
    "`'an exampl with two sentenc here s the second'`\n",
    "\n",
    "\n",
    "### The process\n",
    "What I would like to do:\n",
    "\n",
    "url -> book -> remove unwanted parts -> sentence tokenize -> stem -> reassemble -> pickle"
   ]
  },
  {
   "cell_type": "code",
   "execution_count": null,
   "id": "06185691",
   "metadata": {},
   "outputs": [],
   "source": [
    "# 21 Term Frequency inverse document frequency"
   ]
  },
  {
   "cell_type": "code",
   "execution_count": null,
   "id": "31df5e9b",
   "metadata": {},
   "outputs": [],
   "source": [
    "# imports\n",
    "import requests\n",
    "import re\n",
    "import pandas as pd\n",
    "import os"
   ]
  },
  {
   "cell_type": "code",
   "execution_count": null,
   "id": "03375d38",
   "metadata": {},
   "outputs": [],
   "source": [
    "os.chdir('..')\n",
    "os.getcwd()\n"
   ]
  },
  {
   "cell_type": "code",
   "execution_count": null,
   "id": "264014ab",
   "metadata": {},
   "outputs": [],
   "source": [
    "# get data\n",
    "from src.data.make_dataset import get_book\n",
    "# from data.raw.book_urls import book_urls # not working?\n",
    "book_urls = {'great_gatsby':'https://www.gutenberg.org/cache/epub/64317/pg64317.txt',\n",
    "'the_sun_also_rises':'https://www.gutenberg.org/cache/epub/67138/pg67138.txt',\n",
    "'a_tale_of_two_cities':'https://www.gutenberg.org/cache/epub/98/pg98.txt'}\n",
    "\n",
    "\n",
    "data_set = {}\n",
    "for title, url in book_urls.items():\n",
    "    print(url)\n",
    "    data_set[title] = get_book(url)"
   ]
  },
  {
   "cell_type": "code",
   "execution_count": null,
   "id": "3d312e55",
   "metadata": {},
   "outputs": [],
   "source": [
    "from src.data.make_dataset import remove_book_start, remove_bookend, remove_new_line_tabs"
   ]
  },
  {
   "cell_type": "code",
   "execution_count": null,
   "id": "008d15fa",
   "metadata": {},
   "outputs": [],
   "source": [
    "for title, book in data_set.items():\n",
    "    print(f'processing {title}')\n",
    "    book = remove_book_start(book)\n",
    "    book = remove_bookend(book)\n",
    "    book = remove_new_line_tabs(book)\n",
    "    data_set[title] = book\n",
    "    \n",
    "    "
   ]
  },
  {
   "cell_type": "code",
   "execution_count": null,
   "id": "80adfc8e",
   "metadata": {},
   "outputs": [],
   "source": [
    "# split to sentences"
   ]
  },
  {
   "cell_type": "code",
   "execution_count": null,
   "id": "6d2973be",
   "metadata": {},
   "outputs": [],
   "source": [
    "import nltk\n",
    "nltk.download('punkt')\n",
    "from nltk.tokenize import sent_tokenize"
   ]
  },
  {
   "cell_type": "code",
   "execution_count": null,
   "id": "7b306e13",
   "metadata": {},
   "outputs": [],
   "source": [
    "def convert_to_sentences(book, sentences_per_example=3):\n",
    "    \"\"\"returns a list of (sentences_per_example, author) pairs \"\"\"\n",
    "    sentences = sent_tokenize(book)\n",
    "    total_clusters = int(len(sentences)/sentences_per_example)\n",
    "    data = []\n",
    "    for i in range(total_clusters):\n",
    "        sentence_cluster = sentences[i*sentences_per_example:(i+1)*sentences_per_example]\n",
    "        data += [''.join(sentence_cluster)]\n",
    "        \n",
    "    return data"
   ]
  },
  {
   "cell_type": "code",
   "execution_count": null,
   "id": "e6c499cb",
   "metadata": {},
   "outputs": [],
   "source": [
    "from nltk.tokenize import RegexpTokenizer\n",
    "from nltk.stem import PorterStemmer\n",
    "def sentence_to_bag_of_words(sentence):\n",
    "    \"\"\"Converts words in a sentence into stemmed tokens\"\"\"\n",
    "    # 1. lower case\n",
    "    # 2. remove punctuation\n",
    "    # 3. tokenize\n",
    "    # 4. stem\n",
    "    # 5. TODO: lem\n",
    "    # 6. combine back together with spaces\n",
    "    \n",
    "    result = sentence.lower()\n",
    "    \n",
    "\n",
    "    tokenizer = RegexpTokenizer(r'\\w+')\n",
    "    token_list = tokenizer.tokenize(result)\n",
    "    \n",
    "    \n",
    "    porter = PorterStemmer()\n",
    "    porter_tokens = [porter.stem(token) for token in token_list]\n",
    "    \n",
    "    bag_of_words = ' '.join(porter_tokens)\n",
    "    \n",
    "    return bag_of_words\n"
   ]
  },
  {
   "cell_type": "code",
   "execution_count": null,
   "id": "946f87c4",
   "metadata": {},
   "outputs": [],
   "source": [
    "def convert_examples_to_bag_of_words(examples:list):\n",
    "    return [sentence_to_bag_of_words(batch_of_sentences) for batch_of_sentences in examples]\n",
    "    "
   ]
  },
  {
   "cell_type": "code",
   "execution_count": null,
   "id": "df51f4fa",
   "metadata": {},
   "outputs": [],
   "source": [
    "sentence_to_bag_of_words('Eighty-seven miles to go, yet.  Onward!')"
   ]
  },
  {
   "cell_type": "code",
   "execution_count": null,
   "id": "8a15211e",
   "metadata": {},
   "outputs": [],
   "source": [
    "test_examples = ['One example, with a sentence here!', \n",
    " 'An example with two sentences. here\\'s the second.', \n",
    " 'A third example, with some awe-inspiring Examples of punck:tua-TION!']\n",
    "convert_examples_to_bag_of_words(test_examples)"
   ]
  },
  {
   "cell_type": "code",
   "execution_count": null,
   "id": "0b537899",
   "metadata": {},
   "outputs": [],
   "source": [
    "# TODO: fix bug where words like here's are not properly processed\n",
    "# TODO: Lemmatization"
   ]
  },
  {
   "cell_type": "code",
   "execution_count": null,
   "id": "db526cbf",
   "metadata": {},
   "outputs": [],
   "source": [
    "#Encode labels\n",
    "title2author = {'great_gatsby':'Fitzgerald','the_sun_also_rises':'Hemingway','a_tale_of_two_cities':'Dickens'}\n",
    "id2author = {0:'Fitzgerald',1:'Hemingway',2:'Dickens'}\n",
    "author2id = {value:key for (key, value) in id2author.items()}\n",
    "print(author2id)"
   ]
  },
  {
   "cell_type": "code",
   "execution_count": null,
   "id": "724729ab",
   "metadata": {},
   "outputs": [],
   "source": [
    "X, y = [],[]\n",
    "for title, book in data_set.items():\n",
    "    examples = convert_to_sentences(book, sentences_per_example=3)\n",
    "    processed_examples = convert_examples_to_bag_of_words(examples)\n",
    "    labels = [author2id[title2author[title]]] * len(examples)\n",
    "    X += processed_examples\n",
    "    y += labels\n",
    "    \n",
    "assert len(y) == len(X)"
   ]
  },
  {
   "cell_type": "code",
   "execution_count": null,
   "id": "041a42c0",
   "metadata": {},
   "outputs": [],
   "source": []
  },
  {
   "cell_type": "code",
   "execution_count": null,
   "id": "b4d1edfc",
   "metadata": {},
   "outputs": [],
   "source": [
    "from sklearn.model_selection import train_test_split\n",
    "# train val test split 60%, 20%, 20%\n",
    "X_train, X_test, y_train, y_test = train_test_split(X, y, test_size=0.2, random_state=1) # 100% = 80% train, 20% test\n",
    "\n",
    "X_train, X_val, y_train, y_val = train_test_split(X_train, y_train, test_size=0.25, random_state=1) # 0.25 x 0.8 = 0.2"
   ]
  },
  {
   "cell_type": "code",
   "execution_count": null,
   "id": "99881b11",
   "metadata": {},
   "outputs": [],
   "source": [
    "X_train[3].split()[0:10]"
   ]
  },
  {
   "cell_type": "code",
   "execution_count": null,
   "id": "f37e4b9c",
   "metadata": {},
   "outputs": [],
   "source": [
    "X_train[0:2]"
   ]
  },
  {
   "cell_type": "markdown",
   "id": "4a030e05",
   "metadata": {},
   "source": [
    "# Save data\n",
    "X's = ['sit on tom s lap mr wilson call up sever peopl',\n",
    "\n",
    "'on the telephon then there were no cigarett and i went out to buy',\n",
    "\n",
    "'some at the drugstor on the corner when i came back they had' ...]\n",
    "\n",
    "y's = [\n",
    "0,\n",
    "\n",
    "0,\n",
    "\n",
    "2,...\n",
    "]\n"
   ]
  },
  {
   "cell_type": "code",
   "execution_count": null,
   "id": "9a917fd0",
   "metadata": {},
   "outputs": [],
   "source": [
    "import pickle\n",
    "with open('./data/processed/2nb_processed_data.pkl', 'wb') as f:\n",
    "    pickle.dump((X_train, X_val, X_test, y_train, y_val, y_test), f)"
   ]
  },
  {
   "cell_type": "code",
   "execution_count": null,
   "id": "b4e15fd7",
   "metadata": {},
   "outputs": [],
   "source": [
    "# from sklearn.feature_extraction.text import CountVectorizer"
   ]
  },
  {
   "cell_type": "code",
   "execution_count": null,
   "id": "489cecbe",
   "metadata": {},
   "outputs": [],
   "source": [
    "# cv = CountVectorizer()\n",
    "\n",
    "# X_train = cv.fit_transform(X_train)\n",
    "# X_val = cv.transform(X_val)\n",
    "# X_test = cv.transform(X_test)"
   ]
  },
  {
   "cell_type": "code",
   "execution_count": null,
   "id": "55066e91",
   "metadata": {},
   "outputs": [],
   "source": [
    "# save the data"
   ]
  },
  {
   "cell_type": "code",
   "execution_count": null,
   "id": "e7f0cfc6",
   "metadata": {},
   "outputs": [],
   "source": [
    "# os.getcwd()"
   ]
  },
  {
   "cell_type": "code",
   "execution_count": null,
   "id": "2f730a8b",
   "metadata": {},
   "outputs": [],
   "source": []
  }
 ],
 "metadata": {
  "kernelspec": {
   "display_name": "Python 3 (ipykernel)",
   "language": "python",
   "name": "python3"
  },
  "language_info": {
   "codemirror_mode": {
    "name": "ipython",
    "version": 3
   },
   "file_extension": ".py",
   "mimetype": "text/x-python",
   "name": "python",
   "nbconvert_exporter": "python",
   "pygments_lexer": "ipython3",
   "version": "3.10.13"
  }
 },
 "nbformat": 4,
 "nbformat_minor": 5
}
