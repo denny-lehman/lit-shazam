{
 "cells": [
  {
   "cell_type": "markdown",
   "id": "30ab4641",
   "metadata": {},
   "source": [
    "# Preprocessing text\n",
    "\n",
    "Input:\n",
    "    \n",
    "    urls to the books\n",
    "    \n",
    "output:\n",
    "\n",
    "    X_train = list of sentences as bag of words\n",
    "    \n",
    "    y_train = author labels (0, 1, 2, ..., n)\n",
    "    \n",
    "    *same for train, test, and validation sets\n",
    "\n",
    "### An example\n",
    "What is an example? ie. X_train[0]?\n",
    "\n",
    "Each example is a bunch of sentences that have been processed into a bag of words such that:\n",
    "\n",
    "`'An example with two sentences. here\\'s the second.'`\n",
    "\n",
    "becomes:\n",
    "\n",
    "`'an exampl with two sentenc here s the second'`\n",
    "\n",
    "\n",
    "### The process\n",
    "What I would like to do:\n",
    "\n",
    "url -> book -> remove unwanted parts -> sentence tokenize -> stem -> reassemble -> pickle"
   ]
  },
  {
   "cell_type": "code",
   "execution_count": 1,
   "id": "a7a35908",
   "metadata": {},
   "outputs": [],
   "source": [
    "# 21 Term Frequency inverse document frequency"
   ]
  },
  {
   "cell_type": "code",
   "execution_count": 2,
   "id": "0a711d41",
   "metadata": {},
   "outputs": [],
   "source": [
    "# imports\n",
    "import requests\n",
    "import re\n",
    "import pandas as pd\n",
    "import os"
   ]
  },
  {
   "cell_type": "code",
   "execution_count": 3,
   "id": "2f9b10c5",
   "metadata": {},
   "outputs": [
    {
     "data": {
      "text/plain": [
       "'/home/denny/Documents/mids/w266_NLP/lit-shazam'"
      ]
     },
     "execution_count": 3,
     "metadata": {},
     "output_type": "execute_result"
    }
   ],
   "source": [
    "os.chdir('..')\n",
    "os.getcwd()\n"
   ]
  },
  {
   "cell_type": "code",
   "execution_count": 4,
   "id": "dea26ceb",
   "metadata": {},
   "outputs": [
    {
     "name": "stdout",
     "output_type": "stream",
     "text": [
      "https://www.gutenberg.org/cache/epub/64317/pg64317.txt\n",
      "https://www.gutenberg.org/cache/epub/67138/pg67138.txt\n",
      "https://www.gutenberg.org/cache/epub/98/pg98.txt\n"
     ]
    }
   ],
   "source": [
    "# get data\n",
    "from src.data.make_dataset import get_book\n",
    "# from data.raw.book_urls import book_urls # not working?\n",
    "book_urls = {'great_gatsby':'https://www.gutenberg.org/cache/epub/64317/pg64317.txt',\n",
    "'the_sun_also_rises':'https://www.gutenberg.org/cache/epub/67138/pg67138.txt',\n",
    "'a_tale_of_two_cities':'https://www.gutenberg.org/cache/epub/98/pg98.txt'}\n",
    "\n",
    "\n",
    "data_set = {}\n",
    "for title, url in book_urls.items():\n",
    "    print(url)\n",
    "    data_set[title] = get_book(url)"
   ]
  },
  {
   "cell_type": "code",
   "execution_count": 5,
   "id": "62faf229",
   "metadata": {},
   "outputs": [],
   "source": [
    "from src.data.make_dataset import remove_book_start, remove_bookend, remove_new_line_tabs"
   ]
  },
  {
   "cell_type": "code",
   "execution_count": 6,
   "id": "be78368a",
   "metadata": {},
   "outputs": [
    {
     "name": "stdout",
     "output_type": "stream",
     "text": [
      "processing great_gatsby\n",
      "processing the_sun_also_rises\n",
      "processing a_tale_of_two_cities\n"
     ]
    }
   ],
   "source": [
    "for title, book in data_set.items():\n",
    "    print(f'processing {title}')\n",
    "    book = remove_book_start(book)\n",
    "    book = remove_bookend(book)\n",
    "    book = remove_new_line_tabs(book)\n",
    "    data_set[title] = book\n",
    "    \n",
    "    "
   ]
  },
  {
   "cell_type": "code",
   "execution_count": 7,
   "id": "8007bbb4",
   "metadata": {},
   "outputs": [],
   "source": [
    "# split to sentences"
   ]
  },
  {
   "cell_type": "code",
   "execution_count": 8,
   "id": "de66f7b7",
   "metadata": {},
   "outputs": [
    {
     "name": "stderr",
     "output_type": "stream",
     "text": [
      "[nltk_data] Downloading package punkt to /home/denny/nltk_data...\n",
      "[nltk_data]   Package punkt is already up-to-date!\n"
     ]
    }
   ],
   "source": [
    "import nltk\n",
    "nltk.download('punkt')\n",
    "from nltk.tokenize import sent_tokenize"
   ]
  },
  {
   "cell_type": "code",
   "execution_count": 9,
   "id": "11978f1a",
   "metadata": {},
   "outputs": [],
   "source": [
    "def convert_to_sentences(book, sentences_per_example=3):\n",
    "    \"\"\"returns a list of (sentences_per_example, author) pairs \"\"\"\n",
    "    sentences = sent_tokenize(book)\n",
    "    total_clusters = int(len(sentences)/sentences_per_example)\n",
    "    data = []\n",
    "    for i in range(total_clusters):\n",
    "        sentence_cluster = sentences[i*sentences_per_example:(i+1)*sentences_per_example]\n",
    "        data += [''.join(sentence_cluster)]\n",
    "        \n",
    "    return data"
   ]
  },
  {
   "cell_type": "code",
   "execution_count": 10,
   "id": "46dd3be6",
   "metadata": {},
   "outputs": [],
   "source": [
    "from nltk.tokenize import RegexpTokenizer\n",
    "from nltk.stem import PorterStemmer\n",
    "def sentence_to_bag_of_words(sentence):\n",
    "    \"\"\"Converts words in a sentence into stemmed tokens\"\"\"\n",
    "    # 1. lower case\n",
    "    # 2. remove punctuation\n",
    "    # 3. tokenize\n",
    "    # 4. stem\n",
    "    # 5. TODO: lem\n",
    "    # 6. combine back together with spaces\n",
    "    \n",
    "    result = sentence.lower()\n",
    "    \n",
    "\n",
    "    tokenizer = RegexpTokenizer(r'\\w+')\n",
    "    token_list = tokenizer.tokenize(result)\n",
    "    \n",
    "    \n",
    "    porter = PorterStemmer()\n",
    "    porter_tokens = [porter.stem(token) for token in token_list]\n",
    "    \n",
    "    bag_of_words = ' '.join(porter_tokens)\n",
    "    \n",
    "    return bag_of_words\n"
   ]
  },
  {
   "cell_type": "code",
   "execution_count": 11,
   "id": "984dc02c",
   "metadata": {},
   "outputs": [],
   "source": [
    "def convert_examples_to_bag_of_words(examples:list):\n",
    "    return [sentence_to_bag_of_words(batch_of_sentences) for batch_of_sentences in examples]\n",
    "    "
   ]
  },
  {
   "cell_type": "code",
   "execution_count": 12,
   "id": "a02419f8",
   "metadata": {},
   "outputs": [
    {
     "data": {
      "text/plain": [
       "'eighti seven mile to go yet onward'"
      ]
     },
     "execution_count": 12,
     "metadata": {},
     "output_type": "execute_result"
    }
   ],
   "source": [
    "sentence_to_bag_of_words('Eighty-seven miles to go, yet.  Onward!')"
   ]
  },
  {
   "cell_type": "code",
   "execution_count": 13,
   "id": "608d4cdf",
   "metadata": {},
   "outputs": [
    {
     "data": {
      "text/plain": [
       "['one exampl with a sentenc here',\n",
       " 'an exampl with two sentenc here s the second',\n",
       " 'a third exampl with some awe inspir exampl of punck tua tion']"
      ]
     },
     "execution_count": 13,
     "metadata": {},
     "output_type": "execute_result"
    }
   ],
   "source": [
    "test_examples = ['One example, with a sentence here!', \n",
    " 'An example with two sentences. here\\'s the second.', \n",
    " 'A third example, with some awe-inspiring Examples of punck:tua-TION!']\n",
    "convert_examples_to_bag_of_words(test_examples)"
   ]
  },
  {
   "cell_type": "code",
   "execution_count": 14,
   "id": "7b12167c",
   "metadata": {},
   "outputs": [],
   "source": [
    "# TODO: fix bug where words like here's are not properly processed\n",
    "# TODO: Lemmatization"
   ]
  },
  {
   "cell_type": "code",
   "execution_count": 15,
   "id": "a41f0133",
   "metadata": {},
   "outputs": [
    {
     "name": "stdout",
     "output_type": "stream",
     "text": [
      "{'Fitzgerald': 0, 'Hemingway': 1, 'Dickens': 2}\n"
     ]
    }
   ],
   "source": [
    "#Encode labels\n",
    "title2author = {'great_gatsby':'Fitzgerald','the_sun_also_rises':'Hemingway','a_tale_of_two_cities':'Dickens'}\n",
    "id2author = {0:'Fitzgerald',1:'Hemingway',2:'Dickens'}\n",
    "author2id = {value:key for (key, value) in id2author.items()}\n",
    "print(author2id)"
   ]
  },
  {
   "cell_type": "code",
   "execution_count": 16,
   "id": "4967fff6",
   "metadata": {},
   "outputs": [],
   "source": [
    "X, y = [],[]\n",
    "for title, book in data_set.items():\n",
    "    examples = convert_to_sentences(book, sentences_per_example=3)\n",
    "    processed_examples = convert_examples_to_bag_of_words(examples)\n",
    "    labels = [author2id[title2author[title]]] * len(examples)\n",
    "    X += processed_examples\n",
    "    y += labels\n",
    "    \n",
    "assert len(y) == len(X)"
   ]
  },
  {
   "cell_type": "code",
   "execution_count": null,
   "id": "f9f75ca7",
   "metadata": {},
   "outputs": [],
   "source": []
  },
  {
   "cell_type": "code",
   "execution_count": 17,
   "id": "5db6bff8",
   "metadata": {},
   "outputs": [],
   "source": [
    "from sklearn.model_selection import train_test_split\n",
    "# train val test split 60%, 20%, 20%\n",
    "X_train, X_test, y_train, y_test = train_test_split(X, y, test_size=0.2, random_state=1) # 100% = 80% train, 20% test\n",
    "\n",
    "X_train, X_val, y_train, y_val = train_test_split(X_train, y_train, test_size=0.25, random_state=1) # 0.25 x 0.8 = 0.2"
   ]
  },
  {
   "cell_type": "code",
   "execution_count": 18,
   "id": "ef7446b1",
   "metadata": {},
   "outputs": [
    {
     "data": {
      "text/plain": [
       "['it', 'is', 'veri', 'import', 'to', 'discov', 'grace', 'exit', 'like', 'that']"
      ]
     },
     "execution_count": 18,
     "metadata": {},
     "output_type": "execute_result"
    }
   ],
   "source": [
    "X_train[3].split()[0:10]"
   ]
  },
  {
   "cell_type": "code",
   "execution_count": 19,
   "id": "ff9ddad4",
   "metadata": {},
   "outputs": [
    {
     "data": {
      "text/plain": [
       "['sit on tom s lap mr wilson call up sever peopl on the telephon then there were no cigarett and i went out to buy some at the drugstor on the corner when i came back they had both disappear so i sat down discreetli in the live room and read a chapter of simon call peter either it wa terribl stuff or the whiski distort thing becaus it didn t make ani sens to me just as tom and myrtl after the first drink mr wilson and i call each other by our first name reappear compani commenc to arriv at the apart door',\n",
       " 'that wa the last day befor the fiesta chapter 15 at noon of sunday the 6th of juli the fiesta explod there is no other way to describ it']"
      ]
     },
     "execution_count": 19,
     "metadata": {},
     "output_type": "execute_result"
    }
   ],
   "source": [
    "X_train[0:2]"
   ]
  },
  {
   "cell_type": "markdown",
   "id": "ffaca560",
   "metadata": {},
   "source": [
    "# Save data\n",
    "X's = ['sit on tom s lap mr wilson call up sever peopl',\n",
    "\n",
    "'on the telephon then there were no cigarett and i went out to buy',\n",
    "\n",
    "'some at the drugstor on the corner when i came back they had' ...]\n",
    "\n",
    "y's = [\n",
    "0,\n",
    "\n",
    "0,\n",
    "\n",
    "2,...\n",
    "]\n"
   ]
  },
  {
   "cell_type": "code",
   "execution_count": 20,
   "id": "2019ac35",
   "metadata": {},
   "outputs": [],
   "source": [
    "import pickle\n",
    "with open('./data/processed/nb_processed_data.pkl', 'wb') as f:\n",
    "    pickle.dump((X_train, X_val, X_test, y_train, y_val, y_test), f)"
   ]
  },
  {
   "cell_type": "code",
   "execution_count": 21,
   "id": "f4b736b0",
   "metadata": {},
   "outputs": [],
   "source": [
    "# from sklearn.feature_extraction.text import CountVectorizer"
   ]
  },
  {
   "cell_type": "code",
   "execution_count": 22,
   "id": "4759a2b9",
   "metadata": {},
   "outputs": [],
   "source": [
    "# cv = CountVectorizer()\n",
    "\n",
    "# X_train = cv.fit_transform(X_train)\n",
    "# X_val = cv.transform(X_val)\n",
    "# X_test = cv.transform(X_test)"
   ]
  },
  {
   "cell_type": "code",
   "execution_count": 23,
   "id": "46ff84b0",
   "metadata": {},
   "outputs": [],
   "source": [
    "# save the data"
   ]
  },
  {
   "cell_type": "code",
   "execution_count": 24,
   "id": "849bf193",
   "metadata": {},
   "outputs": [],
   "source": [
    "# os.getcwd()"
   ]
  },
  {
   "cell_type": "code",
   "execution_count": null,
   "id": "4cd38384",
   "metadata": {},
   "outputs": [],
   "source": []
  }
 ],
 "metadata": {
  "kernelspec": {
   "display_name": "Python 3 (ipykernel)",
   "language": "python",
   "name": "python3"
  },
  "language_info": {
   "codemirror_mode": {
    "name": "ipython",
    "version": 3
   },
   "file_extension": ".py",
   "mimetype": "text/x-python",
   "name": "python",
   "nbconvert_exporter": "python",
   "pygments_lexer": "ipython3",
   "version": "3.10.13"
  }
 },
 "nbformat": 4,
 "nbformat_minor": 5
}
