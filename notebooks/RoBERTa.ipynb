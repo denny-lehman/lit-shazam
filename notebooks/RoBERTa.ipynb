{
  "cells": [
    {
      "cell_type": "markdown",
      "metadata": {
        "id": "NBE5nh9gvhWQ"
      },
      "source": [
        "# Create RoBERTa Model with Classification Layer"
      ]
    },
    {
      "cell_type": "code",
      "execution_count": 1,
      "metadata": {
        "colab": {
          "base_uri": "https://localhost:8080/"
        },
        "id": "KZT09QovvtsY",
        "outputId": "ef504dcb-7219-4dec-87c4-2f940042a9ee"
      },
      "outputs": [
        {
          "output_type": "stream",
          "name": "stdout",
          "text": [
            "\u001b[2K     \u001b[90m━━━━━━━━━━━━━━━━━━━━━━━━━━━━━━━━━━━━━━━━\u001b[0m \u001b[32m5.2/5.2 MB\u001b[0m \u001b[31m22.9 MB/s\u001b[0m eta \u001b[36m0:00:00\u001b[0m\n",
            "\u001b[2K     \u001b[90m━━━━━━━━━━━━━━━━━━━━━━━━━━━━━━━━━━━━━━━━\u001b[0m \u001b[32m475.2/475.2 MB\u001b[0m \u001b[31m3.3 MB/s\u001b[0m eta \u001b[36m0:00:00\u001b[0m\n",
            "\u001b[2K     \u001b[90m━━━━━━━━━━━━━━━━━━━━━━━━━━━━━━━━━━━━━━━━\u001b[0m \u001b[32m5.5/5.5 MB\u001b[0m \u001b[31m118.5 MB/s\u001b[0m eta \u001b[36m0:00:00\u001b[0m\n",
            "\u001b[2K     \u001b[90m━━━━━━━━━━━━━━━━━━━━━━━━━━━━━━━━━━━━━━━━\u001b[0m \u001b[32m442.0/442.0 kB\u001b[0m \u001b[31m48.6 MB/s\u001b[0m eta \u001b[36m0:00:00\u001b[0m\n",
            "\u001b[2K     \u001b[90m━━━━━━━━━━━━━━━━━━━━━━━━━━━━━━━━━━━━━━━━\u001b[0m \u001b[32m1.7/1.7 MB\u001b[0m \u001b[31m85.5 MB/s\u001b[0m eta \u001b[36m0:00:00\u001b[0m\n",
            "\u001b[?25h\n",
            "Usage:   \n",
            "  pip3 install [options] <requirement specifier> [package-index-options] ...\n",
            "  pip3 install [options] -r <requirements file> [package-index-options] ...\n",
            "  pip3 install [options] [-e] <vcs project url> ...\n",
            "  pip3 install [options] [-e] <local project path> ...\n",
            "  pip3 install [options] <archive url/path> ...\n",
            "\n",
            "no such option: -u\n"
          ]
        }
      ],
      "source": [
        "!pip install tensorflow-datasets --quiet\n",
        "!pip install tensorflow-text --quiet\n",
        "!pip install pydot --quiet\n",
        "!pip install nltk --quiet\n",
        "!pip install transformers --quiet\n",
        "!pip install pyarrow -quiet"
      ]
    },
    {
      "cell_type": "code",
      "execution_count": 2,
      "metadata": {
        "colab": {
          "base_uri": "https://localhost:8080/"
        },
        "id": "YePhQMKuv5X-",
        "outputId": "4d28c9d4-92cc-4248-8294-4467b44e2d17"
      },
      "outputs": [
        {
          "output_type": "stream",
          "name": "stderr",
          "text": [
            "[nltk_data] Downloading package gutenberg to /root/nltk_data...\n",
            "[nltk_data]   Unzipping corpora/gutenberg.zip.\n",
            "[nltk_data] Downloading package punkt to /root/nltk_data...\n",
            "[nltk_data]   Unzipping tokenizers/punkt.zip.\n"
          ]
        }
      ],
      "source": [
        "import numpy as np\n",
        "import tensorflow as tf\n",
        "import pandas as pd\n",
        "\n",
        "from tensorflow import keras\n",
        "from tensorflow.keras.models import save_model\n",
        "from tensorflow.keras.models import load_model\n",
        "from tensorflow.keras.layers import Embedding, Input, Dense, Lambda\n",
        "from tensorflow.keras.models import Model\n",
        "import tensorflow.keras.backend as K\n",
        "import tensorflow_datasets as tfds\n",
        "import tensorflow_text as tf_text\n",
        "\n",
        "import sklearn as sk\n",
        "import os\n",
        "import nltk\n",
        "from nltk.data import find\n",
        "\n",
        "import matplotlib.pyplot as plt\n",
        "import random\n",
        "import re\n",
        "\n",
        "nltk.download('gutenberg')\n",
        "from nltk.corpus import gutenberg\n",
        "\n",
        "nltk.download('punkt')\n",
        "from nltk.tokenize import sent_tokenize\n",
        "\n",
        "from google.colab import drive\n",
        "\n",
        "import pyarrow as pya\n",
        "import pyarrow.parquet as pq"
      ]
    },
    {
      "cell_type": "code",
      "execution_count": 3,
      "metadata": {
        "colab": {
          "base_uri": "https://localhost:8080/"
        },
        "id": "zKj6elTIv-3G",
        "outputId": "0cfac884-eeae-4756-d7bf-d032ca963286"
      },
      "outputs": [
        {
          "output_type": "stream",
          "name": "stdout",
          "text": [
            "Mounted at /content/drive\n"
          ]
        }
      ],
      "source": [
        "# Mount drive to retrieve data frame\n",
        "drive.mount('/content/drive')"
      ]
    },
    {
      "cell_type": "code",
      "execution_count": null,
      "metadata": {
        "colab": {
          "base_uri": "https://localhost:8080/"
        },
        "id": "sHRdUepWwWFz",
        "outputId": "02be1e87-f2be-42ec-e381-94f9a72b6cfc"
      },
      "outputs": [
        {
          "name": "stdout",
          "output_type": "stream",
          "text": [
            "2.14.0\n"
          ]
        }
      ],
      "source": [
        "print(tf.__version__)"
      ]
    },
    {
      "cell_type": "code",
      "execution_count": 4,
      "metadata": {
        "colab": {
          "base_uri": "https://localhost:8080/",
          "height": 145,
          "referenced_widgets": [
            "bf61dfbc32474d0daf6a5ccf269f55be",
            "7e4c37f7ce154549a98c3da6f11aade6",
            "418dcfd05da140aca09c48da4a81b3c8",
            "47a990efc794447ea4b4d11827d7bbba",
            "ebf79df0e4cc4778888dc8111be6b3b6",
            "3b4b00f97af3487f81dc989d5448b237",
            "1ff9d08eba9c4a4db6f8f8938e763855",
            "59e8b2575a5e451b8bbf2159c71191b5",
            "eb24fe9aff98491183d545c55eecab79",
            "2d459b64255e4fa5bde371568bacc5d0",
            "0a0b64fbb50b4f519dcfd98eb0009fa9",
            "8d2008a4d7684913ab2c11e3d1780566",
            "48d17913246749238a29612167b8f2af",
            "a8c8948ed4ef4c17927428a9c61a330a",
            "0e4bda87b846440daa240162be1cdbc0",
            "9d757fbd36c04deb93c1765805b24705",
            "a2ab957f9ca8454b80efa1d1b6b459e1",
            "b8e2d30938534644ad050d0da902503c",
            "6b48cbb6973d4a418f0cfd539978a9bf",
            "1ea37563ec2d4429a01bab3307908fd3",
            "1dc14793b5c84aad8fd230778e8ed48a",
            "75c590e9b6484e44a1bf551a69235e1b",
            "b612e4ef58ae451cb9b06d4a268dae02",
            "ae41f191672e42e39be23e8f0040e4f3",
            "b47a39a0fdb04d80920f18ff7e5bb704",
            "5e180e2e265e471c81ab7059cfd463ac",
            "76d56a2e02ca4d6995c6676a106323b6",
            "b191a7064bcc4a0ba39637b5dbf7dc1c",
            "da7ae8086be0455f8fe8cb4d35a52c43",
            "0e483e3b639c42d394b451520584e4aa",
            "f9cf664aef294d889068135db58bfaeb",
            "24a6ebdca1fb4c7d8197bf8febf0ac80",
            "71a6f4484ebb4224a69f578c0d814ce4",
            "47a3240d689f44a7921e222e193e89fd",
            "f40a50434d764f5aacca6332ccfb49c4",
            "6f2aeb23bae24dd0a00a0f65e1b188ef",
            "69ac919e686c4467894960f0fffbc5c6",
            "bd5c52394f67415586471e4546ba991f",
            "78ada4e777154a3b81c9a408ae24e91f",
            "c9672a83126e4cefb2035fe9601b5830",
            "69a80879972f4fee971c2e9964617bdd",
            "b6b65ad2e91d4ff185b8e471b115150c",
            "2ceb31b5ca7f4ecbb3520ed47463710e",
            "acd1105e5c4b46afb0a17d087d693bac"
          ]
        },
        "id": "JuU-M4yFBLyb",
        "outputId": "cf6f13de-054b-4431-d5b7-869d1ba36faf"
      },
      "outputs": [
        {
          "output_type": "display_data",
          "data": {
            "text/plain": [
              "vocab.json:   0%|          | 0.00/899k [00:00<?, ?B/s]"
            ],
            "application/vnd.jupyter.widget-view+json": {
              "version_major": 2,
              "version_minor": 0,
              "model_id": "bf61dfbc32474d0daf6a5ccf269f55be"
            }
          },
          "metadata": {}
        },
        {
          "output_type": "display_data",
          "data": {
            "text/plain": [
              "merges.txt:   0%|          | 0.00/456k [00:00<?, ?B/s]"
            ],
            "application/vnd.jupyter.widget-view+json": {
              "version_major": 2,
              "version_minor": 0,
              "model_id": "8d2008a4d7684913ab2c11e3d1780566"
            }
          },
          "metadata": {}
        },
        {
          "output_type": "display_data",
          "data": {
            "text/plain": [
              "tokenizer.json:   0%|          | 0.00/1.36M [00:00<?, ?B/s]"
            ],
            "application/vnd.jupyter.widget-view+json": {
              "version_major": 2,
              "version_minor": 0,
              "model_id": "b612e4ef58ae451cb9b06d4a268dae02"
            }
          },
          "metadata": {}
        },
        {
          "output_type": "display_data",
          "data": {
            "text/plain": [
              "config.json:   0%|          | 0.00/481 [00:00<?, ?B/s]"
            ],
            "application/vnd.jupyter.widget-view+json": {
              "version_major": 2,
              "version_minor": 0,
              "model_id": "47a3240d689f44a7921e222e193e89fd"
            }
          },
          "metadata": {}
        }
      ],
      "source": [
        "from transformers import TFRobertaModel , TFRobertaForSequenceClassification, RobertaTokenizer\n",
        "\n",
        "checkpoint = 'roberta-base'\n",
        "roberta_tokenizer = RobertaTokenizer.from_pretrained(checkpoint)"
      ]
    },
    {
      "cell_type": "code",
      "execution_count": 5,
      "metadata": {
        "id": "oxvG8gr5gW5N"
      },
      "outputs": [],
      "source": [
        "MAX_SEQUENCE_LENGTH = 128"
      ]
    },
    {
      "cell_type": "code",
      "execution_count": 6,
      "metadata": {
        "id": "bGvbamqZe-ds"
      },
      "outputs": [],
      "source": [
        "# Create RoBERTa with CNN\n",
        "# multi-modal or multi-channel approach, where the RoBERTa model processes the input text,\n",
        "# and the CNN layer processes the sequential embeddings produced by RoBERTa.\n",
        "# This can be beneficial when you want to capture local patterns and relationships\n",
        "# in addition to the global contextual information provided by the transformer model.\n",
        "def create_roberta_cnn(num_train_layers=0,\n",
        "                       num_classes=2,\n",
        "                       hidden_size=50,\n",
        "                       dropout=0.1,\n",
        "                       learning_rate=0.001,\n",
        "                       lr_schedule=False):\n",
        "  roberta_model  = TFRobertaModel.from_pretrained(checkpoint)\n",
        "\n",
        "  if num_train_layers == 0:\n",
        "    # Freeze all layers of pre-trained BERT model\n",
        "    roberta_model.trainable = False\n",
        "  elif num_train_layers == 12:\n",
        "    # Train all layers of the BERT model\n",
        "    roberta_model.trainable = True\n",
        "  else:\n",
        "    # Restrict training to the num_train_layers outer transformer layers\n",
        "    layers_to_train = roberta_model.layers[-num_train_layers:]\n",
        "    for layer in layers_to_train:\n",
        "      layer.trainable = True\n",
        "\n",
        "  input_ids = tf.keras.layers.Input(shape=(MAX_SEQUENCE_LENGTH,), dtype=tf.int32, name='input_ids')\n",
        "  attention_mask = tf.keras.layers.Input(shape=(MAX_SEQUENCE_LENGTH,), dtype=tf.int32, name='attention_mask')\n",
        "\n",
        "  inputs = {'input_ids': input_ids, 'attention_mask': attention_mask}\n",
        "\n",
        "  roberta_out = roberta_model(inputs)[0]  # Extract the last hidden state\n",
        "\n",
        "  cnn_layers = [\n",
        "        tf.keras.layers.Conv1D(filters=128, kernel_size=2, activation='relu',name='CNN1'),\n",
        "        tf.keras.layers.MaxPooling1D(pool_size=2),\n",
        "        tf.keras.layers.Conv1D(filters=128, kernel_size=3, activation='relu', name='CNN2'),\n",
        "        tf.keras.layers.MaxPooling1D(pool_size=2),\n",
        "        tf.keras.layers.Conv1D(filters=64, kernel_size=4, activation='relu', name='CNN3'),\n",
        "        tf.keras.layers.MaxPooling1D(pool_size=2),\n",
        "        tf.keras.layers.Conv1D(filters=32, kernel_size=5, activation='relu', name='CNN4'),\n",
        "        tf.keras.layers.MaxPooling1D()\n",
        "  ]\n",
        "\n",
        "  cnn_out = roberta_out\n",
        "  for layer in cnn_layers:\n",
        "      cnn_out = layer(cnn_out)\n",
        "\n",
        "  # Global max pooling layer to reduce dimensionality\n",
        "  cnn_out = tf.keras.layers.GlobalMaxPooling1D()(cnn_out)\n",
        "\n",
        "  cnn_out = tf.keras.layers.Flatten()(cnn_out)\n",
        "\n",
        "  # Dense layer for classification\n",
        "  #output = tf.keras.layers.Dense(num_classes, activation='softmax', name = 'output layer')(pooled_out)\n",
        "\n",
        "  # Fully connected layers for classification\n",
        "  hidden = tf.keras.layers.Dense(hidden_size, activation='relu', name='hidden_layer1')(cnn_out)\n",
        "  hidden = tf.keras.layers.Dropout(dropout, name='dropout_layer')(hidden)\n",
        "  #hidden = tf.keras.layers.Dense(hidden_size, activation='relu', name='hidden_layer2')(hidden)\n",
        "  classification = tf.keras.layers.Dense(num_classes, activation='softmax', name='classification_layer')(hidden)\n",
        "\n",
        "  roberta_cnn_model = tf.keras.Model(inputs=[input_ids, attention_mask], outputs=[classification])\n",
        "\n",
        "  # Exclude non-trainable variables from the list of trainable variables\n",
        "  #trainable_vars = [var for var in roberta_cnn_model.trainable_variables if 'pooler' not in var.name]\n",
        "\n",
        "  # Use a learning rate scheduler\n",
        "  if (lr_schedule):\n",
        "    initial_learning_rate = learning_rate\n",
        "    lr_schedule = tf.keras.optimizers.schedules.ExponentialDecay(\n",
        "      initial_learning_rate,\n",
        "      decay_steps=100,  # Adjust this value based on your preference\n",
        "      decay_rate=0.9,     # Adjust this value based on your preference\n",
        "      staircase=True)\n",
        "    optimizer = tf.keras.optimizers.Adam(learning_rate=lr_schedule)\n",
        "  else:\n",
        "    optimizer = tf.keras.optimizers.Adam(learning_rate=learning_rate)\n",
        "\n",
        "  roberta_cnn_model.compile(optimizer=optimizer,\n",
        "                            loss=tf.keras.losses.SparseCategoricalCrossentropy(from_logits=False),\n",
        "                            metrics=['accuracy'])\n",
        "\n",
        "  return roberta_cnn_model"
      ]
    },
    {
      "cell_type": "code",
      "source": [
        "model = create_roberta_cnn(num_classes=7, num_train_layers=4, hidden_size=128, learning_rate=0.0001)"
      ],
      "metadata": {
        "colab": {
          "base_uri": "https://localhost:8080/",
          "height": 156,
          "referenced_widgets": [
            "03ac7aec279249b1b997b925a13ed202",
            "385d127861b54ba2981b6f6376693c75",
            "ed7d026a634a4405a405609777c707f2",
            "c209e510fced486bb484c009d0437b81",
            "660c7df94bde46aeb708e0599a623702",
            "b9f5c60fd68a4e0a9c4fd09b7f029757",
            "64949f742c1f4962bae0dcbe15b7f1a9",
            "f98dfefcdc6b4a8aa8026f12d4efb607",
            "6c7e403478564d6e9b83d095a9068a56",
            "7544470318d24f28a1604befc2833e8c",
            "5e9c8c9d9a614c9eb1cf22fb813d3938"
          ]
        },
        "id": "Z4Cz4mby4ZUa",
        "outputId": "907d0174-a3b5-47f5-b240-b506dd31d72a"
      },
      "execution_count": 7,
      "outputs": [
        {
          "output_type": "display_data",
          "data": {
            "text/plain": [
              "model.safetensors:   0%|          | 0.00/499M [00:00<?, ?B/s]"
            ],
            "application/vnd.jupyter.widget-view+json": {
              "version_major": 2,
              "version_minor": 0,
              "model_id": "03ac7aec279249b1b997b925a13ed202"
            }
          },
          "metadata": {}
        },
        {
          "output_type": "stream",
          "name": "stderr",
          "text": [
            "Some weights of the PyTorch model were not used when initializing the TF 2.0 model TFRobertaModel: ['lm_head.layer_norm.bias', 'lm_head.bias', 'lm_head.dense.bias', 'lm_head.dense.weight', 'lm_head.layer_norm.weight', 'roberta.embeddings.position_ids']\n",
            "- This IS expected if you are initializing TFRobertaModel from a PyTorch model trained on another task or with another architecture (e.g. initializing a TFBertForSequenceClassification model from a BertForPreTraining model).\n",
            "- This IS NOT expected if you are initializing TFRobertaModel from a PyTorch model that you expect to be exactly identical (e.g. initializing a TFBertForSequenceClassification model from a BertForSequenceClassification model).\n",
            "Some weights or buffers of the TF 2.0 model TFRobertaModel were not initialized from the PyTorch model and are newly initialized: ['roberta.pooler.dense.weight', 'roberta.pooler.dense.bias']\n",
            "You should probably TRAIN this model on a down-stream task to be able to use it for predictions and inference.\n"
          ]
        }
      ]
    },
    {
      "cell_type": "code",
      "source": [
        "model.summary()"
      ],
      "metadata": {
        "colab": {
          "base_uri": "https://localhost:8080/"
        },
        "id": "vjAE3wTPy4Sn",
        "outputId": "388b516a-5687-4d4b-986a-e2edfddf5515"
      },
      "execution_count": 8,
      "outputs": [
        {
          "output_type": "stream",
          "name": "stdout",
          "text": [
            "Model: \"model\"\n",
            "__________________________________________________________________________________________________\n",
            " Layer (type)                Output Shape                 Param #   Connected to                  \n",
            "==================================================================================================\n",
            " attention_mask (InputLayer  [(None, 128)]                0         []                            \n",
            " )                                                                                                \n",
            "                                                                                                  \n",
            " input_ids (InputLayer)      [(None, 128)]                0         []                            \n",
            "                                                                                                  \n",
            " tf_roberta_model (TFRobert  TFBaseModelOutputWithPooli   1246456   ['attention_mask[0][0]',      \n",
            " aModel)                     ngAndCrossAttentions(last_   32         'input_ids[0][0]']           \n",
            "                             hidden_state=(None, 128, 7                                           \n",
            "                             68),                                                                 \n",
            "                              pooler_output=(None, 768)                                           \n",
            "                             , past_key_values=None, hi                                           \n",
            "                             dden_states=None, attentio                                           \n",
            "                             ns=None, cross_attentions=                                           \n",
            "                             None)                                                                \n",
            "                                                                                                  \n",
            " CNN1 (Conv1D)               (None, 127, 128)             196736    ['tf_roberta_model[0][0]']    \n",
            "                                                                                                  \n",
            " max_pooling1d (MaxPooling1  (None, 63, 128)              0         ['CNN1[0][0]']                \n",
            " D)                                                                                               \n",
            "                                                                                                  \n",
            " CNN2 (Conv1D)               (None, 61, 128)              49280     ['max_pooling1d[0][0]']       \n",
            "                                                                                                  \n",
            " max_pooling1d_1 (MaxPoolin  (None, 30, 128)              0         ['CNN2[0][0]']                \n",
            " g1D)                                                                                             \n",
            "                                                                                                  \n",
            " CNN3 (Conv1D)               (None, 27, 64)               32832     ['max_pooling1d_1[0][0]']     \n",
            "                                                                                                  \n",
            " max_pooling1d_2 (MaxPoolin  (None, 13, 64)               0         ['CNN3[0][0]']                \n",
            " g1D)                                                                                             \n",
            "                                                                                                  \n",
            " CNN4 (Conv1D)               (None, 9, 32)                10272     ['max_pooling1d_2[0][0]']     \n",
            "                                                                                                  \n",
            " max_pooling1d_3 (MaxPoolin  (None, 4, 32)                0         ['CNN4[0][0]']                \n",
            " g1D)                                                                                             \n",
            "                                                                                                  \n",
            " global_max_pooling1d (Glob  (None, 32)                   0         ['max_pooling1d_3[0][0]']     \n",
            " alMaxPooling1D)                                                                                  \n",
            "                                                                                                  \n",
            " flatten (Flatten)           (None, 32)                   0         ['global_max_pooling1d[0][0]']\n",
            "                                                                                                  \n",
            " hidden_layer1 (Dense)       (None, 128)                  4224      ['flatten[0][0]']             \n",
            "                                                                                                  \n",
            " dropout_layer (Dropout)     (None, 128)                  0         ['hidden_layer1[0][0]']       \n",
            "                                                                                                  \n",
            " classification_layer (Dens  (None, 7)                    903       ['dropout_layer[0][0]']       \n",
            " e)                                                                                               \n",
            "                                                                                                  \n",
            "==================================================================================================\n",
            "Total params: 124939879 (476.61 MB)\n",
            "Trainable params: 124939879 (476.61 MB)\n",
            "Non-trainable params: 0 (0.00 Byte)\n",
            "__________________________________________________________________________________________________\n"
          ]
        }
      ]
    },
    {
      "cell_type": "code",
      "execution_count": 9,
      "metadata": {
        "id": "_xgtaOZxAxGn"
      },
      "outputs": [],
      "source": [
        "def create_encoding(data, label):\n",
        "  data_encodings = roberta_tokenizer(data,\n",
        "                        max_length=MAX_SEQUENCE_LENGTH,\n",
        "                        truncation=True,\n",
        "                        padding='max_length',\n",
        "                        return_tensors='tf')\n",
        "\n",
        "  label_encodings = np.array(label)\n",
        "  # label_encodings = torch.tensor(label)\n",
        "\n",
        "  return (data_encodings, label_encodings)\n",
        "\n"
      ]
    },
    {
      "cell_type": "code",
      "execution_count": null,
      "metadata": {
        "id": "__bCGYsMB1HE"
      },
      "outputs": [],
      "source": []
    },
    {
      "cell_type": "code",
      "execution_count": null,
      "metadata": {
        "id": "uqyABtRCCFAh"
      },
      "outputs": [],
      "source": []
    },
    {
      "cell_type": "code",
      "execution_count": 10,
      "metadata": {
        "id": "ktXDELglCrVW"
      },
      "outputs": [],
      "source": [
        "# Create Train and Validation encodings\n",
        "BATCH_SIZE = 32\n",
        "\n",
        "# Load Test Data and prepare encodings\n",
        "file_path = \"/content/drive/My Drive/w266/data/\"\n",
        "train_file = file_path + \"gut_corpus_train_data_multi_bal.parquet\"\n",
        "valid_file = file_path + \"gut_corpus_valid_data_multi_bal.parquet\"\n",
        "test_file = file_path + \"gut_corpus_test_data_multi_bal.parquet\"\n",
        "#train_file = file_path + \"gut_corpus_train_data_binary6_small.parquet\"\n",
        "#valid_file = file_path + \"gut_corpus_valid_data_binary6_small.parquet\"\n",
        "#test_file = file_path + \"gut_corpus_test_data_binary6_small.parquet\"\n",
        "\n",
        "data = pya.parquet.read_table(train_file)\n",
        "df_train = data.to_pandas()\n",
        "data = pya.parquet.read_table(valid_file)\n",
        "df_valid = data.to_pandas()\n",
        "data = pya.parquet.read_table(test_file)\n",
        "df_test = data.to_pandas()\n",
        "\n",
        "train_data = []\n",
        "train_label = []\n",
        "valid_data = []\n",
        "valid_label = []\n",
        "test_data  = []\n",
        "test_label = []\n",
        "\n",
        "for indx, row in df_train.iterrows():\n",
        "  train_data.append(row[0])\n",
        "  train_label.append(row[1])\n",
        "for indx, row in df_valid.iterrows():\n",
        "  valid_data.append(row[0])\n",
        "  valid_label.append(row[1])\n",
        "for indx, row in df_test.iterrows():\n",
        "  test_data.append(row[0])\n",
        "  test_label.append(row[1])\n",
        "\n",
        "# Create a dataset\n",
        "train_encodings, train_enc_label = create_encoding(train_data, train_label)\n",
        "valid_encodings, valid_enc_label = create_encoding(valid_data, valid_label)\n",
        "test_encodings, test_enc_label = create_encoding(test_data, test_label)\n",
        "\n",
        "dataset_training = tf.data.Dataset.from_tensor_slices(\n",
        "    (\n",
        "        {\n",
        "            'input_ids': train_encodings['input_ids'],\n",
        "            #'token_type_ids': train_encodings['token_type_ids'],\n",
        "            'attention_mask': train_encodings['attention_mask']\n",
        "        },\n",
        "        train_enc_label\n",
        "    )\n",
        ")\n",
        "\n",
        "#dataset_training = dataset_training.batch(BATCH_SIZE)  # Batch size\n",
        "\n",
        "# Shuffle and batch the dataset\n",
        "dataset_training = dataset_training.shuffle(buffer_size=len(train_enc_label)).batch(BATCH_SIZE)\n",
        "\n",
        "\n",
        "dataset_validation = tf.data.Dataset.from_tensor_slices(\n",
        "    (\n",
        "        {\n",
        "            'input_ids': valid_encodings['input_ids'],\n",
        "            #'token_type_ids': valid_encodings['token_type_ids'],\n",
        "            'attention_mask': valid_encodings['attention_mask']\n",
        "        },\n",
        "        valid_enc_label\n",
        "    )\n",
        ")\n",
        "\n",
        "dataset_validation = dataset_validation.batch(BATCH_SIZE)"
      ]
    },
    {
      "cell_type": "code",
      "execution_count": 25,
      "metadata": {
        "colab": {
          "base_uri": "https://localhost:8080/",
          "height": 1000
        },
        "id": "H1Pm2_epx17O",
        "outputId": "40c0ec2e-e8d9-425c-a81d-454db3ea5230"
      },
      "outputs": [
        {
          "output_type": "execute_result",
          "data": {
            "image/png": "[encoded data removed]",
            "text/plain": [
              "<IPython.core.display.Image object>"
            ]
          },
          "metadata": {},
          "execution_count": 25
        }
      ],
      "source": [
        "keras.utils.plot_model(model, show_shapes=False, show_dtype=False, show_layer_names=True, dpi=90)"
      ]
    },
    {
      "cell_type": "code",
      "source": [
        "# Define a callback to save weights after each batch\n",
        "from tensorflow.keras.callbacks import Callback\n",
        "\n",
        "class SaveWeightsCallback(Callback):\n",
        "    def __init__(self, model_name):\n",
        "        super(SaveWeightsCallback, self).__init__()\n",
        "        self.model_name = model_name\n",
        "\n",
        "    #def on_batch_end(self, batch, logs=None):\n",
        "    #    model_filename = f\"/content/drive/My Drive/w266/training/{self.model_name}_weights.h5\"\n",
        "    #    self.model.save_weights(model_filename)\n",
        "\n",
        "    def on_epoch_end(self, epoch, logs=None):\n",
        "        model_filename = f\"/content/drive/My Drive/w266/training/{self.model_name}_weights_epoch{epoch}.h5\"\n",
        "        self.model.save_weights(model_filename)\n",
        "\n",
        "# Create a custom callback to stop within a single epoch if accuracy doesn't change much between iterations\n",
        "class CustomStopCallbackWithinEpoch(Callback):\n",
        "    def __init__(self, delta=0.01, patience=2, threshold=0.50):\n",
        "        super(CustomStopCallbackWithinEpoch, self).__init__()\n",
        "        self.delta = delta\n",
        "        self.patience = patience\n",
        "        self.threshold = threshold\n",
        "        self.wait = 0\n",
        "        self.best_accuracy = -1\n",
        "\n",
        "    def on_epoch_end(self, epoch, logs=None):\n",
        "        accuracy = logs.get('accuracy')\n",
        "\n",
        "        if accuracy is not None and accuracy > self.threshold:\n",
        "            if np.abs(accuracy - self.best_accuracy) > self.delta:\n",
        "                self.wait = 0\n",
        "            else:\n",
        "                self.wait += 1\n",
        "                if self.wait >= self.patience:\n",
        "                    self.model.stop_training = True\n",
        "                    print(f\"\\nStopping training within epoch {epoch + 1} because accuracy hasn't improved for the last {self.patience} iterations.\")\n",
        "            if accuracy > self.best_accuracy:\n",
        "              self.best_accuracy = accuracy"
      ],
      "metadata": {
        "id": "fSuYOrwLtutw"
      },
      "execution_count": 11,
      "outputs": []
    },
    {
      "cell_type": "code",
      "source": [
        "save_weights_callback = SaveWeightsCallback(model_name='roberta_multi_bal')\n",
        "custom_stop_callback = CustomStopCallbackWithinEpoch(delta=0.01, patience=2, threshold=0.7)"
      ],
      "metadata": {
        "id": "jtNn8ynXtzxe"
      },
      "execution_count": 12,
      "outputs": []
    },
    {
      "cell_type": "code",
      "execution_count": 13,
      "metadata": {
        "colab": {
          "base_uri": "https://localhost:8080/"
        },
        "id": "Ztkg0ZZzCSPh",
        "outputId": "2e7bf097-6061-4ad0-ca06-07b37f2af281"
      },
      "outputs": [
        {
          "output_type": "stream",
          "name": "stdout",
          "text": [
            "Epoch 1/5\n"
          ]
        },
        {
          "output_type": "stream",
          "name": "stderr",
          "text": [
            "WARNING:tensorflow:Gradients do not exist for variables ['tf_roberta_model/roberta/pooler/dense/kernel:0', 'tf_roberta_model/roberta/pooler/dense/bias:0'] when minimizing the loss. If you're using `model.compile()`, did you forget to provide a `loss` argument?\n",
            "WARNING:tensorflow:Gradients do not exist for variables ['tf_roberta_model/roberta/pooler/dense/kernel:0', 'tf_roberta_model/roberta/pooler/dense/bias:0'] when minimizing the loss. If you're using `model.compile()`, did you forget to provide a `loss` argument?\n",
            "WARNING:tensorflow:Gradients do not exist for variables ['tf_roberta_model/roberta/pooler/dense/kernel:0', 'tf_roberta_model/roberta/pooler/dense/bias:0'] when minimizing the loss. If you're using `model.compile()`, did you forget to provide a `loss` argument?\n",
            "WARNING:tensorflow:Gradients do not exist for variables ['tf_roberta_model/roberta/pooler/dense/kernel:0', 'tf_roberta_model/roberta/pooler/dense/bias:0'] when minimizing the loss. If you're using `model.compile()`, did you forget to provide a `loss` argument?\n"
          ]
        },
        {
          "output_type": "stream",
          "name": "stdout",
          "text": [
            "67/67 [==============================] - 573s 8s/step - loss: 1.5530 - accuracy: 0.3557 - val_loss: 1.7506 - val_accuracy: 0.3056\n",
            "Epoch 2/5\n",
            "67/67 [==============================] - 541s 8s/step - loss: 1.1772 - accuracy: 0.5293 - val_loss: 1.7929 - val_accuracy: 0.4252\n",
            "Epoch 3/5\n",
            "67/67 [==============================] - 514s 8s/step - loss: 0.8560 - accuracy: 0.6741 - val_loss: 0.7613 - val_accuracy: 0.7143\n",
            "Epoch 4/5\n",
            "67/67 [==============================] - 533s 8s/step - loss: 0.5006 - accuracy: 0.8198 - val_loss: 0.6366 - val_accuracy: 0.7907\n",
            "Epoch 5/5\n",
            "67/67 [==============================] - 537s 8s/step - loss: 0.3605 - accuracy: 0.8874 - val_loss: 0.6186 - val_accuracy: 0.8173\n"
          ]
        }
      ],
      "source": [
        "# Train the model with the SaveWeightsCallback\n",
        "#model_history = model.fit(\n",
        "#    dataset_training,\n",
        "#    validation_data=dataset_validation,\n",
        "#    epochs=1,\n",
        "#    callbacks=[save_weights_callback, custom_stop_callback])\n",
        "\n",
        "model_history = model.fit(\n",
        "    dataset_training,\n",
        "    validation_data=dataset_validation,\n",
        "    epochs=5,\n",
        "    callbacks=save_weights_callback)"
      ]
    },
    {
      "cell_type": "code",
      "source": [
        "# AS NEEDED: Reload weights and run for longer\n",
        "model.load_weights(\"/content/drive/My Drive/w266/training/roberta_multi_bal_weights_epoch3.h5\")"
      ],
      "metadata": {
        "id": "EqACDDxeZv0d"
      },
      "execution_count": 33,
      "outputs": []
    },
    {
      "cell_type": "code",
      "source": [
        "# AS NEEDED: Reload weights and run for longer\n",
        "model_history = model.fit(\n",
        "    dataset_training,\n",
        "    validation_data=dataset_validation,\n",
        "    epochs=1,\n",
        "    callbacks=save_weights_callback)"
      ],
      "metadata": {
        "colab": {
          "base_uri": "https://localhost:8080/"
        },
        "id": "-ln2U9noCZSd",
        "outputId": "894e0271-285f-437e-f8ef-fcbf8d9334e7"
      },
      "execution_count": 34,
      "outputs": [
        {
          "output_type": "stream",
          "name": "stdout",
          "text": [
            "67/67 [==============================] - 550s 8s/step - loss: 0.4466 - accuracy: 0.8392 - val_loss: 0.7865 - val_accuracy: 0.7641\n"
          ]
        }
      ]
    },
    {
      "cell_type": "code",
      "source": [
        "# OPTIONAL: create a smaller Test dataset\n",
        "test_data_small = []\n",
        "test_label_small = []\n",
        "size_factor = 0.2\n",
        "\n",
        "size = int(size_factor*len(df_test))\n",
        "\n",
        "for indx, row in df_test.iterrows():\n",
        "  if indx < size:\n",
        "    test_data_small.append(row[0])\n",
        "    test_label_small.append(row[1])\n",
        "  else:\n",
        "    break\n",
        "\n",
        "test_encodings_small, test_enc_label_small = create_encoding(test_data_small, test_label_small)"
      ],
      "metadata": {
        "id": "dy5Z5_-8NatY"
      },
      "execution_count": 14,
      "outputs": []
    },
    {
      "cell_type": "code",
      "execution_count": 19,
      "metadata": {
        "colab": {
          "base_uri": "https://localhost:8080/"
        },
        "id": "yJfjHAGBCS2H",
        "outputId": "77b1927b-7b35-4a3b-bd6b-3e6c2e7aeff3"
      },
      "outputs": [
        {
          "output_type": "stream",
          "name": "stdout",
          "text": [
            "216/216 [==============================] - 500s 2s/step\n"
          ]
        }
      ],
      "source": [
        "predictions = model.predict([test_encodings.input_ids, test_encodings.attention_mask])\n",
        "#predictions = model.predict([test_encodings_small.input_ids, test_encodings_small.attention_mask])"
      ]
    },
    {
      "cell_type": "code",
      "execution_count": 16,
      "metadata": {
        "id": "uvEt2axnxmw8"
      },
      "outputs": [],
      "source": [
        "np.savetxt('/content/drive/My Drive/w266/predictions_roberta_cnn_nn_multi_bal_5epoch_small.csv', predictions)"
      ]
    },
    {
      "cell_type": "code",
      "execution_count": 21,
      "metadata": {
        "colab": {
          "base_uri": "https://localhost:8080/"
        },
        "id": "bQJhT1pQxoA7",
        "outputId": "9a3fdc89-22c5-4ada-f051-9b3cfce66e8c"
      },
      "outputs": [
        {
          "output_type": "stream",
          "name": "stdout",
          "text": [
            "Confusion Matrix:\n",
            "[[ 848   26   37   40    9  100    9]\n",
            " [   7  528   37   12    1   27    4]\n",
            " [   7    6 1505   63  126  152   29]\n",
            " [   4    6  304  801   68   41    2]\n",
            " [   1    0   52   15  901    5    5]\n",
            " [  17    2   57    7    7  578    9]\n",
            " [   0    0    1    1    5    4  422]]\n",
            "\n",
            "Accuracy: 0.8105401\n",
            "\n",
            "Precision: 0.9631912\n",
            "Recall: 0.9938134\n",
            "F1 Score: 0.9782627817401762\n",
            "\n",
            "Classification Report:\n",
            "              precision    recall  f1-score   support\n",
            "\n",
            "           0       0.96      0.79      0.87      1069\n",
            "           1       0.93      0.86      0.89       616\n",
            "           2       0.76      0.80      0.78      1888\n",
            "           3       0.85      0.65      0.74      1226\n",
            "           4       0.81      0.92      0.86       979\n",
            "           5       0.64      0.85      0.73       677\n",
            "           6       0.88      0.97      0.92       433\n",
            "\n",
            "    accuracy                           0.81      6888\n",
            "   macro avg       0.83      0.84      0.83      6888\n",
            "weighted avg       0.82      0.81      0.81      6888\n",
            "\n"
          ]
        }
      ],
      "source": [
        "from sklearn.metrics import confusion_matrix, classification_report\n",
        "\n",
        "test_type = 'large'\n",
        "\n",
        "prediction_max = []\n",
        "for i in range(len(predictions)):\n",
        "  prediction_max.append(np.argmax(predictions[i]))\n",
        "\n",
        "# Generate confusion matrix\n",
        "if test_type == 'small':\n",
        "  conf_matrix = confusion_matrix(test_label_small, prediction_max)\n",
        "else:\n",
        "  conf_matrix = confusion_matrix(test_label, prediction_max)\n",
        "\n",
        "\n",
        "# Calculate accuracy using TensorFlow\n",
        "accuracy = tf.keras.metrics.Accuracy()\n",
        "if test_type == 'small':\n",
        "  accuracy.update_state(test_label_small, prediction_max)\n",
        "else:\n",
        "  accuracy.update_state(test_label, prediction_max)\n",
        "accuracy_result = accuracy.result().numpy()\n",
        "\n",
        "# Calculate precision, recall, and F1 score using TensorFlow\n",
        "precision = tf.keras.metrics.Precision()\n",
        "if test_type == 'small':\n",
        "  precision.update_state(test_label_small, prediction_max)\n",
        "else:\n",
        "  precision.update_state(test_label, prediction_max)\n",
        "precision_result = precision.result().numpy()\n",
        "\n",
        "recall = tf.keras.metrics.Recall()\n",
        "if test_type == 'small':\n",
        "  recall.update_state(test_label_small, prediction_max)\n",
        "else:\n",
        "  recall.update_state(test_label, prediction_max)\n",
        "recall_result = recall.result().numpy()\n",
        "\n",
        "f1 = 2 * (precision_result * recall_result) / (precision_result + recall_result)\n",
        "\n",
        "# Print confusion matrix and metrics\n",
        "print(\"Confusion Matrix:\")\n",
        "print(conf_matrix)\n",
        "print(\"\\nAccuracy:\", accuracy_result)\n",
        "print(\"\\nPrecision:\", precision_result)\n",
        "print(\"Recall:\", recall_result)\n",
        "print(\"F1 Score:\", f1)\n",
        "\n",
        "# Classification report using scikit-learn\n",
        "if test_type == 'small':\n",
        "  class_report = classification_report(test_label_small, prediction_max)\n",
        "else:\n",
        "  class_report = classification_report(test_label, prediction_max)\n",
        "\n",
        "print(\"\\nClassification Report:\")\n",
        "print(class_report)"
      ]
    },
    {
      "cell_type": "code",
      "source": [
        "import seaborn as sns\n",
        "import matplotlib.pyplot as plt\n",
        "\n",
        "plt.figure(figsize=(8, 6))\n",
        "sns.heatmap(conf_matrix, annot=True, fmt=\"d\", cmap=\"Blues\", square=True)\n",
        "plt.xlabel(\"Predicted Labels\")\n",
        "plt.ylabel(\"True Labels\")\n",
        "plt.title(\"Confusion Matrix\")\n",
        "plt.show()\n",
        "\n",
        "conf_matrix_percentage = conf_matrix / conf_matrix.sum(axis=1)[:, np.newaxis]\n",
        "plt.figure(figsize=(10, 8))\n",
        "sns.heatmap(conf_matrix_percentage, annot=True, fmt=\".2f\", cmap=\"Blues\", square=True, xticklabels=True, yticklabels=True)\n",
        "# Set row labels\n",
        "class_labels = [\"Fitzgerald\", \"Hemingway\", \"Dickens\", \"Hardy\", \"Austen\", \"Chesterton\", \"Shakespeare\"]\n",
        "plt.yticks(np.arange(len(class_labels)) + 0.5, class_labels, rotation=0)\n",
        "plt.xticks(np.arange(len(class_labels)) + 0.5, class_labels, rotation=0)\n",
        "ax = plt.gca()\n",
        "ax.xaxis.set_ticks_position(\"top\")\n",
        "\n",
        "# Add a title\n",
        "plt.title(\"Confusion Matrix with Percentages\")\n",
        "plt.show()"
      ],
      "metadata": {
        "colab": {
          "base_uri": "https://localhost:8080/",
          "height": 1000
        },
        "id": "iQlGn65STrqF",
        "outputId": "885a294f-2d66-46ee-a884-78375cab7853"
      },
      "execution_count": 32,
      "outputs": [
        {
          "output_type": "display_data",
          "data": {
            "text/plain": [
              "<Figure size 800x600 with 2 Axes>"
            ],
            "image/png": "[encoded data removed]"
          },
          "metadata": {}
        },
        {
          "output_type": "display_data",
          "data": {
            "text/plain": [
              "<Figure size 1000x800 with 2 Axes>"
            ],
            "image/png": "[encoded data removed]"
          },
          "metadata": {}
        }
      ]
    },
    {
      "cell_type": "code",
      "execution_count": null,
      "metadata": {
        "colab": {
          "base_uri": "https://localhost:8080/"
        },
        "id": "7xXkg80I67r6",
        "outputId": "5aaebd45-2216-4f7a-b0fd-9c73f32be256"
      },
      "outputs": [
        {
          "output_type": "execute_result",
          "data": {
            "text/plain": [
              "[1, 4, 4, 0, 1, 5, 3, 3, 6, 5, 5, 0, 2, 2, 0, 2, 2, 2, 3, 2]"
            ]
          },
          "metadata": {},
          "execution_count": 20
        }
      ],
      "source": [
        "test_label[0:20]"
      ]
    }
  ],
  "metadata": {
    "colab": {
      "provenance": [],
      "machine_shape": "hm",
      "gpuType": "V100"
    },
    "kernelspec": {
      "display_name": "Python 3",
      "name": "python3"
    },
    "language_info": {
      "name": "python"
    },
    "widgets": {
      "application/vnd.jupyter.widget-state+json": {
        "bf61dfbc32474d0daf6a5ccf269f55be": {
          "model_module": "@jupyter-widgets/controls",
          "model_name": "HBoxModel",
          "model_module_version": "1.5.0",
          "state": {
            "_dom_classes": [],
            "_model_module": "@jupyter-widgets/controls",
            "_model_module_version": "1.5.0",
            "_model_name": "HBoxModel",
            "_view_count": null,
            "_view_module": "@jupyter-widgets/controls",
            "_view_module_version": "1.5.0",
            "_view_name": "HBoxView",
            "box_style": "",
            "children": [
              "IPY_MODEL_7e4c37f7ce154549a98c3da6f11aade6",
              "IPY_MODEL_418dcfd05da140aca09c48da4a81b3c8",
              "IPY_MODEL_47a990efc794447ea4b4d11827d7bbba"
            ],
            "layout": "IPY_MODEL_ebf79df0e4cc4778888dc8111be6b3b6"
          }
        },
        "7e4c37f7ce154549a98c3da6f11aade6": {
          "model_module": "@jupyter-widgets/controls",
          "model_name": "HTMLModel",
          "model_module_version": "1.5.0",
          "state": {
            "_dom_classes": [],
            "_model_module": "@jupyter-widgets/controls",
            "_model_module_version": "1.5.0",
            "_model_name": "HTMLModel",
            "_view_count": null,
            "_view_module": "@jupyter-widgets/controls",
            "_view_module_version": "1.5.0",
            "_view_name": "HTMLView",
            "description": "",
            "description_tooltip": null,
            "layout": "IPY_MODEL_3b4b00f97af3487f81dc989d5448b237",
            "placeholder": "​",
            "style": "IPY_MODEL_1ff9d08eba9c4a4db6f8f8938e763855",
            "value": "vocab.json: 100%"
          }
        },
        "418dcfd05da140aca09c48da4a81b3c8": {
          "model_module": "@jupyter-widgets/controls",
          "model_name": "FloatProgressModel",
          "model_module_version": "1.5.0",
          "state": {
            "_dom_classes": [],
            "_model_module": "@jupyter-widgets/controls",
            "_model_module_version": "1.5.0",
            "_model_name": "FloatProgressModel",
            "_view_count": null,
            "_view_module": "@jupyter-widgets/controls",
            "_view_module_version": "1.5.0",
            "_view_name": "ProgressView",
            "bar_style": "success",
            "description": "",
            "description_tooltip": null,
            "layout": "IPY_MODEL_59e8b2575a5e451b8bbf2159c71191b5",
            "max": 898823,
            "min": 0,
            "orientation": "horizontal",
            "style": "IPY_MODEL_eb24fe9aff98491183d545c55eecab79",
            "value": 898823
          }
        },
        "47a990efc794447ea4b4d11827d7bbba": {
          "model_module": "@jupyter-widgets/controls",
          "model_name": "HTMLModel",
          "model_module_version": "1.5.0",
          "state": {
            "_dom_classes": [],
            "_model_module": "@jupyter-widgets/controls",
            "_model_module_version": "1.5.0",
            "_model_name": "HTMLModel",
            "_view_count": null,
            "_view_module": "@jupyter-widgets/controls",
            "_view_module_version": "1.5.0",
            "_view_name": "HTMLView",
            "description": "",
            "description_tooltip": null,
            "layout": "IPY_MODEL_2d459b64255e4fa5bde371568bacc5d0",
            "placeholder": "​",
            "style": "IPY_MODEL_0a0b64fbb50b4f519dcfd98eb0009fa9",
            "value": " 899k/899k [00:00&lt;00:00, 3.67MB/s]"
          }
        },
        "ebf79df0e4cc4778888dc8111be6b3b6": {
          "model_module": "@jupyter-widgets/base",
          "model_name": "LayoutModel",
          "model_module_version": "1.2.0",
          "state": {
            "_model_module": "@jupyter-widgets/base",
            "_model_module_version": "1.2.0",
            "_model_name": "LayoutModel",
            "_view_count": null,
            "_view_module": "@jupyter-widgets/base",
            "_view_module_version": "1.2.0",
            "_view_name": "LayoutView",
            "align_content": null,
            "align_items": null,
            "align_self": null,
            "border": null,
            "bottom": null,
            "display": null,
            "flex": null,
            "flex_flow": null,
            "grid_area": null,
            "grid_auto_columns": null,
            "grid_auto_flow": null,
            "grid_auto_rows": null,
            "grid_column": null,
            "grid_gap": null,
            "grid_row": null,
            "grid_template_areas": null,
            "grid_template_columns": null,
            "grid_template_rows": null,
            "height": null,
            "justify_content": null,
            "justify_items": null,
            "left": null,
            "margin": null,
            "max_height": null,
            "max_width": null,
            "min_height": null,
            "min_width": null,
            "object_fit": null,
            "object_position": null,
            "order": null,
            "overflow": null,
            "overflow_x": null,
            "overflow_y": null,
            "padding": null,
            "right": null,
            "top": null,
            "visibility": null,
            "width": null
          }
        },
        "3b4b00f97af3487f81dc989d5448b237": {
          "model_module": "@jupyter-widgets/base",
          "model_name": "LayoutModel",
          "model_module_version": "1.2.0",
          "state": {
            "_model_module": "@jupyter-widgets/base",
            "_model_module_version": "1.2.0",
            "_model_name": "LayoutModel",
            "_view_count": null,
            "_view_module": "@jupyter-widgets/base",
            "_view_module_version": "1.2.0",
            "_view_name": "LayoutView",
            "align_content": null,
            "align_items": null,
            "align_self": null,
            "border": null,
            "bottom": null,
            "display": null,
            "flex": null,
            "flex_flow": null,
            "grid_area": null,
            "grid_auto_columns": null,
            "grid_auto_flow": null,
            "grid_auto_rows": null,
            "grid_column": null,
            "grid_gap": null,
            "grid_row": null,
            "grid_template_areas": null,
            "grid_template_columns": null,
            "grid_template_rows": null,
            "height": null,
            "justify_content": null,
            "justify_items": null,
            "left": null,
            "margin": null,
            "max_height": null,
            "max_width": null,
            "min_height": null,
            "min_width": null,
            "object_fit": null,
            "object_position": null,
            "order": null,
            "overflow": null,
            "overflow_x": null,
            "overflow_y": null,
            "padding": null,
            "right": null,
            "top": null,
            "visibility": null,
            "width": null
          }
        },
        "1ff9d08eba9c4a4db6f8f8938e763855": {
          "model_module": "@jupyter-widgets/controls",
          "model_name": "DescriptionStyleModel",
          "model_module_version": "1.5.0",
          "state": {
            "_model_module": "@jupyter-widgets/controls",
            "_model_module_version": "1.5.0",
            "_model_name": "DescriptionStyleModel",
            "_view_count": null,
            "_view_module": "@jupyter-widgets/base",
            "_view_module_version": "1.2.0",
            "_view_name": "StyleView",
            "description_width": ""
          }
        },
        "59e8b2575a5e451b8bbf2159c71191b5": {
          "model_module": "@jupyter-widgets/base",
          "model_name": "LayoutModel",
          "model_module_version": "1.2.0",
          "state": {
            "_model_module": "@jupyter-widgets/base",
            "_model_module_version": "1.2.0",
            "_model_name": "LayoutModel",
            "_view_count": null,
            "_view_module": "@jupyter-widgets/base",
            "_view_module_version": "1.2.0",
            "_view_name": "LayoutView",
            "align_content": null,
            "align_items": null,
            "align_self": null,
            "border": null,
            "bottom": null,
            "display": null,
            "flex": null,
            "flex_flow": null,
            "grid_area": null,
            "grid_auto_columns": null,
            "grid_auto_flow": null,
            "grid_auto_rows": null,
            "grid_column": null,
            "grid_gap": null,
            "grid_row": null,
            "grid_template_areas": null,
            "grid_template_columns": null,
            "grid_template_rows": null,
            "height": null,
            "justify_content": null,
            "justify_items": null,
            "left": null,
            "margin": null,
            "max_height": null,
            "max_width": null,
            "min_height": null,
            "min_width": null,
            "object_fit": null,
            "object_position": null,
            "order": null,
            "overflow": null,
            "overflow_x": null,
            "overflow_y": null,
            "padding": null,
            "right": null,
            "top": null,
            "visibility": null,
            "width": null
          }
        },
        "eb24fe9aff98491183d545c55eecab79": {
          "model_module": "@jupyter-widgets/controls",
          "model_name": "ProgressStyleModel",
          "model_module_version": "1.5.0",
          "state": {
            "_model_module": "@jupyter-widgets/controls",
            "_model_module_version": "1.5.0",
            "_model_name": "ProgressStyleModel",
            "_view_count": null,
            "_view_module": "@jupyter-widgets/base",
            "_view_module_version": "1.2.0",
            "_view_name": "StyleView",
            "bar_color": null,
            "description_width": ""
          }
        },
        "2d459b64255e4fa5bde371568bacc5d0": {
          "model_module": "@jupyter-widgets/base",
          "model_name": "LayoutModel",
          "model_module_version": "1.2.0",
          "state": {
            "_model_module": "@jupyter-widgets/base",
            "_model_module_version": "1.2.0",
            "_model_name": "LayoutModel",
            "_view_count": null,
            "_view_module": "@jupyter-widgets/base",
            "_view_module_version": "1.2.0",
            "_view_name": "LayoutView",
            "align_content": null,
            "align_items": null,
            "align_self": null,
            "border": null,
            "bottom": null,
            "display": null,
            "flex": null,
            "flex_flow": null,
            "grid_area": null,
            "grid_auto_columns": null,
            "grid_auto_flow": null,
            "grid_auto_rows": null,
            "grid_column": null,
            "grid_gap": null,
            "grid_row": null,
            "grid_template_areas": null,
            "grid_template_columns": null,
            "grid_template_rows": null,
            "height": null,
            "justify_content": null,
            "justify_items": null,
            "left": null,
            "margin": null,
            "max_height": null,
            "max_width": null,
            "min_height": null,
            "min_width": null,
            "object_fit": null,
            "object_position": null,
            "order": null,
            "overflow": null,
            "overflow_x": null,
            "overflow_y": null,
            "padding": null,
            "right": null,
            "top": null,
            "visibility": null,
            "width": null
          }
        },
        "0a0b64fbb50b4f519dcfd98eb0009fa9": {
          "model_module": "@jupyter-widgets/controls",
          "model_name": "DescriptionStyleModel",
          "model_module_version": "1.5.0",
          "state": {
            "_model_module": "@jupyter-widgets/controls",
            "_model_module_version": "1.5.0",
            "_model_name": "DescriptionStyleModel",
            "_view_count": null,
            "_view_module": "@jupyter-widgets/base",
            "_view_module_version": "1.2.0",
            "_view_name": "StyleView",
            "description_width": ""
          }
        },
        "8d2008a4d7684913ab2c11e3d1780566": {
          "model_module": "@jupyter-widgets/controls",
          "model_name": "HBoxModel",
          "model_module_version": "1.5.0",
          "state": {
            "_dom_classes": [],
            "_model_module": "@jupyter-widgets/controls",
            "_model_module_version": "1.5.0",
            "_model_name": "HBoxModel",
            "_view_count": null,
            "_view_module": "@jupyter-widgets/controls",
            "_view_module_version": "1.5.0",
            "_view_name": "HBoxView",
            "box_style": "",
            "children": [
              "IPY_MODEL_48d17913246749238a29612167b8f2af",
              "IPY_MODEL_a8c8948ed4ef4c17927428a9c61a330a",
              "IPY_MODEL_0e4bda87b846440daa240162be1cdbc0"
            ],
            "layout": "IPY_MODEL_9d757fbd36c04deb93c1765805b24705"
          }
        },
        "48d17913246749238a29612167b8f2af": {
          "model_module": "@jupyter-widgets/controls",
          "model_name": "HTMLModel",
          "model_module_version": "1.5.0",
          "state": {
            "_dom_classes": [],
            "_model_module": "@jupyter-widgets/controls",
            "_model_module_version": "1.5.0",
            "_model_name": "HTMLModel",
            "_view_count": null,
            "_view_module": "@jupyter-widgets/controls",
            "_view_module_version": "1.5.0",
            "_view_name": "HTMLView",
            "description": "",
            "description_tooltip": null,
            "layout": "IPY_MODEL_a2ab957f9ca8454b80efa1d1b6b459e1",
            "placeholder": "​",
            "style": "IPY_MODEL_b8e2d30938534644ad050d0da902503c",
            "value": "merges.txt: 100%"
          }
        },
        "a8c8948ed4ef4c17927428a9c61a330a": {
          "model_module": "@jupyter-widgets/controls",
          "model_name": "FloatProgressModel",
          "model_module_version": "1.5.0",
          "state": {
            "_dom_classes": [],
            "_model_module": "@jupyter-widgets/controls",
            "_model_module_version": "1.5.0",
            "_model_name": "FloatProgressModel",
            "_view_count": null,
            "_view_module": "@jupyter-widgets/controls",
            "_view_module_version": "1.5.0",
            "_view_name": "ProgressView",
            "bar_style": "success",
            "description": "",
            "description_tooltip": null,
            "layout": "IPY_MODEL_6b48cbb6973d4a418f0cfd539978a9bf",
            "max": 456318,
            "min": 0,
            "orientation": "horizontal",
            "style": "IPY_MODEL_1ea37563ec2d4429a01bab3307908fd3",
            "value": 456318
          }
        },
        "0e4bda87b846440daa240162be1cdbc0": {
          "model_module": "@jupyter-widgets/controls",
          "model_name": "HTMLModel",
          "model_module_version": "1.5.0",
          "state": {
            "_dom_classes": [],
            "_model_module": "@jupyter-widgets/controls",
            "_model_module_version": "1.5.0",
            "_model_name": "HTMLModel",
            "_view_count": null,
            "_view_module": "@jupyter-widgets/controls",
            "_view_module_version": "1.5.0",
            "_view_name": "HTMLView",
            "description": "",
            "description_tooltip": null,
            "layout": "IPY_MODEL_1dc14793b5c84aad8fd230778e8ed48a",
            "placeholder": "​",
            "style": "IPY_MODEL_75c590e9b6484e44a1bf551a69235e1b",
            "value": " 456k/456k [00:00&lt;00:00, 5.52MB/s]"
          }
        },
        "9d757fbd36c04deb93c1765805b24705": {
          "model_module": "@jupyter-widgets/base",
          "model_name": "LayoutModel",
          "model_module_version": "1.2.0",
          "state": {
            "_model_module": "@jupyter-widgets/base",
            "_model_module_version": "1.2.0",
            "_model_name": "LayoutModel",
            "_view_count": null,
            "_view_module": "@jupyter-widgets/base",
            "_view_module_version": "1.2.0",
            "_view_name": "LayoutView",
            "align_content": null,
            "align_items": null,
            "align_self": null,
            "border": null,
            "bottom": null,
            "display": null,
            "flex": null,
            "flex_flow": null,
            "grid_area": null,
            "grid_auto_columns": null,
            "grid_auto_flow": null,
            "grid_auto_rows": null,
            "grid_column": null,
            "grid_gap": null,
            "grid_row": null,
            "grid_template_areas": null,
            "grid_template_columns": null,
            "grid_template_rows": null,
            "height": null,
            "justify_content": null,
            "justify_items": null,
            "left": null,
            "margin": null,
            "max_height": null,
            "max_width": null,
            "min_height": null,
            "min_width": null,
            "object_fit": null,
            "object_position": null,
            "order": null,
            "overflow": null,
            "overflow_x": null,
            "overflow_y": null,
            "padding": null,
            "right": null,
            "top": null,
            "visibility": null,
            "width": null
          }
        },
        "a2ab957f9ca8454b80efa1d1b6b459e1": {
          "model_module": "@jupyter-widgets/base",
          "model_name": "LayoutModel",
          "model_module_version": "1.2.0",
          "state": {
            "_model_module": "@jupyter-widgets/base",
            "_model_module_version": "1.2.0",
            "_model_name": "LayoutModel",
            "_view_count": null,
            "_view_module": "@jupyter-widgets/base",
            "_view_module_version": "1.2.0",
            "_view_name": "LayoutView",
            "align_content": null,
            "align_items": null,
            "align_self": null,
            "border": null,
            "bottom": null,
            "display": null,
            "flex": null,
            "flex_flow": null,
            "grid_area": null,
            "grid_auto_columns": null,
            "grid_auto_flow": null,
            "grid_auto_rows": null,
            "grid_column": null,
            "grid_gap": null,
            "grid_row": null,
            "grid_template_areas": null,
            "grid_template_columns": null,
            "grid_template_rows": null,
            "height": null,
            "justify_content": null,
            "justify_items": null,
            "left": null,
            "margin": null,
            "max_height": null,
            "max_width": null,
            "min_height": null,
            "min_width": null,
            "object_fit": null,
            "object_position": null,
            "order": null,
            "overflow": null,
            "overflow_x": null,
            "overflow_y": null,
            "padding": null,
            "right": null,
            "top": null,
            "visibility": null,
            "width": null
          }
        },
        "b8e2d30938534644ad050d0da902503c": {
          "model_module": "@jupyter-widgets/controls",
          "model_name": "DescriptionStyleModel",
          "model_module_version": "1.5.0",
          "state": {
            "_model_module": "@jupyter-widgets/controls",
            "_model_module_version": "1.5.0",
            "_model_name": "DescriptionStyleModel",
            "_view_count": null,
            "_view_module": "@jupyter-widgets/base",
            "_view_module_version": "1.2.0",
            "_view_name": "StyleView",
            "description_width": ""
          }
        },
        "6b48cbb6973d4a418f0cfd539978a9bf": {
          "model_module": "@jupyter-widgets/base",
          "model_name": "LayoutModel",
          "model_module_version": "1.2.0",
          "state": {
            "_model_module": "@jupyter-widgets/base",
            "_model_module_version": "1.2.0",
            "_model_name": "LayoutModel",
            "_view_count": null,
            "_view_module": "@jupyter-widgets/base",
            "_view_module_version": "1.2.0",
            "_view_name": "LayoutView",
            "align_content": null,
            "align_items": null,
            "align_self": null,
            "border": null,
            "bottom": null,
            "display": null,
            "flex": null,
            "flex_flow": null,
            "grid_area": null,
            "grid_auto_columns": null,
            "grid_auto_flow": null,
            "grid_auto_rows": null,
            "grid_column": null,
            "grid_gap": null,
            "grid_row": null,
            "grid_template_areas": null,
            "grid_template_columns": null,
            "grid_template_rows": null,
            "height": null,
            "justify_content": null,
            "justify_items": null,
            "left": null,
            "margin": null,
            "max_height": null,
            "max_width": null,
            "min_height": null,
            "min_width": null,
            "object_fit": null,
            "object_position": null,
            "order": null,
            "overflow": null,
            "overflow_x": null,
            "overflow_y": null,
            "padding": null,
            "right": null,
            "top": null,
            "visibility": null,
            "width": null
          }
        },
        "1ea37563ec2d4429a01bab3307908fd3": {
          "model_module": "@jupyter-widgets/controls",
          "model_name": "ProgressStyleModel",
          "model_module_version": "1.5.0",
          "state": {
            "_model_module": "@jupyter-widgets/controls",
            "_model_module_version": "1.5.0",
            "_model_name": "ProgressStyleModel",
            "_view_count": null,
            "_view_module": "@jupyter-widgets/base",
            "_view_module_version": "1.2.0",
            "_view_name": "StyleView",
            "bar_color": null,
            "description_width": ""
          }
        },
        "1dc14793b5c84aad8fd230778e8ed48a": {
          "model_module": "@jupyter-widgets/base",
          "model_name": "LayoutModel",
          "model_module_version": "1.2.0",
          "state": {
            "_model_module": "@jupyter-widgets/base",
            "_model_module_version": "1.2.0",
            "_model_name": "LayoutModel",
            "_view_count": null,
            "_view_module": "@jupyter-widgets/base",
            "_view_module_version": "1.2.0",
            "_view_name": "LayoutView",
            "align_content": null,
            "align_items": null,
            "align_self": null,
            "border": null,
            "bottom": null,
            "display": null,
            "flex": null,
            "flex_flow": null,
            "grid_area": null,
            "grid_auto_columns": null,
            "grid_auto_flow": null,
            "grid_auto_rows": null,
            "grid_column": null,
            "grid_gap": null,
            "grid_row": null,
            "grid_template_areas": null,
            "grid_template_columns": null,
            "grid_template_rows": null,
            "height": null,
            "justify_content": null,
            "justify_items": null,
            "left": null,
            "margin": null,
            "max_height": null,
            "max_width": null,
            "min_height": null,
            "min_width": null,
            "object_fit": null,
            "object_position": null,
            "order": null,
            "overflow": null,
            "overflow_x": null,
            "overflow_y": null,
            "padding": null,
            "right": null,
            "top": null,
            "visibility": null,
            "width": null
          }
        },
        "75c590e9b6484e44a1bf551a69235e1b": {
          "model_module": "@jupyter-widgets/controls",
          "model_name": "DescriptionStyleModel",
          "model_module_version": "1.5.0",
          "state": {
            "_model_module": "@jupyter-widgets/controls",
            "_model_module_version": "1.5.0",
            "_model_name": "DescriptionStyleModel",
            "_view_count": null,
            "_view_module": "@jupyter-widgets/base",
            "_view_module_version": "1.2.0",
            "_view_name": "StyleView",
            "description_width": ""
          }
        },
        "b612e4ef58ae451cb9b06d4a268dae02": {
          "model_module": "@jupyter-widgets/controls",
          "model_name": "HBoxModel",
          "model_module_version": "1.5.0",
          "state": {
            "_dom_classes": [],
            "_model_module": "@jupyter-widgets/controls",
            "_model_module_version": "1.5.0",
            "_model_name": "HBoxModel",
            "_view_count": null,
            "_view_module": "@jupyter-widgets/controls",
            "_view_module_version": "1.5.0",
            "_view_name": "HBoxView",
            "box_style": "",
            "children": [
              "IPY_MODEL_ae41f191672e42e39be23e8f0040e4f3",
              "IPY_MODEL_b47a39a0fdb04d80920f18ff7e5bb704",
              "IPY_MODEL_5e180e2e265e471c81ab7059cfd463ac"
            ],
            "layout": "IPY_MODEL_76d56a2e02ca4d6995c6676a106323b6"
          }
        },
        "ae41f191672e42e39be23e8f0040e4f3": {
          "model_module": "@jupyter-widgets/controls",
          "model_name": "HTMLModel",
          "model_module_version": "1.5.0",
          "state": {
            "_dom_classes": [],
            "_model_module": "@jupyter-widgets/controls",
            "_model_module_version": "1.5.0",
            "_model_name": "HTMLModel",
            "_view_count": null,
            "_view_module": "@jupyter-widgets/controls",
            "_view_module_version": "1.5.0",
            "_view_name": "HTMLView",
            "description": "",
            "description_tooltip": null,
            "layout": "IPY_MODEL_b191a7064bcc4a0ba39637b5dbf7dc1c",
            "placeholder": "​",
            "style": "IPY_MODEL_da7ae8086be0455f8fe8cb4d35a52c43",
            "value": "tokenizer.json: 100%"
          }
        },
        "b47a39a0fdb04d80920f18ff7e5bb704": {
          "model_module": "@jupyter-widgets/controls",
          "model_name": "FloatProgressModel",
          "model_module_version": "1.5.0",
          "state": {
            "_dom_classes": [],
            "_model_module": "@jupyter-widgets/controls",
            "_model_module_version": "1.5.0",
            "_model_name": "FloatProgressModel",
            "_view_count": null,
            "_view_module": "@jupyter-widgets/controls",
            "_view_module_version": "1.5.0",
            "_view_name": "ProgressView",
            "bar_style": "success",
            "description": "",
            "description_tooltip": null,
            "layout": "IPY_MODEL_0e483e3b639c42d394b451520584e4aa",
            "max": 1355863,
            "min": 0,
            "orientation": "horizontal",
            "style": "IPY_MODEL_f9cf664aef294d889068135db58bfaeb",
            "value": 1355863
          }
        },
        "5e180e2e265e471c81ab7059cfd463ac": {
          "model_module": "@jupyter-widgets/controls",
          "model_name": "HTMLModel",
          "model_module_version": "1.5.0",
          "state": {
            "_dom_classes": [],
            "_model_module": "@jupyter-widgets/controls",
            "_model_module_version": "1.5.0",
            "_model_name": "HTMLModel",
            "_view_count": null,
            "_view_module": "@jupyter-widgets/controls",
            "_view_module_version": "1.5.0",
            "_view_name": "HTMLView",
            "description": "",
            "description_tooltip": null,
            "layout": "IPY_MODEL_24a6ebdca1fb4c7d8197bf8febf0ac80",
            "placeholder": "​",
            "style": "IPY_MODEL_71a6f4484ebb4224a69f578c0d814ce4",
            "value": " 1.36M/1.36M [00:00&lt;00:00, 3.37MB/s]"
          }
        },
        "76d56a2e02ca4d6995c6676a106323b6": {
          "model_module": "@jupyter-widgets/base",
          "model_name": "LayoutModel",
          "model_module_version": "1.2.0",
          "state": {
            "_model_module": "@jupyter-widgets/base",
            "_model_module_version": "1.2.0",
            "_model_name": "LayoutModel",
            "_view_count": null,
            "_view_module": "@jupyter-widgets/base",
            "_view_module_version": "1.2.0",
            "_view_name": "LayoutView",
            "align_content": null,
            "align_items": null,
            "align_self": null,
            "border": null,
            "bottom": null,
            "display": null,
            "flex": null,
            "flex_flow": null,
            "grid_area": null,
            "grid_auto_columns": null,
            "grid_auto_flow": null,
            "grid_auto_rows": null,
            "grid_column": null,
            "grid_gap": null,
            "grid_row": null,
            "grid_template_areas": null,
            "grid_template_columns": null,
            "grid_template_rows": null,
            "height": null,
            "justify_content": null,
            "justify_items": null,
            "left": null,
            "margin": null,
            "max_height": null,
            "max_width": null,
            "min_height": null,
            "min_width": null,
            "object_fit": null,
            "object_position": null,
            "order": null,
            "overflow": null,
            "overflow_x": null,
            "overflow_y": null,
            "padding": null,
            "right": null,
            "top": null,
            "visibility": null,
            "width": null
          }
        },
        "b191a7064bcc4a0ba39637b5dbf7dc1c": {
          "model_module": "@jupyter-widgets/base",
          "model_name": "LayoutModel",
          "model_module_version": "1.2.0",
          "state": {
            "_model_module": "@jupyter-widgets/base",
            "_model_module_version": "1.2.0",
            "_model_name": "LayoutModel",
            "_view_count": null,
            "_view_module": "@jupyter-widgets/base",
            "_view_module_version": "1.2.0",
            "_view_name": "LayoutView",
            "align_content": null,
            "align_items": null,
            "align_self": null,
            "border": null,
            "bottom": null,
            "display": null,
            "flex": null,
            "flex_flow": null,
            "grid_area": null,
            "grid_auto_columns": null,
            "grid_auto_flow": null,
            "grid_auto_rows": null,
            "grid_column": null,
            "grid_gap": null,
            "grid_row": null,
            "grid_template_areas": null,
            "grid_template_columns": null,
            "grid_template_rows": null,
            "height": null,
            "justify_content": null,
            "justify_items": null,
            "left": null,
            "margin": null,
            "max_height": null,
            "max_width": null,
            "min_height": null,
            "min_width": null,
            "object_fit": null,
            "object_position": null,
            "order": null,
            "overflow": null,
            "overflow_x": null,
            "overflow_y": null,
            "padding": null,
            "right": null,
            "top": null,
            "visibility": null,
            "width": null
          }
        },
        "da7ae8086be0455f8fe8cb4d35a52c43": {
          "model_module": "@jupyter-widgets/controls",
          "model_name": "DescriptionStyleModel",
          "model_module_version": "1.5.0",
          "state": {
            "_model_module": "@jupyter-widgets/controls",
            "_model_module_version": "1.5.0",
            "_model_name": "DescriptionStyleModel",
            "_view_count": null,
            "_view_module": "@jupyter-widgets/base",
            "_view_module_version": "1.2.0",
            "_view_name": "StyleView",
            "description_width": ""
          }
        },
        "0e483e3b639c42d394b451520584e4aa": {
          "model_module": "@jupyter-widgets/base",
          "model_name": "LayoutModel",
          "model_module_version": "1.2.0",
          "state": {
            "_model_module": "@jupyter-widgets/base",
            "_model_module_version": "1.2.0",
            "_model_name": "LayoutModel",
            "_view_count": null,
            "_view_module": "@jupyter-widgets/base",
            "_view_module_version": "1.2.0",
            "_view_name": "LayoutView",
            "align_content": null,
            "align_items": null,
            "align_self": null,
            "border": null,
            "bottom": null,
            "display": null,
            "flex": null,
            "flex_flow": null,
            "grid_area": null,
            "grid_auto_columns": null,
            "grid_auto_flow": null,
            "grid_auto_rows": null,
            "grid_column": null,
            "grid_gap": null,
            "grid_row": null,
            "grid_template_areas": null,
            "grid_template_columns": null,
            "grid_template_rows": null,
            "height": null,
            "justify_content": null,
            "justify_items": null,
            "left": null,
            "margin": null,
            "max_height": null,
            "max_width": null,
            "min_height": null,
            "min_width": null,
            "object_fit": null,
            "object_position": null,
            "order": null,
            "overflow": null,
            "overflow_x": null,
            "overflow_y": null,
            "padding": null,
            "right": null,
            "top": null,
            "visibility": null,
            "width": null
          }
        },
        "f9cf664aef294d889068135db58bfaeb": {
          "model_module": "@jupyter-widgets/controls",
          "model_name": "ProgressStyleModel",
          "model_module_version": "1.5.0",
          "state": {
            "_model_module": "@jupyter-widgets/controls",
            "_model_module_version": "1.5.0",
            "_model_name": "ProgressStyleModel",
            "_view_count": null,
            "_view_module": "@jupyter-widgets/base",
            "_view_module_version": "1.2.0",
            "_view_name": "StyleView",
            "bar_color": null,
            "description_width": ""
          }
        },
        "24a6ebdca1fb4c7d8197bf8febf0ac80": {
          "model_module": "@jupyter-widgets/base",
          "model_name": "LayoutModel",
          "model_module_version": "1.2.0",
          "state": {
            "_model_module": "@jupyter-widgets/base",
            "_model_module_version": "1.2.0",
            "_model_name": "LayoutModel",
            "_view_count": null,
            "_view_module": "@jupyter-widgets/base",
            "_view_module_version": "1.2.0",
            "_view_name": "LayoutView",
            "align_content": null,
            "align_items": null,
            "align_self": null,
            "border": null,
            "bottom": null,
            "display": null,
            "flex": null,
            "flex_flow": null,
            "grid_area": null,
            "grid_auto_columns": null,
            "grid_auto_flow": null,
            "grid_auto_rows": null,
            "grid_column": null,
            "grid_gap": null,
            "grid_row": null,
            "grid_template_areas": null,
            "grid_template_columns": null,
            "grid_template_rows": null,
            "height": null,
            "justify_content": null,
            "justify_items": null,
            "left": null,
            "margin": null,
            "max_height": null,
            "max_width": null,
            "min_height": null,
            "min_width": null,
            "object_fit": null,
            "object_position": null,
            "order": null,
            "overflow": null,
            "overflow_x": null,
            "overflow_y": null,
            "padding": null,
            "right": null,
            "top": null,
            "visibility": null,
            "width": null
          }
        },
        "71a6f4484ebb4224a69f578c0d814ce4": {
          "model_module": "@jupyter-widgets/controls",
          "model_name": "DescriptionStyleModel",
          "model_module_version": "1.5.0",
          "state": {
            "_model_module": "@jupyter-widgets/controls",
            "_model_module_version": "1.5.0",
            "_model_name": "DescriptionStyleModel",
            "_view_count": null,
            "_view_module": "@jupyter-widgets/base",
            "_view_module_version": "1.2.0",
            "_view_name": "StyleView",
            "description_width": ""
          }
        },
        "47a3240d689f44a7921e222e193e89fd": {
          "model_module": "@jupyter-widgets/controls",
          "model_name": "HBoxModel",
          "model_module_version": "1.5.0",
          "state": {
            "_dom_classes": [],
            "_model_module": "@jupyter-widgets/controls",
            "_model_module_version": "1.5.0",
            "_model_name": "HBoxModel",
            "_view_count": null,
            "_view_module": "@jupyter-widgets/controls",
            "_view_module_version": "1.5.0",
            "_view_name": "HBoxView",
            "box_style": "",
            "children": [
              "IPY_MODEL_f40a50434d764f5aacca6332ccfb49c4",
              "IPY_MODEL_6f2aeb23bae24dd0a00a0f65e1b188ef",
              "IPY_MODEL_69ac919e686c4467894960f0fffbc5c6"
            ],
            "layout": "IPY_MODEL_bd5c52394f67415586471e4546ba991f"
          }
        },
        "f40a50434d764f5aacca6332ccfb49c4": {
          "model_module": "@jupyter-widgets/controls",
          "model_name": "HTMLModel",
          "model_module_version": "1.5.0",
          "state": {
            "_dom_classes": [],
            "_model_module": "@jupyter-widgets/controls",
            "_model_module_version": "1.5.0",
            "_model_name": "HTMLModel",
            "_view_count": null,
            "_view_module": "@jupyter-widgets/controls",
            "_view_module_version": "1.5.0",
            "_view_name": "HTMLView",
            "description": "",
            "description_tooltip": null,
            "layout": "IPY_MODEL_78ada4e777154a3b81c9a408ae24e91f",
            "placeholder": "​",
            "style": "IPY_MODEL_c9672a83126e4cefb2035fe9601b5830",
            "value": "config.json: 100%"
          }
        },
        "6f2aeb23bae24dd0a00a0f65e1b188ef": {
          "model_module": "@jupyter-widgets/controls",
          "model_name": "FloatProgressModel",
          "model_module_version": "1.5.0",
          "state": {
            "_dom_classes": [],
            "_model_module": "@jupyter-widgets/controls",
            "_model_module_version": "1.5.0",
            "_model_name": "FloatProgressModel",
            "_view_count": null,
            "_view_module": "@jupyter-widgets/controls",
            "_view_module_version": "1.5.0",
            "_view_name": "ProgressView",
            "bar_style": "success",
            "description": "",
            "description_tooltip": null,
            "layout": "IPY_MODEL_69a80879972f4fee971c2e9964617bdd",
            "max": 481,
            "min": 0,
            "orientation": "horizontal",
            "style": "IPY_MODEL_b6b65ad2e91d4ff185b8e471b115150c",
            "value": 481
          }
        },
        "69ac919e686c4467894960f0fffbc5c6": {
          "model_module": "@jupyter-widgets/controls",
          "model_name": "HTMLModel",
          "model_module_version": "1.5.0",
          "state": {
            "_dom_classes": [],
            "_model_module": "@jupyter-widgets/controls",
            "_model_module_version": "1.5.0",
            "_model_name": "HTMLModel",
            "_view_count": null,
            "_view_module": "@jupyter-widgets/controls",
            "_view_module_version": "1.5.0",
            "_view_name": "HTMLView",
            "description": "",
            "description_tooltip": null,
            "layout": "IPY_MODEL_2ceb31b5ca7f4ecbb3520ed47463710e",
            "placeholder": "​",
            "style": "IPY_MODEL_acd1105e5c4b46afb0a17d087d693bac",
            "value": " 481/481 [00:00&lt;00:00, 47.4kB/s]"
          }
        },
        "bd5c52394f67415586471e4546ba991f": {
          "model_module": "@jupyter-widgets/base",
          "model_name": "LayoutModel",
          "model_module_version": "1.2.0",
          "state": {
            "_model_module": "@jupyter-widgets/base",
            "_model_module_version": "1.2.0",
            "_model_name": "LayoutModel",
            "_view_count": null,
            "_view_module": "@jupyter-widgets/base",
            "_view_module_version": "1.2.0",
            "_view_name": "LayoutView",
            "align_content": null,
            "align_items": null,
            "align_self": null,
            "border": null,
            "bottom": null,
            "display": null,
            "flex": null,
            "flex_flow": null,
            "grid_area": null,
            "grid_auto_columns": null,
            "grid_auto_flow": null,
            "grid_auto_rows": null,
            "grid_column": null,
            "grid_gap": null,
            "grid_row": null,
            "grid_template_areas": null,
            "grid_template_columns": null,
            "grid_template_rows": null,
            "height": null,
            "justify_content": null,
            "justify_items": null,
            "left": null,
            "margin": null,
            "max_height": null,
            "max_width": null,
            "min_height": null,
            "min_width": null,
            "object_fit": null,
            "object_position": null,
            "order": null,
            "overflow": null,
            "overflow_x": null,
            "overflow_y": null,
            "padding": null,
            "right": null,
            "top": null,
            "visibility": null,
            "width": null
          }
        },
        "78ada4e777154a3b81c9a408ae24e91f": {
          "model_module": "@jupyter-widgets/base",
          "model_name": "LayoutModel",
          "model_module_version": "1.2.0",
          "state": {
            "_model_module": "@jupyter-widgets/base",
            "_model_module_version": "1.2.0",
            "_model_name": "LayoutModel",
            "_view_count": null,
            "_view_module": "@jupyter-widgets/base",
            "_view_module_version": "1.2.0",
            "_view_name": "LayoutView",
            "align_content": null,
            "align_items": null,
            "align_self": null,
            "border": null,
            "bottom": null,
            "display": null,
            "flex": null,
            "flex_flow": null,
            "grid_area": null,
            "grid_auto_columns": null,
            "grid_auto_flow": null,
            "grid_auto_rows": null,
            "grid_column": null,
            "grid_gap": null,
            "grid_row": null,
            "grid_template_areas": null,
            "grid_template_columns": null,
            "grid_template_rows": null,
            "height": null,
            "justify_content": null,
            "justify_items": null,
            "left": null,
            "margin": null,
            "max_height": null,
            "max_width": null,
            "min_height": null,
            "min_width": null,
            "object_fit": null,
            "object_position": null,
            "order": null,
            "overflow": null,
            "overflow_x": null,
            "overflow_y": null,
            "padding": null,
            "right": null,
            "top": null,
            "visibility": null,
            "width": null
          }
        },
        "c9672a83126e4cefb2035fe9601b5830": {
          "model_module": "@jupyter-widgets/controls",
          "model_name": "DescriptionStyleModel",
          "model_module_version": "1.5.0",
          "state": {
            "_model_module": "@jupyter-widgets/controls",
            "_model_module_version": "1.5.0",
            "_model_name": "DescriptionStyleModel",
            "_view_count": null,
            "_view_module": "@jupyter-widgets/base",
            "_view_module_version": "1.2.0",
            "_view_name": "StyleView",
            "description_width": ""
          }
        },
        "69a80879972f4fee971c2e9964617bdd": {
          "model_module": "@jupyter-widgets/base",
          "model_name": "LayoutModel",
          "model_module_version": "1.2.0",
          "state": {
            "_model_module": "@jupyter-widgets/base",
            "_model_module_version": "1.2.0",
            "_model_name": "LayoutModel",
            "_view_count": null,
            "_view_module": "@jupyter-widgets/base",
            "_view_module_version": "1.2.0",
            "_view_name": "LayoutView",
            "align_content": null,
            "align_items": null,
            "align_self": null,
            "border": null,
            "bottom": null,
            "display": null,
            "flex": null,
            "flex_flow": null,
            "grid_area": null,
            "grid_auto_columns": null,
            "grid_auto_flow": null,
            "grid_auto_rows": null,
            "grid_column": null,
            "grid_gap": null,
            "grid_row": null,
            "grid_template_areas": null,
            "grid_template_columns": null,
            "grid_template_rows": null,
            "height": null,
            "justify_content": null,
            "justify_items": null,
            "left": null,
            "margin": null,
            "max_height": null,
            "max_width": null,
            "min_height": null,
            "min_width": null,
            "object_fit": null,
            "object_position": null,
            "order": null,
            "overflow": null,
            "overflow_x": null,
            "overflow_y": null,
            "padding": null,
            "right": null,
            "top": null,
            "visibility": null,
            "width": null
          }
        },
        "b6b65ad2e91d4ff185b8e471b115150c": {
          "model_module": "@jupyter-widgets/controls",
          "model_name": "ProgressStyleModel",
          "model_module_version": "1.5.0",
          "state": {
            "_model_module": "@jupyter-widgets/controls",
            "_model_module_version": "1.5.0",
            "_model_name": "ProgressStyleModel",
            "_view_count": null,
            "_view_module": "@jupyter-widgets/base",
            "_view_module_version": "1.2.0",
            "_view_name": "StyleView",
            "bar_color": null,
            "description_width": ""
          }
        },
        "2ceb31b5ca7f4ecbb3520ed47463710e": {
          "model_module": "@jupyter-widgets/base",
          "model_name": "LayoutModel",
          "model_module_version": "1.2.0",
          "state": {
            "_model_module": "@jupyter-widgets/base",
            "_model_module_version": "1.2.0",
            "_model_name": "LayoutModel",
            "_view_count": null,
            "_view_module": "@jupyter-widgets/base",
            "_view_module_version": "1.2.0",
            "_view_name": "LayoutView",
            "align_content": null,
            "align_items": null,
            "align_self": null,
            "border": null,
            "bottom": null,
            "display": null,
            "flex": null,
            "flex_flow": null,
            "grid_area": null,
            "grid_auto_columns": null,
            "grid_auto_flow": null,
            "grid_auto_rows": null,
            "grid_column": null,
            "grid_gap": null,
            "grid_row": null,
            "grid_template_areas": null,
            "grid_template_columns": null,
            "grid_template_rows": null,
            "height": null,
            "justify_content": null,
            "justify_items": null,
            "left": null,
            "margin": null,
            "max_height": null,
            "max_width": null,
            "min_height": null,
            "min_width": null,
            "object_fit": null,
            "object_position": null,
            "order": null,
            "overflow": null,
            "overflow_x": null,
            "overflow_y": null,
            "padding": null,
            "right": null,
            "top": null,
            "visibility": null,
            "width": null
          }
        },
        "acd1105e5c4b46afb0a17d087d693bac": {
          "model_module": "@jupyter-widgets/controls",
          "model_name": "DescriptionStyleModel",
          "model_module_version": "1.5.0",
          "state": {
            "_model_module": "@jupyter-widgets/controls",
            "_model_module_version": "1.5.0",
            "_model_name": "DescriptionStyleModel",
            "_view_count": null,
            "_view_module": "@jupyter-widgets/base",
            "_view_module_version": "1.2.0",
            "_view_name": "StyleView",
            "description_width": ""
          }
        },
        "03ac7aec279249b1b997b925a13ed202": {
          "model_module": "@jupyter-widgets/controls",
          "model_name": "HBoxModel",
          "model_module_version": "1.5.0",
          "state": {
            "_dom_classes": [],
            "_model_module": "@jupyter-widgets/controls",
            "_model_module_version": "1.5.0",
            "_model_name": "HBoxModel",
            "_view_count": null,
            "_view_module": "@jupyter-widgets/controls",
            "_view_module_version": "1.5.0",
            "_view_name": "HBoxView",
            "box_style": "",
            "children": [
              "IPY_MODEL_385d127861b54ba2981b6f6376693c75",
              "IPY_MODEL_ed7d026a634a4405a405609777c707f2",
              "IPY_MODEL_c209e510fced486bb484c009d0437b81"
            ],
            "layout": "IPY_MODEL_660c7df94bde46aeb708e0599a623702"
          }
        },
        "385d127861b54ba2981b6f6376693c75": {
          "model_module": "@jupyter-widgets/controls",
          "model_name": "HTMLModel",
          "model_module_version": "1.5.0",
          "state": {
            "_dom_classes": [],
            "_model_module": "@jupyter-widgets/controls",
            "_model_module_version": "1.5.0",
            "_model_name": "HTMLModel",
            "_view_count": null,
            "_view_module": "@jupyter-widgets/controls",
            "_view_module_version": "1.5.0",
            "_view_name": "HTMLView",
            "description": "",
            "description_tooltip": null,
            "layout": "IPY_MODEL_b9f5c60fd68a4e0a9c4fd09b7f029757",
            "placeholder": "​",
            "style": "IPY_MODEL_64949f742c1f4962bae0dcbe15b7f1a9",
            "value": "model.safetensors: 100%"
          }
        },
        "ed7d026a634a4405a405609777c707f2": {
          "model_module": "@jupyter-widgets/controls",
          "model_name": "FloatProgressModel",
          "model_module_version": "1.5.0",
          "state": {
            "_dom_classes": [],
            "_model_module": "@jupyter-widgets/controls",
            "_model_module_version": "1.5.0",
            "_model_name": "FloatProgressModel",
            "_view_count": null,
            "_view_module": "@jupyter-widgets/controls",
            "_view_module_version": "1.5.0",
            "_view_name": "ProgressView",
            "bar_style": "success",
            "description": "",
            "description_tooltip": null,
            "layout": "IPY_MODEL_f98dfefcdc6b4a8aa8026f12d4efb607",
            "max": 498818054,
            "min": 0,
            "orientation": "horizontal",
            "style": "IPY_MODEL_6c7e403478564d6e9b83d095a9068a56",
            "value": 498818054
          }
        },
        "c209e510fced486bb484c009d0437b81": {
          "model_module": "@jupyter-widgets/controls",
          "model_name": "HTMLModel",
          "model_module_version": "1.5.0",
          "state": {
            "_dom_classes": [],
            "_model_module": "@jupyter-widgets/controls",
            "_model_module_version": "1.5.0",
            "_model_name": "HTMLModel",
            "_view_count": null,
            "_view_module": "@jupyter-widgets/controls",
            "_view_module_version": "1.5.0",
            "_view_name": "HTMLView",
            "description": "",
            "description_tooltip": null,
            "layout": "IPY_MODEL_7544470318d24f28a1604befc2833e8c",
            "placeholder": "​",
            "style": "IPY_MODEL_5e9c8c9d9a614c9eb1cf22fb813d3938",
            "value": " 499M/499M [00:01&lt;00:00, 421MB/s]"
          }
        },
        "660c7df94bde46aeb708e0599a623702": {
          "model_module": "@jupyter-widgets/base",
          "model_name": "LayoutModel",
          "model_module_version": "1.2.0",
          "state": {
            "_model_module": "@jupyter-widgets/base",
            "_model_module_version": "1.2.0",
            "_model_name": "LayoutModel",
            "_view_count": null,
            "_view_module": "@jupyter-widgets/base",
            "_view_module_version": "1.2.0",
            "_view_name": "LayoutView",
            "align_content": null,
            "align_items": null,
            "align_self": null,
            "border": null,
            "bottom": null,
            "display": null,
            "flex": null,
            "flex_flow": null,
            "grid_area": null,
            "grid_auto_columns": null,
            "grid_auto_flow": null,
            "grid_auto_rows": null,
            "grid_column": null,
            "grid_gap": null,
            "grid_row": null,
            "grid_template_areas": null,
            "grid_template_columns": null,
            "grid_template_rows": null,
            "height": null,
            "justify_content": null,
            "justify_items": null,
            "left": null,
            "margin": null,
            "max_height": null,
            "max_width": null,
            "min_height": null,
            "min_width": null,
            "object_fit": null,
            "object_position": null,
            "order": null,
            "overflow": null,
            "overflow_x": null,
            "overflow_y": null,
            "padding": null,
            "right": null,
            "top": null,
            "visibility": null,
            "width": null
          }
        },
        "b9f5c60fd68a4e0a9c4fd09b7f029757": {
          "model_module": "@jupyter-widgets/base",
          "model_name": "LayoutModel",
          "model_module_version": "1.2.0",
          "state": {
            "_model_module": "@jupyter-widgets/base",
            "_model_module_version": "1.2.0",
            "_model_name": "LayoutModel",
            "_view_count": null,
            "_view_module": "@jupyter-widgets/base",
            "_view_module_version": "1.2.0",
            "_view_name": "LayoutView",
            "align_content": null,
            "align_items": null,
            "align_self": null,
            "border": null,
            "bottom": null,
            "display": null,
            "flex": null,
            "flex_flow": null,
            "grid_area": null,
            "grid_auto_columns": null,
            "grid_auto_flow": null,
            "grid_auto_rows": null,
            "grid_column": null,
            "grid_gap": null,
            "grid_row": null,
            "grid_template_areas": null,
            "grid_template_columns": null,
            "grid_template_rows": null,
            "height": null,
            "justify_content": null,
            "justify_items": null,
            "left": null,
            "margin": null,
            "max_height": null,
            "max_width": null,
            "min_height": null,
            "min_width": null,
            "object_fit": null,
            "object_position": null,
            "order": null,
            "overflow": null,
            "overflow_x": null,
            "overflow_y": null,
            "padding": null,
            "right": null,
            "top": null,
            "visibility": null,
            "width": null
          }
        },
        "64949f742c1f4962bae0dcbe15b7f1a9": {
          "model_module": "@jupyter-widgets/controls",
          "model_name": "DescriptionStyleModel",
          "model_module_version": "1.5.0",
          "state": {
            "_model_module": "@jupyter-widgets/controls",
            "_model_module_version": "1.5.0",
            "_model_name": "DescriptionStyleModel",
            "_view_count": null,
            "_view_module": "@jupyter-widgets/base",
            "_view_module_version": "1.2.0",
            "_view_name": "StyleView",
            "description_width": ""
          }
        },
        "f98dfefcdc6b4a8aa8026f12d4efb607": {
          "model_module": "@jupyter-widgets/base",
          "model_name": "LayoutModel",
          "model_module_version": "1.2.0",
          "state": {
            "_model_module": "@jupyter-widgets/base",
            "_model_module_version": "1.2.0",
            "_model_name": "LayoutModel",
            "_view_count": null,
            "_view_module": "@jupyter-widgets/base",
            "_view_module_version": "1.2.0",
            "_view_name": "LayoutView",
            "align_content": null,
            "align_items": null,
            "align_self": null,
            "border": null,
            "bottom": null,
            "display": null,
            "flex": null,
            "flex_flow": null,
            "grid_area": null,
            "grid_auto_columns": null,
            "grid_auto_flow": null,
            "grid_auto_rows": null,
            "grid_column": null,
            "grid_gap": null,
            "grid_row": null,
            "grid_template_areas": null,
            "grid_template_columns": null,
            "grid_template_rows": null,
            "height": null,
            "justify_content": null,
            "justify_items": null,
            "left": null,
            "margin": null,
            "max_height": null,
            "max_width": null,
            "min_height": null,
            "min_width": null,
            "object_fit": null,
            "object_position": null,
            "order": null,
            "overflow": null,
            "overflow_x": null,
            "overflow_y": null,
            "padding": null,
            "right": null,
            "top": null,
            "visibility": null,
            "width": null
          }
        },
        "6c7e403478564d6e9b83d095a9068a56": {
          "model_module": "@jupyter-widgets/controls",
          "model_name": "ProgressStyleModel",
          "model_module_version": "1.5.0",
          "state": {
            "_model_module": "@jupyter-widgets/controls",
            "_model_module_version": "1.5.0",
            "_model_name": "ProgressStyleModel",
            "_view_count": null,
            "_view_module": "@jupyter-widgets/base",
            "_view_module_version": "1.2.0",
            "_view_name": "StyleView",
            "bar_color": null,
            "description_width": ""
          }
        },
        "7544470318d24f28a1604befc2833e8c": {
          "model_module": "@jupyter-widgets/base",
          "model_name": "LayoutModel",
          "model_module_version": "1.2.0",
          "state": {
            "_model_module": "@jupyter-widgets/base",
            "_model_module_version": "1.2.0",
            "_model_name": "LayoutModel",
            "_view_count": null,
            "_view_module": "@jupyter-widgets/base",
            "_view_module_version": "1.2.0",
            "_view_name": "LayoutView",
            "align_content": null,
            "align_items": null,
            "align_self": null,
            "border": null,
            "bottom": null,
            "display": null,
            "flex": null,
            "flex_flow": null,
            "grid_area": null,
            "grid_auto_columns": null,
            "grid_auto_flow": null,
            "grid_auto_rows": null,
            "grid_column": null,
            "grid_gap": null,
            "grid_row": null,
            "grid_template_areas": null,
            "grid_template_columns": null,
            "grid_template_rows": null,
            "height": null,
            "justify_content": null,
            "justify_items": null,
            "left": null,
            "margin": null,
            "max_height": null,
            "max_width": null,
            "min_height": null,
            "min_width": null,
            "object_fit": null,
            "object_position": null,
            "order": null,
            "overflow": null,
            "overflow_x": null,
            "overflow_y": null,
            "padding": null,
            "right": null,
            "top": null,
            "visibility": null,
            "width": null
          }
        },
        "5e9c8c9d9a614c9eb1cf22fb813d3938": {
          "model_module": "@jupyter-widgets/controls",
          "model_name": "DescriptionStyleModel",
          "model_module_version": "1.5.0",
          "state": {
            "_model_module": "@jupyter-widgets/controls",
            "_model_module_version": "1.5.0",
            "_model_name": "DescriptionStyleModel",
            "_view_count": null,
            "_view_module": "@jupyter-widgets/base",
            "_view_module_version": "1.2.0",
            "_view_name": "StyleView",
            "description_width": ""
          }
        }
      }
    },
    "accelerator": "GPU"
  },
  "nbformat": 4,
  "nbformat_minor": 0
}