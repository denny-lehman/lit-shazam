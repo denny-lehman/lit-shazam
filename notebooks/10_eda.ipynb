{
 "cells": [
  {
   "cell_type": "code",
   "execution_count": 1,
   "id": "adc06a1e",
   "metadata": {},
   "outputs": [],
   "source": [
    "# data pull"
   ]
  },
  {
   "cell_type": "code",
   "execution_count": 2,
   "id": "6ac77c73",
   "metadata": {},
   "outputs": [],
   "source": [
    "import requests\n",
    "r = requests.get(r'https://www.gutenberg.org/cache/epub/64317/pg64317.txt')\n",
    "great_gatsby = r.text"
   ]
  },
  {
   "cell_type": "code",
   "execution_count": 4,
   "id": "139da9dd",
   "metadata": {},
   "outputs": [
    {
     "data": {
      "text/plain": [
       "str"
      ]
     },
     "execution_count": 4,
     "metadata": {},
     "output_type": "execute_result"
    }
   ],
   "source": [
    "type(great_gatsby)"
   ]
  },
  {
   "cell_type": "code",
   "execution_count": 5,
   "id": "f5f98de9",
   "metadata": {},
   "outputs": [
    {
     "data": {
      "text/plain": [
       "'\\ufeffThe Project Gutenberg eBook of The Great Gatsby\\r\\n    \\r\\nThis ebook is for the use of anyone anywhere'"
      ]
     },
     "execution_count": 5,
     "metadata": {},
     "output_type": "execute_result"
    }
   ],
   "source": [
    "great_gatsby[0:100]"
   ]
  },
  {
   "cell_type": "code",
   "execution_count": 6,
   "id": "4e26bf49",
   "metadata": {},
   "outputs": [],
   "source": [
    "# first, remove unwanted new line and tab characters from the text\n",
    "for char in [\"\\n\", \"\\r\", \"\\d\", \"\\t\"]:\n",
    "    great_gatsby = great_gatsby.replace(char, \" \")"
   ]
  },
  {
   "cell_type": "code",
   "execution_count": null,
   "id": "0b4d9556",
   "metadata": {},
   "outputs": [],
   "source": []
  }
 ],
 "metadata": {
  "kernelspec": {
   "display_name": "Python 3 (ipykernel)",
   "language": "python",
   "name": "python3"
  },
  "language_info": {
   "codemirror_mode": {
    "name": "ipython",
    "version": 3
   },
   "file_extension": ".py",
   "mimetype": "text/x-python",
   "name": "python",
   "nbconvert_exporter": "python",
   "pygments_lexer": "ipython3",
   "version": "3.10.13"
  }
 },
 "nbformat": 4,
 "nbformat_minor": 5
}
