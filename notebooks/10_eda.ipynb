{
 "cells": [
  {
   "cell_type": "markdown",
   "id": "bc653846",
   "metadata": {},
   "source": [
    "# Problem statement and EDA\n",
    "In fields such as forensic investigation, the problem of descerning the unidenfied author of an imporant document is a serious scientific problem. Categorized as \"Authorship attribution,\" the problem can be explained as:\n",
    "\n",
    "- given a corpus of text, such as a paragraph\n",
    "- determine the probability that it was written by an author given prior works\n",
    "\n",
    "Ultimately, the goal of the next few notebooks is to build a baseline model. To get there, we must\n",
    " 1. formalize the problem\n",
    " 2. gather data\n",
    " 3. perform eda\n",
    " 4. preprocess the data\n",
    " 5. build a model\n",
    " 6. test \n",
    "\n",
    "is a scientific method that given a corpus of text identifies the author."
   ]
  },
  {
   "cell_type": "markdown",
   "id": "d19f54a0",
   "metadata": {},
   "source": [
    "## Formalizing the problem\n",
    "How well will a bag of words model work on 3 novels of three different authors?\n",
    "\n",
    "We select the following training task\n",
    "given writings by two similar authors and one different author as a test\n",
    "\n",
    "-- make this into a table?\n",
    "Two American authors with notable books written a year apart. One, Ernest Hemingway, was infamously trite. And one british author with a best seller 65 years prior who was famously paid per word, leading to lofty language and run on sentences.\n",
    "\n",
    "My expectation is that Hemingway and Fitzgerald will be difficult to tell apart and Dickens will stick out. But let's see!\n"
   ]
  },
  {
   "cell_type": "markdown",
   "id": "4523a981",
   "metadata": {},
   "source": [
    "| Name | Nationality | Book | Published Date |\n",
    "| --- | --- | --- | --- |\n",
    "| Ernest Hemingway | American | The Sun Also Rises | 1926 |\n",
    "| F. Scott Fitzgerald | American | The Great Gatsby | 1925 |\n",
    "| Charles Dickens | British | A Tale of Two Cities | 1859 |"
   ]
  },
  {
   "cell_type": "markdown",
   "id": "94a769ac",
   "metadata": {},
   "source": [
    "# Collect Data\n",
    "Collecting\n",
    "1. The great gatsby\n",
    "2. The sun also rises\n",
    "3. A Tale of Two Cities"
   ]
  },
  {
   "cell_type": "code",
   "execution_count": null,
   "id": "ccd1be44",
   "metadata": {},
   "outputs": [],
   "source": [
    "import requests"
   ]
  },
  {
   "cell_type": "code",
   "execution_count": null,
   "id": "2f383aca",
   "metadata": {},
   "outputs": [],
   "source": [
    "# the great gatsby\n",
    "r = requests.get(r'https://www.gutenberg.org/cache/epub/64317/pg64317.txt')\n",
    "great_gatsby = r.text\n",
    "great_gatsby[0:100]"
   ]
  },
  {
   "cell_type": "code",
   "execution_count": null,
   "id": "56e168f5",
   "metadata": {},
   "outputs": [],
   "source": [
    "# the sun also rises\n",
    "r = requests.get(r'https://www.gutenberg.org/cache/epub/67138/pg67138.txt')\n",
    "sar = r.text\n",
    "sar[869:1200]"
   ]
  },
  {
   "cell_type": "code",
   "execution_count": null,
   "id": "d865f1cf",
   "metadata": {},
   "outputs": [],
   "source": [
    "# a tale of two cities\n",
    "atotc = requests.get(r'https://www.gutenberg.org/cache/epub/98/pg98.txt')\n",
    "atotc = atotc.text\n",
    "atotc[697:850]"
   ]
  },
  {
   "cell_type": "code",
   "execution_count": null,
   "id": "adf2df98",
   "metadata": {},
   "outputs": [],
   "source": [
    "# backup book, the wonderful wizard of oz\n",
    "# https://www.gutenberg.org/cache/epub/55/pg55.txt"
   ]
  },
  {
   "cell_type": "markdown",
   "id": "4be5a0ef",
   "metadata": {},
   "source": [
    "# Clean data\n",
    "this includes removing new lines and tabs"
   ]
  },
  {
   "cell_type": "markdown",
   "id": "416f15b4",
   "metadata": {},
   "source": [
    "# EDA of RAW DATA\n",
    "Let's look at the raw data and do some quick checks.\n",
    "1. What are the number of characters? (this includes extra text from project gutenberg, like copywrite)\n",
    "2. what are the number of 'words' (defined by python's generic split method)\n",
    "3. what are the number of periods, which is a proxy for the number of sentences\n",
    "4. what are the words per period, a proxy for average sentence length"
   ]
  },
  {
   "cell_type": "code",
   "execution_count": null,
   "id": "966c352c",
   "metadata": {},
   "outputs": [],
   "source": [
    "print('====== THE GREAT GATSBY ======')\n",
    "print(f'number of characters: \\t\\t{len(great_gatsby):,}')\n",
    "print(f'number of words: \\t\\t{len(great_gatsby.split()):,}')\n",
    "print(f\"number of periods: \\t\\t{great_gatsby.count('.'):,}\")\n",
    "print(f\"words per period: \\t\\t{round(len(great_gatsby.split())/great_gatsby.count('.'),4):,}\")\n",
    "print('\\n\\n')\n",
    "print('====== THE SUN ALSO RISES ======')\n",
    "print(f'number of characters: \\t\\t{len(sar):,}')\n",
    "print(f'number of words: \\t\\t{len(sar.split()):,}')\n",
    "print(f\"number of periods: \\t\\t{sar.count('.'):,}\")\n",
    "print(f\"words per period: \\t\\t{round(len(sar.split())/sar.count('.'),4):,}\")\n",
    "\n",
    "print('\\n\\n')\n",
    "print('====== A TALE OF TWO CITIES ======')\n",
    "print(f'number of characters: \\t\\t{len(atotc):,}')\n",
    "print(f'number of words: \\t\\t{len(atotc.split()):,}')\n",
    "print(f\"number of periods: \\t\\t{atotc.count('.'):,}\")\n",
    "print(f\"words per period: \\t\\t{round(len(atotc.split())/atotc.count('.'),4):,}\")\n",
    "\n",
    "len(atotc)"
   ]
  },
  {
   "cell_type": "code",
   "execution_count": null,
   "id": "c95db47b",
   "metadata": {},
   "outputs": [],
   "source": [
    "!pip install pandas"
   ]
  },
  {
   "cell_type": "code",
   "execution_count": null,
   "id": "54a969d2",
   "metadata": {},
   "outputs": [],
   "source": [
    "import pandas as pd\n",
    "titles = ['The Great Gatsby','The Sun Also Rises','A Tale of Two Cities']\n",
    "texts = [great_gatsby, sar, atotc]\n",
    "df_eda = pd.DataFrame({}, columns = titles, index=['raw characters', 'raw word count', 'raw sentences', 'raw characters per word','raw words per sentence'])\n",
    "for title, text in zip(titles, texts):\n",
    "    df_eda.loc['raw characters', title] = len(text)\n",
    "    df_eda.loc['raw word count', title] = len(text.split())\n",
    "    df_eda.loc['raw sentences', title] = text.count('.')\n",
    "    df_eda.loc['raw characters per word', title] = len(text)/len(text.split())\n",
    "    df_eda.loc['raw words per sentence', title] = len(text.split())/text.count('.')\n",
    "    \n",
    "    \n",
    "df_eda.head()"
   ]
  },
  {
   "cell_type": "code",
   "execution_count": null,
   "id": "6e4a7ffd",
   "metadata": {},
   "outputs": [],
   "source": [
    "!pip install matplotlib"
   ]
  },
  {
   "cell_type": "code",
   "execution_count": null,
   "id": "b78904be",
   "metadata": {},
   "outputs": [],
   "source": [
    "import matplotlib.pyplot as plt\n"
   ]
  },
  {
   "cell_type": "code",
   "execution_count": null,
   "id": "2698282e",
   "metadata": {},
   "outputs": [],
   "source": [
    "df_eda.plot()"
   ]
  },
  {
   "cell_type": "code",
   "execution_count": null,
   "id": "957a9e52",
   "metadata": {},
   "outputs": [],
   "source": [
    "atotc.count('.')"
   ]
  },
  {
   "cell_type": "code",
   "execution_count": null,
   "id": "6d02a738",
   "metadata": {},
   "outputs": [],
   "source": [
    "!pip install nltk"
   ]
  },
  {
   "cell_type": "code",
   "execution_count": null,
   "id": "71498720",
   "metadata": {},
   "outputs": [],
   "source": [
    "# https://stackoverflow.com/questions/15228054/how-to-count-the-amount-of-sentences-in-a-paragraph-in-python\n",
    "import nltk\n",
    "nltk.download('punkt')\n",
    "from nltk.tokenize import sent_tokenize\n",
    "\n",
    "sentences = 'A Turning machine is a device that manipulates symbols on a strip of tape according to a table of rules. Despite its simplicity, a Turing machine can be adapted to simulate the logic of any computer algorithm, and is particularly useful in explaining the functions of a CPU inside a computer. The \"Turing\" machine was described by Alan Turing in 1936, who called it an \"a(utomatic)-machine\". The Turing machine is not intended as a practical computing technology, but rather as a hypothetical device representing a computing machine. Turing machines help computer scientists understand the limits of mechaniacl computation.'\n",
    "\n",
    "number_of_sentences = sent_tokenize(sentences)\n",
    "\n",
    "print(len(number_of_sentences))"
   ]
  },
  {
   "cell_type": "code",
   "execution_count": null,
   "id": "1b51ceb9",
   "metadata": {},
   "outputs": [],
   "source": [
    "# questions\n",
    "# what are the most common words?\n",
    "# what words are most commonly associated with an author\n"
   ]
  },
  {
   "cell_type": "code",
   "execution_count": null,
   "id": "4e26bf49",
   "metadata": {},
   "outputs": [],
   "source": [
    "# first, remove unwanted new line and tab characters from the text\n",
    "for char in [\"\\n\", \"\\r\", \"\\d\", \"\\t\"]:\n",
    "    great_gatsby = great_gatsby.replace(char, \" \")"
   ]
  },
  {
   "cell_type": "code",
   "execution_count": null,
   "id": "ecf62bf3",
   "metadata": {},
   "outputs": [],
   "source": []
  }
 ],
 "metadata": {
  "kernelspec": {
   "display_name": "Python 3 (ipykernel)",
   "language": "python",
   "name": "python3"
  },
  "language_info": {
   "codemirror_mode": {
    "name": "ipython",
    "version": 3
   },
   "file_extension": ".py",
   "mimetype": "text/x-python",
   "name": "python",
   "nbconvert_exporter": "python",
   "pygments_lexer": "ipython3",
   "version": "3.10.13"
  }
 },
 "nbformat": 4,
 "nbformat_minor": 5
}
