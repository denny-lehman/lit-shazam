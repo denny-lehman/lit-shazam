{
 "cells": [
  {
   "cell_type": "markdown",
   "id": "bc653846",
   "metadata": {},
   "source": [
    "# Problem statement and EDA\n",
    "In fields such as forensic investigation, the problem of descerning the unidenfied author of an imporant document is a serious scientific problem. Categorized as \"Authorship attribution,\" the problem can be explained as:\n",
    "\n",
    "- given a corpus of text, such as a paragraph\n",
    "- determine the probability that it was written by an author given prior works\n",
    "\n",
    "Ultimately, the goal of the next few notebooks is to build a baseline model. To get there, we must\n",
    " 1. formalize the problem\n",
    " 2. gather data\n",
    " 3. perform eda\n",
    " 4. preprocess the data\n",
    " 5. build a model\n",
    " 6. test \n",
    "\n",
    "is a scientific method that given a corpus of text identifies the author."
   ]
  },
  {
   "cell_type": "markdown",
   "id": "d19f54a0",
   "metadata": {},
   "source": [
    "## Formalizing the problem\n",
    "How well will a bag of words model work on 3 novels of three different authors?\n",
    "\n",
    "We select the following training task\n",
    "given writings by two similar authors and one different author as a test\n",
    "\n",
    "-- make this into a table?\n",
    "Two American authors with notable books written a year apart. One, Ernest Hemingway, was infamously trite. And one british author with a best seller 65 years prior who was famously paid per word, leading to lofty language and run on sentences.\n",
    "\n",
    "My expectation is that Hemingway and Fitzgerald will be difficult to tell apart and Dickens will stick out. But let's see!\n"
   ]
  },
  {
   "cell_type": "markdown",
   "id": "4523a981",
   "metadata": {},
   "source": [
    "| Name | Nationality | Book | Published Date |\n",
    "| --- | --- | --- | --- |\n",
    "| Ernest Hemingway | American | The Sun Also Rises | 1926 |\n",
    "| F. Scott Fitzgerald | American | The Great Gatsby | 1925 |\n",
    "| Charles Dickens | British | A Tale of Two Cities | 1859 |"
   ]
  },
  {
   "cell_type": "markdown",
   "id": "94a769ac",
   "metadata": {},
   "source": [
    "# Collect Data\n",
    "Collecting\n",
    "1. The great gatsby\n",
    "2. The sun also rises\n",
    "3. A Tale of Two Cities"
   ]
  },
  {
   "cell_type": "code",
   "execution_count": 1,
   "id": "ccd1be44",
   "metadata": {},
   "outputs": [],
   "source": [
    "import requests"
   ]
  },
  {
   "cell_type": "code",
   "execution_count": 2,
   "id": "2f383aca",
   "metadata": {},
   "outputs": [
    {
     "data": {
      "text/plain": [
       "'\\ufeffThe Project Gutenberg eBook of The Great Gatsby\\r\\n    \\r\\nThis ebook is for the use of anyone anywhere'"
      ]
     },
     "execution_count": 2,
     "metadata": {},
     "output_type": "execute_result"
    }
   ],
   "source": [
    "# the great gatsby\n",
    "r = requests.get(r'https://www.gutenberg.org/cache/epub/64317/pg64317.txt')\n",
    "great_gatsby = r.text\n",
    "great_gatsby[0:100]"
   ]
  },
  {
   "cell_type": "code",
   "execution_count": 3,
   "id": "56e168f5",
   "metadata": {},
   "outputs": [
    {
     "data": {
      "text/plain": [
       "'*** START OF THE PROJECT GUTENBERG EBOOK THE SUN ALSO RISES ***\\r\\n\\r\\n\\r\\n\\r\\n\\r\\n\\r\\n                                 ERNEST\\r\\n                               HEMINGWAY\\r\\n\\r\\n\\r\\n\\r\\n                                The Sun\\r\\n                               Also Rises\\r\\n\\r\\n\\r\\n\\r\\n\\r\\n                        CHARLES SCRIBNER’S SONS\\r\\n                          '"
      ]
     },
     "execution_count": 3,
     "metadata": {},
     "output_type": "execute_result"
    }
   ],
   "source": [
    "# the sun also rises\n",
    "r = requests.get(r'https://www.gutenberg.org/cache/epub/67138/pg67138.txt')\n",
    "sar = r.text\n",
    "sar[869:1200]"
   ]
  },
  {
   "cell_type": "code",
   "execution_count": 4,
   "id": "d865f1cf",
   "metadata": {},
   "outputs": [
    {
     "data": {
      "text/plain": [
       "'*** START OF THE PROJECT GUTENBERG EBOOK A TALE OF TWO CITIES ***\\r\\n\\r\\n\\r\\n\\r\\nA TALE OF TWO CITIES\\r\\n\\r\\nA STORY OF THE FRENCH REVOLUTION\\r\\n\\r\\nBy Charles Dickens\\r\\n'"
      ]
     },
     "execution_count": 4,
     "metadata": {},
     "output_type": "execute_result"
    }
   ],
   "source": [
    "# a tale of two cities\n",
    "atotc = requests.get(r'https://www.gutenberg.org/cache/epub/98/pg98.txt')\n",
    "atotc = atotc.text\n",
    "atotc[697:850]"
   ]
  },
  {
   "cell_type": "code",
   "execution_count": 5,
   "id": "adf2df98",
   "metadata": {},
   "outputs": [],
   "source": [
    "# backup book, the wonderful wizard of oz\n",
    "# https://www.gutenberg.org/cache/epub/55/pg55.txt"
   ]
  },
  {
   "cell_type": "markdown",
   "id": "4be5a0ef",
   "metadata": {},
   "source": [
    "# Clean data\n",
    "this includes removing new lines and tabs"
   ]
  },
  {
   "cell_type": "markdown",
   "id": "416f15b4",
   "metadata": {},
   "source": [
    "# EDA of RAW DATA\n",
    "Let's look at the raw data and do some quick checks.\n",
    "1. What are the number of characters? (this includes extra text from project gutenberg, like copywrite)\n",
    "2. what are the number of 'words' (defined by python's generic split method)\n",
    "3. what are the number of periods, which is a proxy for the number of sentences\n",
    "4. what are the words per period, a proxy for average sentence length"
   ]
  },
  {
   "cell_type": "code",
   "execution_count": 6,
   "id": "966c352c",
   "metadata": {},
   "outputs": [
    {
     "name": "stdout",
     "output_type": "stream",
     "text": [
      "====== THE GREAT GATSBY ======\n",
      "number of characters: \t\t296,579\n",
      "number of words: \t\t51,225\n",
      "number of periods: \t\t3,330\n",
      "words per period: \t\t15.3829\n",
      "\n",
      "\n",
      "\n",
      "====== THE SUN ALSO RISES ======\n",
      "number of characters: \t\t395,471\n",
      "number of words: \t\t70,954\n",
      "number of periods: \t\t7,370\n",
      "words per period: \t\t9.6274\n",
      "\n",
      "\n",
      "\n",
      "====== A TALE OF TWO CITIES ======\n",
      "number of characters: \t\t793,153\n",
      "number of words: \t\t138,923\n",
      "number of periods: \t\t6,821\n",
      "words per period: \t\t20.367\n"
     ]
    },
    {
     "data": {
      "text/plain": [
       "793153"
      ]
     },
     "execution_count": 6,
     "metadata": {},
     "output_type": "execute_result"
    }
   ],
   "source": [
    "print('====== THE GREAT GATSBY ======')\n",
    "print(f'number of characters: \\t\\t{len(great_gatsby):,}')\n",
    "print(f'number of words: \\t\\t{len(great_gatsby.split()):,}')\n",
    "print(f\"number of periods: \\t\\t{great_gatsby.count('.'):,}\")\n",
    "print(f\"words per period: \\t\\t{round(len(great_gatsby.split())/great_gatsby.count('.'),4):,}\")\n",
    "print('\\n\\n')\n",
    "print('====== THE SUN ALSO RISES ======')\n",
    "print(f'number of characters: \\t\\t{len(sar):,}')\n",
    "print(f'number of words: \\t\\t{len(sar.split()):,}')\n",
    "print(f\"number of periods: \\t\\t{sar.count('.'):,}\")\n",
    "print(f\"words per period: \\t\\t{round(len(sar.split())/sar.count('.'),4):,}\")\n",
    "\n",
    "print('\\n\\n')\n",
    "print('====== A TALE OF TWO CITIES ======')\n",
    "print(f'number of characters: \\t\\t{len(atotc):,}')\n",
    "print(f'number of words: \\t\\t{len(atotc.split()):,}')\n",
    "print(f\"number of periods: \\t\\t{atotc.count('.'):,}\")\n",
    "print(f\"words per period: \\t\\t{round(len(atotc.split())/atotc.count('.'),4):,}\")\n",
    "\n",
    "len(atotc)"
   ]
  },
  {
   "cell_type": "code",
   "execution_count": 7,
   "id": "c95db47b",
   "metadata": {},
   "outputs": [
    {
     "name": "stdout",
     "output_type": "stream",
     "text": [
      "Requirement already satisfied: pandas in /home/denny/anaconda3/lib/python3.10/site-packages (2.1.1)\n",
      "Requirement already satisfied: numpy>=1.22.4 in /home/denny/anaconda3/lib/python3.10/site-packages (from pandas) (1.26.1)\n",
      "Requirement already satisfied: python-dateutil>=2.8.2 in /home/denny/anaconda3/lib/python3.10/site-packages (from pandas) (2.8.2)\n",
      "Requirement already satisfied: pytz>=2020.1 in /home/denny/.local/lib/python3.10/site-packages (from pandas) (2021.1)\n",
      "Requirement already satisfied: tzdata>=2022.1 in /home/denny/anaconda3/lib/python3.10/site-packages (from pandas) (2023.3)\n",
      "Requirement already satisfied: six>=1.5 in /home/denny/anaconda3/lib/python3.10/site-packages (from python-dateutil>=2.8.2->pandas) (1.16.0)\n"
     ]
    }
   ],
   "source": [
    "!pip install pandas"
   ]
  },
  {
   "cell_type": "code",
   "execution_count": 8,
   "id": "54a969d2",
   "metadata": {},
   "outputs": [
    {
     "data": {
      "text/html": [
       "<div>\n",
       "<style scoped>\n",
       "    .dataframe tbody tr th:only-of-type {\n",
       "        vertical-align: middle;\n",
       "    }\n",
       "\n",
       "    .dataframe tbody tr th {\n",
       "        vertical-align: top;\n",
       "    }\n",
       "\n",
       "    .dataframe thead th {\n",
       "        text-align: right;\n",
       "    }\n",
       "</style>\n",
       "<table border=\"1\" class=\"dataframe\">\n",
       "  <thead>\n",
       "    <tr style=\"text-align: right;\">\n",
       "      <th></th>\n",
       "      <th>The Great Gatsby</th>\n",
       "      <th>The Sun Also Rises</th>\n",
       "      <th>A Tale of Two Cities</th>\n",
       "    </tr>\n",
       "  </thead>\n",
       "  <tbody>\n",
       "    <tr>\n",
       "      <th>raw characters</th>\n",
       "      <td>296579</td>\n",
       "      <td>395471</td>\n",
       "      <td>793153</td>\n",
       "    </tr>\n",
       "    <tr>\n",
       "      <th>raw word count</th>\n",
       "      <td>51225</td>\n",
       "      <td>70954</td>\n",
       "      <td>138923</td>\n",
       "    </tr>\n",
       "    <tr>\n",
       "      <th>raw sentences</th>\n",
       "      <td>3330</td>\n",
       "      <td>7370</td>\n",
       "      <td>6821</td>\n",
       "    </tr>\n",
       "    <tr>\n",
       "      <th>raw characters per word</th>\n",
       "      <td>5.789732</td>\n",
       "      <td>5.573625</td>\n",
       "      <td>5.709299</td>\n",
       "    </tr>\n",
       "    <tr>\n",
       "      <th>raw words per sentence</th>\n",
       "      <td>15.382883</td>\n",
       "      <td>9.627408</td>\n",
       "      <td>20.366955</td>\n",
       "    </tr>\n",
       "  </tbody>\n",
       "</table>\n",
       "</div>"
      ],
      "text/plain": [
       "                        The Great Gatsby The Sun Also Rises  \\\n",
       "raw characters                    296579             395471   \n",
       "raw word count                     51225              70954   \n",
       "raw sentences                       3330               7370   \n",
       "raw characters per word         5.789732           5.573625   \n",
       "raw words per sentence         15.382883           9.627408   \n",
       "\n",
       "                        A Tale of Two Cities  \n",
       "raw characters                        793153  \n",
       "raw word count                        138923  \n",
       "raw sentences                           6821  \n",
       "raw characters per word             5.709299  \n",
       "raw words per sentence             20.366955  "
      ]
     },
     "execution_count": 8,
     "metadata": {},
     "output_type": "execute_result"
    }
   ],
   "source": [
    "import pandas as pd\n",
    "titles = ['The Great Gatsby','The Sun Also Rises','A Tale of Two Cities']\n",
    "texts = [great_gatsby, sar, atotc]\n",
    "df_eda = pd.DataFrame({}, columns = titles, index=['raw characters', 'raw word count', 'raw sentences', 'raw characters per word','raw words per sentence'])\n",
    "for title, text in zip(titles, texts):\n",
    "    df_eda.loc['raw characters', title] = len(text)\n",
    "    df_eda.loc['raw word count', title] = len(text.split())\n",
    "    df_eda.loc['raw sentences', title] = text.count('.')\n",
    "    df_eda.loc['raw characters per word', title] = len(text)/len(text.split())\n",
    "    df_eda.loc['raw words per sentence', title] = len(text.split())/text.count('.')\n",
    "    \n",
    "    \n",
    "df_eda.head()"
   ]
  },
  {
   "cell_type": "code",
   "execution_count": 9,
   "id": "957a9e52",
   "metadata": {},
   "outputs": [
    {
     "data": {
      "text/plain": [
       "6821"
      ]
     },
     "execution_count": 9,
     "metadata": {},
     "output_type": "execute_result"
    }
   ],
   "source": [
    "atotc.count('.')"
   ]
  },
  {
   "cell_type": "code",
   "execution_count": 10,
   "id": "6d02a738",
   "metadata": {},
   "outputs": [
    {
     "name": "stdout",
     "output_type": "stream",
     "text": [
      "Requirement already satisfied: nltk in /home/denny/anaconda3/lib/python3.10/site-packages (3.8.1)\r\n",
      "Requirement already satisfied: click in /home/denny/anaconda3/lib/python3.10/site-packages (from nltk) (8.0.4)\r\n",
      "Requirement already satisfied: joblib in /home/denny/anaconda3/lib/python3.10/site-packages (from nltk) (1.3.2)\r\n",
      "Requirement already satisfied: regex>=2021.8.3 in /home/denny/anaconda3/lib/python3.10/site-packages (from nltk) (2023.10.3)\r\n",
      "Requirement already satisfied: tqdm in /home/denny/anaconda3/lib/python3.10/site-packages (from nltk) (4.65.0)\r\n"
     ]
    }
   ],
   "source": [
    "!pip install nltk"
   ]
  },
  {
   "cell_type": "code",
   "execution_count": 11,
   "id": "71498720",
   "metadata": {},
   "outputs": [
    {
     "name": "stdout",
     "output_type": "stream",
     "text": [
      "5\n"
     ]
    },
    {
     "name": "stderr",
     "output_type": "stream",
     "text": [
      "[nltk_data] Downloading package punkt to /home/denny/nltk_data...\n",
      "[nltk_data]   Package punkt is already up-to-date!\n"
     ]
    }
   ],
   "source": [
    "# https://stackoverflow.com/questions/15228054/how-to-count-the-amount-of-sentences-in-a-paragraph-in-python\n",
    "import nltk\n",
    "nltk.download('punkt')\n",
    "from nltk.tokenize import sent_tokenize\n",
    "\n",
    "sentences = 'A Turning machine is a device that manipulates symbols on a strip of tape according to a table of rules. Despite its simplicity, a Turing machine can be adapted to simulate the logic of any computer algorithm, and is particularly useful in explaining the functions of a CPU inside a computer. The \"Turing\" machine was described by Alan Turing in 1936, who called it an \"a(utomatic)-machine\". The Turing machine is not intended as a practical computing technology, but rather as a hypothetical device representing a computing machine. Turing machines help computer scientists understand the limits of mechaniacl computation.'\n",
    "\n",
    "number_of_sentences = sent_tokenize(sentences)\n",
    "\n",
    "print(len(number_of_sentences))"
   ]
  },
  {
   "cell_type": "code",
   "execution_count": 12,
   "id": "1b51ceb9",
   "metadata": {},
   "outputs": [],
   "source": [
    "# questions\n",
    "# what are the most common words?\n",
    "# what words are most commonly associated with an author\n"
   ]
  },
  {
   "cell_type": "code",
   "execution_count": 13,
   "id": "4e26bf49",
   "metadata": {},
   "outputs": [],
   "source": [
    "# first, remove unwanted new line and tab characters from the text\n",
    "for char in [\"\\n\", \"\\r\", \"\\d\", \"\\t\"]:\n",
    "    great_gatsby = great_gatsby.replace(char, \" \")"
   ]
  }
 ],
 "metadata": {
  "kernelspec": {
   "display_name": "Python 3 (ipykernel)",
   "language": "python",
   "name": "python3"
  },
  "language_info": {
   "codemirror_mode": {
    "name": "ipython",
    "version": 3
   },
   "file_extension": ".py",
   "mimetype": "text/x-python",
   "name": "python",
   "nbconvert_exporter": "python",
   "pygments_lexer": "ipython3",
   "version": "3.10.13"
  }
 },
 "nbformat": 4,
 "nbformat_minor": 5
}
