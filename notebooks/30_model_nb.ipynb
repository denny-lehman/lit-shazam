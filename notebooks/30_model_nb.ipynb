{
 "cells": [
  {
   "cell_type": "code",
   "execution_count": null,
   "id": "1cb47c52",
   "metadata": {},
   "outputs": [],
   "source": [
    "import os\n",
    "import pickle"
   ]
  },
  {
   "cell_type": "code",
   "execution_count": null,
   "id": "d4717455",
   "metadata": {},
   "outputs": [],
   "source": [
    "os.chdir('..')\n",
    "os.getcwd()"
   ]
  },
  {
   "cell_type": "code",
   "execution_count": null,
   "id": "22100556",
   "metadata": {},
   "outputs": [],
   "source": [
    "# Load preprocessed data"
   ]
  },
  {
   "cell_type": "code",
   "execution_count": null,
   "id": "94551f8e",
   "metadata": {},
   "outputs": [],
   "source": [
    "import pickle\n",
    "with open('./data/processed/nb_processed_data.pkl', 'rb') as f:\n",
    "    X_train, X_val, X_test, y_train, y_val, y_test = pickle.load(f)\n",
    "    \n"
   ]
  },
  {
   "cell_type": "code",
   "execution_count": null,
   "id": "0230a45b",
   "metadata": {},
   "outputs": [],
   "source": [
    "def eval_and_print_metrics(clf, X_train, y_train, X_test, y_test):\n",
    "    print(\"Number of training samples:\", len(X_train))\n",
    "    print(\"Unlabeled samples in training set:\", sum(1 for x in y_train if x == -1))\n",
    "    clf.fit(X_train, y_train)\n",
    "    y_pred = clf.predict(X_test)\n",
    "    print(\n",
    "        \"Micro-averaged F1 score on test set: %0.3f\"\n",
    "        % f1_score(y_test, y_pred, average=\"micro\")\n",
    "    )\n",
    "    print(\"-\" * 10)\n",
    "    print()"
   ]
  },
  {
   "cell_type": "code",
   "execution_count": null,
   "id": "d47ea46b",
   "metadata": {},
   "outputs": [],
   "source": [
    "from sklearn.pipeline import Pipeline\n",
    "from sklearn.feature_extraction.text import CountVectorizer, TfidfTransformer\n",
    "from sklearn.naive_bayes import MultinomialNB\n",
    "from sklearn.metrics import f1_score\n",
    "\n",
    "vectorizer_params = dict()\n",
    "mnb_params = dict()\n",
    "\n",
    "nb_pipeline = Pipeline(\n",
    "[\n",
    "    (\"vect\", CountVectorizer(**vectorizer_params)),\n",
    "#     (\"tfidf\", TfidfTransformer()),\n",
    "    (\"clf\", MultinomialNB(**mnb_params)),\n",
    "])"
   ]
  },
  {
   "cell_type": "code",
   "execution_count": null,
   "id": "21fbd79e",
   "metadata": {},
   "outputs": [],
   "source": [
    "nb_pipeline.fit(X_train, y_train)"
   ]
  },
  {
   "cell_type": "code",
   "execution_count": null,
   "id": "1f757017",
   "metadata": {},
   "outputs": [],
   "source": [
    "eval_and_print_metrics(nb_pipeline, X_train, y_train, X_val, y_val)"
   ]
  },
  {
   "cell_type": "code",
   "execution_count": null,
   "id": "76620b80",
   "metadata": {},
   "outputs": [],
   "source": [
    "# SGDC\n",
    "from sklearn.linear_model import SGDClassifier\n",
    "sdg_params = dict(alpha=1e-5, penalty=\"l2\", loss=\"log_loss\")\n",
    "\n",
    "# sdg_params = dict(loss='log_loss')\n",
    "logistic_pipeline = Pipeline(\n",
    "    [\n",
    "        (\"vect\", CountVectorizer(**vectorizer_params)),\n",
    "        (\"tfidf\", TfidfTransformer()),\n",
    "        (\"clf\", SGDClassifier(**sdg_params)),\n",
    "    ]\n",
    ")"
   ]
  },
  {
   "cell_type": "code",
   "execution_count": null,
   "id": "f39f4c7c",
   "metadata": {},
   "outputs": [],
   "source": [
    "eval_and_print_metrics(logistic_pipeline, X_train, y_train, X_val, y_val)"
   ]
  },
  {
   "cell_type": "code",
   "execution_count": null,
   "id": "737ff573",
   "metadata": {},
   "outputs": [],
   "source": [
    "# save models"
   ]
  },
  {
   "cell_type": "code",
   "execution_count": null,
   "id": "ab122c7b",
   "metadata": {},
   "outputs": [],
   "source": [
    "import pickle\n",
    "with open('./models/nb_model.pkl', 'wb') as f:\n",
    "    pickle.dump(nb_pipeline, f)"
   ]
  },
  {
   "cell_type": "code",
   "execution_count": null,
   "id": "3d771986",
   "metadata": {},
   "outputs": [],
   "source": [
    "import pickle\n",
    "with open('./models/lr_model.pkl', 'wb') as f:\n",
    "    pickle.dump(logistic_pipeline, f)"
   ]
  },
  {
   "cell_type": "code",
   "execution_count": null,
   "id": "69e8b582",
   "metadata": {},
   "outputs": [],
   "source": []
  }
 ],
 "metadata": {
  "kernelspec": {
   "display_name": "Python 3 (ipykernel)",
   "language": "python",
   "name": "python3"
  },
  "language_info": {
   "codemirror_mode": {
    "name": "ipython",
    "version": 3
   },
   "file_extension": ".py",
   "mimetype": "text/x-python",
   "name": "python",
   "nbconvert_exporter": "python",
   "pygments_lexer": "ipython3",
   "version": "3.10.13"
  }
 },
 "nbformat": 4,
 "nbformat_minor": 5
}
