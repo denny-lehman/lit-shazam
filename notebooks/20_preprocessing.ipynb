{
 "cells": [
  {
   "cell_type": "code",
   "execution_count": null,
   "id": "085ece24",
   "metadata": {},
   "outputs": [],
   "source": []
  },
  {
   "cell_type": "markdown",
   "id": "0dde9876",
   "metadata": {},
   "source": [
    "# Preprocessing\n",
    "Naive bayes will be the base model, and it will struggle with stop words and common words. For that reason, we need to preprocess the data.\n",
    "\n",
    "preprocessing steps include\n",
    "1. cleaning extra newline characters\n",
    "2. remove accented characters to ASCII\n",
    "3. Expand contractions\n",
    "4. Lowercase(?) text\n",
    "5. Convert numbers to words\n",
    "6. Remove numbers\n",
    "7. Remove stop words\n",
    "8. Lemmatization"
   ]
  },
  {
   "cell_type": "markdown",
   "id": "cfffcf4e",
   "metadata": {},
   "source": [
    "There are a variety of python packages that will help with these steps. They are"
   ]
  },
  {
   "cell_type": "markdown",
   "id": "a4477a64",
   "metadata": {},
   "source": [
    "# Table of packages here"
   ]
  },
  {
   "cell_type": "code",
   "execution_count": 1,
   "id": "da86b9c2",
   "metadata": {},
   "outputs": [],
   "source": [
    "# imports\n",
    "import requests\n",
    "import pandas as pd\n",
    "import os"
   ]
  },
  {
   "cell_type": "code",
   "execution_count": 2,
   "id": "9f898b85",
   "metadata": {},
   "outputs": [
    {
     "data": {
      "text/plain": [
       "'/home/denny/Documents/mids/w266_NLP/lit-shazam'"
      ]
     },
     "execution_count": 2,
     "metadata": {},
     "output_type": "execute_result"
    }
   ],
   "source": [
    "os.chdir('..')\n",
    "os.getcwd()\n"
   ]
  },
  {
   "cell_type": "code",
   "execution_count": 3,
   "id": "8ac6ffa6",
   "metadata": {},
   "outputs": [],
   "source": [
    "# get data\n",
    "from src.data.make_dataset import get_book\n",
    "# from data.raw.book_urls import book_urls # not working?\n",
    "book_urls = {'great_gatsby':'https://www.gutenberg.org/cache/epub/64317/pg64317.txt',\n",
    "'the_sun_also_rises':'https://www.gutenberg.org/cache/epub/67138/pg67138.txt',\n",
    "'a_tale_of_two_cities':'https://www.gutenberg.org/cache/epub/98/pg98.txt'}\n"
   ]
  },
  {
   "cell_type": "code",
   "execution_count": 4,
   "id": "07546e85",
   "metadata": {},
   "outputs": [
    {
     "name": "stdout",
     "output_type": "stream",
     "text": [
      "https://www.gutenberg.org/cache/epub/64317/pg64317.txt\n",
      "https://www.gutenberg.org/cache/epub/67138/pg67138.txt\n",
      "https://www.gutenberg.org/cache/epub/98/pg98.txt\n"
     ]
    }
   ],
   "source": [
    "data_set = {}\n",
    "for title, url in book_urls.items():\n",
    "    print(url)\n",
    "    data_set[title] = get_book(url)"
   ]
  },
  {
   "cell_type": "markdown",
   "id": "910938c0",
   "metadata": {},
   "source": [
    "# Bookends\n",
    "Books in project gutenberg have lots of extra text at the end of the text file. Most of this is legalese and terms of use information and this is unneeded for the language modeling.\n",
    "\n",
    "Let's look at some examples and then create a framework to remove it from the text"
   ]
  },
  {
   "cell_type": "code",
   "execution_count": 70,
   "id": "f43d8340",
   "metadata": {},
   "outputs": [],
   "source": [
    "great_gatsby = data_set['great_gatsby']"
   ]
  },
  {
   "cell_type": "code",
   "execution_count": 71,
   "id": "889d8c6f",
   "metadata": {},
   "outputs": [
    {
     "data": {
      "text/plain": [
       "' 1.F.3, a full refund of\\r\\n        any money paid for a work or a replacement copy, if a defect in the\\r\\n        electronic work is discovered and reported to you within 90 days of\\r\\n        receipt of the work.\\r\\n    \\r\\n    • You comply with all other terms of this agreement for free\\r\\n        distribution of Project Gutenberg™ works.\\r\\n    \\r\\n\\r\\n1.E.9. If you wish to charge a fee or distribute a Project\\r\\nGutenberg™ electronic work or group of works on different terms than\\r\\nare set forth in this agreement, you must obtain permission in writing\\r\\nfrom the Project Gutenberg Literary Archive Foundation, the manager of\\r\\nthe Project Gutenberg™ trademark. Contact the Foundation as set\\r\\nforth in Section 3 below.\\r\\n\\r\\n1.F.\\r\\n\\r\\n1.F.1. Project Gutenberg volunteers and employees expend considerable\\r\\neffort to identify, do copyright research on, transcribe and proofread\\r\\nworks not protected by U.S. copyright law in creating the Project\\r\\nGutenberg™ collection. Despite these efforts, Project Gutenberg™\\r\\nelectronic works, and the medium on which they may be stored, may\\r\\ncontain “Defects,” such as, but not limited to, incomplete, inaccurate\\r\\nor corrupt data, transcription errors, a copyright or other\\r\\nintellectual property infringement, a defective or damaged disk or\\r\\nother medium, a computer virus, or computer codes that damage or\\r\\ncannot be read by your equipment.\\r\\n\\r\\n1.F.2. LIMITED WARRANTY, DISCLAIMER OF DAMAGES - Except for the “Right\\r\\nof Replacement or Refund” described in paragraph 1.F.3, the Project\\r\\nGutenberg Literary Archive Foundation, the owner of the Project\\r\\nGutenberg™ trademark, and any other party distributing a Project\\r\\nGutenberg™ electronic work under this agreement, disclaim all\\r\\nliability to you for damages, costs and expenses, including legal\\r\\nfees. YOU AGREE THAT YOU HAVE NO REMEDIES FOR NEGLIGENCE, STRICT\\r\\nLIABILITY, BREACH OF WARRANTY OR BREACH OF CONTRACT EXCEPT THOSE\\r\\nPROVIDED IN PARAGRAPH 1.F.3. YOU AGREE THAT THE FOUNDATION, THE\\r\\nTRADEMARK OWNER, AND ANY DISTRIBUTOR UNDER THIS AGREEMENT WILL NOT BE\\r\\nLIABLE TO YOU FOR ACTUAL, DIRECT, INDIRECT, CONSEQUENTIAL, PUNITIVE OR\\r\\nINCIDENTAL DAMAGES EVEN IF YOU GIVE NOTICE OF THE POSSIBILITY OF SUCH\\r\\nDAMAGE.\\r\\n\\r\\n1.F.3. LIMITED RIGHT OF REPLACEMENT OR REFUND - If you discover a\\r\\ndefect in this electronic work within 90 days of receiving it, you can\\r\\nreceive a refund of the money (if any) you paid for it by sending a\\r\\nwritten explanation to the person you received the work from. If you\\r\\nreceived the work on a physical medium, you must return the medium\\r\\nwith your written explanation. The person or entity that provided you\\r\\nwith the defective work may elect to provide a replacement copy in\\r\\nlieu of a refund. If you received the work electronically, the person\\r\\nor entity providing it to you may choose to give you a second\\r\\nopportunity to receive the work electronically in lieu of a refund. If\\r\\nthe second copy is also defective, you may demand a refund in writing\\r\\nwithout further opportunities to fix the problem.\\r\\n\\r\\n1.F.4. Except for the limited right of replacement or refund set forth\\r\\nin paragraph 1.F.3, this work is provided to you ‘AS-IS’, WITH NO\\r\\nOTHER WARRANTIES OF ANY KIND, EXPRESS OR IMPLIED, INCLUDING BUT NOT\\r\\nLIMITED TO WARRANTIES OF MERCHANTABILITY OR FITNESS FOR ANY PURPOSE.\\r\\n\\r\\n1.F.5. Some states do not allow disclaimers of certain implied\\r\\nwarranties or the exclusion or limitation of certain types of\\r\\ndamages. If any disclaimer or limitation set forth in this agreement\\r\\nviolates the law of the state applicable to this agreement, the\\r\\nagreement shall be interpreted to make the maximum disclaimer or\\r\\nlimitation permitted by the applicable state law. The invalidity or\\r\\nunenforceability of any provision of this agreement shall not void the\\r\\nremaining provisions.\\r\\n\\r\\n1.F.6. INDEMNITY - You agree to indemnify and hold the Foundation, the\\r\\ntrademark owner, any agent or employee of the Foundation, anyone\\r\\nproviding copies of Project Gutenberg™ electronic works in\\r\\naccordance with this agre'"
      ]
     },
     "execution_count": 71,
     "metadata": {},
     "output_type": "execute_result"
    }
   ],
   "source": [
    "great_gatsby[-9000:-5000]"
   ]
  },
  {
   "cell_type": "code",
   "execution_count": 72,
   "id": "08a5a2e2",
   "metadata": {},
   "outputs": [
    {
     "name": "stdout",
     "output_type": "stream",
     "text": [
      "*** END OF THE PROJECT GUTENBERG EBOOK THE GREAT GATSBY ***\n"
     ]
    }
   ],
   "source": [
    "# end pattern\n",
    "print('*** END OF THE PROJECT GUTENBERG EBOOK THE GREAT GATSBY ***')\n",
    "end_gutenberg = '*** END OF THE PROJECT GUTENBERG EBOOK THE GREAT GATSBY ***'"
   ]
  },
  {
   "cell_type": "code",
   "execution_count": 75,
   "id": "7576dfdd",
   "metadata": {},
   "outputs": [
    {
     "name": "stdout",
     "output_type": "stream",
     "text": [
      "the span of the found text is  (277737, 277796)\n",
      "the start of the found text is  277737\n",
      "we should remove everything after the start fo the end of book pattern\n"
     ]
    },
    {
     "data": {
      "text/plain": [
       "277737"
      ]
     },
     "execution_count": 75,
     "metadata": {},
     "output_type": "execute_result"
    }
   ],
   "source": [
    "pattern = r'\\*\\*\\* END OF THE PROJECT GUTENBERG EBOOK [\\w\\d\\s]+ \\*\\*\\*'\n",
    "p = re.compile(pattern)\n",
    "print('the span of the found text is ', re.search(pattern, great_gatsby).span())\n",
    "print('the start of the found text is ', re.search(pattern, great_gatsby).start())\n",
    "print('we should remove everything after the start fo the end of book pattern')\n",
    "re.search(pattern, great_gatsby).start()"
   ]
  },
  {
   "cell_type": "code",
   "execution_count": null,
   "id": "93eb9dce",
   "metadata": {},
   "outputs": [],
   "source": [
    "# all books in project gutenberg end with \n",
    "# *** END OF THE PROJECT GUTENBERG EBOOK {Title} ***\n",
    "# *** END OF THE PROJECT GUTENBERG EBOOK THE GREAT GATSBY ***\n",
    "\n",
    "import re\n",
    "def remove_bookend(book:str)->str:\n",
    "    \"\"\"removes the extra end of the book in project gutenberg\"\"\"\n",
    "    end_of_book_pattern = r'\\*\\*\\* END OF THE PROJECT GUTENBERG EBOOK [\\w\\d\\s]+ \\*\\*\\*'\n",
    "    match = re.search(end_of_book_pattern, book)\n",
    "    if match is None:\n",
    "        print('could not find project gutenberg ending')\n",
    "        raise ValueError\n",
    "    last_character = match.start()\n",
    "    return book[:last_character]"
   ]
  },
  {
   "cell_type": "code",
   "execution_count": 8,
   "id": "ad5a2ae4",
   "metadata": {},
   "outputs": [],
   "source": [
    "# questions\n",
    "# what are the most common words?\n",
    "# what words are most commonly associated with an author\n"
   ]
  },
  {
   "cell_type": "code",
   "execution_count": 9,
   "id": "778f72f7",
   "metadata": {},
   "outputs": [],
   "source": [
    "# first, remove unwanted new line and tab characters from the text\n",
    "for char in [\"\\n\", \"\\r\", \"\\d\", \"\\t\"]:\n",
    "    great_gatsby = great_gatsby.replace(char, \" \")"
   ]
  },
  {
   "cell_type": "code",
   "execution_count": 12,
   "id": "b58e294d",
   "metadata": {},
   "outputs": [
    {
     "data": {
      "text/plain": [
       "'\\ufeffThe Project Gutenberg eBook of The Great Gatsby        This ebook is for the use of anyone anywhere in the United States and  most other parts of the world at no cost and with almost no restrictions  whatsoever. You may copy it, give it away or re-use it under the terms  of the Project Gutenberg License included with this ebook or online  at www.gutenberg.org. If you are not located in the United States,  you will have to check the laws of the country where you are located  before using this eBook.    Title: The Great Gatsby      Author: F. Scott Fitzgerald    Release date: January 17, 2021 [eBook #64317]    Language: English        *** START OF THE PROJECT GUTENBERG EBOOK THE GREAT GATSBY ***          The Great Gatsby        by      F. Scott Fitzgerald                                 Table of Contents    I  II  III  IV  V  VI  VII  VIII  IX                                    Once again                                    to                                   Zelda      Then wear the go'"
      ]
     },
     "execution_count": 12,
     "metadata": {},
     "output_type": "execute_result"
    }
   ],
   "source": [
    "# remove header, footer from gutenberg\n",
    "great_gatsby[:1000]"
   ]
  },
  {
   "cell_type": "code",
   "execution_count": 33,
   "id": "abb8afd9",
   "metadata": {},
   "outputs": [
    {
     "data": {
      "text/plain": [
       "<re.Match object; span=(645, 683), match=' START OF THE PROJECT GUTENBERG EBOOK '>"
      ]
     },
     "execution_count": 33,
     "metadata": {},
     "output_type": "execute_result"
    }
   ],
   "source": [
    "import re\n",
    "?re.search\n",
    "p = re.compile(r' START OF THE PROJECT GUTENBERG EBOOK ')\n",
    "p = re.compile('The Project Gutenberg eBook')\n",
    "?re.search\n",
    "re.search('hi','hello there hi babe')\n",
    "re.search(' START OF THE PROJECT GUTENBERG EBOOK ', great_gatsby)"
   ]
  },
  {
   "cell_type": "code",
   "execution_count": 42,
   "id": "3ed49a26",
   "metadata": {},
   "outputs": [
    {
     "name": "stdout",
     "output_type": "stream",
     "text": [
      "*** END OF THE PROJECT GUTENBERG EBOOK THE GREAT GATSBY ***\n"
     ]
    }
   ],
   "source": [
    "# end\n",
    "print('*** END OF THE PROJECT GUTENBERG EBOOK THE GREAT GATSBY ***')\n",
    "end_gutenberg = '*** END OF THE PROJECT GUTENBERG EBOOK THE GREAT GATSBY ***'"
   ]
  },
  {
   "cell_type": "code",
   "execution_count": 63,
   "id": "6e02c399",
   "metadata": {},
   "outputs": [
    {
     "data": {
      "text/plain": [
       "277737"
      ]
     },
     "execution_count": 63,
     "metadata": {},
     "output_type": "execute_result"
    }
   ],
   "source": [
    "pattern = r'\\*\\*\\* END OF THE PROJECT GUTENBERG EBOOK [\\w\\d\\s]+ \\*\\*\\*'\n",
    "p = re.compile(pattern)\n",
    "re.search(pattern, great_gatsby).start()"
   ]
  },
  {
   "cell_type": "code",
   "execution_count": 64,
   "id": "909b80ed",
   "metadata": {},
   "outputs": [],
   "source": [
    "# all books in project gutenberg end with \n",
    "# *** END OF THE PROJECT GUTENBERG EBOOK {Title} ***\n",
    "# *** END OF THE PROJECT GUTENBERG EBOOK THE GREAT GATSBY ***\n",
    "\n",
    "import re\n",
    "def remove_bookend(book:str)->str:\n",
    "    \"\"\"removes the extra end of the book in project gutenberg\"\"\"\n",
    "    end_of_book_pattern = r'\\*\\*\\* END OF THE PROJECT GUTENBERG EBOOK [\\w\\d\\s]+ \\*\\*\\*'\n",
    "    match = re.search(end_of_book_pattern, book)\n",
    "    if match is None:\n",
    "        print('could not find project gutenberg ending')\n",
    "        raise ValueError\n",
    "    last_character = match.start()\n",
    "    return book[:last_character]"
   ]
  },
  {
   "cell_type": "code",
   "execution_count": 69,
   "id": "a83ae0a2",
   "metadata": {},
   "outputs": [],
   "source": [
    "test_book_ending ='This is the end of the book. *** END OF THE PROJECT GUTENBERG EBOOK THE the book title with number 10 ***'\n",
    "test_book_no_ending = remove_bookend(test_book_ending)\n",
    "assert test_book_no_ending == 'This is the end of the book. '"
   ]
  },
  {
   "cell_type": "code",
   "execution_count": 66,
   "id": "9f1dabcb",
   "metadata": {},
   "outputs": [
    {
     "data": {
      "text/plain": [
       "'ath in the presence of this continent, compelled into an aesthetic  contemplation he neither understood nor desired, face to face for the  last time in history with something commensurate to his capacity for  wonder.    And as I sat there brooding on the old, unknown world, I thought of  Gatsby’s wonder when he first picked out the green light at the end of  Daisy’s dock. He had come a long way to this blue lawn, and his dream  must have seemed so close that he could hardly fail to grasp it. He  did not know that it was already behind him, somewhere back in that  vast obscurity beyond the city, where the dark fields of the republic  rolled on under the night.    Gatsby believed in the green light, the orgastic future that year by  year recedes before us. It eluded us then, but that’s no  matter—tomorrow we will run faster, stretch out our arms further … And  one fine morning—    So we beat on, boats against the current, borne back ceaselessly into  the past.                            '"
      ]
     },
     "execution_count": 66,
     "metadata": {},
     "output_type": "execute_result"
    }
   ],
   "source": [
    "x = remove_bookend(great_gatsby)\n",
    "x[-1000:]"
   ]
  },
  {
   "cell_type": "code",
   "execution_count": 62,
   "id": "f91fe5e4",
   "metadata": {},
   "outputs": [
    {
     "data": {
      "text/plain": [
       "'*** END OF THE PROJECT GUTENBERG EBOOK THE GREAT GATSBY ***'"
      ]
     },
     "execution_count": 62,
     "metadata": {},
     "output_type": "execute_result"
    }
   ],
   "source": [
    "great_gatsby[277737 :277796]"
   ]
  },
  {
   "cell_type": "code",
   "execution_count": 10,
   "id": "541ee0cc",
   "metadata": {},
   "outputs": [
    {
     "data": {
      "text/plain": [
       "'\\ufeffThe Project Gutenberg eBook of The Great Gatsby  '"
      ]
     },
     "execution_count": 10,
     "metadata": {},
     "output_type": "execute_result"
    }
   ],
   "source": [
    "# Normalization\n",
    "# converting to the same case, stemming\n",
    "great_gatsby[:50]"
   ]
  }
 ],
 "metadata": {
  "kernelspec": {
   "display_name": "Python 3 (ipykernel)",
   "language": "python",
   "name": "python3"
  },
  "language_info": {
   "codemirror_mode": {
    "name": "ipython",
    "version": 3
   },
   "file_extension": ".py",
   "mimetype": "text/x-python",
   "name": "python",
   "nbconvert_exporter": "python",
   "pygments_lexer": "ipython3",
   "version": "3.10.13"
  }
 },
 "nbformat": 4,
 "nbformat_minor": 5
}
