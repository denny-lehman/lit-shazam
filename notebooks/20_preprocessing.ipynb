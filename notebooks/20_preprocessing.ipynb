{
 "cells": [
  {
   "cell_type": "code",
   "execution_count": null,
   "id": "085ece24",
   "metadata": {},
   "outputs": [],
   "source": []
  },
  {
   "cell_type": "markdown",
   "id": "21fa469f",
   "metadata": {},
   "source": [
    "# Preprocessing\n",
    "Naive bayes will be the base model, and it will struggle with stop words and common words. For that reason, we need to preprocess the data.\n",
    "\n",
    "preprocessing steps include\n",
    "1. cleaning extra newline characters\n",
    "2. remove accented characters to ASCII\n",
    "3. Expand contractions\n",
    "4. Lowercase(?) text\n",
    "5. Convert numbers to words\n",
    "6. Remove numbers\n",
    "7. Remove stop words\n",
    "8. Lemmatization"
   ]
  },
  {
   "cell_type": "markdown",
   "id": "f8c21559",
   "metadata": {},
   "source": [
    "There are a variety of python packages that will help with these steps. They are"
   ]
  },
  {
   "cell_type": "markdown",
   "id": "20a5f039",
   "metadata": {},
   "source": [
    "# Table of packages here"
   ]
  },
  {
   "cell_type": "code",
   "execution_count": null,
   "id": "b8e5a35f",
   "metadata": {},
   "outputs": [],
   "source": [
    "# imports\n",
    "import requests\n",
    "import pandas as pd\n",
    "import os"
   ]
  },
  {
   "cell_type": "code",
   "execution_count": null,
   "id": "34ba1744",
   "metadata": {},
   "outputs": [],
   "source": [
    "os.chdir('..')\n",
    "os.getcwd()\n"
   ]
  },
  {
   "cell_type": "code",
   "execution_count": null,
   "id": "36a88726",
   "metadata": {},
   "outputs": [],
   "source": [
    "# get data\n",
    "from src.data.make_dataset import get_book\n",
    "# from data.raw.book_urls import book_urls # not working?\n",
    "book_urls = {'great_gatsby':'https://www.gutenberg.org/cache/epub/64317/pg64317.txt',\n",
    "'the_sun_also_rises':'https://www.gutenberg.org/cache/epub/67138/pg67138.txt',\n",
    "'a_tale_of_two_cities':'https://www.gutenberg.org/cache/epub/98/pg98.txt'}\n"
   ]
  },
  {
   "cell_type": "code",
   "execution_count": null,
   "id": "deb507e8",
   "metadata": {},
   "outputs": [],
   "source": [
    "data_set = {}\n",
    "for title, url in book_urls.items():\n",
    "    print(url)\n",
    "    data_set[title] = get_book(url)"
   ]
  },
  {
   "cell_type": "markdown",
   "id": "45a4c655",
   "metadata": {},
   "source": [
    "# Bookends\n",
    "Books in project gutenberg have lots of extra text at the end of the text file. Most of this is legalese and terms of use information and this is unneeded for the language modeling.\n",
    "\n",
    "Let's look at some examples and then create a framework to remove it from the text"
   ]
  },
  {
   "cell_type": "code",
   "execution_count": null,
   "id": "a3badb81",
   "metadata": {},
   "outputs": [],
   "source": [
    "great_gatsby = data_set['great_gatsby']"
   ]
  },
  {
   "cell_type": "code",
   "execution_count": null,
   "id": "e35eea86",
   "metadata": {},
   "outputs": [],
   "source": [
    "great_gatsby[-9000:-5000]"
   ]
  },
  {
   "cell_type": "code",
   "execution_count": null,
   "id": "6e496e2c",
   "metadata": {},
   "outputs": [],
   "source": [
    "# end pattern\n",
    "print('*** END OF THE PROJECT GUTENBERG EBOOK THE GREAT GATSBY ***')\n",
    "end_gutenberg = '*** END OF THE PROJECT GUTENBERG EBOOK THE GREAT GATSBY ***'"
   ]
  },
  {
   "cell_type": "code",
   "execution_count": null,
   "id": "3836bcfa",
   "metadata": {},
   "outputs": [],
   "source": [
    "pattern = r'\\*\\*\\* END OF THE PROJECT GUTENBERG EBOOK [\\w\\d\\s]+ \\*\\*\\*'\n",
    "p = re.compile(pattern)\n",
    "print('the span of the found text is ', re.search(pattern, great_gatsby).span())\n",
    "print('the start of the found text is ', re.search(pattern, great_gatsby).start())\n",
    "print('we should remove everything after the start fo the end of book pattern')\n",
    "re.search(pattern, great_gatsby).start()"
   ]
  },
  {
   "cell_type": "code",
   "execution_count": null,
   "id": "e589df0c",
   "metadata": {},
   "outputs": [],
   "source": [
    "# all books in project gutenberg end with \n",
    "# *** END OF THE PROJECT GUTENBERG EBOOK {Title} ***\n",
    "# *** END OF THE PROJECT GUTENBERG EBOOK THE GREAT GATSBY ***\n",
    "\n",
    "import re\n",
    "def remove_bookend(book:str)->str:\n",
    "    \"\"\"removes the extra end of the book in project gutenberg\"\"\"\n",
    "    end_of_book_pattern = r'\\*\\*\\* END OF THE PROJECT GUTENBERG EBOOK [\\w\\d\\s]+ \\*\\*\\*'\n",
    "    match = re.search(end_of_book_pattern, book)\n",
    "    if match is None:\n",
    "        print('could not find project gutenberg ending')\n",
    "        raise ValueError\n",
    "    last_character = match.start()\n",
    "    return book[:last_character]"
   ]
  },
  {
   "cell_type": "markdown",
   "id": "99ce3942",
   "metadata": {},
   "source": [
    "### Unittest"
   ]
  },
  {
   "cell_type": "code",
   "execution_count": null,
   "id": "b3740f9f",
   "metadata": {},
   "outputs": [],
   "source": [
    "test_book_ending ='This is the end of the book. *** END OF THE PROJECT GUTENBERG EBOOK THE the book title with number 10 ***'\n",
    "test_book_no_ending = remove_bookend(test_book_ending)\n",
    "assert test_book_no_ending == 'This is the end of the book. '"
   ]
  },
  {
   "cell_type": "markdown",
   "id": "918a0e57",
   "metadata": {},
   "source": [
    "# Remove book start\n",
    "This is a harder problem. \n",
    "We do know that all project gutenberg books have boiler plate starting text, which we can find and remove. However, some books have table of contents, other books have introductions, preambles, etc.\n"
   ]
  },
  {
   "cell_type": "code",
   "execution_count": null,
   "id": "5062ad75",
   "metadata": {},
   "outputs": [],
   "source": [
    "def remove_book_start(book:str)->str:\n",
    "    \"\"\"removes the boiler plate beginning part of the book in project gutenberg\"\"\"\n",
    "    start_of_book_pattern = r'\\*\\*\\* START OF THE PROJECT GUTENBERG EBOOK [\\w\\d\\s]+ \\*\\*\\*'\n",
    "    match = re.search(start_of_book_pattern, book)\n",
    "    if match is None:\n",
    "        print('could not find project gutenberg beginning')\n",
    "        raise ValueError\n",
    "    first_character = match.end()\n",
    "    return book[first_character:]"
   ]
  },
  {
   "cell_type": "markdown",
   "id": "613607f5",
   "metadata": {},
   "source": [
    "## Unittest"
   ]
  },
  {
   "cell_type": "code",
   "execution_count": null,
   "id": "4172a77e",
   "metadata": {},
   "outputs": [],
   "source": [
    "test_book_start = '\\ufeffThe Project Gutenberg eBook of The Great Gatsby        This ebook is for the use of anyone anywhere in the United States and  most other parts of the world at no cost and with almost no restrictions  whatsoever. You may copy it, give it away or re-use it under the terms  of the Project Gutenberg License included with this ebook or online  at www.gutenberg.org. If you are not located in the United States,  you will have to check the laws of the country where you are located  before using this eBook.    Title: The Great Gatsby      Author: F. Scott Fitzgerald    Release date: January 17, 2021 [eBook #64317]    Language: English        *** START OF THE PROJECT GUTENBERG EBOOK THE GREAT GATSBY ***          The Great Gatsby        by      F. Scott Fitzgerald                                 Table of Contents    I  II  III  IV  V  VI  VII  VIII  IX                                    Once again                                    to                                   Zelda      Then wear the go'\n",
    "test_book_no_start = remove_book_start(test_book_start)\n",
    "assert test_book_no_start == '          The Great Gatsby        by      F. Scott Fitzgerald                                 Table of Contents    I  II  III  IV  V  VI  VII  VIII  IX                                    Once again                                    to                                   Zelda      Then wear the go'"
   ]
  },
  {
   "cell_type": "code",
   "execution_count": null,
   "id": "fcfc7381",
   "metadata": {},
   "outputs": [],
   "source": [
    "gg = remove_book_start(great_gatsby)\n",
    "gg = remove_bookend(gg)\n",
    "gg[:1000]"
   ]
  },
  {
   "cell_type": "markdown",
   "id": "01862a95",
   "metadata": {},
   "source": [
    "## END\n",
    "Left off here\n",
    "\n",
    "Next steps"
   ]
  },
  {
   "cell_type": "code",
   "execution_count": null,
   "id": "cebfb3ca",
   "metadata": {},
   "outputs": [],
   "source": [
    "# questions\n",
    "# what are the most common words?\n",
    "# what words are most commonly associated with an author\n"
   ]
  },
  {
   "cell_type": "code",
   "execution_count": null,
   "id": "0aa3b449",
   "metadata": {},
   "outputs": [],
   "source": [
    "# first, remove unwanted new line and tab characters from the text\n",
    "for char in [\"\\n\", \"\\r\", \"\\d\", \"\\t\", \"\\s\\s\\s\"]:\n",
    "    gg = gg.replace(char, \" \")"
   ]
  },
  {
   "cell_type": "code",
   "execution_count": null,
   "id": "8bca0600",
   "metadata": {},
   "outputs": [],
   "source": [
    "# remove header, footer from gutenberg\n",
    "gg[:1000].split()"
   ]
  },
  {
   "cell_type": "code",
   "execution_count": null,
   "id": "7c80a705",
   "metadata": {},
   "outputs": [],
   "source": []
  }
 ],
 "metadata": {
  "kernelspec": {
   "display_name": "Python 3 (ipykernel)",
   "language": "python",
   "name": "python3"
  },
  "language_info": {
   "codemirror_mode": {
    "name": "ipython",
    "version": 3
   },
   "file_extension": ".py",
   "mimetype": "text/x-python",
   "name": "python",
   "nbconvert_exporter": "python",
   "pygments_lexer": "ipython3",
   "version": "3.10.13"
  }
 },
 "nbformat": 4,
 "nbformat_minor": 5
}
